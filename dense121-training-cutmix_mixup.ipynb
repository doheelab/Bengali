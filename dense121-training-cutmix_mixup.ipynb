{
 "cells": [
  {
   "cell_type": "markdown",
   "metadata": {},
   "source": [
    "# Bengali.AI SEResNeXt training with pytorch\n",
    "\n",
    "I will introduce following contents\n",
    "\n",
    " - **Fast data loading** with feather format\n",
    " - **Data augmentation** technic with affine transformation\n",
    " - **CNN SoTA models**: Use pytorch `pretrainedmodels` library, especially I use **`SEResNeXt`** in this notebook\n",
    " - **Training code abstraction**: Use `pytorch-ignite` module for the trainining abstraction\n",
    " \n",
    "### Update history\n",
    "\n",
    " - 2020/1/4 v2: Added albumentations augmentations introduced in [Bengali: albumentations data augmentation tutorial](https://www.kaggle.com/corochann/bengali-albumentations-data-augmentation-tutorial)"
   ]
  },
  {
   "cell_type": "markdown",
   "metadata": {},
   "source": [
    "# Table of Contents:\n",
    "**[Fast data loading with feather](#load)**<br>\n",
    "**[Dataset](#dataset)**<br>\n",
    "**[Data augmentation/processing](#processing)**<br>\n",
    "**[pytorch model & define classifier](#model)**<br>\n",
    "**[Training code](#train)**<br>\n",
    "**[Prediction](#pred)**<br>\n",
    "**[Reference and further reading](#ref)**<br>"
   ]
  },
  {
   "cell_type": "markdown",
   "metadata": {},
   "source": [
    "To install https://github.com/Cadene/pretrained-models.pytorch without internet connection, we can install library as \"dataset\".\n",
    "\n",
    "It is uploaded by @rishabhiitbhu : https://www.kaggle.com/rishabhiitbhu/pretrainedmodels"
   ]
  },
  {
   "cell_type": "code",
   "execution_count": 1,
   "metadata": {},
   "outputs": [
    {
     "name": "stdout",
     "output_type": "stream",
     "text": [
      "\u001b[31m    ERROR: Command errored out with exit status 1:\r\n",
      "     command: /home/dohee/anaconda3/bin/python -c 'import sys, setuptools, tokenize; sys.argv[0] = '\"'\"'/tmp/pip-req-build-5s75ax7q/setup.py'\"'\"'; __file__='\"'\"'/tmp/pip-req-build-5s75ax7q/setup.py'\"'\"';f=getattr(tokenize, '\"'\"'open'\"'\"', open)(__file__);code=f.read().replace('\"'\"'\\r\\n'\"'\"', '\"'\"'\\n'\"'\"');f.close();exec(compile(code, __file__, '\"'\"'exec'\"'\"'))' egg_info --egg-base /tmp/pip-req-build-5s75ax7q/pip-egg-info\r\n",
      "         cwd: /tmp/pip-req-build-5s75ax7q/\r\n",
      "    Complete output (7 lines):\r\n",
      "    Traceback (most recent call last):\r\n",
      "      File \"<string>\", line 1, in <module>\r\n",
      "      File \"/tmp/pip-req-build-5s75ax7q/setup.py\", line 25, in <module>\r\n",
      "        exec(open('pretrainedmodels/version.py').read())\r\n",
      "      File \"/home/dohee/anaconda3/lib/python3.7/codecs.py\", line 904, in open\r\n",
      "        file = builtins.open(filename, mode, buffering)\r\n",
      "    FileNotFoundError: [Errno 2] No such file or directory: 'pretrainedmodels/version.py'\r\n",
      "    ----------------------------------------\u001b[0m\r\n",
      "\u001b[31mERROR: Command errored out with exit status 1: python setup.py egg_info Check the logs for full command output.\u001b[0m\r\n"
     ]
    }
   ],
   "source": [
    "!pip install ../input/pretrainedmodels/pretrainedmodels-0.7.4/ > /dev/null # no output"
   ]
  },
  {
   "cell_type": "code",
   "execution_count": 2,
   "metadata": {
    "_kg_hide-input": true,
    "_kg_hide-output": true
   },
   "outputs": [
    {
     "data": {
      "text/html": [
       "        <script type=\"text/javascript\">\n",
       "        window.PlotlyConfig = {MathJaxConfig: 'local'};\n",
       "        if (window.MathJax) {MathJax.Hub.Config({SVG: {font: \"STIX-Web\"}});}\n",
       "        if (typeof require !== 'undefined') {\n",
       "        require.undef(\"plotly\");\n",
       "        requirejs.config({\n",
       "            paths: {\n",
       "                'plotly': ['https://cdn.plot.ly/plotly-latest.min']\n",
       "            }\n",
       "        });\n",
       "        require(['plotly'], function(Plotly) {\n",
       "            window._Plotly = Plotly;\n",
       "        });\n",
       "        }\n",
       "        </script>\n",
       "        "
      ]
     },
     "metadata": {},
     "output_type": "display_data"
    }
   ],
   "source": [
    "import gc\n",
    "import os\n",
    "from pathlib import Path\n",
    "import random\n",
    "import sys\n",
    "\n",
    "from tqdm.notebook import tqdm\n",
    "import numpy as np # linear algebra\n",
    "import pandas as pd # data processing, CSV file I/O (e.g. pd.read_csv)\n",
    "\n",
    "import matplotlib.pyplot as plt\n",
    "import seaborn as sns\n",
    "\n",
    "from IPython.core.display import display, HTML\n",
    "\n",
    "# --- plotly ---\n",
    "from plotly import tools, subplots\n",
    "import plotly.offline as py\n",
    "py.init_notebook_mode(connected=True)\n",
    "import plotly.graph_objs as go\n",
    "import plotly.express as px\n",
    "import plotly.figure_factory as ff\n",
    "\n",
    "# --- models ---\n",
    "from sklearn import preprocessing\n",
    "from sklearn.model_selection import KFold\n",
    "# import lightgbm as lgb\n",
    "# import xgboost as xgb\n",
    "# import catboost as cb\n",
    "\n",
    "# --- setup ---\n",
    "pd.set_option('max_columns', 50)"
   ]
  },
  {
   "cell_type": "code",
   "execution_count": 3,
   "metadata": {},
   "outputs": [
    {
     "name": "stdout",
     "output_type": "stream",
     "text": [
      "../input/pretrainedmodels.zip\n",
      "../input/bengaliaicv19feather/test_image_data_2.feather\n",
      "../input/bengaliaicv19feather/train_image_data_0.feather\n",
      "../input/bengaliaicv19feather/test_image_data_3.feather\n",
      "../input/bengaliaicv19feather/train_image_data_2.feather\n",
      "../input/bengaliaicv19feather/train_image_data_3.feather\n",
      "../input/bengaliaicv19feather/test_image_data_0.feather\n",
      "../input/bengaliaicv19feather/test_image_data_1.feather\n",
      "../input/bengaliaicv19feather/train_image_data_1.feather\n",
      "../input/pretrainedmodels/pretrainedmodels-0.7.4/setup.cfg\n",
      "../input/pretrainedmodels/pretrainedmodels-0.7.4/setup.py\n",
      "../input/pretrainedmodels/pretrainedmodels-0.7.4/PKG-INFO\n",
      "../input/pretrainedmodels/pretrainedmodels-0.7.4/README.md\n",
      "../input/pretrainedmodels/pretrainedmodels-0.7.4/pretrainedmodels.egg-info/PKG-INFO\n",
      "../input/pretrainedmodels/pretrainedmodels-0.7.4/pretrainedmodels.egg-info/SOURCES.txt\n",
      "../input/pretrainedmodels/pretrainedmodels-0.7.4/pretrainedmodels.egg-info/requires.txt\n",
      "../input/pretrainedmodels/pretrainedmodels-0.7.4/pretrainedmodels.egg-info/dependency_links.txt\n",
      "../input/pretrainedmodels/pretrainedmodels-0.7.4/pretrainedmodels.egg-info/top_level.txt\n",
      "../input/pretrainedmodels/pretrainedmodels-0.7.4/pretrainedmodels-0.7.4/setup.cfg\n",
      "../input/pretrainedmodels/pretrainedmodels-0.7.4/pretrainedmodels-0.7.4/setup.py\n",
      "../input/pretrainedmodels/pretrainedmodels-0.7.4/pretrainedmodels-0.7.4/PKG-INFO\n",
      "../input/pretrainedmodels/pretrainedmodels-0.7.4/pretrainedmodels-0.7.4/README.md\n",
      "../input/pretrainedmodels/pretrainedmodels-0.7.4/pretrainedmodels-0.7.4/pretrainedmodels/utils.py\n",
      "../input/pretrainedmodels/pretrainedmodels-0.7.4/pretrainedmodels-0.7.4/pretrainedmodels/version.py\n",
      "../input/pretrainedmodels/pretrainedmodels-0.7.4/pretrainedmodels-0.7.4/pretrainedmodels/__init__.py\n",
      "../input/pretrainedmodels/pretrainedmodels-0.7.4/pretrainedmodels-0.7.4/pretrainedmodels/models/nasnet.py\n",
      "../input/pretrainedmodels/pretrainedmodels-0.7.4/pretrainedmodels-0.7.4/pretrainedmodels/models/polynet.py\n",
      "../input/pretrainedmodels/pretrainedmodels-0.7.4/pretrainedmodels-0.7.4/pretrainedmodels/models/inceptionresnetv2.py\n",
      "../input/pretrainedmodels/pretrainedmodels-0.7.4/pretrainedmodels-0.7.4/pretrainedmodels/models/utils.py\n",
      "../input/pretrainedmodels/pretrainedmodels-0.7.4/pretrainedmodels-0.7.4/pretrainedmodels/models/bninception.py\n",
      "../input/pretrainedmodels/pretrainedmodels-0.7.4/pretrainedmodels-0.7.4/pretrainedmodels/models/cafferesnet.py\n",
      "../input/pretrainedmodels/pretrainedmodels-0.7.4/pretrainedmodels-0.7.4/pretrainedmodels/models/nasnet_mobile.py\n",
      "../input/pretrainedmodels/pretrainedmodels-0.7.4/pretrainedmodels-0.7.4/pretrainedmodels/models/xception.py\n",
      "../input/pretrainedmodels/pretrainedmodels-0.7.4/pretrainedmodels-0.7.4/pretrainedmodels/models/resnext.py\n",
      "../input/pretrainedmodels/pretrainedmodels-0.7.4/pretrainedmodels-0.7.4/pretrainedmodels/models/dpn.py\n",
      "../input/pretrainedmodels/pretrainedmodels-0.7.4/pretrainedmodels-0.7.4/pretrainedmodels/models/fbresnet.py\n",
      "../input/pretrainedmodels/pretrainedmodels-0.7.4/pretrainedmodels-0.7.4/pretrainedmodels/models/senet.py\n",
      "../input/pretrainedmodels/pretrainedmodels-0.7.4/pretrainedmodels-0.7.4/pretrainedmodels/models/inceptionv4.py\n",
      "../input/pretrainedmodels/pretrainedmodels-0.7.4/pretrainedmodels-0.7.4/pretrainedmodels/models/pnasnet.py\n",
      "../input/pretrainedmodels/pretrainedmodels-0.7.4/pretrainedmodels-0.7.4/pretrainedmodels/models/vggm.py\n",
      "../input/pretrainedmodels/pretrainedmodels-0.7.4/pretrainedmodels-0.7.4/pretrainedmodels/models/wideresnet.py\n",
      "../input/pretrainedmodels/pretrainedmodels-0.7.4/pretrainedmodels-0.7.4/pretrainedmodels/models/torchvision_models.py\n",
      "../input/pretrainedmodels/pretrainedmodels-0.7.4/pretrainedmodels-0.7.4/pretrainedmodels/models/__init__.py\n",
      "../input/pretrainedmodels/pretrainedmodels-0.7.4/pretrainedmodels-0.7.4/pretrainedmodels/models/resnext_features/resnext101_32x4d_features.py\n",
      "../input/pretrainedmodels/pretrainedmodels-0.7.4/pretrainedmodels-0.7.4/pretrainedmodels/models/resnext_features/resnext101_64x4d_features.py\n",
      "../input/pretrainedmodels/pretrainedmodels-0.7.4/pretrainedmodels-0.7.4/pretrainedmodels/models/resnext_features/__init__.py\n",
      "../input/pretrainedmodels/pretrainedmodels-0.7.4/pretrainedmodels-0.7.4/pretrainedmodels/datasets/utils.py\n",
      "../input/pretrainedmodels/pretrainedmodels-0.7.4/pretrainedmodels-0.7.4/pretrainedmodels/datasets/voc.py\n",
      "../input/pretrainedmodels/pretrainedmodels-0.7.4/pretrainedmodels-0.7.4/pretrainedmodels/datasets/__init__.py\n",
      "../input/bengaliai-cv19/test.csv\n",
      "../input/bengaliai-cv19/test_image_data_1.parquet\n",
      "../input/bengaliai-cv19/sample_submission.csv\n",
      "../input/bengaliai-cv19/train_image_data_3.parquet\n",
      "../input/bengaliai-cv19/test_image_data_2.parquet\n",
      "../input/bengaliai-cv19/class_map.csv\n",
      "../input/bengaliai-cv19/train.csv\n",
      "../input/bengaliai-cv19/train_image_data_0.parquet\n",
      "../input/bengaliai-cv19/train_image_data_2.parquet\n",
      "../input/bengaliai-cv19/test_image_data_0.parquet\n",
      "../input/bengaliai-cv19/train_image_data_1.parquet\n",
      "../input/bengaliai-cv19/test_image_data_3.parquet\n"
     ]
    }
   ],
   "source": [
    "# This Python 3 environment comes with many helpful analytics libraries installed\n",
    "# It is defined by the kaggle/python docker image: https://github.com/kaggle/docker-python\n",
    "# For example, here's several helpful packages to load in \n",
    "\n",
    "import numpy as np # linear algebra\n",
    "import pandas as pd # data processing, CSV file I/O (e.g. pd.read_csv)\n",
    "\n",
    "# Input data files are available in the \"../input/\" directory.\n",
    "# For example, running this (by clicking run or pressing Shift+Enter) will list all files under the input directory\n",
    "\n",
    "import os\n",
    "for dirname, _, filenames in os.walk('../input'):\n",
    "    for filename in filenames:\n",
    "        print(os.path.join(dirname, filename))\n",
    "\n",
    "# Any results you write to the current directory are saved as output."
   ]
  },
  {
   "cell_type": "code",
   "execution_count": 4,
   "metadata": {
    "_cell_guid": "b1076dfc-b9ad-4769-8c92-a6c4dae69d19",
    "_kg_hide-input": true,
    "_kg_hide-output": true,
    "_uuid": "8f2839f25d086af736a60e9eeb907d3b93b6e0e5"
   },
   "outputs": [],
   "source": [
    "# # This Python 3 environment comes with many helpful analytics libraries installed\n",
    "# # It is defined by the kaggle/python docker image: https://github.com/kaggle/docker-python\n",
    "# # For example, here's several helpful packages to load in \n",
    "\n",
    "# import numpy as np # linear algebra\n",
    "# import pandas as pd # data processing, CSV file I/O (e.g. pd.read_csv)\n",
    "\n",
    "# # Input data files are available in the \"../input/\" directory.\n",
    "# # For example, running this (by clicking run or pressing Shift+Enter) will list all files under the input directory\n",
    "\n",
    "# import os\n",
    "# for dirname, _, filenames in os.walk('/kaggle/input'):\n",
    "#     for filename in filenames:\n",
    "#         print(os.path.join(dirname, filename))\n",
    "\n",
    "# # Any results you write to the current directory are saved as output."
   ]
  },
  {
   "cell_type": "code",
   "execution_count": 5,
   "metadata": {},
   "outputs": [],
   "source": [
    "debug=False\n",
    "submission=False\n",
    "batch_size=32*4\n",
    "device='cuda:0'\n",
    "out='.'\n",
    "image_size=64*2\n",
    "arch='pretrained'\n",
    "model_name='densenet121'"
   ]
  },
  {
   "cell_type": "code",
   "execution_count": null,
   "metadata": {},
   "outputs": [],
   "source": []
  },
  {
   "cell_type": "code",
   "execution_count": null,
   "metadata": {},
   "outputs": [],
   "source": []
  },
  {
   "cell_type": "code",
   "execution_count": 55,
   "metadata": {},
   "outputs": [],
   "source": [
    "data = {\n",
    "    \"image_size\": image_size,\n",
    "    \"threshold\": 40.0,\n",
    "    \"arch\": \"pretrained\",\n",
    "    \"model_name\": model_name\n",
    "}"
   ]
  },
  {
   "cell_type": "code",
   "execution_count": 56,
   "metadata": {},
   "outputs": [],
   "source": [
    "with open(r'./save/args.json', 'w') as f:\n",
    "    json.dump(data, f, indent=4)"
   ]
  },
  {
   "cell_type": "code",
   "execution_count": null,
   "metadata": {},
   "outputs": [],
   "source": []
  },
  {
   "cell_type": "code",
   "execution_count": 6,
   "metadata": {
    "_cell_guid": "79c7e3d0-c299-4dcb-8224-4455121ee9b0",
    "_kg_hide-input": false,
    "_kg_hide-output": true,
    "_uuid": "d629ff2d2480ee46fbb7e2d37f6b5fab8052498a"
   },
   "outputs": [],
   "source": [
    "datadir = Path('../input/bengaliai-cv19')\n",
    "featherdir = Path('../input/bengaliaicv19feather')\n",
    "outdir = Path('./save')"
   ]
  },
  {
   "cell_type": "code",
   "execution_count": 7,
   "metadata": {
    "_kg_hide-input": true,
    "_kg_hide-output": true
   },
   "outputs": [],
   "source": [
    "# Read in the data CSV files\n",
    "# train = pd.read_csv(datadir/'train.csv')\n",
    "# test = pd.read_csv(datadir/'test.csv')\n",
    "# sample_submission = pd.read_csv(datadir/'sample_submission.csv')\n",
    "# class_map = pd.read_csv(datadir/'class_map.csv')"
   ]
  },
  {
   "cell_type": "markdown",
   "metadata": {},
   "source": [
    "# Fast data loading with feather\n",
    "\n",
    "Refer [Bengali.AI super fast data loading with feather](https://www.kaggle.com/corochann/bengali-ai-super-fast-data-loading-with-feather) and [dataset](https://www.kaggle.com/corochann/bengaliaicv19feather) for detail.<br/>\n",
    "Original `parquet` format takes about 60 sec to load 1 data, while `feather` format takes about **2 sec to load 1 data!!!**\n",
    "\n",
    "### How to add dataset\n",
    "\n",
    "When you write kernel, click \"+ Add Data\" botton on right top.<br/>\n",
    "Then inside window pop-up, you can see \"Search Datasets\" text box on right top.<br/>\n",
    "You can type \"bengaliai-cv19-feather\" to find this dataset and press \"Add\" botton to add the data."
   ]
  },
  {
   "cell_type": "code",
   "execution_count": 8,
   "metadata": {},
   "outputs": [],
   "source": [
    "import numpy as np\n",
    "import pandas as pd\n",
    "import gc\n",
    "\n",
    "\n",
    "def prepare_image(datadir, featherdir, data_type='train',\n",
    "                  submission=False, indices=[0, 1, 2, 3]):\n",
    "    assert data_type in ['train', 'test']\n",
    "    if submission:\n",
    "        image_df_list = [pd.read_parquet(datadir / f'{data_type}_image_data_{i}.parquet')\n",
    "                         for i in indices]\n",
    "    else:\n",
    "        image_df_list = [pd.read_feather(featherdir / f'{data_type}_image_data_{i}.feather')\n",
    "                         for i in indices]\n",
    "\n",
    "    print('image_df_list', len(image_df_list))\n",
    "    HEIGHT = 137\n",
    "    WIDTH = 236\n",
    "    images = [df.iloc[:, 1:].values.reshape(-1, HEIGHT, WIDTH) for df in image_df_list]\n",
    "    del image_df_list\n",
    "    gc.collect()\n",
    "    images = np.concatenate(images, axis=0)\n",
    "    return images\n"
   ]
  },
  {
   "cell_type": "code",
   "execution_count": 9,
   "metadata": {
    "scrolled": true
   },
   "outputs": [
    {
     "name": "stdout",
     "output_type": "stream",
     "text": [
      "image_df_list 4\n",
      "CPU times: user 20.3 s, sys: 25 s, total: 45.3 s\n",
      "Wall time: 9.02 s\n"
     ]
    }
   ],
   "source": [
    "%%time\n",
    "\n",
    "train = pd.read_csv(datadir/'train.csv')\n",
    "train_labels = train[['grapheme_root', 'vowel_diacritic', 'consonant_diacritic']].values\n",
    "indices = [0] if debug else [0, 1, 2, 3]\n",
    "train_images = prepare_image(\n",
    "    datadir, featherdir, data_type='train', submission=False, indices=indices)\n"
   ]
  },
  {
   "cell_type": "code",
   "execution_count": 10,
   "metadata": {},
   "outputs": [
    {
     "data": {
      "text/plain": [
       "['test_image_data_2.feather',\n",
       " 'train_image_data_0.feather',\n",
       " 'test_image_data_3.feather',\n",
       " 'train_image_data_2.feather',\n",
       " 'train_image_data_3.feather',\n",
       " 'test_image_data_0.feather',\n",
       " 'test_image_data_1.feather',\n",
       " 'train_image_data_1.feather']"
      ]
     },
     "execution_count": 10,
     "metadata": {},
     "output_type": "execute_result"
    }
   ],
   "source": [
    "os.listdir(\"../input/bengaliaicv19feather/\")"
   ]
  },
  {
   "cell_type": "markdown",
   "metadata": {},
   "source": [
    "<a id=\"dataset\"></a>\n",
    "# Dataset"
   ]
  },
  {
   "cell_type": "code",
   "execution_count": 11,
   "metadata": {
    "_kg_hide-input": true
   },
   "outputs": [],
   "source": [
    "\"\"\"\n",
    "Referenced `chainer.dataset.DatasetMixin` to work with pytorch Dataset.\n",
    "\"\"\"\n",
    "import numpy\n",
    "import six\n",
    "import torch\n",
    "from torch.utils.data.dataset import Dataset\n",
    "\n",
    "\n",
    "class DatasetMixin(Dataset):\n",
    "\n",
    "    def __init__(self, transform=None):\n",
    "        self.transform = transform\n",
    "\n",
    "    def __getitem__(self, index):\n",
    "        \"\"\"Returns an example or a sequence of examples.\"\"\"\n",
    "        if torch.is_tensor(index):\n",
    "            index = index.tolist()\n",
    "        if isinstance(index, slice):\n",
    "            current, stop, step = index.indices(len(self))\n",
    "            return [self.get_example_wrapper(i) for i in\n",
    "                    six.moves.range(current, stop, step)]\n",
    "        elif isinstance(index, list) or isinstance(index, numpy.ndarray):\n",
    "            return [self.get_example_wrapper(i) for i in index]\n",
    "        else:\n",
    "            return self.get_example_wrapper(index)\n",
    "\n",
    "    def __len__(self):\n",
    "        \"\"\"Returns the number of data points.\"\"\"\n",
    "        raise NotImplementedError\n",
    "\n",
    "    def get_example_wrapper(self, i):\n",
    "        \"\"\"Wrapper of `get_example`, to apply `transform` if necessary\"\"\"\n",
    "        example = self.get_example(i)\n",
    "        if self.transform:\n",
    "            example = self.transform(example)\n",
    "        return example\n",
    "\n",
    "    def get_example(self, i):\n",
    "        \"\"\"Returns the i-th example.\n",
    "\n",
    "        Implementations should override it. It should raise :class:`IndexError`\n",
    "        if the index is invalid.\n",
    "\n",
    "        Args:\n",
    "            i (int): The index of the example.\n",
    "\n",
    "        Returns:\n",
    "            The i-th example.\n",
    "\n",
    "        \"\"\"\n",
    "        raise NotImplementedError\n"
   ]
  },
  {
   "cell_type": "markdown",
   "metadata": {},
   "source": [
    "This `DatasetMixin` class can be used to define any custom dataset class in pytorch. We can implement `get_example(self, i)` method to return `i`-th data.\n",
    "\n",
    "Here I return i-th image `x` and `label`, with scaling image to be value ranges between 0~1."
   ]
  },
  {
   "cell_type": "code",
   "execution_count": 12,
   "metadata": {},
   "outputs": [],
   "source": [
    "import numpy as np\n",
    "\n",
    "\n",
    "class BengaliAIDataset(DatasetMixin):\n",
    "    def __init__(self, images, labels=None, transform=None, indices=None):\n",
    "        super(BengaliAIDataset, self).__init__(transform=transform)\n",
    "        self.images = images\n",
    "        self.labels = labels\n",
    "        if indices is None:\n",
    "            indices = np.arange(len(images))\n",
    "        self.indices = indices\n",
    "        self.train = labels is not None\n",
    "\n",
    "    def __len__(self):\n",
    "        \"\"\"return length of this dataset\"\"\"\n",
    "        return len(self.indices)\n",
    "\n",
    "    def get_example(self, i):\n",
    "        \"\"\"Return i-th data\"\"\"\n",
    "        i = self.indices[i]\n",
    "        x = self.images[i]\n",
    "        # Opposite white and black: background will be white and\n",
    "        # for future Affine transformation\n",
    "        x = (255 - x).astype(np.float32) / 255.\n",
    "        x = x.astype(np.double)\n",
    "        if self.train:\n",
    "            y = self.labels[i]\n",
    "            return x, y\n",
    "        else:\n",
    "            return x\n"
   ]
  },
  {
   "cell_type": "markdown",
   "metadata": {},
   "source": [
    "Let's see how this `BengaliAIDataset` work"
   ]
  },
  {
   "cell_type": "markdown",
   "metadata": {},
   "source": [
    "`train_dataset[i]` returns i-th image array and 3 target labels (graphme_root, vowel_diacritic and consonant_diacritic)."
   ]
  },
  {
   "cell_type": "code",
   "execution_count": 13,
   "metadata": {},
   "outputs": [
    {
     "name": "stdout",
     "output_type": "stream",
     "text": [
      "image (137, 236) label [15  9  5]\n"
     ]
    }
   ],
   "source": [
    "train_dataset = BengaliAIDataset(train_images, train_labels)\n",
    "\n",
    "image, label = train_dataset[0]\n",
    "print('image', image.shape, 'label', label)"
   ]
  },
  {
   "cell_type": "code",
   "execution_count": 14,
   "metadata": {
    "_kg_hide-input": true,
    "scrolled": true
   },
   "outputs": [
    {
     "data": {
      "application/vnd.jupyter.widget-view+json": {
       "model_id": "428fd5c456bc498eb42e0570b26b7f1f",
       "version_major": 2,
       "version_minor": 0
      },
      "text/plain": [
       "HBox(children=(FloatProgress(value=1.0, bar_style='info', max=1.0), HTML(value='')))"
      ]
     },
     "metadata": {},
     "output_type": "display_data"
    },
    {
     "name": "stdout",
     "output_type": "stream",
     "text": [
      "\n"
     ]
    },
    {
     "data": {
      "image/png": "[encoded data removed]",
      "text/plain": [
       "<Figure size 1440x576 with 30 Axes>"
      ]
     },
     "metadata": {
      "needs_background": "light"
     },
     "output_type": "display_data"
    },
    {
     "data": {
      "text/plain": [
       "<Figure size 432x288 with 0 Axes>"
      ]
     },
     "metadata": {},
     "output_type": "display_data"
    }
   ],
   "source": [
    "nrow, ncol = 5, 6\n",
    "\n",
    "fig, axes = plt.subplots(nrow, ncol, figsize=(20, 8))\n",
    "axes = axes.flatten()\n",
    "for i, ax in tqdm(enumerate(axes)):\n",
    "    image, label = train_dataset[i]\n",
    "    ax.imshow(image, cmap='Greys')\n",
    "    ax.set_title(f'label: {label}')\n",
    "plt.tight_layout()\n",
    "plt.show()\n",
    "plt.savefig('bengaliai.png')"
   ]
  },
  {
   "cell_type": "code",
   "execution_count": null,
   "metadata": {},
   "outputs": [],
   "source": []
  },
  {
   "cell_type": "markdown",
   "metadata": {},
   "source": [
    "<a id=\"processing\"></a>\n",
    "# Data augmentation/processing"
   ]
  },
  {
   "cell_type": "markdown",
   "metadata": {},
   "source": [
    "For CNN training, data augmentation is important to improve test accuracy (generalization performance). I will show some image preprocessing to increase the data variety."
   ]
  },
  {
   "cell_type": "code",
   "execution_count": 15,
   "metadata": {
    "_kg_hide-input": true
   },
   "outputs": [],
   "source": [
    "\"\"\"\n",
    "From https://www.kaggle.com/corochann/deep-learning-cnn-with-chainer-lb-0-99700\n",
    "\"\"\"\n",
    "import cv2\n",
    "from skimage.transform import AffineTransform, warp\n",
    "import numpy as np\n",
    "\n",
    "\n",
    "def affine_image(img):\n",
    "    \"\"\"\n",
    "\n",
    "    Args:\n",
    "        img: (h, w) or (1, h, w)\n",
    "\n",
    "    Returns:\n",
    "        img: (h, w)\n",
    "    \"\"\"\n",
    "    # ch, h, w = img.shape\n",
    "    # img = img / 255.\n",
    "    if img.ndim == 3:\n",
    "        img = img[0]\n",
    "\n",
    "    # --- scale ---\n",
    "    min_scale = 0.8\n",
    "    max_scale = 1.2\n",
    "    sx = np.random.uniform(min_scale, max_scale)\n",
    "    sy = np.random.uniform(min_scale, max_scale)\n",
    "\n",
    "    # --- rotation ---\n",
    "    max_rot_angle = 7\n",
    "    rot_angle = np.random.uniform(-max_rot_angle, max_rot_angle) * np.pi / 180.\n",
    "\n",
    "    # --- shear ---\n",
    "    max_shear_angle = 10\n",
    "    shear_angle = np.random.uniform(-max_shear_angle, max_shear_angle) * np.pi / 180.\n",
    "\n",
    "    # --- translation ---\n",
    "    max_translation = 4\n",
    "    tx = np.random.randint(-max_translation, max_translation)\n",
    "    ty = np.random.randint(-max_translation, max_translation)\n",
    "\n",
    "    tform = AffineTransform(scale=(sx, sy), rotation=rot_angle, shear=shear_angle,\n",
    "                            translation=(tx, ty))\n",
    "    transformed_image = warp(img, tform)\n",
    "    assert transformed_image.ndim == 2\n",
    "    return transformed_image\n",
    "\n",
    "\n",
    "def crop_char_image(image, threshold=5./255.):\n",
    "    assert image.ndim == 2\n",
    "    is_black = image > threshold\n",
    "\n",
    "    is_black_vertical = np.sum(is_black, axis=0) > 0\n",
    "    is_black_horizontal = np.sum(is_black, axis=1) > 0\n",
    "    left = np.argmax(is_black_horizontal)\n",
    "    right = np.argmax(is_black_horizontal[::-1])\n",
    "    top = np.argmax(is_black_vertical)\n",
    "    bottom = np.argmax(is_black_vertical[::-1])\n",
    "    height, width = image.shape\n",
    "    cropped_image = image[left:height - right, top:width - bottom]\n",
    "    return cropped_image\n",
    "\n",
    "\n",
    "def resize(image, size=(128, 128)):\n",
    "    return cv2.resize(image, size)"
   ]
  },
  {
   "cell_type": "markdown",
   "metadata": {},
   "source": [
    "## Affine transformation for data augmentation\n",
    "\n",
    "To increase validation score, the number of training data is important. When we can use more number of training data, we can reduce overfitting and validation score becomes high.\n",
    "\n",
    "\"Data augmentation\" is a technic to virtually create extra training data, based on the given training data. For this MNIST task, data augmentation can be achieved by utilizing affine transformation.\n",
    "\n",
    "1. Rotation AffineTransformation\n",
    "2. Translation\n",
    "3. Scale\n",
    "4. Shear"
   ]
  },
  {
   "cell_type": "code",
   "execution_count": 16,
   "metadata": {},
   "outputs": [],
   "source": [
    "# nrow, ncol = 1, 6\n",
    "\n",
    "# fig, axes = plt.subplots(nrow, ncol, figsize=(20, 8))\n",
    "# axes = axes.flatten()\n",
    "# for i, ax in tqdm(enumerate(axes)):\n",
    "#     image, label = train_dataset[0]\n",
    "#     ax.imshow(affine_image(image), cmap='Greys')\n",
    "#     ax.set_title(f'label: {label}')\n",
    "# plt.tight_layout()"
   ]
  },
  {
   "cell_type": "markdown",
   "metadata": {},
   "source": [
    "When the image is slightly rotated, shifted (transformed) or scaled, the image looks like the same label. We can virtually create another image data from one image in such a way."
   ]
  },
  {
   "cell_type": "markdown",
   "metadata": {},
   "source": [
    "## crop image\n",
    "\n",
    "Here I crop image"
   ]
  },
  {
   "cell_type": "code",
   "execution_count": 17,
   "metadata": {},
   "outputs": [],
   "source": [
    "# nrow, ncol = 5, 6\n",
    "\n",
    "# fig, axes = plt.subplots(nrow, ncol, figsize=(20, 8))\n",
    "# axes = axes.flatten()\n",
    "# for i, ax in tqdm(enumerate(axes)):\n",
    "#     image, label = train_dataset[i]\n",
    "#     ax.imshow(crop_char_image(image, threshold=20./255.), cmap='Greys')\n",
    "#     ax.set_title(f'label: {label}')\n",
    "# plt.tight_layout()"
   ]
  },
  {
   "cell_type": "markdown",
   "metadata": {},
   "source": [
    "## resize image\n",
    "\n",
    "We need to resize image after crop, to align image size for CNN batch training."
   ]
  },
  {
   "cell_type": "code",
   "execution_count": 18,
   "metadata": {
    "_kg_hide-input": true
   },
   "outputs": [],
   "source": [
    "# nrow, ncol = 5, 6\n",
    "\n",
    "# fig, axes = plt.subplots(nrow, ncol, figsize=(20, 8))\n",
    "# axes = axes.flatten()\n",
    "# for i, ax in tqdm(enumerate(axes)):\n",
    "#     image, label = train_dataset[i]\n",
    "#     ax.imshow(resize(crop_char_image(image, threshold=20./255.)), cmap='Greys')\n",
    "#     ax.set_title(f'label: {label}')\n",
    "# plt.tight_layout()"
   ]
  },
  {
   "cell_type": "markdown",
   "metadata": {},
   "source": [
    "Put everything together with `Transform` class. <br>\n",
    "[Update] I added **albumentations augmentations** introduced in [Bengali: albumentations data augmentation tutorial](https://www.kaggle.com/corochann/bengali-albumentations-data-augmentation-tutorial)."
   ]
  },
  {
   "cell_type": "code",
   "execution_count": 19,
   "metadata": {
    "_kg_hide-input": false
   },
   "outputs": [],
   "source": [
    "import albumentations as A\n",
    "import numpy as np\n",
    "\n",
    "\n",
    "def add_gaussian_noise(x, sigma):\n",
    "    x += np.random.randn(*x.shape) * sigma\n",
    "    x = np.clip(x, 0., 1.)\n",
    "    return x\n",
    "\n",
    "\n",
    "def _evaluate_ratio(ratio):\n",
    "    if ratio <= 0.:\n",
    "        return False\n",
    "    return np.random.uniform() < ratio\n",
    "\n",
    "\n",
    "def apply_aug(aug, image):\n",
    "    return aug(image=image)['image']\n",
    "\n",
    "\n",
    "class Transform:\n",
    "    def __init__(self, affine=True, crop=True, size=(64, 64),\n",
    "                 normalize=True, train=True, threshold=40.,\n",
    "                 sigma=-1., blur_ratio=0., noise_ratio=0., cutout_ratio=0.,\n",
    "                 grid_distortion_ratio=0., elastic_distortion_ratio=0., random_brightness_ratio=0.,\n",
    "                 piece_affine_ratio=0., ssr_ratio=0.):\n",
    "        self.affine = affine\n",
    "        self.crop = crop\n",
    "        self.size = size\n",
    "        self.normalize = normalize\n",
    "        self.train = train\n",
    "        self.threshold = threshold / 255.\n",
    "        self.sigma = sigma / 255.\n",
    "\n",
    "        self.blur_ratio = blur_ratio\n",
    "        self.noise_ratio = noise_ratio\n",
    "        self.cutout_ratio = cutout_ratio\n",
    "        self.grid_distortion_ratio = grid_distortion_ratio\n",
    "        self.elastic_distortion_ratio = elastic_distortion_ratio\n",
    "        self.random_brightness_ratio = random_brightness_ratio\n",
    "        self.piece_affine_ratio = piece_affine_ratio\n",
    "        self.ssr_ratio = ssr_ratio\n",
    "\n",
    "    def __call__(self, example):\n",
    "        if self.train:\n",
    "            x, y = example\n",
    "        else:\n",
    "            x = example\n",
    "        # --- Augmentation ---\n",
    "        if self.affine:\n",
    "            x = affine_image(x)\n",
    "\n",
    "        # --- Train/Test common preprocessing ---\n",
    "        if self.crop:\n",
    "            x = crop_char_image(x, threshold=self.threshold)\n",
    "        if self.size is not None:\n",
    "            x = resize(x, size=self.size)\n",
    "        if self.sigma > 0.:\n",
    "            x = add_gaussian_noise(x, sigma=self.sigma)\n",
    "\n",
    "        # albumentations...\n",
    "        x = x.astype(np.double)\n",
    "        assert x.ndim == 2\n",
    "        # 1. blur\n",
    "        if _evaluate_ratio(self.blur_ratio):\n",
    "            r = np.random.uniform()\n",
    "            if r < 0.25:\n",
    "                x = apply_aug(A.Blur(p=1.0), x)\n",
    "            elif r < 0.5:\n",
    "                x = apply_aug(A.MedianBlur(blur_limit=5, p=1.0), x)\n",
    "            elif r < 0.75:\n",
    "                x = apply_aug(A.GaussianBlur(p=1.0), x)\n",
    "            else:\n",
    "                x = apply_aug(A.MotionBlur(p=1.0), x)\n",
    "\n",
    "        if _evaluate_ratio(self.noise_ratio):\n",
    "            r = np.random.uniform()\n",
    "            if r < 0.50:\n",
    "                x = apply_aug(A.GaussNoise(var_limit=5. / 255., p=1.0), x)\n",
    "            else:\n",
    "                x = apply_aug(A.MultiplicativeNoise(p=1.0), x)\n",
    "\n",
    "        if _evaluate_ratio(self.cutout_ratio):\n",
    "            # A.Cutout(num_holes=2,  max_h_size=2, max_w_size=2, p=1.0)  # Deprecated...\n",
    "            x = apply_aug(A.CoarseDropout(max_holes=8, max_height=8, max_width=8, p=1.0), x)\n",
    "\n",
    "        if _evaluate_ratio(self.grid_distortion_ratio):\n",
    "            x = apply_aug(A.GridDistortion(p=1.0), x)\n",
    "\n",
    "        if _evaluate_ratio(self.elastic_distortion_ratio):\n",
    "            x = apply_aug(A.ElasticTransform(\n",
    "                sigma=50, alpha=1, alpha_affine=10, p=1.0), x)\n",
    "\n",
    "        if _evaluate_ratio(self.random_brightness_ratio):\n",
    "            # A.RandomBrightness(p=1.0)  # Deprecated...\n",
    "            # A.RandomContrast(p=1.0)    # Deprecated...\n",
    "            x = apply_aug(A.RandomBrightnessContrast(p=1.0), x)\n",
    "\n",
    "        if _evaluate_ratio(self.piece_affine_ratio):\n",
    "            x = apply_aug(A.IAAPiecewiseAffine(p=1.0), x)\n",
    "\n",
    "        if _evaluate_ratio(self.ssr_ratio):\n",
    "            x = apply_aug(A.ShiftScaleRotate(\n",
    "                shift_limit=0.0625,\n",
    "                scale_limit=0.1,\n",
    "                rotate_limit=30,\n",
    "                p=1.0), x)\n",
    "\n",
    "        if self.normalize:\n",
    "            x = (x.astype(np.double) - 0.0692) / 0.2051\n",
    "        if x.ndim == 2:\n",
    "            x = x[None, :, :]\n",
    "        x = x.astype(np.double)\n",
    "        if self.train:\n",
    "            y = y.astype(np.int64)\n",
    "            return x, y\n",
    "        else:\n",
    "            return x\n",
    "        \n",
    "# class Transform:\n",
    "#     def __init__(self, affine=True, crop=True, size=(64, 64),\n",
    "#                  normalize=True, train=True, threshold=40.,\n",
    "#                  sigma=-1., blur_ratio=0., noise_ratio=0., cutout_ratio=0.,\n",
    "#                  grid_distortion_ratio=0., elastic_distortion_ratio=0., random_brightness_ratio=0.,\n",
    "#                  piece_affine_ratio=0., ssr_ratio=0.):\n",
    "#         self.affine = affine\n",
    "#         self.crop = crop\n",
    "#         self.size = size\n",
    "#         self.normalize = normalize\n",
    "#         self.train = train\n",
    "#         self.threshold = threshold / 255.\n",
    "#         self.sigma = sigma / 255.\n",
    "\n",
    "#         self.blur_ratio = blur_ratio\n",
    "#         self.noise_ratio = noise_ratio\n",
    "#         self.cutout_ratio = cutout_ratio\n",
    "#         self.grid_distortion_ratio = grid_distortion_ratio\n",
    "#         self.elastic_distortion_ratio = elastic_distortion_ratio\n",
    "#         self.random_brightness_ratio = random_brightness_ratio\n",
    "#         self.piece_affine_ratio = piece_affine_ratio\n",
    "#         self.ssr_ratio = ssr_ratio\n",
    "\n",
    "#     def __call__(self, example):\n",
    "#         if self.train:\n",
    "#             x, y = example\n",
    "#         else:\n",
    "#             x = example\n",
    "#         # --- Augmentation ---\n",
    "#         if self.affine:\n",
    "#             x = affine_image(x)\n",
    "\n",
    "#         # --- Train/Test common preprocessing ---\n",
    "#         if self.crop:\n",
    "#             x = crop_char_image(x, threshold=self.threshold)\n",
    "#         if self.size is not None:\n",
    "#             x = resize(x, size=self.size)\n",
    "#         if self.sigma > 0.:\n",
    "#             x = add_gaussian_noise(x, sigma=self.sigma)\n",
    "\n",
    "#         # albumentations...\n",
    "#         x = x.astype(np.float32)\n",
    "#         assert x.ndim == 2\n",
    "#         # 1. blur\n",
    "#         if _evaluate_ratio(self.blur_ratio):\n",
    "#             r = np.random.uniform()\n",
    "#             if r < 0.25:\n",
    "#                 x = apply_aug(A.Blur(p=1.0), x)\n",
    "#             elif r < 0.5:\n",
    "#                 x = apply_aug(A.MedianBlur(blur_limit=5, p=1.0), x)\n",
    "#             elif r < 0.75:\n",
    "#                 x = apply_aug(A.GaussianBlur(p=1.0), x)\n",
    "#             else:\n",
    "#                 x = apply_aug(A.MotionBlur(p=1.0), x)\n",
    "\n",
    "#         if _evaluate_ratio(self.noise_ratio):\n",
    "#             r = np.random.uniform()\n",
    "#             if r < 0.50:\n",
    "#                 x = apply_aug(A.GaussNoise(var_limit=5. / 255., p=1.0), x)\n",
    "#             else:\n",
    "#                 x = apply_aug(A.MultiplicativeNoise(p=1.0), x)\n",
    "\n",
    "#         if _evaluate_ratio(self.cutout_ratio):\n",
    "#             # A.Cutout(num_holes=2,  max_h_size=2, max_w_size=2, p=1.0)  # Deprecated...\n",
    "#             x = apply_aug(A.CoarseDropout(max_holes=8, max_height=8, max_width=8, p=1.0), x)\n",
    "\n",
    "#         if _evaluate_ratio(self.grid_distortion_ratio):\n",
    "#             x = apply_aug(A.GridDistortion(p=1.0), x)\n",
    "\n",
    "#         if _evaluate_ratio(self.elastic_distortion_ratio):\n",
    "#             x = apply_aug(A.ElasticTransform(\n",
    "#                 sigma=50, alpha=1, alpha_affine=10, p=1.0), x)\n",
    "\n",
    "#         if _evaluate_ratio(self.random_brightness_ratio):\n",
    "#             # A.RandomBrightness(p=1.0)  # Deprecated...\n",
    "#             # A.RandomContrast(p=1.0)    # Deprecated...\n",
    "#             x = apply_aug(A.RandomBrightnessContrast(p=1.0), x)\n",
    "\n",
    "#         if _evaluate_ratio(self.piece_affine_ratio):\n",
    "#             x = apply_aug(A.IAAPiecewiseAffine(p=1.0), x)\n",
    "\n",
    "#         if _evaluate_ratio(self.ssr_ratio):\n",
    "#             x = apply_aug(A.ShiftScaleRotate(\n",
    "#                 shift_limit=0.0625,\n",
    "#                 scale_limit=0.1,\n",
    "#                 rotate_limit=30,\n",
    "#                 p=1.0), x)\n",
    "\n",
    "#         if self.normalize:\n",
    "#             x = (x.astype(np.float32) - 0.0692) / 0.2051\n",
    "#         if x.ndim == 2:\n",
    "#             x = x[None, :, :]\n",
    "#         x = x.astype(np.float32)\n",
    "#         if self.train:\n",
    "#             y = y.astype(np.int64)\n",
    "#             return x, y\n",
    "#         else:\n",
    "#             return x\n",
    "        "
   ]
  },
  {
   "cell_type": "code",
   "execution_count": 20,
   "metadata": {},
   "outputs": [],
   "source": [
    "train_transform = Transform(\n",
    "    size=(image_size, image_size), threshold=20.,\n",
    "    sigma=-1., blur_ratio=0.2, noise_ratio=0.2, cutout_ratio=0.2,\n",
    "    grid_distortion_ratio=0.2, random_brightness_ratio=0.2,\n",
    "    piece_affine_ratio=0.2, ssr_ratio=0.2)\n",
    "# transform = Transform(size=(image_size, image_size)\n",
    "train_dataset = BengaliAIDataset(train_images, train_labels,\n",
    "                                 transform=train_transform)"
   ]
  },
  {
   "cell_type": "markdown",
   "metadata": {},
   "source": [
    "By setting `transform`, its function is called **every time** when we access to the index. Dataset returns different `image` every time! which is useful for training with data augmentation."
   ]
  },
  {
   "cell_type": "code",
   "execution_count": 21,
   "metadata": {
    "_kg_hide-input": true
   },
   "outputs": [],
   "source": [
    "# nrow, ncol = 1, 6\n",
    "\n",
    "# fig, axes = plt.subplots(nrow, ncol, figsize=(20, 2))\n",
    "# axes = axes.flatten()\n",
    "# for i, ax in tqdm(enumerate(axes)):\n",
    "#     image, label = train_dataset[0]\n",
    "#     ax.imshow(image[0], cmap='Greys')\n",
    "#     ax.set_title(f'label: {label}')\n",
    "# plt.tight_layout()"
   ]
  },
  {
   "cell_type": "markdown",
   "metadata": {},
   "source": [
    "Let's final check the processed images, which will be trained by the model."
   ]
  },
  {
   "cell_type": "code",
   "execution_count": 22,
   "metadata": {
    "_kg_hide-input": true
   },
   "outputs": [],
   "source": [
    "# nrow, ncol = 5, 6\n",
    "\n",
    "# fig, axes = plt.subplots(nrow, ncol, figsize=(20, 8))\n",
    "# axes = axes.flatten()\n",
    "# for i, ax in tqdm(enumerate(axes)):\n",
    "#     image, label = train_dataset[i]\n",
    "#     ax.imshow(image[0], cmap='Greys')\n",
    "#     ax.set_title(f'label: {label}')\n",
    "# plt.tight_layout()"
   ]
  },
  {
   "cell_type": "markdown",
   "metadata": {},
   "source": [
    "<a id=\"model\"></a> \n",
    "# pytorch model & define classifier"
   ]
  },
  {
   "cell_type": "code",
   "execution_count": 23,
   "metadata": {
    "_kg_hide-input": true
   },
   "outputs": [],
   "source": [
    "import torch\n",
    "\n",
    "\n",
    "def residual_add(lhs, rhs):\n",
    "    lhs_ch, rhs_ch = lhs.shape[1], rhs.shape[1]\n",
    "    if lhs_ch < rhs_ch:\n",
    "        out = lhs + rhs[:, :lhs_ch]\n",
    "    elif lhs_ch > rhs_ch:\n",
    "        out = torch.cat([lhs[:, :rhs_ch] + rhs, lhs[:, rhs_ch:]], dim=1)\n",
    "    else:\n",
    "        out = lhs + rhs\n",
    "    return out\n"
   ]
  },
  {
   "cell_type": "code",
   "execution_count": 24,
   "metadata": {
    "_kg_hide-input": true
   },
   "outputs": [],
   "source": [
    "from typing import List\n",
    "\n",
    "import torch\n",
    "from torch import nn\n",
    "from torch.nn.parameter import Parameter\n",
    "\n",
    "\n",
    "class LazyLoadModule(nn.Module):\n",
    "    \"\"\"Lazy buffer/parameter loading using load_state_dict_pre_hook\n",
    "\n",
    "    Define all buffer/parameter in `_lazy_buffer_keys`/`_lazy_parameter_keys` and\n",
    "    save buffer with `register_buffer`/`register_parameter`\n",
    "    method, which can be outside of __init__ method.\n",
    "    Then this module can load any shape of Tensor during de-serializing.\n",
    "\n",
    "    Note that default value of lazy buffer is torch.Tensor([]), while lazy parameter is None.\n",
    "    \"\"\"\n",
    "    _lazy_buffer_keys: List[str] = []     # It needs to be override to register lazy buffer\n",
    "    _lazy_parameter_keys: List[str] = []  # It needs to be override to register lazy parameter\n",
    "\n",
    "    def __init__(self):\n",
    "        super(LazyLoadModule, self).__init__()\n",
    "        for k in self._lazy_buffer_keys:\n",
    "            self.register_buffer(k, torch.tensor([]))\n",
    "        for k in self._lazy_parameter_keys:\n",
    "            self.register_parameter(k, None)\n",
    "        self._register_load_state_dict_pre_hook(self._hook)\n",
    "\n",
    "    def _hook(self, state_dict, prefix, local_metadata, strict, missing_keys,\n",
    "             unexpected_keys, error_msgs):\n",
    "        for key in self._lazy_buffer_keys:\n",
    "            self.register_buffer(key, state_dict[prefix + key])\n",
    "\n",
    "        for key in self._lazy_parameter_keys:\n",
    "            self.register_parameter(key, Parameter(state_dict[prefix + key]))\n"
   ]
  },
  {
   "cell_type": "code",
   "execution_count": 25,
   "metadata": {
    "_kg_hide-input": true
   },
   "outputs": [],
   "source": [
    "import math\n",
    "import torch\n",
    "from torch.nn import init\n",
    "from torch.nn.parameter import Parameter\n",
    "import torch.nn.functional as F\n",
    "\n",
    "\n",
    "class LazyLinear(LazyLoadModule):\n",
    "    \"\"\"Linear module with lazy input inference\n",
    "\n",
    "    `in_features` can be `None`, and it is determined at the first time of forward step dynamically.\n",
    "    \"\"\"\n",
    "\n",
    "    __constants__ = ['bias', 'in_features', 'out_features']\n",
    "    _lazy_parameter_keys = ['weight']\n",
    "\n",
    "    def __init__(self, in_features, out_features, bias=True):\n",
    "        super(LazyLinear, self).__init__()\n",
    "        self.in_features = in_features\n",
    "        self.out_features = out_features\n",
    "        if bias:\n",
    "            self.bias = Parameter(torch.Tensor(out_features))\n",
    "        else:\n",
    "            self.register_parameter('bias', None)\n",
    "\n",
    "        if in_features is not None:\n",
    "            self.weight = Parameter(torch.Tensor(out_features, in_features))\n",
    "            self.reset_parameters()\n",
    "\n",
    "    def reset_parameters(self):\n",
    "        init.kaiming_uniform_(self.weight, a=math.sqrt(5))\n",
    "        if self.bias is not None:\n",
    "            fan_in, _ = init._calculate_fan_in_and_fan_out(self.weight)\n",
    "            bound = 1 / math.sqrt(fan_in)\n",
    "            init.uniform_(self.bias, -bound, bound)\n",
    "\n",
    "    def forward(self, input):\n",
    "        if self.weight is None:\n",
    "            self.in_features = input.shape[-1]\n",
    "            self.weight = Parameter(torch.Tensor(self.out_features, self.in_features))\n",
    "            self.reset_parameters()\n",
    "\n",
    "            # Need to send lazy defined parameter to device...\n",
    "            self.to(input.device)\n",
    "        return F.linear(input, self.weight, self.bias)\n",
    "\n",
    "    def extra_repr(self):\n",
    "        return 'in_features={}, out_features={}, bias={}'.format(\n",
    "            self.in_features, self.out_features, self.bias is not None\n",
    "        )\n"
   ]
  },
  {
   "cell_type": "code",
   "execution_count": 26,
   "metadata": {
    "_kg_hide-input": true
   },
   "outputs": [],
   "source": [
    "from torch import nn\n",
    "import torch.nn.functional as F\n",
    "\n",
    "\n",
    "class LinearBlock(nn.Module):\n",
    "\n",
    "    def __init__(self, in_features, out_features, bias=True,\n",
    "                 use_bn=True, activation=F.relu, dropout_ratio=-1, residual=False,):\n",
    "        super(LinearBlock, self).__init__()\n",
    "        if in_features is None:\n",
    "            self.linear = LazyLinear(in_features, out_features, bias=bias)\n",
    "        else:\n",
    "            self.linear = nn.Linear(in_features, out_features, bias=bias)\n",
    "        if use_bn:\n",
    "            self.bn = nn.BatchNorm1d(out_features)\n",
    "        if dropout_ratio > 0.:\n",
    "            self.dropout = nn.Dropout(p=dropout_ratio)\n",
    "        else:\n",
    "            self.dropout = None\n",
    "        self.activation = activation\n",
    "        self.use_bn = use_bn\n",
    "        self.dropout_ratio = dropout_ratio\n",
    "        self.residual = residual\n",
    "\n",
    "    def __call__(self, x):\n",
    "        h = self.linear(x)\n",
    "        if self.use_bn:\n",
    "            h = self.bn(h)\n",
    "        if self.activation is not None:\n",
    "            h = self.activation(h)\n",
    "        if self.residual:\n",
    "            h = residual_add(h, x)\n",
    "        if self.dropout_ratio > 0:\n",
    "            h = self.dropout(h)\n",
    "        return h"
   ]
  },
  {
   "cell_type": "code",
   "execution_count": 27,
   "metadata": {},
   "outputs": [],
   "source": [
    "import pretrainedmodels\n",
    "import torch\n",
    "from torch import nn\n",
    "import torch.nn.functional as F\n",
    "from torch.nn import Sequential\n",
    "\n",
    "\n",
    "class PretrainedCNN(nn.Module):\n",
    "    def __init__(self, model_name='densenet121',\n",
    "                 in_channels=1, out_dim=10, use_bn=True,\n",
    "                 pretrained='imagenet'):\n",
    "        super(PretrainedCNN, self).__init__()\n",
    "        self.conv0 = nn.Conv2d(\n",
    "            in_channels, 3, kernel_size=3, stride=1, padding=1, bias=True)\n",
    "        self.base_model = pretrainedmodels.__dict__[model_name](pretrained=pretrained)\n",
    "        activation = F.leaky_relu\n",
    "        self.do_pooling = True\n",
    "        if self.do_pooling:\n",
    "            inch = self.base_model.last_linear.in_features\n",
    "        else:\n",
    "            inch = None\n",
    "        hdim = 512\n",
    "        lin1 = LinearBlock(inch, hdim, use_bn=use_bn, activation=activation, residual=False)\n",
    "        lin2 = LinearBlock(hdim, out_dim, use_bn=use_bn, activation=None, residual=False)\n",
    "        self.lin_layers = Sequential(lin1, lin2)\n",
    "\n",
    "    def forward(self, x):\n",
    "        \n",
    "        h = self.conv0(x)\n",
    "        h = self.base_model.features(h)\n",
    "        \n",
    "        if self.do_pooling:\n",
    "            h = torch.sum(h, dim=(-1, -2))\n",
    "        else:\n",
    "            # [128, 2048, 4, 4] when input is (128, 128)\n",
    "            bs, ch, height, width = h.shape\n",
    "            h = h.view(bs, ch*height*width)\n",
    "        for layer in self.lin_layers:\n",
    "            h = layer(h)\n",
    "            \n",
    "        return h"
   ]
  },
  {
   "cell_type": "markdown",
   "metadata": {},
   "source": [
    "## Classifier"
   ]
  },
  {
   "cell_type": "code",
   "execution_count": 28,
   "metadata": {},
   "outputs": [],
   "source": [
    "def rand_bbox(size, lam):\n",
    "    W = size[2]\n",
    "    H = size[3]\n",
    "    cut_rat = np.sqrt(1. - lam)\n",
    "    cut_w = np.int(W * cut_rat)\n",
    "    cut_h = np.int(H * cut_rat)\n",
    "\n",
    "    # uniform\n",
    "    cx = np.random.randint(W)\n",
    "    cy = np.random.randint(H)\n",
    "\n",
    "    bbx1 = np.clip(cx - cut_w // 2, 0, W)\n",
    "    bby1 = np.clip(cy - cut_h // 2, 0, H)\n",
    "    bbx2 = np.clip(cx + cut_w // 2, 0, W)\n",
    "    bby2 = np.clip(cy + cut_h // 2, 0, H)\n",
    "\n",
    "    return bbx1, bby1, bbx2, bby2\n",
    "def cutmix(data, targets1, targets2, targets3, alpha):\n",
    "    indices = torch.randperm(data.size(0))\n",
    "    shuffled_data = data[indices]\n",
    "    shuffled_targets1 = targets1[indices]\n",
    "    shuffled_targets2 = targets2[indices]\n",
    "    shuffled_targets3 = targets3[indices]\n",
    "\n",
    "    lam = np.random.beta(alpha, alpha)\n",
    "    while lam > 0.9997:\n",
    "        lam = np.random.beta(alpha, alpha)\n",
    "    bbx1, bby1, bbx2, bby2 = rand_bbox(data.size(), lam)\n",
    "    \n",
    "    \n",
    "#     print(lam)\n",
    "#     print(data.shape)\n",
    "#     print(indices)\n",
    "#     print(bbx1, bbx2, bby1, bby2)\n",
    "    \n",
    "    data[:, :, bbx1:bbx2, bby1:bby2] = data[indices, :, bbx1:bbx2, bby1:bby2]\n",
    "    # adjust lambda to exactly match pixel ratio\n",
    "    lam = 1 - ((bbx2 - bbx1) * (bby2 - bby1) / (data.size()[-1] * data.size()[-2]))\n",
    "\n",
    "    targets = [targets1, shuffled_targets1, targets2, shuffled_targets2, targets3, shuffled_targets3, lam]\n",
    "    return data, targets\n",
    "\n",
    "def mixup(data, targets1, targets2, targets3, alpha):\n",
    "    indices = torch.randperm(data.size(0))\n",
    "    shuffled_data = data[indices]\n",
    "    shuffled_targets1 = targets1[indices]\n",
    "    shuffled_targets2 = targets2[indices]\n",
    "    shuffled_targets3 = targets3[indices]\n",
    "\n",
    "    lam = np.random.beta(alpha, alpha)\n",
    "    data = data * lam + shuffled_data * (1 - lam)\n",
    "    targets = [targets1, shuffled_targets1, targets2, shuffled_targets2, targets3, shuffled_targets3, lam]\n",
    "\n",
    "    return data, targets\n",
    "\n",
    "\n",
    "def cutmix_criterion(preds1,preds2,preds3, targets):\n",
    "    targets1, targets2,targets3, targets4,targets5, targets6, lam = targets[0], targets[1], targets[2], targets[3], targets[4], targets[5], targets[6]\n",
    "    criterion = nn.CrossEntropyLoss(reduction='mean')\n",
    "    return lam * criterion(preds1, targets1) + (1 - lam) * criterion(preds1, targets2) + lam * criterion(preds2, targets3) + (1 - lam) * criterion(preds2, targets4) + lam * criterion(preds3, targets5) + (1 - lam) * criterion(preds3, targets6)\n",
    "\n",
    "def mixup_criterion(preds1,preds2,preds3, targets):\n",
    "    targets1, targets2,targets3, targets4,targets5, targets6, lam = targets[0], targets[1], targets[2], targets[3], targets[4], targets[5], targets[6]\n",
    "    criterion = nn.CrossEntropyLoss(reduction='mean')\n",
    "    return lam * criterion(preds1, targets1) + (1 - lam) * criterion(preds1, targets2) + lam * criterion(preds2, targets3) + (1 - lam) * criterion(preds2, targets4) + lam * criterion(preds3, targets5) + (1 - lam) * criterion(preds3, targets6)"
   ]
  },
  {
   "cell_type": "code",
   "execution_count": 29,
   "metadata": {},
   "outputs": [],
   "source": [
    "import torch\n",
    "from torch import nn\n",
    "import torch.nn.functional as F\n",
    "from tqdm import tqdm\n",
    "\n",
    "\n",
    "def accuracy(y, t):\n",
    "    pred_label = torch.argmax(y, dim=1)\n",
    "    count = pred_label.shape[0]\n",
    "    correct = (pred_label == t).sum().type(torch.double)\n",
    "    acc = correct / count\n",
    "    return acc\n",
    "\n",
    "\n",
    "class BengaliClassifier(nn.Module):\n",
    "    def __init__(self, predictor, n_grapheme=168, n_vowel=11, n_consonant=7):\n",
    "        super(BengaliClassifier, self).__init__()\n",
    "        self.n_grapheme = n_grapheme\n",
    "        self.n_vowel = n_vowel\n",
    "        self.n_consonant = n_consonant\n",
    "        self.n_total_class = self.n_grapheme + self.n_vowel + self.n_consonant\n",
    "        self.predictor = predictor.float()\n",
    "        \n",
    "        self.metrics_keys = [\n",
    "            'loss', 'loss_grapheme', 'loss_vowel', 'loss_consonant',\n",
    "            'acc_grapheme', 'acc_vowel', 'acc_consonant']\n",
    "        \n",
    "    def forward(self, x, y=None):\n",
    "        \n",
    "        const = np.random.randint(6)\n",
    "        \n",
    "        if const<2:        \n",
    "            # mixup\n",
    "            data, targets = mixup(x, y[:,0], y[:,1], y[:,2], 0.4)\n",
    "            x = data\n",
    "\n",
    "        elif const<4:        \n",
    "            # cutmix\n",
    "            data, targets = cutmix(x, y[:,0], y[:,1], y[:,2], 0.4)\n",
    "            x = data\n",
    "\n",
    "            \n",
    "            \n",
    "        pred = self.predictor(x)\n",
    "        \n",
    "        if isinstance(pred, tuple):\n",
    "            assert len(pred) == 3\n",
    "            preds = pred\n",
    "        else:\n",
    "            assert pred.shape[1] == self.n_total_class\n",
    "            preds = torch.split(pred, [self.n_grapheme, self.n_vowel, self.n_consonant], dim=1)\n",
    "        \n",
    "        if const<4:\n",
    "            # cutmix or mixup\n",
    "            targets1, targets2, targets3, targets4,targets5, targets6, lam = targets[0], targets[1], targets[2], targets[3], targets[4], targets[5], targets[6]        \n",
    "            preds1, preds2, preds3 = preds[0], preds[1], preds[2]\n",
    "            lam = float(lam)\n",
    "            loss_grapheme = lam * F.cross_entropy(preds1, targets1) + (1 - lam) * F.cross_entropy(preds1, targets2) \n",
    "            loss_vowel = lam * F.cross_entropy(preds2, targets3) + (1 - lam) * F.cross_entropy(preds2, targets4)\n",
    "            loss_consonant = lam * F.cross_entropy(preds3, targets5) + (1 - lam) * F.cross_entropy(preds3, targets6)\n",
    "            loss = loss_grapheme + loss_vowel + loss_consonant  \n",
    "        else:\n",
    "            loss_grapheme = F.cross_entropy(preds[0], y[:, 0])\n",
    "            loss_vowel = F.cross_entropy(preds[1], y[:, 1])\n",
    "            loss_consonant = F.cross_entropy(preds[2], y[:, 2])\n",
    "            loss = loss_grapheme + loss_vowel + loss_consonant\n",
    "            \n",
    "        metrics = {\n",
    "            'loss': loss.item(),\n",
    "            'loss_grapheme': loss_grapheme.item(),\n",
    "            'loss_vowel': loss_vowel.item(),\n",
    "            'loss_consonant': loss_consonant.item(),\n",
    "            'acc_grapheme': accuracy(preds[0], y[:, 0]),\n",
    "            'acc_vowel': accuracy(preds[1], y[:, 1]),\n",
    "            'acc_consonant': accuracy(preds[2], y[:, 2]),\n",
    "        }\n",
    "        \n",
    "        return loss, metrics, pred\n",
    "    \n",
    "    \n",
    "    \n",
    "    def forward_val(self, x, y=None):\n",
    "\n",
    "        pred = self.predictor(x)\n",
    "        \n",
    "        if isinstance(pred, tuple):\n",
    "            assert len(pred) == 3\n",
    "            preds = pred\n",
    "        else:\n",
    "            assert pred.shape[1] == self.n_total_class\n",
    "            preds = torch.split(pred, [self.n_grapheme, self.n_vowel, self.n_consonant], dim=1)\n",
    "        \n",
    "        loss_grapheme = F.cross_entropy(preds[0], y[:, 0])\n",
    "        loss_vowel = F.cross_entropy(preds[1], y[:, 1])\n",
    "        loss_consonant = F.cross_entropy(preds[2], y[:, 2])\n",
    "        loss = loss_grapheme + loss_vowel + loss_consonant\n",
    "        metrics = {\n",
    "            'loss': loss.item(),\n",
    "            'loss_grapheme': loss_grapheme.item(),\n",
    "            'loss_vowel': loss_vowel.item(),\n",
    "            'loss_consonant': loss_consonant.item(),\n",
    "            'acc_grapheme': accuracy(preds[0], y[:, 0]),\n",
    "            'acc_vowel': accuracy(preds[1], y[:, 1]),\n",
    "            'acc_consonant': accuracy(preds[2], y[:, 2]),\n",
    "        }\n",
    "        \n",
    "        return loss, metrics, pred\n",
    "    \n",
    "\n",
    "    def calc(self, data_loader):\n",
    "        device: torch.device = next(self.parameters()).device\n",
    "        self.eval()\n",
    "        output_list = []\n",
    "        with torch.no_grad():\n",
    "            for batch in tqdm(data_loader):\n",
    "                # TODO: support general preprocessing.\n",
    "                # If `data` is not `Data` instance, `to` method is not supported!\n",
    "                batch = batch.to(device)\n",
    "                \n",
    "                \n",
    "                \n",
    "                pred = self.predictor(batch)\n",
    "                \n",
    "                \n",
    "                output_list.append(pred)\n",
    "        output = torch.cat(output_list, dim=0)\n",
    "        preds = torch.split(output, [self.n_grapheme, self.n_vowel, self.n_consonant], dim=1)\n",
    "        return preds\n",
    "\n",
    "    def predict_proba(self, data_loader):\n",
    "        preds = self.calc(data_loader)\n",
    "        return [F.softmax(p, dim=1) for p in preds]\n",
    "\n",
    "    def predict(self, data_loader):\n",
    "        preds = self.calc(data_loader)\n",
    "        pred_labels = [torch.argmax(p, dim=1) for p in preds]\n",
    "        return pred_labels"
   ]
  },
  {
   "cell_type": "code",
   "execution_count": null,
   "metadata": {},
   "outputs": [],
   "source": []
  },
  {
   "cell_type": "code",
   "execution_count": null,
   "metadata": {},
   "outputs": [],
   "source": []
  },
  {
   "cell_type": "code",
   "execution_count": null,
   "metadata": {},
   "outputs": [],
   "source": []
  },
  {
   "cell_type": "code",
   "execution_count": null,
   "metadata": {},
   "outputs": [],
   "source": []
  },
  {
   "cell_type": "code",
   "execution_count": 30,
   "metadata": {
    "_kg_hide-input": true
   },
   "outputs": [],
   "source": [
    "# import torch\n",
    "# from torch import nn\n",
    "# import torch.nn.functional as F\n",
    "# from tqdm import tqdm\n",
    "\n",
    "\n",
    "# def accuracy(y, t):\n",
    "#     pred_label = torch.argmax(y, dim=1)\n",
    "#     count = pred_label.shape[0]\n",
    "#     correct = (pred_label == t).sum().type(torch.double)\n",
    "#     acc = correct / count\n",
    "#     return acc\n",
    "\n",
    "\n",
    "# class BengaliClassifier(nn.Module):\n",
    "#     def __init__(self, predictor, n_grapheme=168, n_vowel=11, n_consonant=7):\n",
    "#         super(BengaliClassifier, self).__init__()\n",
    "#         self.n_grapheme = n_grapheme\n",
    "#         self.n_vowel = n_vowel\n",
    "#         self.n_consonant = n_consonant\n",
    "#         self.n_total_class = self.n_grapheme + self.n_vowel + self.n_consonant\n",
    "#         self.predictor = predictor.float()\n",
    "        \n",
    "#         self.metrics_keys = [\n",
    "#             'loss', 'loss_grapheme', 'loss_vowel', 'loss_consonant',\n",
    "#             'acc_grapheme', 'acc_vowel', 'acc_consonant']\n",
    "\n",
    "#     def forward(self, x, y=None):\n",
    "#         const = np.random.rand()\n",
    "#         if const<0.4:        \n",
    "#             # mixup\n",
    "#             data, targets = mixup(x, y[:,0], y[:,1], y[:,2], 0.4)\n",
    "#             x = data\n",
    "#         elif const<0.8:\n",
    "#             # cutmix\n",
    "#             data, targets = cutmix(x, y[:,0], y[:,1], y[:,2], 0.4)\n",
    "#             x = data\n",
    "#         pred = self.predictor(x)\n",
    "        \n",
    "        \n",
    "#         if isinstance(pred, tuple):\n",
    "#             assert len(pred) == 3\n",
    "#             preds = pred\n",
    "#         else:\n",
    "#             assert pred.shape[1] == self.n_total_class\n",
    "#             preds = torch.split(pred, [self.n_grapheme, self.n_vowel, self.n_consonant], dim=1)\n",
    "        \n",
    "#         if const<0.8:\n",
    "#             # cutmix or mixup\n",
    "#             targets1, targets2,targets3, targets4,targets5, targets6, lam = targets[0], targets[1], targets[2], targets[3], targets[4], targets[5], targets[6]        \n",
    "#             preds1, preds2, preds3 = preds[0], preds[1], preds[2]\n",
    "#             #loss_grapheme = lam * F.cross_entropy(preds1, targets1) + (1 - lam) * F.cross_entropy(preds1, targets2) \n",
    "#             #loss_vowel = lam * F.cross_entropy(preds2, targets3) + (1 - lam) * F.cross_entropy(preds2, targets4)\n",
    "#             #loss_consonant = lam * F.cross_entropy(preds3, targets5) + (1 - lam) * F.cross_entropy(preds3, targets6)\n",
    "            \n",
    "            \n",
    "#             #criterion = nn.CrossEntropyLoss()\n",
    "#             #loss_grapheme = lam * criterion(preds1, targets1) + (1 - lam) * criterion(preds1, targets2) \n",
    "#             #loss_vowel = lam * criterion(preds2, targets3) + (1 - lam) * criterion(preds2, targets4)\n",
    "#             #loss_consonant = lam * criterion(preds3, targets5) + (1 - lam) * criterion(preds3, targets6)\n",
    "            \n",
    "            \n",
    "#             loss = loss_grapheme + loss_vowel + loss_consonant  \n",
    "            \n",
    "            \n",
    "            \n",
    "            \n",
    "#         else:\n",
    "#             loss_grapheme = F.cross_entropy(preds[0], y[:, 0])\n",
    "#             loss_vowel = F.cross_entropy(preds[1], y[:, 1])\n",
    "#             loss_consonant = F.cross_entropy(preds[2], y[:, 2])\n",
    "#             loss = loss_grapheme + loss_vowel + loss_consonant\n",
    "            \n",
    "#         metrics = {\n",
    "#             'loss': loss.item(),\n",
    "#             'loss_grapheme': loss_grapheme.item(),\n",
    "#             'loss_vowel': loss_vowel.item(),\n",
    "#             'loss_consonant': loss_consonant.item(),\n",
    "#             'acc_grapheme': accuracy(preds[0], y[:, 0]),\n",
    "#             'acc_vowel': accuracy(preds[1], y[:, 1]),\n",
    "#             'acc_consonant': accuracy(preds[2], y[:, 2]),\n",
    "#         }\n",
    "        \n",
    "#         return loss, metrics, pred\n",
    "    \n",
    "    \n",
    "    \n",
    "#     def forward_val(self, x, y=None):\n",
    "\n",
    "#         pred = self.predictor(x)\n",
    "        \n",
    "#         if isinstance(pred, tuple):\n",
    "#             assert len(pred) == 3\n",
    "#             preds = pred\n",
    "#         else:\n",
    "#             assert pred.shape[1] == self.n_total_class\n",
    "#             preds = torch.split(pred, [self.n_grapheme, self.n_vowel, self.n_consonant], dim=1)\n",
    "        \n",
    "#         loss_grapheme = F.cross_entropy(preds[0], y[:, 0])\n",
    "#         loss_vowel = F.cross_entropy(preds[1], y[:, 1])\n",
    "#         loss_consonant = F.cross_entropy(preds[2], y[:, 2])\n",
    "#         loss = loss_grapheme + loss_vowel + loss_consonant\n",
    "#         metrics = {\n",
    "#             'loss': loss.item(),\n",
    "#             'loss_grapheme': loss_grapheme.item(),\n",
    "#             'loss_vowel': loss_vowel.item(),\n",
    "#             'loss_consonant': loss_consonant.item(),\n",
    "#             'acc_grapheme': accuracy(preds[0], y[:, 0]),\n",
    "#             'acc_vowel': accuracy(preds[1], y[:, 1]),\n",
    "#             'acc_consonant': accuracy(preds[2], y[:, 2]),\n",
    "#         }\n",
    "        \n",
    "#         return loss, metrics, pred\n",
    "    \n",
    "\n",
    "#     def calc(self, data_loader):\n",
    "#         device: torch.device = next(self.parameters()).device\n",
    "#         self.eval()\n",
    "#         output_list = []\n",
    "#         with torch.no_grad():\n",
    "#             for batch in tqdm(data_loader):\n",
    "#                 # TODO: support general preprocessing.\n",
    "#                 # If `data` is not `Data` instance, `to` method is not supported!\n",
    "#                 batch = batch.to(device)\n",
    "                \n",
    "                \n",
    "                \n",
    "#                 pred = self.predictor(batch)\n",
    "                \n",
    "                \n",
    "#                 output_list.append(pred)\n",
    "#         output = torch.cat(output_list, dim=0)\n",
    "#         preds = torch.split(output, [self.n_grapheme, self.n_vowel, self.n_consonant], dim=1)\n",
    "#         return preds\n",
    "\n",
    "#     def predict_proba(self, data_loader):\n",
    "#         preds = self.calc(data_loader)\n",
    "#         return [F.softmax(p, dim=1) for p in preds]\n",
    "\n",
    "#     def predict(self, data_loader):\n",
    "#         preds = self.calc(data_loader)\n",
    "#         pred_labels = [torch.argmax(p, dim=1) for p in preds]\n",
    "#         return pred_labels\n"
   ]
  },
  {
   "cell_type": "markdown",
   "metadata": {},
   "source": [
    "<a id=\"train\"></a>\n",
    "# Training code"
   ]
  },
  {
   "cell_type": "markdown",
   "metadata": {},
   "source": [
    "## prepare data"
   ]
  },
  {
   "cell_type": "code",
   "execution_count": 31,
   "metadata": {
    "_kg_hide-input": true
   },
   "outputs": [
    {
     "name": "stdout",
     "output_type": "stream",
     "text": [
      "perm [ 95762  34576  11800 ... 183206 113455  63591]\n",
      "train_dataset 180756 valid_dataset 20084\n",
      "n_total 186\n",
      "predictor <class '__main__.PretrainedCNN'>\n"
     ]
    },
    {
     "name": "stderr",
     "output_type": "stream",
     "text": [
      "/home/dohee/anaconda3/envs/CenterNet/lib/python3.6/site-packages/torchvision/models/densenet.py:212: UserWarning:\n",
      "\n",
      "nn.init.kaiming_normal is now deprecated in favor of nn.init.kaiming_normal_.\n",
      "\n"
     ]
    }
   ],
   "source": [
    "n_dataset = len(train_images)\n",
    "train_data_size = 200 if debug else int(n_dataset * 0.9)\n",
    "valid_data_size = 100 if debug else int(n_dataset - train_data_size)\n",
    "\n",
    "perm = np.random.RandomState(777).permutation(n_dataset)\n",
    "print('perm', perm)\n",
    "train_dataset = BengaliAIDataset(\n",
    "    train_images, train_labels, transform=Transform(size=(image_size, image_size)),\n",
    "    indices=perm[:train_data_size])\n",
    "valid_dataset = BengaliAIDataset(\n",
    "    train_images, train_labels, transform=Transform(affine=False, crop=True, size=(image_size, image_size)),\n",
    "    indices=perm[train_data_size:train_data_size+valid_data_size])\n",
    "print('train_dataset', len(train_dataset), 'valid_dataset', len(valid_dataset))\n",
    "\n",
    "# --- Model ---\n",
    "device = torch.device(device)\n",
    "n_grapheme = 168\n",
    "n_vowel = 11\n",
    "n_consonant = 7\n",
    "n_total = n_grapheme + n_vowel + n_consonant\n",
    "print('n_total', n_total)\n",
    "# Set pretrained='imagenet' to download imagenet pretrained model...\n",
    "predictor = PretrainedCNN(in_channels=1, out_dim=n_total, model_name=model_name, pretrained=None)\n",
    "print('predictor', type(predictor))\n",
    "\n",
    "classifier = BengaliClassifier(predictor).to(device)\n"
   ]
  },
  {
   "cell_type": "code",
   "execution_count": 32,
   "metadata": {},
   "outputs": [
    {
     "data": {
      "text/plain": [
       "PretrainedCNN(\n",
       "  (conv0): Conv2d(1, 3, kernel_size=(3, 3), stride=(1, 1), padding=(1, 1))\n",
       "  (base_model): DenseNet(\n",
       "    (features): Sequential(\n",
       "      (conv0): Conv2d(3, 64, kernel_size=(7, 7), stride=(2, 2), padding=(3, 3), bias=False)\n",
       "      (norm0): BatchNorm2d(64, eps=1e-05, momentum=0.1, affine=True, track_running_stats=True)\n",
       "      (relu0): ReLU(inplace)\n",
       "      (pool0): MaxPool2d(kernel_size=3, stride=2, padding=1, dilation=1, ceil_mode=False)\n",
       "      (denseblock1): _DenseBlock(\n",
       "        (denselayer1): _DenseLayer(\n",
       "          (norm1): BatchNorm2d(64, eps=1e-05, momentum=0.1, affine=True, track_running_stats=True)\n",
       "          (relu1): ReLU(inplace)\n",
       "          (conv1): Conv2d(64, 128, kernel_size=(1, 1), stride=(1, 1), bias=False)\n",
       "          (norm2): BatchNorm2d(128, eps=1e-05, momentum=0.1, affine=True, track_running_stats=True)\n",
       "          (relu2): ReLU(inplace)\n",
       "          (conv2): Conv2d(128, 32, kernel_size=(3, 3), stride=(1, 1), padding=(1, 1), bias=False)\n",
       "        )\n",
       "        (denselayer2): _DenseLayer(\n",
       "          (norm1): BatchNorm2d(96, eps=1e-05, momentum=0.1, affine=True, track_running_stats=True)\n",
       "          (relu1): ReLU(inplace)\n",
       "          (conv1): Conv2d(96, 128, kernel_size=(1, 1), stride=(1, 1), bias=False)\n",
       "          (norm2): BatchNorm2d(128, eps=1e-05, momentum=0.1, affine=True, track_running_stats=True)\n",
       "          (relu2): ReLU(inplace)\n",
       "          (conv2): Conv2d(128, 32, kernel_size=(3, 3), stride=(1, 1), padding=(1, 1), bias=False)\n",
       "        )\n",
       "        (denselayer3): _DenseLayer(\n",
       "          (norm1): BatchNorm2d(128, eps=1e-05, momentum=0.1, affine=True, track_running_stats=True)\n",
       "          (relu1): ReLU(inplace)\n",
       "          (conv1): Conv2d(128, 128, kernel_size=(1, 1), stride=(1, 1), bias=False)\n",
       "          (norm2): BatchNorm2d(128, eps=1e-05, momentum=0.1, affine=True, track_running_stats=True)\n",
       "          (relu2): ReLU(inplace)\n",
       "          (conv2): Conv2d(128, 32, kernel_size=(3, 3), stride=(1, 1), padding=(1, 1), bias=False)\n",
       "        )\n",
       "        (denselayer4): _DenseLayer(\n",
       "          (norm1): BatchNorm2d(160, eps=1e-05, momentum=0.1, affine=True, track_running_stats=True)\n",
       "          (relu1): ReLU(inplace)\n",
       "          (conv1): Conv2d(160, 128, kernel_size=(1, 1), stride=(1, 1), bias=False)\n",
       "          (norm2): BatchNorm2d(128, eps=1e-05, momentum=0.1, affine=True, track_running_stats=True)\n",
       "          (relu2): ReLU(inplace)\n",
       "          (conv2): Conv2d(128, 32, kernel_size=(3, 3), stride=(1, 1), padding=(1, 1), bias=False)\n",
       "        )\n",
       "        (denselayer5): _DenseLayer(\n",
       "          (norm1): BatchNorm2d(192, eps=1e-05, momentum=0.1, affine=True, track_running_stats=True)\n",
       "          (relu1): ReLU(inplace)\n",
       "          (conv1): Conv2d(192, 128, kernel_size=(1, 1), stride=(1, 1), bias=False)\n",
       "          (norm2): BatchNorm2d(128, eps=1e-05, momentum=0.1, affine=True, track_running_stats=True)\n",
       "          (relu2): ReLU(inplace)\n",
       "          (conv2): Conv2d(128, 32, kernel_size=(3, 3), stride=(1, 1), padding=(1, 1), bias=False)\n",
       "        )\n",
       "        (denselayer6): _DenseLayer(\n",
       "          (norm1): BatchNorm2d(224, eps=1e-05, momentum=0.1, affine=True, track_running_stats=True)\n",
       "          (relu1): ReLU(inplace)\n",
       "          (conv1): Conv2d(224, 128, kernel_size=(1, 1), stride=(1, 1), bias=False)\n",
       "          (norm2): BatchNorm2d(128, eps=1e-05, momentum=0.1, affine=True, track_running_stats=True)\n",
       "          (relu2): ReLU(inplace)\n",
       "          (conv2): Conv2d(128, 32, kernel_size=(3, 3), stride=(1, 1), padding=(1, 1), bias=False)\n",
       "        )\n",
       "      )\n",
       "      (transition1): _Transition(\n",
       "        (norm): BatchNorm2d(256, eps=1e-05, momentum=0.1, affine=True, track_running_stats=True)\n",
       "        (relu): ReLU(inplace)\n",
       "        (conv): Conv2d(256, 128, kernel_size=(1, 1), stride=(1, 1), bias=False)\n",
       "        (pool): AvgPool2d(kernel_size=2, stride=2, padding=0)\n",
       "      )\n",
       "      (denseblock2): _DenseBlock(\n",
       "        (denselayer1): _DenseLayer(\n",
       "          (norm1): BatchNorm2d(128, eps=1e-05, momentum=0.1, affine=True, track_running_stats=True)\n",
       "          (relu1): ReLU(inplace)\n",
       "          (conv1): Conv2d(128, 128, kernel_size=(1, 1), stride=(1, 1), bias=False)\n",
       "          (norm2): BatchNorm2d(128, eps=1e-05, momentum=0.1, affine=True, track_running_stats=True)\n",
       "          (relu2): ReLU(inplace)\n",
       "          (conv2): Conv2d(128, 32, kernel_size=(3, 3), stride=(1, 1), padding=(1, 1), bias=False)\n",
       "        )\n",
       "        (denselayer2): _DenseLayer(\n",
       "          (norm1): BatchNorm2d(160, eps=1e-05, momentum=0.1, affine=True, track_running_stats=True)\n",
       "          (relu1): ReLU(inplace)\n",
       "          (conv1): Conv2d(160, 128, kernel_size=(1, 1), stride=(1, 1), bias=False)\n",
       "          (norm2): BatchNorm2d(128, eps=1e-05, momentum=0.1, affine=True, track_running_stats=True)\n",
       "          (relu2): ReLU(inplace)\n",
       "          (conv2): Conv2d(128, 32, kernel_size=(3, 3), stride=(1, 1), padding=(1, 1), bias=False)\n",
       "        )\n",
       "        (denselayer3): _DenseLayer(\n",
       "          (norm1): BatchNorm2d(192, eps=1e-05, momentum=0.1, affine=True, track_running_stats=True)\n",
       "          (relu1): ReLU(inplace)\n",
       "          (conv1): Conv2d(192, 128, kernel_size=(1, 1), stride=(1, 1), bias=False)\n",
       "          (norm2): BatchNorm2d(128, eps=1e-05, momentum=0.1, affine=True, track_running_stats=True)\n",
       "          (relu2): ReLU(inplace)\n",
       "          (conv2): Conv2d(128, 32, kernel_size=(3, 3), stride=(1, 1), padding=(1, 1), bias=False)\n",
       "        )\n",
       "        (denselayer4): _DenseLayer(\n",
       "          (norm1): BatchNorm2d(224, eps=1e-05, momentum=0.1, affine=True, track_running_stats=True)\n",
       "          (relu1): ReLU(inplace)\n",
       "          (conv1): Conv2d(224, 128, kernel_size=(1, 1), stride=(1, 1), bias=False)\n",
       "          (norm2): BatchNorm2d(128, eps=1e-05, momentum=0.1, affine=True, track_running_stats=True)\n",
       "          (relu2): ReLU(inplace)\n",
       "          (conv2): Conv2d(128, 32, kernel_size=(3, 3), stride=(1, 1), padding=(1, 1), bias=False)\n",
       "        )\n",
       "        (denselayer5): _DenseLayer(\n",
       "          (norm1): BatchNorm2d(256, eps=1e-05, momentum=0.1, affine=True, track_running_stats=True)\n",
       "          (relu1): ReLU(inplace)\n",
       "          (conv1): Conv2d(256, 128, kernel_size=(1, 1), stride=(1, 1), bias=False)\n",
       "          (norm2): BatchNorm2d(128, eps=1e-05, momentum=0.1, affine=True, track_running_stats=True)\n",
       "          (relu2): ReLU(inplace)\n",
       "          (conv2): Conv2d(128, 32, kernel_size=(3, 3), stride=(1, 1), padding=(1, 1), bias=False)\n",
       "        )\n",
       "        (denselayer6): _DenseLayer(\n",
       "          (norm1): BatchNorm2d(288, eps=1e-05, momentum=0.1, affine=True, track_running_stats=True)\n",
       "          (relu1): ReLU(inplace)\n",
       "          (conv1): Conv2d(288, 128, kernel_size=(1, 1), stride=(1, 1), bias=False)\n",
       "          (norm2): BatchNorm2d(128, eps=1e-05, momentum=0.1, affine=True, track_running_stats=True)\n",
       "          (relu2): ReLU(inplace)\n",
       "          (conv2): Conv2d(128, 32, kernel_size=(3, 3), stride=(1, 1), padding=(1, 1), bias=False)\n",
       "        )\n",
       "        (denselayer7): _DenseLayer(\n",
       "          (norm1): BatchNorm2d(320, eps=1e-05, momentum=0.1, affine=True, track_running_stats=True)\n",
       "          (relu1): ReLU(inplace)\n",
       "          (conv1): Conv2d(320, 128, kernel_size=(1, 1), stride=(1, 1), bias=False)\n",
       "          (norm2): BatchNorm2d(128, eps=1e-05, momentum=0.1, affine=True, track_running_stats=True)\n",
       "          (relu2): ReLU(inplace)\n",
       "          (conv2): Conv2d(128, 32, kernel_size=(3, 3), stride=(1, 1), padding=(1, 1), bias=False)\n",
       "        )\n",
       "        (denselayer8): _DenseLayer(\n",
       "          (norm1): BatchNorm2d(352, eps=1e-05, momentum=0.1, affine=True, track_running_stats=True)\n",
       "          (relu1): ReLU(inplace)\n",
       "          (conv1): Conv2d(352, 128, kernel_size=(1, 1), stride=(1, 1), bias=False)\n",
       "          (norm2): BatchNorm2d(128, eps=1e-05, momentum=0.1, affine=True, track_running_stats=True)\n",
       "          (relu2): ReLU(inplace)\n",
       "          (conv2): Conv2d(128, 32, kernel_size=(3, 3), stride=(1, 1), padding=(1, 1), bias=False)\n",
       "        )\n",
       "        (denselayer9): _DenseLayer(\n",
       "          (norm1): BatchNorm2d(384, eps=1e-05, momentum=0.1, affine=True, track_running_stats=True)\n",
       "          (relu1): ReLU(inplace)\n",
       "          (conv1): Conv2d(384, 128, kernel_size=(1, 1), stride=(1, 1), bias=False)\n",
       "          (norm2): BatchNorm2d(128, eps=1e-05, momentum=0.1, affine=True, track_running_stats=True)\n",
       "          (relu2): ReLU(inplace)\n",
       "          (conv2): Conv2d(128, 32, kernel_size=(3, 3), stride=(1, 1), padding=(1, 1), bias=False)\n",
       "        )\n",
       "        (denselayer10): _DenseLayer(\n",
       "          (norm1): BatchNorm2d(416, eps=1e-05, momentum=0.1, affine=True, track_running_stats=True)\n",
       "          (relu1): ReLU(inplace)\n",
       "          (conv1): Conv2d(416, 128, kernel_size=(1, 1), stride=(1, 1), bias=False)\n",
       "          (norm2): BatchNorm2d(128, eps=1e-05, momentum=0.1, affine=True, track_running_stats=True)\n",
       "          (relu2): ReLU(inplace)\n",
       "          (conv2): Conv2d(128, 32, kernel_size=(3, 3), stride=(1, 1), padding=(1, 1), bias=False)\n",
       "        )\n",
       "        (denselayer11): _DenseLayer(\n",
       "          (norm1): BatchNorm2d(448, eps=1e-05, momentum=0.1, affine=True, track_running_stats=True)\n",
       "          (relu1): ReLU(inplace)\n",
       "          (conv1): Conv2d(448, 128, kernel_size=(1, 1), stride=(1, 1), bias=False)\n",
       "          (norm2): BatchNorm2d(128, eps=1e-05, momentum=0.1, affine=True, track_running_stats=True)\n",
       "          (relu2): ReLU(inplace)\n",
       "          (conv2): Conv2d(128, 32, kernel_size=(3, 3), stride=(1, 1), padding=(1, 1), bias=False)\n",
       "        )\n",
       "        (denselayer12): _DenseLayer(\n",
       "          (norm1): BatchNorm2d(480, eps=1e-05, momentum=0.1, affine=True, track_running_stats=True)\n",
       "          (relu1): ReLU(inplace)\n",
       "          (conv1): Conv2d(480, 128, kernel_size=(1, 1), stride=(1, 1), bias=False)\n",
       "          (norm2): BatchNorm2d(128, eps=1e-05, momentum=0.1, affine=True, track_running_stats=True)\n",
       "          (relu2): ReLU(inplace)\n",
       "          (conv2): Conv2d(128, 32, kernel_size=(3, 3), stride=(1, 1), padding=(1, 1), bias=False)\n",
       "        )\n",
       "      )\n",
       "      (transition2): _Transition(\n",
       "        (norm): BatchNorm2d(512, eps=1e-05, momentum=0.1, affine=True, track_running_stats=True)\n",
       "        (relu): ReLU(inplace)\n",
       "        (conv): Conv2d(512, 256, kernel_size=(1, 1), stride=(1, 1), bias=False)\n",
       "        (pool): AvgPool2d(kernel_size=2, stride=2, padding=0)\n",
       "      )\n",
       "      (denseblock3): _DenseBlock(\n",
       "        (denselayer1): _DenseLayer(\n",
       "          (norm1): BatchNorm2d(256, eps=1e-05, momentum=0.1, affine=True, track_running_stats=True)\n",
       "          (relu1): ReLU(inplace)\n",
       "          (conv1): Conv2d(256, 128, kernel_size=(1, 1), stride=(1, 1), bias=False)\n",
       "          (norm2): BatchNorm2d(128, eps=1e-05, momentum=0.1, affine=True, track_running_stats=True)\n",
       "          (relu2): ReLU(inplace)\n",
       "          (conv2): Conv2d(128, 32, kernel_size=(3, 3), stride=(1, 1), padding=(1, 1), bias=False)\n",
       "        )\n",
       "        (denselayer2): _DenseLayer(\n",
       "          (norm1): BatchNorm2d(288, eps=1e-05, momentum=0.1, affine=True, track_running_stats=True)\n",
       "          (relu1): ReLU(inplace)\n",
       "          (conv1): Conv2d(288, 128, kernel_size=(1, 1), stride=(1, 1), bias=False)\n",
       "          (norm2): BatchNorm2d(128, eps=1e-05, momentum=0.1, affine=True, track_running_stats=True)\n",
       "          (relu2): ReLU(inplace)\n",
       "          (conv2): Conv2d(128, 32, kernel_size=(3, 3), stride=(1, 1), padding=(1, 1), bias=False)\n",
       "        )\n",
       "        (denselayer3): _DenseLayer(\n",
       "          (norm1): BatchNorm2d(320, eps=1e-05, momentum=0.1, affine=True, track_running_stats=True)\n",
       "          (relu1): ReLU(inplace)\n",
       "          (conv1): Conv2d(320, 128, kernel_size=(1, 1), stride=(1, 1), bias=False)\n",
       "          (norm2): BatchNorm2d(128, eps=1e-05, momentum=0.1, affine=True, track_running_stats=True)\n",
       "          (relu2): ReLU(inplace)\n",
       "          (conv2): Conv2d(128, 32, kernel_size=(3, 3), stride=(1, 1), padding=(1, 1), bias=False)\n",
       "        )\n",
       "        (denselayer4): _DenseLayer(\n",
       "          (norm1): BatchNorm2d(352, eps=1e-05, momentum=0.1, affine=True, track_running_stats=True)\n",
       "          (relu1): ReLU(inplace)\n",
       "          (conv1): Conv2d(352, 128, kernel_size=(1, 1), stride=(1, 1), bias=False)\n",
       "          (norm2): BatchNorm2d(128, eps=1e-05, momentum=0.1, affine=True, track_running_stats=True)\n",
       "          (relu2): ReLU(inplace)\n",
       "          (conv2): Conv2d(128, 32, kernel_size=(3, 3), stride=(1, 1), padding=(1, 1), bias=False)\n",
       "        )\n",
       "        (denselayer5): _DenseLayer(\n",
       "          (norm1): BatchNorm2d(384, eps=1e-05, momentum=0.1, affine=True, track_running_stats=True)\n",
       "          (relu1): ReLU(inplace)\n",
       "          (conv1): Conv2d(384, 128, kernel_size=(1, 1), stride=(1, 1), bias=False)\n",
       "          (norm2): BatchNorm2d(128, eps=1e-05, momentum=0.1, affine=True, track_running_stats=True)\n",
       "          (relu2): ReLU(inplace)\n",
       "          (conv2): Conv2d(128, 32, kernel_size=(3, 3), stride=(1, 1), padding=(1, 1), bias=False)\n",
       "        )\n",
       "        (denselayer6): _DenseLayer(\n",
       "          (norm1): BatchNorm2d(416, eps=1e-05, momentum=0.1, affine=True, track_running_stats=True)\n",
       "          (relu1): ReLU(inplace)\n",
       "          (conv1): Conv2d(416, 128, kernel_size=(1, 1), stride=(1, 1), bias=False)\n",
       "          (norm2): BatchNorm2d(128, eps=1e-05, momentum=0.1, affine=True, track_running_stats=True)\n",
       "          (relu2): ReLU(inplace)\n",
       "          (conv2): Conv2d(128, 32, kernel_size=(3, 3), stride=(1, 1), padding=(1, 1), bias=False)\n",
       "        )\n",
       "        (denselayer7): _DenseLayer(\n",
       "          (norm1): BatchNorm2d(448, eps=1e-05, momentum=0.1, affine=True, track_running_stats=True)\n",
       "          (relu1): ReLU(inplace)\n",
       "          (conv1): Conv2d(448, 128, kernel_size=(1, 1), stride=(1, 1), bias=False)\n",
       "          (norm2): BatchNorm2d(128, eps=1e-05, momentum=0.1, affine=True, track_running_stats=True)\n",
       "          (relu2): ReLU(inplace)\n",
       "          (conv2): Conv2d(128, 32, kernel_size=(3, 3), stride=(1, 1), padding=(1, 1), bias=False)\n",
       "        )\n",
       "        (denselayer8): _DenseLayer(\n",
       "          (norm1): BatchNorm2d(480, eps=1e-05, momentum=0.1, affine=True, track_running_stats=True)\n",
       "          (relu1): ReLU(inplace)\n",
       "          (conv1): Conv2d(480, 128, kernel_size=(1, 1), stride=(1, 1), bias=False)\n",
       "          (norm2): BatchNorm2d(128, eps=1e-05, momentum=0.1, affine=True, track_running_stats=True)\n",
       "          (relu2): ReLU(inplace)\n",
       "          (conv2): Conv2d(128, 32, kernel_size=(3, 3), stride=(1, 1), padding=(1, 1), bias=False)\n",
       "        )\n",
       "        (denselayer9): _DenseLayer(\n",
       "          (norm1): BatchNorm2d(512, eps=1e-05, momentum=0.1, affine=True, track_running_stats=True)\n",
       "          (relu1): ReLU(inplace)\n",
       "          (conv1): Conv2d(512, 128, kernel_size=(1, 1), stride=(1, 1), bias=False)\n",
       "          (norm2): BatchNorm2d(128, eps=1e-05, momentum=0.1, affine=True, track_running_stats=True)\n",
       "          (relu2): ReLU(inplace)\n",
       "          (conv2): Conv2d(128, 32, kernel_size=(3, 3), stride=(1, 1), padding=(1, 1), bias=False)\n",
       "        )\n",
       "        (denselayer10): _DenseLayer(\n",
       "          (norm1): BatchNorm2d(544, eps=1e-05, momentum=0.1, affine=True, track_running_stats=True)\n",
       "          (relu1): ReLU(inplace)\n",
       "          (conv1): Conv2d(544, 128, kernel_size=(1, 1), stride=(1, 1), bias=False)\n",
       "          (norm2): BatchNorm2d(128, eps=1e-05, momentum=0.1, affine=True, track_running_stats=True)\n",
       "          (relu2): ReLU(inplace)\n",
       "          (conv2): Conv2d(128, 32, kernel_size=(3, 3), stride=(1, 1), padding=(1, 1), bias=False)\n",
       "        )\n",
       "        (denselayer11): _DenseLayer(\n",
       "          (norm1): BatchNorm2d(576, eps=1e-05, momentum=0.1, affine=True, track_running_stats=True)\n",
       "          (relu1): ReLU(inplace)\n",
       "          (conv1): Conv2d(576, 128, kernel_size=(1, 1), stride=(1, 1), bias=False)\n",
       "          (norm2): BatchNorm2d(128, eps=1e-05, momentum=0.1, affine=True, track_running_stats=True)\n",
       "          (relu2): ReLU(inplace)\n",
       "          (conv2): Conv2d(128, 32, kernel_size=(3, 3), stride=(1, 1), padding=(1, 1), bias=False)\n",
       "        )\n",
       "        (denselayer12): _DenseLayer(\n",
       "          (norm1): BatchNorm2d(608, eps=1e-05, momentum=0.1, affine=True, track_running_stats=True)\n",
       "          (relu1): ReLU(inplace)\n",
       "          (conv1): Conv2d(608, 128, kernel_size=(1, 1), stride=(1, 1), bias=False)\n",
       "          (norm2): BatchNorm2d(128, eps=1e-05, momentum=0.1, affine=True, track_running_stats=True)\n",
       "          (relu2): ReLU(inplace)\n",
       "          (conv2): Conv2d(128, 32, kernel_size=(3, 3), stride=(1, 1), padding=(1, 1), bias=False)\n",
       "        )\n",
       "        (denselayer13): _DenseLayer(\n",
       "          (norm1): BatchNorm2d(640, eps=1e-05, momentum=0.1, affine=True, track_running_stats=True)\n",
       "          (relu1): ReLU(inplace)\n",
       "          (conv1): Conv2d(640, 128, kernel_size=(1, 1), stride=(1, 1), bias=False)\n",
       "          (norm2): BatchNorm2d(128, eps=1e-05, momentum=0.1, affine=True, track_running_stats=True)\n",
       "          (relu2): ReLU(inplace)\n",
       "          (conv2): Conv2d(128, 32, kernel_size=(3, 3), stride=(1, 1), padding=(1, 1), bias=False)\n",
       "        )\n",
       "        (denselayer14): _DenseLayer(\n",
       "          (norm1): BatchNorm2d(672, eps=1e-05, momentum=0.1, affine=True, track_running_stats=True)\n",
       "          (relu1): ReLU(inplace)\n",
       "          (conv1): Conv2d(672, 128, kernel_size=(1, 1), stride=(1, 1), bias=False)\n",
       "          (norm2): BatchNorm2d(128, eps=1e-05, momentum=0.1, affine=True, track_running_stats=True)\n",
       "          (relu2): ReLU(inplace)\n",
       "          (conv2): Conv2d(128, 32, kernel_size=(3, 3), stride=(1, 1), padding=(1, 1), bias=False)\n",
       "        )\n",
       "        (denselayer15): _DenseLayer(\n",
       "          (norm1): BatchNorm2d(704, eps=1e-05, momentum=0.1, affine=True, track_running_stats=True)\n",
       "          (relu1): ReLU(inplace)\n",
       "          (conv1): Conv2d(704, 128, kernel_size=(1, 1), stride=(1, 1), bias=False)\n",
       "          (norm2): BatchNorm2d(128, eps=1e-05, momentum=0.1, affine=True, track_running_stats=True)\n",
       "          (relu2): ReLU(inplace)\n",
       "          (conv2): Conv2d(128, 32, kernel_size=(3, 3), stride=(1, 1), padding=(1, 1), bias=False)\n",
       "        )\n",
       "        (denselayer16): _DenseLayer(\n",
       "          (norm1): BatchNorm2d(736, eps=1e-05, momentum=0.1, affine=True, track_running_stats=True)\n",
       "          (relu1): ReLU(inplace)\n",
       "          (conv1): Conv2d(736, 128, kernel_size=(1, 1), stride=(1, 1), bias=False)\n",
       "          (norm2): BatchNorm2d(128, eps=1e-05, momentum=0.1, affine=True, track_running_stats=True)\n",
       "          (relu2): ReLU(inplace)\n",
       "          (conv2): Conv2d(128, 32, kernel_size=(3, 3), stride=(1, 1), padding=(1, 1), bias=False)\n",
       "        )\n",
       "        (denselayer17): _DenseLayer(\n",
       "          (norm1): BatchNorm2d(768, eps=1e-05, momentum=0.1, affine=True, track_running_stats=True)\n",
       "          (relu1): ReLU(inplace)\n",
       "          (conv1): Conv2d(768, 128, kernel_size=(1, 1), stride=(1, 1), bias=False)\n",
       "          (norm2): BatchNorm2d(128, eps=1e-05, momentum=0.1, affine=True, track_running_stats=True)\n",
       "          (relu2): ReLU(inplace)\n",
       "          (conv2): Conv2d(128, 32, kernel_size=(3, 3), stride=(1, 1), padding=(1, 1), bias=False)\n",
       "        )\n",
       "        (denselayer18): _DenseLayer(\n",
       "          (norm1): BatchNorm2d(800, eps=1e-05, momentum=0.1, affine=True, track_running_stats=True)\n",
       "          (relu1): ReLU(inplace)\n",
       "          (conv1): Conv2d(800, 128, kernel_size=(1, 1), stride=(1, 1), bias=False)\n",
       "          (norm2): BatchNorm2d(128, eps=1e-05, momentum=0.1, affine=True, track_running_stats=True)\n",
       "          (relu2): ReLU(inplace)\n",
       "          (conv2): Conv2d(128, 32, kernel_size=(3, 3), stride=(1, 1), padding=(1, 1), bias=False)\n",
       "        )\n",
       "        (denselayer19): _DenseLayer(\n",
       "          (norm1): BatchNorm2d(832, eps=1e-05, momentum=0.1, affine=True, track_running_stats=True)\n",
       "          (relu1): ReLU(inplace)\n",
       "          (conv1): Conv2d(832, 128, kernel_size=(1, 1), stride=(1, 1), bias=False)\n",
       "          (norm2): BatchNorm2d(128, eps=1e-05, momentum=0.1, affine=True, track_running_stats=True)\n",
       "          (relu2): ReLU(inplace)\n",
       "          (conv2): Conv2d(128, 32, kernel_size=(3, 3), stride=(1, 1), padding=(1, 1), bias=False)\n",
       "        )\n",
       "        (denselayer20): _DenseLayer(\n",
       "          (norm1): BatchNorm2d(864, eps=1e-05, momentum=0.1, affine=True, track_running_stats=True)\n",
       "          (relu1): ReLU(inplace)\n",
       "          (conv1): Conv2d(864, 128, kernel_size=(1, 1), stride=(1, 1), bias=False)\n",
       "          (norm2): BatchNorm2d(128, eps=1e-05, momentum=0.1, affine=True, track_running_stats=True)\n",
       "          (relu2): ReLU(inplace)\n",
       "          (conv2): Conv2d(128, 32, kernel_size=(3, 3), stride=(1, 1), padding=(1, 1), bias=False)\n",
       "        )\n",
       "        (denselayer21): _DenseLayer(\n",
       "          (norm1): BatchNorm2d(896, eps=1e-05, momentum=0.1, affine=True, track_running_stats=True)\n",
       "          (relu1): ReLU(inplace)\n",
       "          (conv1): Conv2d(896, 128, kernel_size=(1, 1), stride=(1, 1), bias=False)\n",
       "          (norm2): BatchNorm2d(128, eps=1e-05, momentum=0.1, affine=True, track_running_stats=True)\n",
       "          (relu2): ReLU(inplace)\n",
       "          (conv2): Conv2d(128, 32, kernel_size=(3, 3), stride=(1, 1), padding=(1, 1), bias=False)\n",
       "        )\n",
       "        (denselayer22): _DenseLayer(\n",
       "          (norm1): BatchNorm2d(928, eps=1e-05, momentum=0.1, affine=True, track_running_stats=True)\n",
       "          (relu1): ReLU(inplace)\n",
       "          (conv1): Conv2d(928, 128, kernel_size=(1, 1), stride=(1, 1), bias=False)\n",
       "          (norm2): BatchNorm2d(128, eps=1e-05, momentum=0.1, affine=True, track_running_stats=True)\n",
       "          (relu2): ReLU(inplace)\n",
       "          (conv2): Conv2d(128, 32, kernel_size=(3, 3), stride=(1, 1), padding=(1, 1), bias=False)\n",
       "        )\n",
       "        (denselayer23): _DenseLayer(\n",
       "          (norm1): BatchNorm2d(960, eps=1e-05, momentum=0.1, affine=True, track_running_stats=True)\n",
       "          (relu1): ReLU(inplace)\n",
       "          (conv1): Conv2d(960, 128, kernel_size=(1, 1), stride=(1, 1), bias=False)\n",
       "          (norm2): BatchNorm2d(128, eps=1e-05, momentum=0.1, affine=True, track_running_stats=True)\n",
       "          (relu2): ReLU(inplace)\n",
       "          (conv2): Conv2d(128, 32, kernel_size=(3, 3), stride=(1, 1), padding=(1, 1), bias=False)\n",
       "        )\n",
       "        (denselayer24): _DenseLayer(\n",
       "          (norm1): BatchNorm2d(992, eps=1e-05, momentum=0.1, affine=True, track_running_stats=True)\n",
       "          (relu1): ReLU(inplace)\n",
       "          (conv1): Conv2d(992, 128, kernel_size=(1, 1), stride=(1, 1), bias=False)\n",
       "          (norm2): BatchNorm2d(128, eps=1e-05, momentum=0.1, affine=True, track_running_stats=True)\n",
       "          (relu2): ReLU(inplace)\n",
       "          (conv2): Conv2d(128, 32, kernel_size=(3, 3), stride=(1, 1), padding=(1, 1), bias=False)\n",
       "        )\n",
       "      )\n",
       "      (transition3): _Transition(\n",
       "        (norm): BatchNorm2d(1024, eps=1e-05, momentum=0.1, affine=True, track_running_stats=True)\n",
       "        (relu): ReLU(inplace)\n",
       "        (conv): Conv2d(1024, 512, kernel_size=(1, 1), stride=(1, 1), bias=False)\n",
       "        (pool): AvgPool2d(kernel_size=2, stride=2, padding=0)\n",
       "      )\n",
       "      (denseblock4): _DenseBlock(\n",
       "        (denselayer1): _DenseLayer(\n",
       "          (norm1): BatchNorm2d(512, eps=1e-05, momentum=0.1, affine=True, track_running_stats=True)\n",
       "          (relu1): ReLU(inplace)\n",
       "          (conv1): Conv2d(512, 128, kernel_size=(1, 1), stride=(1, 1), bias=False)\n",
       "          (norm2): BatchNorm2d(128, eps=1e-05, momentum=0.1, affine=True, track_running_stats=True)\n",
       "          (relu2): ReLU(inplace)\n",
       "          (conv2): Conv2d(128, 32, kernel_size=(3, 3), stride=(1, 1), padding=(1, 1), bias=False)\n",
       "        )\n",
       "        (denselayer2): _DenseLayer(\n",
       "          (norm1): BatchNorm2d(544, eps=1e-05, momentum=0.1, affine=True, track_running_stats=True)\n",
       "          (relu1): ReLU(inplace)\n",
       "          (conv1): Conv2d(544, 128, kernel_size=(1, 1), stride=(1, 1), bias=False)\n",
       "          (norm2): BatchNorm2d(128, eps=1e-05, momentum=0.1, affine=True, track_running_stats=True)\n",
       "          (relu2): ReLU(inplace)\n",
       "          (conv2): Conv2d(128, 32, kernel_size=(3, 3), stride=(1, 1), padding=(1, 1), bias=False)\n",
       "        )\n",
       "        (denselayer3): _DenseLayer(\n",
       "          (norm1): BatchNorm2d(576, eps=1e-05, momentum=0.1, affine=True, track_running_stats=True)\n",
       "          (relu1): ReLU(inplace)\n",
       "          (conv1): Conv2d(576, 128, kernel_size=(1, 1), stride=(1, 1), bias=False)\n",
       "          (norm2): BatchNorm2d(128, eps=1e-05, momentum=0.1, affine=True, track_running_stats=True)\n",
       "          (relu2): ReLU(inplace)\n",
       "          (conv2): Conv2d(128, 32, kernel_size=(3, 3), stride=(1, 1), padding=(1, 1), bias=False)\n",
       "        )\n",
       "        (denselayer4): _DenseLayer(\n",
       "          (norm1): BatchNorm2d(608, eps=1e-05, momentum=0.1, affine=True, track_running_stats=True)\n",
       "          (relu1): ReLU(inplace)\n",
       "          (conv1): Conv2d(608, 128, kernel_size=(1, 1), stride=(1, 1), bias=False)\n",
       "          (norm2): BatchNorm2d(128, eps=1e-05, momentum=0.1, affine=True, track_running_stats=True)\n",
       "          (relu2): ReLU(inplace)\n",
       "          (conv2): Conv2d(128, 32, kernel_size=(3, 3), stride=(1, 1), padding=(1, 1), bias=False)\n",
       "        )\n",
       "        (denselayer5): _DenseLayer(\n",
       "          (norm1): BatchNorm2d(640, eps=1e-05, momentum=0.1, affine=True, track_running_stats=True)\n",
       "          (relu1): ReLU(inplace)\n",
       "          (conv1): Conv2d(640, 128, kernel_size=(1, 1), stride=(1, 1), bias=False)\n",
       "          (norm2): BatchNorm2d(128, eps=1e-05, momentum=0.1, affine=True, track_running_stats=True)\n",
       "          (relu2): ReLU(inplace)\n",
       "          (conv2): Conv2d(128, 32, kernel_size=(3, 3), stride=(1, 1), padding=(1, 1), bias=False)\n",
       "        )\n",
       "        (denselayer6): _DenseLayer(\n",
       "          (norm1): BatchNorm2d(672, eps=1e-05, momentum=0.1, affine=True, track_running_stats=True)\n",
       "          (relu1): ReLU(inplace)\n",
       "          (conv1): Conv2d(672, 128, kernel_size=(1, 1), stride=(1, 1), bias=False)\n",
       "          (norm2): BatchNorm2d(128, eps=1e-05, momentum=0.1, affine=True, track_running_stats=True)\n",
       "          (relu2): ReLU(inplace)\n",
       "          (conv2): Conv2d(128, 32, kernel_size=(3, 3), stride=(1, 1), padding=(1, 1), bias=False)\n",
       "        )\n",
       "        (denselayer7): _DenseLayer(\n",
       "          (norm1): BatchNorm2d(704, eps=1e-05, momentum=0.1, affine=True, track_running_stats=True)\n",
       "          (relu1): ReLU(inplace)\n",
       "          (conv1): Conv2d(704, 128, kernel_size=(1, 1), stride=(1, 1), bias=False)\n",
       "          (norm2): BatchNorm2d(128, eps=1e-05, momentum=0.1, affine=True, track_running_stats=True)\n",
       "          (relu2): ReLU(inplace)\n",
       "          (conv2): Conv2d(128, 32, kernel_size=(3, 3), stride=(1, 1), padding=(1, 1), bias=False)\n",
       "        )\n",
       "        (denselayer8): _DenseLayer(\n",
       "          (norm1): BatchNorm2d(736, eps=1e-05, momentum=0.1, affine=True, track_running_stats=True)\n",
       "          (relu1): ReLU(inplace)\n",
       "          (conv1): Conv2d(736, 128, kernel_size=(1, 1), stride=(1, 1), bias=False)\n",
       "          (norm2): BatchNorm2d(128, eps=1e-05, momentum=0.1, affine=True, track_running_stats=True)\n",
       "          (relu2): ReLU(inplace)\n",
       "          (conv2): Conv2d(128, 32, kernel_size=(3, 3), stride=(1, 1), padding=(1, 1), bias=False)\n",
       "        )\n",
       "        (denselayer9): _DenseLayer(\n",
       "          (norm1): BatchNorm2d(768, eps=1e-05, momentum=0.1, affine=True, track_running_stats=True)\n",
       "          (relu1): ReLU(inplace)\n",
       "          (conv1): Conv2d(768, 128, kernel_size=(1, 1), stride=(1, 1), bias=False)\n",
       "          (norm2): BatchNorm2d(128, eps=1e-05, momentum=0.1, affine=True, track_running_stats=True)\n",
       "          (relu2): ReLU(inplace)\n",
       "          (conv2): Conv2d(128, 32, kernel_size=(3, 3), stride=(1, 1), padding=(1, 1), bias=False)\n",
       "        )\n",
       "        (denselayer10): _DenseLayer(\n",
       "          (norm1): BatchNorm2d(800, eps=1e-05, momentum=0.1, affine=True, track_running_stats=True)\n",
       "          (relu1): ReLU(inplace)\n",
       "          (conv1): Conv2d(800, 128, kernel_size=(1, 1), stride=(1, 1), bias=False)\n",
       "          (norm2): BatchNorm2d(128, eps=1e-05, momentum=0.1, affine=True, track_running_stats=True)\n",
       "          (relu2): ReLU(inplace)\n",
       "          (conv2): Conv2d(128, 32, kernel_size=(3, 3), stride=(1, 1), padding=(1, 1), bias=False)\n",
       "        )\n",
       "        (denselayer11): _DenseLayer(\n",
       "          (norm1): BatchNorm2d(832, eps=1e-05, momentum=0.1, affine=True, track_running_stats=True)\n",
       "          (relu1): ReLU(inplace)\n",
       "          (conv1): Conv2d(832, 128, kernel_size=(1, 1), stride=(1, 1), bias=False)\n",
       "          (norm2): BatchNorm2d(128, eps=1e-05, momentum=0.1, affine=True, track_running_stats=True)\n",
       "          (relu2): ReLU(inplace)\n",
       "          (conv2): Conv2d(128, 32, kernel_size=(3, 3), stride=(1, 1), padding=(1, 1), bias=False)\n",
       "        )\n",
       "        (denselayer12): _DenseLayer(\n",
       "          (norm1): BatchNorm2d(864, eps=1e-05, momentum=0.1, affine=True, track_running_stats=True)\n",
       "          (relu1): ReLU(inplace)\n",
       "          (conv1): Conv2d(864, 128, kernel_size=(1, 1), stride=(1, 1), bias=False)\n",
       "          (norm2): BatchNorm2d(128, eps=1e-05, momentum=0.1, affine=True, track_running_stats=True)\n",
       "          (relu2): ReLU(inplace)\n",
       "          (conv2): Conv2d(128, 32, kernel_size=(3, 3), stride=(1, 1), padding=(1, 1), bias=False)\n",
       "        )\n",
       "        (denselayer13): _DenseLayer(\n",
       "          (norm1): BatchNorm2d(896, eps=1e-05, momentum=0.1, affine=True, track_running_stats=True)\n",
       "          (relu1): ReLU(inplace)\n",
       "          (conv1): Conv2d(896, 128, kernel_size=(1, 1), stride=(1, 1), bias=False)\n",
       "          (norm2): BatchNorm2d(128, eps=1e-05, momentum=0.1, affine=True, track_running_stats=True)\n",
       "          (relu2): ReLU(inplace)\n",
       "          (conv2): Conv2d(128, 32, kernel_size=(3, 3), stride=(1, 1), padding=(1, 1), bias=False)\n",
       "        )\n",
       "        (denselayer14): _DenseLayer(\n",
       "          (norm1): BatchNorm2d(928, eps=1e-05, momentum=0.1, affine=True, track_running_stats=True)\n",
       "          (relu1): ReLU(inplace)\n",
       "          (conv1): Conv2d(928, 128, kernel_size=(1, 1), stride=(1, 1), bias=False)\n",
       "          (norm2): BatchNorm2d(128, eps=1e-05, momentum=0.1, affine=True, track_running_stats=True)\n",
       "          (relu2): ReLU(inplace)\n",
       "          (conv2): Conv2d(128, 32, kernel_size=(3, 3), stride=(1, 1), padding=(1, 1), bias=False)\n",
       "        )\n",
       "        (denselayer15): _DenseLayer(\n",
       "          (norm1): BatchNorm2d(960, eps=1e-05, momentum=0.1, affine=True, track_running_stats=True)\n",
       "          (relu1): ReLU(inplace)\n",
       "          (conv1): Conv2d(960, 128, kernel_size=(1, 1), stride=(1, 1), bias=False)\n",
       "          (norm2): BatchNorm2d(128, eps=1e-05, momentum=0.1, affine=True, track_running_stats=True)\n",
       "          (relu2): ReLU(inplace)\n",
       "          (conv2): Conv2d(128, 32, kernel_size=(3, 3), stride=(1, 1), padding=(1, 1), bias=False)\n",
       "        )\n",
       "        (denselayer16): _DenseLayer(\n",
       "          (norm1): BatchNorm2d(992, eps=1e-05, momentum=0.1, affine=True, track_running_stats=True)\n",
       "          (relu1): ReLU(inplace)\n",
       "          (conv1): Conv2d(992, 128, kernel_size=(1, 1), stride=(1, 1), bias=False)\n",
       "          (norm2): BatchNorm2d(128, eps=1e-05, momentum=0.1, affine=True, track_running_stats=True)\n",
       "          (relu2): ReLU(inplace)\n",
       "          (conv2): Conv2d(128, 32, kernel_size=(3, 3), stride=(1, 1), padding=(1, 1), bias=False)\n",
       "        )\n",
       "      )\n",
       "      (norm5): BatchNorm2d(1024, eps=1e-05, momentum=0.1, affine=True, track_running_stats=True)\n",
       "    )\n",
       "    (last_linear): Linear(in_features=1024, out_features=1000, bias=True)\n",
       "  )\n",
       "  (lin_layers): Sequential(\n",
       "    (0): LinearBlock(\n",
       "      (linear): Linear(in_features=1024, out_features=512, bias=True)\n",
       "      (bn): BatchNorm1d(512, eps=1e-05, momentum=0.1, affine=True, track_running_stats=True)\n",
       "    )\n",
       "    (1): LinearBlock(\n",
       "      (linear): Linear(in_features=512, out_features=186, bias=True)\n",
       "      (bn): BatchNorm1d(186, eps=1e-05, momentum=0.1, affine=True, track_running_stats=True)\n",
       "    )\n",
       "  )\n",
       ")"
      ]
     },
     "execution_count": 32,
     "metadata": {},
     "output_type": "execute_result"
    }
   ],
   "source": [
    "predictor"
   ]
  },
  {
   "cell_type": "code",
   "execution_count": null,
   "metadata": {},
   "outputs": [],
   "source": []
  },
  {
   "cell_type": "markdown",
   "metadata": {},
   "source": [
    "## Ignite utility\n",
    "\n",
    "pytorch-ignite utility class for training"
   ]
  },
  {
   "cell_type": "code",
   "execution_count": 33,
   "metadata": {},
   "outputs": [],
   "source": [
    "import json\n",
    "from logging import getLogger\n",
    "import numpy\n",
    "\n",
    "def save_json(filepath, params):\n",
    "    with open(filepath, 'w') as f:\n",
    "        json.dump(params, f, indent=4)\n",
    "\n",
    "import os\n",
    "from logging import getLogger\n",
    "from time import perf_counter\n",
    "\n",
    "import pandas as pd\n",
    "import torch\n",
    "# from chainer_chemistry.utils import save_json\n",
    "\n",
    "from ignite.engine.engine import Engine, Events\n",
    "from ignite.metrics import Average\n",
    "\n",
    "\n",
    "class DictOutputTransform:\n",
    "    def __init__(self, key, index=0):\n",
    "        self.key = key\n",
    "        self.index = index\n",
    "\n",
    "    def __call__(self, x):\n",
    "        if self.index >= 0:\n",
    "            x = x[self.index]\n",
    "        return x[self.key]\n",
    "\n",
    "\n",
    "def create_trainer(classifier, optimizer, device):\n",
    "    classifier.to(device)    \n",
    "    def update_fn(engine, batch):\n",
    "        classifier.train()\n",
    "        optimizer.zero_grad()\n",
    "\n",
    "        # batch = [elem.to(device) for elem in batch]\n",
    "        x, y = [elem.to(device) for elem in batch]\n",
    "        x = x.float()\n",
    "        \n",
    "#         # mixup\n",
    "#         data, targets = mixup(x, y[:,0], y[:,1], y[:,2], 0.4)\n",
    "#         #print(data.shape)\n",
    "#         print(len(targets))\n",
    "#         print(targets[0].shape)\n",
    "#         print(y.shape)\n",
    "        \n",
    "#         print(targets)\n",
    "#         print(y)\n",
    "\n",
    "        \n",
    "        loss, metrics, pred_y = classifier(x, y)\n",
    "        \n",
    "#         print(pred_y.shape)\n",
    "#         print(pred_y)\n",
    "#         print(\"---------------\")\n",
    "        \n",
    "        loss.backward()\n",
    "        optimizer.step()\n",
    "        return metrics, pred_y, y\n",
    "    \n",
    "    \n",
    "    trainer = Engine(update_fn)\n",
    "    \n",
    "    for key in classifier.metrics_keys:\n",
    "        Average(output_transform=DictOutputTransform(key)).attach(trainer, key)\n",
    "        \n",
    "    return trainer\n",
    "\n",
    "\n",
    "def create_evaluator(classifier, device):\n",
    "    classifier.to(device)\n",
    "    def update_fn(engine, batch):\n",
    "        classifier.eval()\n",
    "        with torch.no_grad():\n",
    "            # batch = [elem.to(device) for elem in batch]\n",
    "            x, y = [elem.to(device) for elem in batch]\n",
    "            x = x.float()\n",
    "            _, metrics, pred_y = classifier.forward_val(x, y)\n",
    "            return metrics, pred_y, y\n",
    "    evaluator = Engine(update_fn)\n",
    "    for key in classifier.metrics_keys:\n",
    "        Average(output_transform=DictOutputTransform(key)).attach(evaluator, key)\n",
    "    return evaluator\n",
    "\n",
    "\n",
    "class LogReport:\n",
    "    def __init__(self, evaluator=None, dirpath=None, logger=None):\n",
    "        self.evaluator = evaluator\n",
    "        self.dirpath = str(dirpath) if dirpath is not None else None\n",
    "        self.logger = logger or getLogger(__name__)\n",
    "\n",
    "        self.reported_dict = {}  # To handle additional parameter to monitor\n",
    "        self.history = []\n",
    "        self.start_time = perf_counter()\n",
    "\n",
    "    def report(self, key, value):\n",
    "        self.reported_dict[key] = value\n",
    "\n",
    "    def __call__(self, engine):\n",
    "        elapsed_time = perf_counter() - self.start_time\n",
    "        elem = {'epoch': engine.state.epoch,\n",
    "                'iteration': engine.state.iteration}\n",
    "        elem.update({f'train/{key}': value\n",
    "                     for key, value in engine.state.metrics.items()})\n",
    "        if self.evaluator is not None:\n",
    "            elem.update({f'valid/{key}': value\n",
    "                         for key, value in self.evaluator.state.metrics.items()})\n",
    "        elem.update(self.reported_dict)\n",
    "        elem['elapsed_time'] = elapsed_time\n",
    "        self.history.append(elem)\n",
    "        if self.dirpath:\n",
    "            save_json(os.path.join(self.dirpath, 'log.json'), self.history)\n",
    "            self.get_dataframe().to_csv(os.path.join(self.dirpath, 'log.csv'), index=False)\n",
    "\n",
    "        # --- print ---\n",
    "        msg = ''\n",
    "        for key, value in elem.items():\n",
    "            if key in ['iteration']:\n",
    "                # skip printing some parameters...\n",
    "                continue\n",
    "            elif isinstance(value, int):\n",
    "                msg += f'{key} {value: >6d} '\n",
    "            else:\n",
    "                msg += f'{key} {value: 8f} '\n",
    "#         self.logger.warning(msg)\n",
    "        print(msg)\n",
    "\n",
    "        # --- Reset ---\n",
    "        self.reported_dict = {}\n",
    "\n",
    "    def get_dataframe(self):\n",
    "        df = pd.DataFrame(self.history)\n",
    "        return df\n",
    "\n",
    "\n",
    "class SpeedCheckHandler:\n",
    "    def __init__(self, iteration_interval=10, logger=None):\n",
    "        self.iteration_interval = iteration_interval\n",
    "        self.logger = logger or getLogger(__name__)\n",
    "        self.prev_time = perf_counter()\n",
    "\n",
    "    def __call__(self, engine: Engine):\n",
    "        if engine.state.iteration % self.iteration_interval == 0:\n",
    "            cur_time = perf_counter()\n",
    "            spd = self.iteration_interval / (cur_time - self.prev_time)\n",
    "            self.logger.warning(f'{spd} iter/sec')\n",
    "            # reset\n",
    "            self.prev_time = cur_time\n",
    "\n",
    "    def attach(self, engine: Engine):\n",
    "        engine.add_event_handler(Events.ITERATION_COMPLETED, self)\n",
    "\n",
    "\n",
    "class ModelSnapshotHandler:\n",
    "    def __init__(self, model, filepath=r'./save/model_{count:06}.pt',\n",
    "                 interval=10, logger=None):\n",
    "        self.model = model\n",
    "        self.filepath: str = str(filepath)\n",
    "        self.interval = interval\n",
    "        self.logger = logger or getLogger(__name__)\n",
    "        self.count = 0\n",
    "\n",
    "    def __call__(self, engine: Engine):\n",
    "        self.count += 1\n",
    "        if self.count % self.interval == 0:\n",
    "            filepath = self.filepath.format(count=self.count)\n",
    "            torch.save(self.model.state_dict(), filepath)\n",
    "            # self.logger.warning(f'save model to {filepath}...')\n",
    "\n",
    "\n",
    "import warnings\n",
    "\n",
    "import torch\n",
    "\n",
    "from ignite.metrics.metric import Metric\n",
    "\n",
    "\n",
    "class EpochMetric(Metric):\n",
    "    \"\"\"Class for metrics that should be computed on the entire output history of a model.\n",
    "    Model's output and targets are restricted to be of shape `(batch_size, n_classes)`. Output\n",
    "    datatype should be `float32`. Target datatype should be `long`.\n",
    "\n",
    "    .. warning::\n",
    "\n",
    "        Current implementation stores all input data (output and target) in as tensors before computing a metric.\n",
    "        This can potentially lead to a memory error if the input data is larger than available RAM.\n",
    "\n",
    "\n",
    "    - `update` must receive output of the form `(y_pred, y)`.\n",
    "\n",
    "    If target shape is `(batch_size, n_classes)` and `n_classes > 1` than it should be binary: e.g. `[[0, 1, 0, 1], ]`.\n",
    "\n",
    "    Args:\n",
    "        compute_fn (callable): a callable with the signature (`torch.tensor`, `torch.tensor`) takes as the input\n",
    "            `predictions` and `targets` and returns a scalar.\n",
    "        output_transform (callable, optional): a callable that is used to transform the\n",
    "            :class:`~ignite.engine.Engine`'s `process_function`'s output into the\n",
    "            form expected by the metric. This can be useful if, for example, you have a multi-output model and\n",
    "            you want to compute the metric with respect to one of the outputs.\n",
    "\n",
    "    \"\"\"\n",
    "\n",
    "    def __init__(self, compute_fn, output_transform=lambda x: x):\n",
    "\n",
    "        if not callable(compute_fn):\n",
    "            raise TypeError(\"Argument compute_fn should be callable.\")\n",
    "\n",
    "        super(EpochMetric, self).__init__(output_transform=output_transform)\n",
    "        self.compute_fn = compute_fn\n",
    "\n",
    "    def reset(self):\n",
    "        self._predictions = torch.tensor([], dtype=torch.float)\n",
    "        self._targets = torch.tensor([], dtype=torch.long)\n",
    "\n",
    "    def update(self, output):\n",
    "        y_pred, y = output\n",
    "        self._predictions = torch.cat([self._predictions, y_pred], dim=0)\n",
    "        self._targets = torch.cat([self._targets, y], dim=0)\n",
    "\n",
    "        # Check once the signature and execution of compute_fn\n",
    "        if self._predictions.shape == y_pred.shape:\n",
    "            try:\n",
    "                self.compute_fn(self._predictions, self._targets)\n",
    "            except Exception as e:\n",
    "                warnings.warn(\"Probably, there can be a problem with `compute_fn`:\\n {}.\".format(e),\n",
    "                              RuntimeWarning)\n",
    "\n",
    "    def compute(self):\n",
    "        return self.compute_fn(self._predictions, self._targets)\n",
    "\n",
    "\n",
    "import numpy as np\n",
    "import sklearn.metrics\n",
    "import torch\n",
    "\n",
    "\n",
    "def macro_recall(pred_y, y, n_grapheme=168, n_vowel=11, n_consonant=7):\n",
    "    pred_y = torch.split(pred_y, [n_grapheme, n_vowel, n_consonant], dim=1)\n",
    "    pred_labels = [torch.argmax(py, dim=1).cpu().numpy() for py in pred_y]\n",
    "\n",
    "    y = y.cpu().numpy()\n",
    "    # pred_y = [p.cpu().numpy() for p in pred_y]\n",
    "\n",
    "    recall_grapheme = sklearn.metrics.recall_score(pred_labels[0], y[:, 0], average='macro')\n",
    "    recall_vowel = sklearn.metrics.recall_score(pred_labels[1], y[:, 1], average='macro')\n",
    "    recall_consonant = sklearn.metrics.recall_score(pred_labels[2], y[:, 2], average='macro')\n",
    "    scores = [recall_grapheme, recall_vowel, recall_consonant]\n",
    "    final_score = np.average(scores, weights=[2, 1, 1])\n",
    "    # print(f'recall: grapheme {recall_grapheme}, vowel {recall_vowel}, consonant {recall_consonant}, '\n",
    "    #       f'total {final_score}, y {y.shape}')\n",
    "    return final_score\n",
    "\n",
    "\n",
    "def calc_macro_recall(solution, submission):\n",
    "    # solution df, submission df\n",
    "    scores = []\n",
    "    for component in ['grapheme_root', 'consonant_diacritic', 'vowel_diacritic']:\n",
    "        y_true_subset = solution[solution[component] == component]['target'].values\n",
    "        y_pred_subset = submission[submission[component] == component]['target'].values\n",
    "        scores.append(sklearn.metrics.recall_score(\n",
    "            y_true_subset, y_pred_subset, average='macro'))\n",
    "    final_score = np.average(scores, weights=[2, 1, 1])\n",
    "    return final_score\n"
   ]
  },
  {
   "cell_type": "code",
   "execution_count": null,
   "metadata": {},
   "outputs": [],
   "source": []
  },
  {
   "cell_type": "code",
   "execution_count": 34,
   "metadata": {},
   "outputs": [],
   "source": [
    "# def create_trainer(classifier, optimizer, device):\n",
    "#     classifier.to(device)    \n",
    "#     def update_fn(engine, batch):\n",
    "#         classifier.train()\n",
    "#         optimizer.zero_grad()\n",
    "\n",
    "#         # batch = [elem.to(device) for elem in batch]\n",
    "#         x, y = [elem.to(device) for elem in batch]        \n",
    "#         x = x.float()\n",
    "        \n",
    "#         print(x.shape)\n",
    "#         print(y.shape)\n",
    "        \n",
    "#         loss, metrics, pred_y = classifier(x, y)"
   ]
  },
  {
   "cell_type": "code",
   "execution_count": 35,
   "metadata": {
    "_kg_hide-output": true,
    "scrolled": false
   },
   "outputs": [
    {
     "name": "stderr",
     "output_type": "stream",
     "text": [
      "/home/dohee/anaconda3/envs/Bengali/lib/python3.6/site-packages/ignite/contrib/handlers/tqdm_logger.py:97: TqdmExperimentalWarning:\n",
      "\n",
      "Using `tqdm.autonotebook.tqdm` in notebook mode. Use `tqdm.tqdm` instead to force console mode (e.g. in jupyter console)\n",
      "\n"
     ]
    },
    {
     "data": {
      "text/plain": [
       "<ignite.engine.engine.RemovableEventHandle at 0x7fc5c43a8a90>"
      ]
     },
     "execution_count": 35,
     "metadata": {},
     "output_type": "execute_result"
    }
   ],
   "source": [
    "import argparse\n",
    "from distutils.util import strtobool\n",
    "import os\n",
    "\n",
    "import torch\n",
    "from ignite.contrib.handlers import ProgressBar\n",
    "from ignite.engine import Events\n",
    "from numpy.random.mtrand import RandomState\n",
    "from torch.utils.data.dataloader import DataLoader\n",
    "\n",
    "# --- Training setting ---\n",
    "\n",
    "train_loader = DataLoader(train_dataset, batch_size=batch_size, shuffle=True)\n",
    "valid_loader = DataLoader(valid_dataset, batch_size=batch_size, shuffle=False)\n",
    "\n",
    "optimizer = torch.optim.Adam(classifier.parameters(), lr=0.001)\n",
    "scheduler = torch.optim.lr_scheduler.ReduceLROnPlateau(\n",
    "    optimizer, mode='min', factor=0.7, patience=5, min_lr=1e-10)\n",
    "\n",
    "trainer = create_trainer(classifier, optimizer, device)\n",
    "def output_transform(output):\n",
    "    metric, pred_y, y = output\n",
    "    return pred_y.cpu(), y.cpu()\n",
    "EpochMetric(\n",
    "    compute_fn=macro_recall,\n",
    "    output_transform=output_transform\n",
    ").attach(trainer, 'recall')\n",
    "\n",
    "pbar = ProgressBar()\n",
    "pbar.attach(trainer, metric_names='all')\n",
    "\n",
    "evaluator = create_evaluator(classifier, device)\n",
    "EpochMetric(\n",
    "    compute_fn=macro_recall,\n",
    "    output_transform=output_transform\n",
    ").attach(evaluator, 'recall')\n",
    "\n",
    "def run_evaluator(engine):\n",
    "    evaluator.run(valid_loader)\n",
    "\n",
    "def schedule_lr(engine):\n",
    "    # metrics = evaluator.state.metrics\n",
    "    metrics = engine.state.metrics\n",
    "    avg_mae = metrics['loss']\n",
    "\n",
    "    # --- update lr ---\n",
    "    lr = scheduler.optimizer.param_groups[0]['lr']\n",
    "    scheduler.step(avg_mae)\n",
    "    log_report.report('lr', lr)\n",
    "\n",
    "trainer.add_event_handler(Events.EPOCH_COMPLETED, run_evaluator)\n",
    "trainer.add_event_handler(Events.EPOCH_COMPLETED, schedule_lr)\n",
    "log_report = LogReport(evaluator, outdir)\n",
    "trainer.add_event_handler(Events.EPOCH_COMPLETED, log_report)\n",
    "trainer.add_event_handler(\n",
    "    Events.EPOCH_COMPLETED,\n",
    "    ModelSnapshotHandler(predictor))"
   ]
  },
  {
   "cell_type": "code",
   "execution_count": 36,
   "metadata": {},
   "outputs": [
    {
     "name": "stderr",
     "output_type": "stream",
     "text": [
      "/home/dohee/anaconda3/envs/CenterNet/lib/python3.6/site-packages/sklearn/metrics/_classification.py:1268: UndefinedMetricWarning:\n",
      "\n",
      "Recall is ill-defined and being set to 0.0 in labels with no true samples. Use `zero_division` parameter to control this behavior.\n",
      "\n"
     ]
    },
    {
     "data": {
      "application/vnd.jupyter.widget-view+json": {
       "model_id": "",
       "version_major": 2,
       "version_minor": 0
      },
      "text/plain": [
       "HBox(children=(FloatProgress(value=0.0, max=1413.0), HTML(value='')))"
      ]
     },
     "metadata": {},
     "output_type": "display_data"
    },
    {
     "name": "stdout",
     "output_type": "stream",
     "text": [
      "epoch      1 train/loss  4.671670 train/loss_grapheme  2.638109 train/loss_vowel  1.069856 train/loss_consonant  0.963705 train/acc_grapheme  0.423545 train/acc_vowel  0.672610 train/acc_consonant  0.748634 train/recall  0.523956 valid/loss  1.262134 valid/loss_grapheme  0.644731 valid/loss_vowel  0.280731 valid/loss_consonant  0.336672 valid/acc_grapheme  0.867956 valid/acc_vowel  0.960021 valid/acc_consonant  0.960220 valid/recall  0.921312 lr  0.001000 elapsed_time  650.959550 \n"
     ]
    },
    {
     "data": {
      "application/vnd.jupyter.widget-view+json": {
       "model_id": "",
       "version_major": 2,
       "version_minor": 0
      },
      "text/plain": [
       "HBox(children=(FloatProgress(value=0.0, max=1413.0), HTML(value='')))"
      ]
     },
     "metadata": {},
     "output_type": "display_data"
    },
    {
     "name": "stdout",
     "output_type": "stream",
     "text": [
      "epoch      2 train/loss  2.926775 train/loss_grapheme  1.649959 train/loss_vowel  0.744014 train/loss_consonant  0.532802 train/acc_grapheme  0.585168 train/acc_vowel  0.730148 train/acc_consonant  0.815468 train/recall  0.661643 valid/loss  0.934378 valid/loss_grapheme  0.484053 valid/loss_vowel  0.232408 valid/loss_consonant  0.217917 valid/acc_grapheme  0.897425 valid/acc_vowel  0.967491 valid/acc_consonant  0.962460 valid/recall  0.927836 lr  0.001000 elapsed_time  1298.014252 \n"
     ]
    },
    {
     "data": {
      "application/vnd.jupyter.widget-view+json": {
       "model_id": "",
       "version_major": 2,
       "version_minor": 0
      },
      "text/plain": [
       "HBox(children=(FloatProgress(value=0.0, max=1413.0), HTML(value='')))"
      ]
     },
     "metadata": {},
     "output_type": "display_data"
    },
    {
     "name": "stdout",
     "output_type": "stream",
     "text": [
      "epoch      3 train/loss  2.655113 train/loss_grapheme  1.511975 train/loss_vowel  0.686645 train/loss_consonant  0.456494 train/acc_grapheme  0.587860 train/acc_vowel  0.721280 train/acc_consonant  0.809867 train/recall  0.663019 valid/loss  0.746944 valid/loss_grapheme  0.399016 valid/loss_vowel  0.184279 valid/loss_consonant  0.163649 valid/acc_grapheme  0.921103 valid/acc_vowel  0.975353 valid/acc_consonant  0.973014 valid/recall  0.945798 lr  0.001000 elapsed_time  1939.977439 \n"
     ]
    },
    {
     "data": {
      "application/vnd.jupyter.widget-view+json": {
       "model_id": "",
       "version_major": 2,
       "version_minor": 0
      },
      "text/plain": [
       "HBox(children=(FloatProgress(value=0.0, max=1413.0), HTML(value='')))"
      ]
     },
     "metadata": {},
     "output_type": "display_data"
    },
    {
     "name": "stdout",
     "output_type": "stream",
     "text": [
      "epoch      4 train/loss  2.424898 train/loss_grapheme  1.388454 train/loss_vowel  0.626581 train/loss_consonant  0.409863 train/acc_grapheme  0.601391 train/acc_vowel  0.725770 train/acc_consonant  0.814242 train/recall  0.673172 valid/loss  0.694124 valid/loss_grapheme  0.340046 valid/loss_vowel  0.198559 valid/loss_consonant  0.155519 valid/acc_grapheme  0.931050 valid/acc_vowel  0.979443 valid/acc_consonant  0.976641 valid/recall  0.951494 lr  0.001000 elapsed_time  2582.197956 \n"
     ]
    },
    {
     "data": {
      "application/vnd.jupyter.widget-view+json": {
       "model_id": "",
       "version_major": 2,
       "version_minor": 0
      },
      "text/plain": [
       "HBox(children=(FloatProgress(value=0.0, max=1413.0), HTML(value='')))"
      ]
     },
     "metadata": {},
     "output_type": "display_data"
    },
    {
     "name": "stdout",
     "output_type": "stream",
     "text": [
      "epoch      5 train/loss  2.243293 train/loss_grapheme  1.288030 train/loss_vowel  0.579210 train/loss_consonant  0.376053 train/acc_grapheme  0.610275 train/acc_vowel  0.727484 train/acc_consonant  0.817106 train/recall  0.677910 valid/loss  0.572116 valid/loss_grapheme  0.307053 valid/loss_vowel  0.140694 valid/loss_consonant  0.124369 valid/acc_grapheme  0.934538 valid/acc_vowel  0.979975 valid/acc_consonant  0.977946 valid/recall  0.951515 lr  0.001000 elapsed_time  3223.222588 \n"
     ]
    },
    {
     "data": {
      "application/vnd.jupyter.widget-view+json": {
       "model_id": "",
       "version_major": 2,
       "version_minor": 0
      },
      "text/plain": [
       "HBox(children=(FloatProgress(value=0.0, max=1413.0), HTML(value='')))"
      ]
     },
     "metadata": {},
     "output_type": "display_data"
    },
    {
     "name": "stdout",
     "output_type": "stream",
     "text": [
      "epoch      6 train/loss  2.188041 train/loss_grapheme  1.252025 train/loss_vowel  0.566055 train/loss_consonant  0.369961 train/acc_grapheme  0.620498 train/acc_vowel  0.732598 train/acc_consonant  0.817249 train/recall  0.686250 valid/loss  0.482187 valid/loss_grapheme  0.286841 valid/loss_vowel  0.102381 valid/loss_consonant  0.092964 valid/acc_grapheme  0.929288 valid/acc_vowel  0.982966 valid/acc_consonant  0.981782 valid/recall  0.947820 lr  0.001000 elapsed_time  3864.719816 \n"
     ]
    },
    {
     "data": {
      "application/vnd.jupyter.widget-view+json": {
       "model_id": "",
       "version_major": 2,
       "version_minor": 0
      },
      "text/plain": [
       "HBox(children=(FloatProgress(value=0.0, max=1413.0), HTML(value='')))"
      ]
     },
     "metadata": {},
     "output_type": "display_data"
    },
    {
     "name": "stdout",
     "output_type": "stream",
     "text": [
      "epoch      7 train/loss  2.046102 train/loss_grapheme  1.165719 train/loss_vowel  0.532942 train/loss_consonant  0.347441 train/acc_grapheme  0.642720 train/acc_vowel  0.744751 train/acc_consonant  0.824195 train/recall  0.701229 valid/loss  0.406848 valid/loss_grapheme  0.219782 valid/loss_vowel  0.097011 valid/loss_consonant  0.090055 valid/acc_grapheme  0.949223 valid/acc_vowel  0.986515 valid/acc_consonant  0.983673 valid/recall  0.964613 lr  0.001000 elapsed_time  4508.589171 \n"
     ]
    },
    {
     "data": {
      "application/vnd.jupyter.widget-view+json": {
       "model_id": "",
       "version_major": 2,
       "version_minor": 0
      },
      "text/plain": [
       "HBox(children=(FloatProgress(value=0.0, max=1413.0), HTML(value='')))"
      ]
     },
     "metadata": {},
     "output_type": "display_data"
    },
    {
     "name": "stdout",
     "output_type": "stream",
     "text": [
      "epoch      8 train/loss  1.985176 train/loss_grapheme  1.133723 train/loss_vowel  0.515968 train/loss_consonant  0.335484 train/acc_grapheme  0.643347 train/acc_vowel  0.745298 train/acc_consonant  0.829481 train/recall  0.703822 valid/loss  0.462735 valid/loss_grapheme  0.235115 valid/loss_vowel  0.127177 valid/loss_consonant  0.100442 valid/acc_grapheme  0.946546 valid/acc_vowel  0.985470 valid/acc_consonant  0.985420 valid/recall  0.962649 lr  0.001000 elapsed_time  5151.531574 \n"
     ]
    },
    {
     "data": {
      "application/vnd.jupyter.widget-view+json": {
       "model_id": "",
       "version_major": 2,
       "version_minor": 0
      },
      "text/plain": [
       "HBox(children=(FloatProgress(value=0.0, max=1413.0), HTML(value='')))"
      ]
     },
     "metadata": {},
     "output_type": "display_data"
    },
    {
     "name": "stdout",
     "output_type": "stream",
     "text": [
      "epoch      9 train/loss  2.035300 train/loss_grapheme  1.158127 train/loss_vowel  0.530247 train/loss_consonant  0.346926 train/acc_grapheme  0.638670 train/acc_vowel  0.742640 train/acc_consonant  0.826655 train/recall  0.699102 valid/loss  0.538897 valid/loss_grapheme  0.265293 valid/loss_vowel  0.153436 valid/loss_consonant  0.120168 valid/acc_grapheme  0.951473 valid/acc_vowel  0.986510 valid/acc_consonant  0.985166 valid/recall  0.968542 lr  0.001000 elapsed_time  5793.384992 \n"
     ]
    },
    {
     "data": {
      "application/vnd.jupyter.widget-view+json": {
       "model_id": "",
       "version_major": 2,
       "version_minor": 0
      },
      "text/plain": [
       "HBox(children=(FloatProgress(value=0.0, max=1413.0), HTML(value='')))"
      ]
     },
     "metadata": {},
     "output_type": "display_data"
    },
    {
     "name": "stdout",
     "output_type": "stream",
     "text": [
      "epoch     10 train/loss  1.911335 train/loss_grapheme  1.083845 train/loss_vowel  0.500265 train/loss_consonant  0.327225 train/acc_grapheme  0.641692 train/acc_vowel  0.739802 train/acc_consonant  0.823466 train/recall  0.696783 valid/loss  0.449071 valid/loss_grapheme  0.246180 valid/loss_vowel  0.112313 valid/loss_consonant  0.090579 valid/acc_grapheme  0.949925 valid/acc_vowel  0.986012 valid/acc_consonant  0.985310 valid/recall  0.965161 lr  0.001000 elapsed_time  6435.973784 \n"
     ]
    },
    {
     "data": {
      "application/vnd.jupyter.widget-view+json": {
       "model_id": "",
       "version_major": 2,
       "version_minor": 0
      },
      "text/plain": [
       "HBox(children=(FloatProgress(value=0.0, max=1413.0), HTML(value='')))"
      ]
     },
     "metadata": {},
     "output_type": "display_data"
    },
    {
     "name": "stdout",
     "output_type": "stream",
     "text": [
      "epoch     11 train/loss  1.876971 train/loss_grapheme  1.060710 train/loss_vowel  0.493614 train/loss_consonant  0.322648 train/acc_grapheme  0.666505 train/acc_vowel  0.761117 train/acc_consonant  0.837147 train/recall  0.722069 valid/loss  0.343433 valid/loss_grapheme  0.195133 valid/loss_vowel  0.077467 valid/loss_consonant  0.070833 valid/acc_grapheme  0.950810 valid/acc_vowel  0.987062 valid/acc_consonant  0.985315 valid/recall  0.964731 lr  0.001000 elapsed_time  7078.522529 \n"
     ]
    },
    {
     "data": {
      "application/vnd.jupyter.widget-view+json": {
       "model_id": "",
       "version_major": 2,
       "version_minor": 0
      },
      "text/plain": [
       "HBox(children=(FloatProgress(value=0.0, max=1413.0), HTML(value='')))"
      ]
     },
     "metadata": {},
     "output_type": "display_data"
    },
    {
     "name": "stdout",
     "output_type": "stream",
     "text": [
      "epoch     12 train/loss  1.829586 train/loss_grapheme  1.032908 train/loss_vowel  0.481109 train/loss_consonant  0.315570 train/acc_grapheme  0.665634 train/acc_vowel  0.756530 train/acc_consonant  0.836447 train/recall  0.719843 valid/loss  0.422136 valid/loss_grapheme  0.222618 valid/loss_vowel  0.107890 valid/loss_consonant  0.091628 valid/acc_grapheme  0.950084 valid/acc_vowel  0.987306 valid/acc_consonant  0.985813 valid/recall  0.964503 lr  0.001000 elapsed_time  7720.847232 \n"
     ]
    },
    {
     "data": {
      "application/vnd.jupyter.widget-view+json": {
       "model_id": "",
       "version_major": 2,
       "version_minor": 0
      },
      "text/plain": [
       "HBox(children=(FloatProgress(value=0.0, max=1413.0), HTML(value='')))"
      ]
     },
     "metadata": {},
     "output_type": "display_data"
    },
    {
     "name": "stdout",
     "output_type": "stream",
     "text": [
      "epoch     13 train/loss  1.813646 train/loss_grapheme  1.020994 train/loss_vowel  0.479317 train/loss_consonant  0.313335 train/acc_grapheme  0.669093 train/acc_vowel  0.758078 train/acc_consonant  0.836193 train/recall  0.720005 valid/loss  0.290556 valid/loss_grapheme  0.168089 valid/loss_vowel  0.061410 valid/loss_consonant  0.061057 valid/acc_grapheme  0.955249 valid/acc_vowel  0.987460 valid/acc_consonant  0.986062 valid/recall  0.965669 lr  0.001000 elapsed_time  8361.490632 \n"
     ]
    },
    {
     "data": {
      "application/vnd.jupyter.widget-view+json": {
       "model_id": "",
       "version_major": 2,
       "version_minor": 0
      },
      "text/plain": [
       "HBox(children=(FloatProgress(value=0.0, max=1413.0), HTML(value='')))"
      ]
     },
     "metadata": {},
     "output_type": "display_data"
    },
    {
     "name": "stdout",
     "output_type": "stream",
     "text": [
      "epoch     14 train/loss  1.820120 train/loss_grapheme  1.025022 train/loss_vowel  0.480275 train/loss_consonant  0.314824 train/acc_grapheme  0.670415 train/acc_vowel  0.762319 train/acc_consonant  0.839028 train/recall  0.723672 valid/loss  0.344239 valid/loss_grapheme  0.186665 valid/loss_vowel  0.082947 valid/loss_consonant  0.074627 valid/acc_grapheme  0.954807 valid/acc_vowel  0.988401 valid/acc_consonant  0.987410 valid/recall  0.968753 lr  0.001000 elapsed_time  9003.426706 \n"
     ]
    },
    {
     "data": {
      "application/vnd.jupyter.widget-view+json": {
       "model_id": "",
       "version_major": 2,
       "version_minor": 0
      },
      "text/plain": [
       "HBox(children=(FloatProgress(value=0.0, max=1413.0), HTML(value='')))"
      ]
     },
     "metadata": {},
     "output_type": "display_data"
    },
    {
     "name": "stdout",
     "output_type": "stream",
     "text": [
      "epoch     15 train/loss  1.837541 train/loss_grapheme  1.032161 train/loss_vowel  0.486494 train/loss_consonant  0.318886 train/acc_grapheme  0.656383 train/acc_vowel  0.750265 train/acc_consonant  0.829383 train/recall  0.710768 valid/loss  0.342226 valid/loss_grapheme  0.184667 valid/loss_vowel  0.085417 valid/loss_consonant  0.072142 valid/acc_grapheme  0.957981 valid/acc_vowel  0.988704 valid/acc_consonant  0.986465 valid/recall  0.967837 lr  0.001000 elapsed_time  9644.969633 \n"
     ]
    },
    {
     "data": {
      "application/vnd.jupyter.widget-view+json": {
       "model_id": "",
       "version_major": 2,
       "version_minor": 0
      },
      "text/plain": [
       "HBox(children=(FloatProgress(value=0.0, max=1413.0), HTML(value='')))"
      ]
     },
     "metadata": {},
     "output_type": "display_data"
    },
    {
     "name": "stdout",
     "output_type": "stream",
     "text": [
      "epoch     16 train/loss  1.766592 train/loss_grapheme  0.990244 train/loss_vowel  0.467914 train/loss_consonant  0.308434 train/acc_grapheme  0.660651 train/acc_vowel  0.752439 train/acc_consonant  0.832421 train/recall  0.711086 valid/loss  0.382802 valid/loss_grapheme  0.200180 valid/loss_vowel  0.100568 valid/loss_consonant  0.082054 valid/acc_grapheme  0.956399 valid/acc_vowel  0.989445 valid/acc_consonant  0.986908 valid/recall  0.969141 lr  0.001000 elapsed_time  10286.250602 \n"
     ]
    },
    {
     "data": {
      "application/vnd.jupyter.widget-view+json": {
       "model_id": "",
       "version_major": 2,
       "version_minor": 0
      },
      "text/plain": [
       "HBox(children=(FloatProgress(value=0.0, max=1413.0), HTML(value='')))"
      ]
     },
     "metadata": {},
     "output_type": "display_data"
    },
    {
     "name": "stdout",
     "output_type": "stream",
     "text": [
      "epoch     17 train/loss  1.805902 train/loss_grapheme  1.012772 train/loss_vowel  0.478591 train/loss_consonant  0.314539 train/acc_grapheme  0.679605 train/acc_vowel  0.771188 train/acc_consonant  0.842559 train/recall  0.731646 valid/loss  0.309390 valid/loss_grapheme  0.173799 valid/loss_vowel  0.071905 valid/loss_consonant  0.063687 valid/acc_grapheme  0.956897 valid/acc_vowel  0.989351 valid/acc_consonant  0.987405 valid/recall  0.968354 lr  0.001000 elapsed_time  10927.751860 \n"
     ]
    },
    {
     "data": {
      "application/vnd.jupyter.widget-view+json": {
       "model_id": "",
       "version_major": 2,
       "version_minor": 0
      },
      "text/plain": [
       "HBox(children=(FloatProgress(value=0.0, max=1413.0), HTML(value='')))"
      ]
     },
     "metadata": {},
     "output_type": "display_data"
    },
    {
     "name": "stdout",
     "output_type": "stream",
     "text": [
      "epoch     18 train/loss  1.775317 train/loss_grapheme  0.991862 train/loss_vowel  0.473493 train/loss_consonant  0.309963 train/acc_grapheme  0.672628 train/acc_vowel  0.761557 train/acc_consonant  0.837810 train/recall  0.721876 valid/loss  0.359138 valid/loss_grapheme  0.190418 valid/loss_vowel  0.090247 valid/loss_consonant  0.078473 valid/acc_grapheme  0.957384 valid/acc_vowel  0.989102 valid/acc_consonant  0.987062 valid/recall  0.968751 lr  0.001000 elapsed_time  11569.409298 \n"
     ]
    },
    {
     "data": {
      "application/vnd.jupyter.widget-view+json": {
       "model_id": "",
       "version_major": 2,
       "version_minor": 0
      },
      "text/plain": [
       "HBox(children=(FloatProgress(value=0.0, max=1413.0), HTML(value='')))"
      ]
     },
     "metadata": {},
     "output_type": "display_data"
    },
    {
     "name": "stdout",
     "output_type": "stream",
     "text": [
      "epoch     19 train/loss  1.711653 train/loss_grapheme  0.954743 train/loss_vowel  0.456261 train/loss_consonant  0.300649 train/acc_grapheme  0.686326 train/acc_vowel  0.772812 train/acc_consonant  0.845146 train/recall  0.734786 valid/loss  0.329940 valid/loss_grapheme  0.175248 valid/loss_vowel  0.082549 valid/loss_consonant  0.072143 valid/acc_grapheme  0.955985 valid/acc_vowel  0.988799 valid/acc_consonant  0.988057 valid/recall  0.970633 lr  0.001000 elapsed_time  12210.656016 \n"
     ]
    },
    {
     "data": {
      "application/vnd.jupyter.widget-view+json": {
       "model_id": "",
       "version_major": 2,
       "version_minor": 0
      },
      "text/plain": [
       "HBox(children=(FloatProgress(value=0.0, max=1413.0), HTML(value='')))"
      ]
     },
     "metadata": {},
     "output_type": "display_data"
    },
    {
     "name": "stdout",
     "output_type": "stream",
     "text": [
      "epoch     20 train/loss  1.686913 train/loss_grapheme  0.937919 train/loss_vowel  0.451487 train/loss_consonant  0.297507 train/acc_grapheme  0.657334 train/acc_vowel  0.746658 train/acc_consonant  0.829571 train/recall  0.706063 valid/loss  0.365874 valid/loss_grapheme  0.189703 valid/loss_vowel  0.099525 valid/loss_consonant  0.076646 valid/acc_grapheme  0.958494 valid/acc_vowel  0.988455 valid/acc_consonant  0.986714 valid/recall  0.970389 lr  0.001000 elapsed_time  12850.884833 \n"
     ]
    },
    {
     "data": {
      "application/vnd.jupyter.widget-view+json": {
       "model_id": "",
       "version_major": 2,
       "version_minor": 0
      },
      "text/plain": [
       "HBox(children=(FloatProgress(value=0.0, max=1413.0), HTML(value='')))"
      ]
     },
     "metadata": {},
     "output_type": "display_data"
    },
    {
     "name": "stdout",
     "output_type": "stream",
     "text": [
      "epoch     21 train/loss  1.704702 train/loss_grapheme  0.946612 train/loss_vowel  0.458466 train/loss_consonant  0.299623 train/acc_grapheme  0.665894 train/acc_vowel  0.752523 train/acc_consonant  0.832658 train/recall  0.714292 valid/loss  0.336906 valid/loss_grapheme  0.172871 valid/loss_vowel  0.092999 valid/loss_consonant  0.071037 valid/acc_grapheme  0.958987 valid/acc_vowel  0.989749 valid/acc_consonant  0.988008 valid/recall  0.970656 lr  0.001000 elapsed_time  13492.300214 \n"
     ]
    },
    {
     "data": {
      "application/vnd.jupyter.widget-view+json": {
       "model_id": "",
       "version_major": 2,
       "version_minor": 0
      },
      "text/plain": [
       "HBox(children=(FloatProgress(value=0.0, max=1413.0), HTML(value='')))"
      ]
     },
     "metadata": {},
     "output_type": "display_data"
    },
    {
     "name": "stdout",
     "output_type": "stream",
     "text": [
      "epoch     22 train/loss  1.718892 train/loss_grapheme  0.954265 train/loss_vowel  0.460467 train/loss_consonant  0.304159 train/acc_grapheme  0.670593 train/acc_vowel  0.761572 train/acc_consonant  0.837052 train/recall  0.721613 valid/loss  0.329190 valid/loss_grapheme  0.176791 valid/loss_vowel  0.084462 valid/loss_consonant  0.067937 valid/acc_grapheme  0.959280 valid/acc_vowel  0.988401 valid/acc_consonant  0.987609 valid/recall  0.970340 lr  0.001000 elapsed_time  14131.730977 \n"
     ]
    },
    {
     "data": {
      "application/vnd.jupyter.widget-view+json": {
       "model_id": "",
       "version_major": 2,
       "version_minor": 0
      },
      "text/plain": [
       "HBox(children=(FloatProgress(value=0.0, max=1413.0), HTML(value='')))"
      ]
     },
     "metadata": {},
     "output_type": "display_data"
    },
    {
     "name": "stdout",
     "output_type": "stream",
     "text": [
      "epoch     23 train/loss  1.680178 train/loss_grapheme  0.931290 train/loss_vowel  0.451206 train/loss_consonant  0.297682 train/acc_grapheme  0.681092 train/acc_vowel  0.767991 train/acc_consonant  0.842301 train/recall  0.728478 valid/loss  0.331574 valid/loss_grapheme  0.175962 valid/loss_vowel  0.085953 valid/loss_consonant  0.069659 valid/acc_grapheme  0.960838 valid/acc_vowel  0.989202 valid/acc_consonant  0.988704 valid/recall  0.972710 lr  0.001000 elapsed_time  14772.851094 \n"
     ]
    },
    {
     "data": {
      "application/vnd.jupyter.widget-view+json": {
       "model_id": "",
       "version_major": 2,
       "version_minor": 0
      },
      "text/plain": [
       "HBox(children=(FloatProgress(value=0.0, max=1413.0), HTML(value='')))"
      ]
     },
     "metadata": {},
     "output_type": "display_data"
    },
    {
     "name": "stdout",
     "output_type": "stream",
     "text": [
      "epoch     24 train/loss  1.596842 train/loss_grapheme  0.883788 train/loss_vowel  0.428681 train/loss_consonant  0.284373 train/acc_grapheme  0.677299 train/acc_vowel  0.761952 train/acc_consonant  0.838813 train/recall  0.724150 valid/loss  0.248081 valid/loss_grapheme  0.147872 valid/loss_vowel  0.049015 valid/loss_consonant  0.051194 valid/acc_grapheme  0.962132 valid/acc_vowel  0.990446 valid/acc_consonant  0.988754 valid/recall  0.972867 lr  0.001000 elapsed_time  15413.585591 \n"
     ]
    },
    {
     "data": {
      "application/vnd.jupyter.widget-view+json": {
       "model_id": "",
       "version_major": 2,
       "version_minor": 0
      },
      "text/plain": [
       "HBox(children=(FloatProgress(value=0.0, max=1413.0), HTML(value='')))"
      ]
     },
     "metadata": {},
     "output_type": "display_data"
    },
    {
     "name": "stdout",
     "output_type": "stream",
     "text": [
      "epoch     25 train/loss  1.657433 train/loss_grapheme  0.918768 train/loss_vowel  0.445537 train/loss_consonant  0.293127 train/acc_grapheme  0.670285 train/acc_vowel  0.758836 train/acc_consonant  0.835868 train/recall  0.720250 valid/loss  0.279646 valid/loss_grapheme  0.155461 valid/loss_vowel  0.064552 valid/loss_consonant  0.059633 valid/acc_grapheme  0.961485 valid/acc_vowel  0.990545 valid/acc_consonant  0.988152 valid/recall  0.971800 lr  0.001000 elapsed_time  16053.362128 \n"
     ]
    },
    {
     "data": {
      "application/vnd.jupyter.widget-view+json": {
       "model_id": "",
       "version_major": 2,
       "version_minor": 0
      },
      "text/plain": [
       "HBox(children=(FloatProgress(value=0.0, max=1413.0), HTML(value='')))"
      ]
     },
     "metadata": {},
     "output_type": "display_data"
    },
    {
     "name": "stdout",
     "output_type": "stream",
     "text": [
      "epoch     26 train/loss  1.637715 train/loss_grapheme  0.904361 train/loss_vowel  0.441458 train/loss_consonant  0.291896 train/acc_grapheme  0.670002 train/acc_vowel  0.756221 train/acc_consonant  0.834743 train/recall  0.718619 valid/loss  0.291183 valid/loss_grapheme  0.160636 valid/loss_vowel  0.067990 valid/loss_consonant  0.062557 valid/acc_grapheme  0.961082 valid/acc_vowel  0.989451 valid/acc_consonant  0.988953 valid/recall  0.972205 lr  0.001000 elapsed_time  16694.296290 \n"
     ]
    },
    {
     "data": {
      "application/vnd.jupyter.widget-view+json": {
       "model_id": "",
       "version_major": 2,
       "version_minor": 0
      },
      "text/plain": [
       "HBox(children=(FloatProgress(value=0.0, max=1413.0), HTML(value='')))"
      ]
     },
     "metadata": {},
     "output_type": "display_data"
    },
    {
     "name": "stdout",
     "output_type": "stream",
     "text": [
      "epoch     27 train/loss  1.682934 train/loss_grapheme  0.926432 train/loss_vowel  0.454728 train/loss_consonant  0.301774 train/acc_grapheme  0.658929 train/acc_vowel  0.746923 train/acc_consonant  0.826734 train/recall  0.708682 valid/loss  0.284144 valid/loss_grapheme  0.155687 valid/loss_vowel  0.068486 valid/loss_consonant  0.059971 valid/acc_grapheme  0.962032 valid/acc_vowel  0.989451 valid/acc_consonant  0.988455 valid/recall  0.971106 lr  0.001000 elapsed_time  17335.161432 \n"
     ]
    },
    {
     "data": {
      "application/vnd.jupyter.widget-view+json": {
       "model_id": "",
       "version_major": 2,
       "version_minor": 0
      },
      "text/plain": [
       "HBox(children=(FloatProgress(value=0.0, max=1413.0), HTML(value='')))"
      ]
     },
     "metadata": {},
     "output_type": "display_data"
    },
    {
     "name": "stdout",
     "output_type": "stream",
     "text": [
      "epoch     28 train/loss  1.633558 train/loss_grapheme  0.902325 train/loss_vowel  0.440984 train/loss_consonant  0.290249 train/acc_grapheme  0.671706 train/acc_vowel  0.761236 train/acc_consonant  0.839084 train/recall  0.721661 valid/loss  0.301820 valid/loss_grapheme  0.162529 valid/loss_vowel  0.073988 valid/loss_consonant  0.065302 valid/acc_grapheme  0.962231 valid/acc_vowel  0.989600 valid/acc_consonant  0.989351 valid/recall  0.973217 lr  0.001000 elapsed_time  17975.529928 \n"
     ]
    },
    {
     "data": {
      "application/vnd.jupyter.widget-view+json": {
       "model_id": "",
       "version_major": 2,
       "version_minor": 0
      },
      "text/plain": [
       "HBox(children=(FloatProgress(value=0.0, max=1413.0), HTML(value='')))"
      ]
     },
     "metadata": {},
     "output_type": "display_data"
    },
    {
     "name": "stdout",
     "output_type": "stream",
     "text": [
      "epoch     29 train/loss  1.577669 train/loss_grapheme  0.867241 train/loss_vowel  0.427170 train/loss_consonant  0.283257 train/acc_grapheme  0.677589 train/acc_vowel  0.761939 train/acc_consonant  0.838135 train/recall  0.726192 valid/loss  0.303541 valid/loss_grapheme  0.164353 valid/loss_vowel  0.074940 valid/loss_consonant  0.064247 valid/acc_grapheme  0.962923 valid/acc_vowel  0.990396 valid/acc_consonant  0.989053 valid/recall  0.973772 lr  0.001000 elapsed_time  18616.212184 \n"
     ]
    },
    {
     "data": {
      "application/vnd.jupyter.widget-view+json": {
       "model_id": "",
       "version_major": 2,
       "version_minor": 0
      },
      "text/plain": [
       "HBox(children=(FloatProgress(value=0.0, max=1413.0), HTML(value='')))"
      ]
     },
     "metadata": {},
     "output_type": "display_data"
    },
    {
     "name": "stdout",
     "output_type": "stream",
     "text": [
      "epoch     30 train/loss  1.564473 train/loss_grapheme  0.859198 train/loss_vowel  0.423497 train/loss_consonant  0.281778 train/acc_grapheme  0.681091 train/acc_vowel  0.764079 train/acc_consonant  0.838566 train/recall  0.724367 valid/loss  0.278377 valid/loss_grapheme  0.156775 valid/loss_vowel  0.065618 valid/loss_consonant  0.055984 valid/acc_grapheme  0.961833 valid/acc_vowel  0.989948 valid/acc_consonant  0.989252 valid/recall  0.971753 lr  0.001000 elapsed_time  19256.472167 \n"
     ]
    },
    {
     "data": {
      "application/vnd.jupyter.widget-view+json": {
       "model_id": "",
       "version_major": 2,
       "version_minor": 0
      },
      "text/plain": [
       "HBox(children=(FloatProgress(value=0.0, max=1413.0), HTML(value='')))"
      ]
     },
     "metadata": {},
     "output_type": "display_data"
    },
    {
     "name": "stdout",
     "output_type": "stream",
     "text": [
      "epoch     31 train/loss  1.691659 train/loss_grapheme  0.929472 train/loss_vowel  0.459395 train/loss_consonant  0.302791 train/acc_grapheme  0.675242 train/acc_vowel  0.765470 train/acc_consonant  0.839354 train/recall  0.725984 valid/loss  0.292703 valid/loss_grapheme  0.158367 valid/loss_vowel  0.069940 valid/loss_consonant  0.064397 valid/acc_grapheme  0.963719 valid/acc_vowel  0.990098 valid/acc_consonant  0.988406 valid/recall  0.974172 lr  0.001000 elapsed_time  19897.413917 \n"
     ]
    },
    {
     "data": {
      "application/vnd.jupyter.widget-view+json": {
       "model_id": "",
       "version_major": 2,
       "version_minor": 0
      },
      "text/plain": [
       "HBox(children=(FloatProgress(value=0.0, max=1413.0), HTML(value='')))"
      ]
     },
     "metadata": {},
     "output_type": "display_data"
    },
    {
     "name": "stdout",
     "output_type": "stream",
     "text": [
      "epoch     32 train/loss  1.641831 train/loss_grapheme  0.900194 train/loss_vowel  0.446715 train/loss_consonant  0.294922 train/acc_grapheme  0.664190 train/acc_vowel  0.752491 train/acc_consonant  0.832811 train/recall  0.710970 valid/loss  0.324915 valid/loss_grapheme  0.164103 valid/loss_vowel  0.089502 valid/loss_consonant  0.071310 valid/acc_grapheme  0.962973 valid/acc_vowel  0.990744 valid/acc_consonant  0.989147 valid/recall  0.972150 lr  0.001000 elapsed_time  20537.906642 \n"
     ]
    },
    {
     "data": {
      "application/vnd.jupyter.widget-view+json": {
       "model_id": "",
       "version_major": 2,
       "version_minor": 0
      },
      "text/plain": [
       "HBox(children=(FloatProgress(value=0.0, max=1413.0), HTML(value='')))"
      ]
     },
     "metadata": {},
     "output_type": "display_data"
    },
    {
     "name": "stdout",
     "output_type": "stream",
     "text": [
      "epoch     33 train/loss  1.610357 train/loss_grapheme  0.880881 train/loss_vowel  0.438132 train/loss_consonant  0.291344 train/acc_grapheme  0.691136 train/acc_vowel  0.773278 train/acc_consonant  0.844145 train/recall  0.736203 valid/loss  0.342381 valid/loss_grapheme  0.182534 valid/loss_vowel  0.088326 valid/loss_consonant  0.071521 valid/acc_grapheme  0.962231 valid/acc_vowel  0.990645 valid/acc_consonant  0.989252 valid/recall  0.972507 lr  0.001000 elapsed_time  21178.837905 \n"
     ]
    },
    {
     "data": {
      "application/vnd.jupyter.widget-view+json": {
       "model_id": "",
       "version_major": 2,
       "version_minor": 0
      },
      "text/plain": [
       "HBox(children=(FloatProgress(value=0.0, max=1413.0), HTML(value='')))"
      ]
     },
     "metadata": {},
     "output_type": "display_data"
    },
    {
     "name": "stdout",
     "output_type": "stream",
     "text": [
      "epoch     34 train/loss  1.550420 train/loss_grapheme  0.849232 train/loss_vowel  0.420574 train/loss_consonant  0.280615 train/acc_grapheme  0.685574 train/acc_vowel  0.769230 train/acc_consonant  0.843850 train/recall  0.730939 valid/loss  0.299546 valid/loss_grapheme  0.160647 valid/loss_vowel  0.076582 valid/loss_consonant  0.062318 valid/acc_grapheme  0.962828 valid/acc_vowel  0.991143 valid/acc_consonant  0.989053 valid/recall  0.973808 lr  0.001000 elapsed_time  21819.765740 \n"
     ]
    },
    {
     "data": {
      "application/vnd.jupyter.widget-view+json": {
       "model_id": "",
       "version_major": 2,
       "version_minor": 0
      },
      "text/plain": [
       "HBox(children=(FloatProgress(value=0.0, max=1413.0), HTML(value='')))"
      ]
     },
     "metadata": {},
     "output_type": "display_data"
    },
    {
     "name": "stdout",
     "output_type": "stream",
     "text": [
      "epoch     35 train/loss  1.437347 train/loss_grapheme  0.784869 train/loss_vowel  0.391972 train/loss_consonant  0.260506 train/acc_grapheme  0.716035 train/acc_vowel  0.791134 train/acc_consonant  0.858102 train/recall  0.756045 valid/loss  0.307710 valid/loss_grapheme  0.168433 valid/loss_vowel  0.074478 valid/loss_consonant  0.064799 valid/acc_grapheme  0.960390 valid/acc_vowel  0.990894 valid/acc_consonant  0.989650 valid/recall  0.972726 lr  0.001000 elapsed_time  22460.676152 \n"
     ]
    },
    {
     "data": {
      "application/vnd.jupyter.widget-view+json": {
       "model_id": "",
       "version_major": 2,
       "version_minor": 0
      },
      "text/plain": [
       "HBox(children=(FloatProgress(value=0.0, max=1413.0), HTML(value='')))"
      ]
     },
     "metadata": {},
     "output_type": "display_data"
    },
    {
     "name": "stdout",
     "output_type": "stream",
     "text": [
      "epoch     36 train/loss  1.463895 train/loss_grapheme  0.797363 train/loss_vowel  0.400381 train/loss_consonant  0.266151 train/acc_grapheme  0.691177 train/acc_vowel  0.768439 train/acc_consonant  0.843236 train/recall  0.733044 valid/loss  0.263134 valid/loss_grapheme  0.148546 valid/loss_vowel  0.063746 valid/loss_consonant  0.050842 valid/acc_grapheme  0.962331 valid/acc_vowel  0.990545 valid/acc_consonant  0.989699 valid/recall  0.972653 lr  0.001000 elapsed_time  23101.809980 \n"
     ]
    },
    {
     "data": {
      "application/vnd.jupyter.widget-view+json": {
       "model_id": "",
       "version_major": 2,
       "version_minor": 0
      },
      "text/plain": [
       "HBox(children=(FloatProgress(value=0.0, max=1413.0), HTML(value='')))"
      ]
     },
     "metadata": {},
     "output_type": "display_data"
    },
    {
     "name": "stdout",
     "output_type": "stream",
     "text": [
      "epoch     37 train/loss  1.580086 train/loss_grapheme  0.861857 train/loss_vowel  0.432484 train/loss_consonant  0.285744 train/acc_grapheme  0.687152 train/acc_vowel  0.771810 train/acc_consonant  0.844386 train/recall  0.732480 valid/loss  0.282108 valid/loss_grapheme  0.157165 valid/loss_vowel  0.062507 valid/loss_consonant  0.062436 valid/acc_grapheme  0.961928 valid/acc_vowel  0.990297 valid/acc_consonant  0.988246 valid/recall  0.972169 lr  0.001000 elapsed_time  23741.299421 \n"
     ]
    },
    {
     "data": {
      "application/vnd.jupyter.widget-view+json": {
       "model_id": "",
       "version_major": 2,
       "version_minor": 0
      },
      "text/plain": [
       "HBox(children=(FloatProgress(value=0.0, max=1413.0), HTML(value='')))"
      ]
     },
     "metadata": {},
     "output_type": "display_data"
    },
    {
     "name": "stdout",
     "output_type": "stream",
     "text": [
      "epoch     38 train/loss  1.500223 train/loss_grapheme  0.815815 train/loss_vowel  0.410532 train/loss_consonant  0.273877 train/acc_grapheme  0.691447 train/acc_vowel  0.768091 train/acc_consonant  0.842572 train/recall  0.731719 valid/loss  0.285230 valid/loss_grapheme  0.157944 valid/loss_vowel  0.066756 valid/loss_consonant  0.060530 valid/acc_grapheme  0.962574 valid/acc_vowel  0.990844 valid/acc_consonant  0.989401 valid/recall  0.974298 lr  0.001000 elapsed_time  24381.173495 \n"
     ]
    },
    {
     "data": {
      "application/vnd.jupyter.widget-view+json": {
       "model_id": "",
       "version_major": 2,
       "version_minor": 0
      },
      "text/plain": [
       "HBox(children=(FloatProgress(value=0.0, max=1413.0), HTML(value='')))"
      ]
     },
     "metadata": {},
     "output_type": "display_data"
    },
    {
     "name": "stdout",
     "output_type": "stream",
     "text": [
      "epoch     39 train/loss  1.525655 train/loss_grapheme  0.831301 train/loss_vowel  0.416811 train/loss_consonant  0.277543 train/acc_grapheme  0.680306 train/acc_vowel  0.763740 train/acc_consonant  0.840094 train/recall  0.726769 valid/loss  0.300085 valid/loss_grapheme  0.158045 valid/loss_vowel  0.079257 valid/loss_consonant  0.062783 valid/acc_grapheme  0.963475 valid/acc_vowel  0.990545 valid/acc_consonant  0.989451 valid/recall  0.972525 lr  0.001000 elapsed_time  25021.500248 \n"
     ]
    },
    {
     "data": {
      "application/vnd.jupyter.widget-view+json": {
       "model_id": "",
       "version_major": 2,
       "version_minor": 0
      },
      "text/plain": [
       "HBox(children=(FloatProgress(value=0.0, max=1413.0), HTML(value='')))"
      ]
     },
     "metadata": {},
     "output_type": "display_data"
    },
    {
     "name": "stdout",
     "output_type": "stream",
     "text": [
      "epoch     40 train/loss  1.555764 train/loss_grapheme  0.846111 train/loss_vowel  0.427028 train/loss_consonant  0.282625 train/acc_grapheme  0.671499 train/acc_vowel  0.754373 train/acc_consonant  0.832825 train/recall  0.715440 valid/loss  0.312619 valid/loss_grapheme  0.168804 valid/loss_vowel  0.079997 valid/loss_consonant  0.063818 valid/acc_grapheme  0.961679 valid/acc_vowel  0.990346 valid/acc_consonant  0.988306 valid/recall  0.972947 lr  0.001000 elapsed_time  25659.141252 \n"
     ]
    },
    {
     "data": {
      "application/vnd.jupyter.widget-view+json": {
       "model_id": "",
       "version_major": 2,
       "version_minor": 0
      },
      "text/plain": [
       "HBox(children=(FloatProgress(value=0.0, max=1413.0), HTML(value='')))"
      ]
     },
     "metadata": {},
     "output_type": "display_data"
    },
    {
     "name": "stdout",
     "output_type": "stream",
     "text": [
      "epoch     41 train/loss  1.498877 train/loss_grapheme  0.816009 train/loss_vowel  0.409893 train/loss_consonant  0.272975 train/acc_grapheme  0.686267 train/acc_vowel  0.768063 train/acc_consonant  0.843804 train/recall  0.733871 valid/loss  0.278862 valid/loss_grapheme  0.156958 valid/loss_vowel  0.064590 valid/loss_consonant  0.057314 valid/acc_grapheme  0.961480 valid/acc_vowel  0.990197 valid/acc_consonant  0.989699 valid/recall  0.971261 lr  0.001000 elapsed_time  26298.307168 \n"
     ]
    },
    {
     "data": {
      "application/vnd.jupyter.widget-view+json": {
       "model_id": "",
       "version_major": 2,
       "version_minor": 0
      },
      "text/plain": [
       "HBox(children=(FloatProgress(value=0.0, max=1413.0), HTML(value='')))"
      ]
     },
     "metadata": {},
     "output_type": "display_data"
    },
    {
     "name": "stdout",
     "output_type": "stream",
     "text": [
      "epoch     42 train/loss  1.409644 train/loss_grapheme  0.761477 train/loss_vowel  0.389338 train/loss_consonant  0.258829 train/acc_grapheme  0.706347 train/acc_vowel  0.782049 train/acc_consonant  0.851619 train/recall  0.746356 valid/loss  0.287484 valid/loss_grapheme  0.154705 valid/loss_vowel  0.075720 valid/loss_consonant  0.057059 valid/acc_grapheme  0.965068 valid/acc_vowel  0.991242 valid/acc_consonant  0.990446 valid/recall  0.974292 lr  0.000700 elapsed_time  26939.913335 \n"
     ]
    },
    {
     "data": {
      "application/vnd.jupyter.widget-view+json": {
       "model_id": "",
       "version_major": 2,
       "version_minor": 0
      },
      "text/plain": [
       "HBox(children=(FloatProgress(value=0.0, max=1413.0), HTML(value='')))"
      ]
     },
     "metadata": {},
     "output_type": "display_data"
    },
    {
     "name": "stdout",
     "output_type": "stream",
     "text": [
      "epoch     43 train/loss  1.408792 train/loss_grapheme  0.759930 train/loss_vowel  0.390584 train/loss_consonant  0.258277 train/acc_grapheme  0.721417 train/acc_vowel  0.793273 train/acc_consonant  0.859022 train/recall  0.761641 valid/loss  0.239122 valid/loss_grapheme  0.143688 valid/loss_vowel  0.049706 valid/loss_consonant  0.045728 valid/acc_grapheme  0.964023 valid/acc_vowel  0.991391 valid/acc_consonant  0.990496 valid/recall  0.972577 lr  0.000700 elapsed_time  27580.707779 \n"
     ]
    },
    {
     "data": {
      "application/vnd.jupyter.widget-view+json": {
       "model_id": "",
       "version_major": 2,
       "version_minor": 0
      },
      "text/plain": [
       "HBox(children=(FloatProgress(value=0.0, max=1413.0), HTML(value='')))"
      ]
     },
     "metadata": {},
     "output_type": "display_data"
    },
    {
     "name": "stdout",
     "output_type": "stream",
     "text": [
      "epoch     44 train/loss  1.466802 train/loss_grapheme  0.790453 train/loss_vowel  0.407238 train/loss_consonant  0.269111 train/acc_grapheme  0.685347 train/acc_vowel  0.761274 train/acc_consonant  0.838066 train/recall  0.725855 valid/loss  0.267240 valid/loss_grapheme  0.146854 valid/loss_vowel  0.067027 valid/loss_consonant  0.053359 valid/acc_grapheme  0.965167 valid/acc_vowel  0.990894 valid/acc_consonant  0.990595 valid/recall  0.973768 lr  0.000700 elapsed_time  28220.820843 \n"
     ]
    },
    {
     "data": {
      "application/vnd.jupyter.widget-view+json": {
       "model_id": "",
       "version_major": 2,
       "version_minor": 0
      },
      "text/plain": [
       "HBox(children=(FloatProgress(value=0.0, max=1413.0), HTML(value='')))"
      ]
     },
     "metadata": {},
     "output_type": "display_data"
    },
    {
     "name": "stdout",
     "output_type": "stream",
     "text": [
      "epoch     45 train/loss  1.453388 train/loss_grapheme  0.782391 train/loss_vowel  0.401879 train/loss_consonant  0.269118 train/acc_grapheme  0.676785 train/acc_vowel  0.756756 train/acc_consonant  0.833864 train/recall  0.719713 valid/loss  0.242267 valid/loss_grapheme  0.140185 valid/loss_vowel  0.052907 valid/loss_consonant  0.049175 valid/acc_grapheme  0.965914 valid/acc_vowel  0.991690 valid/acc_consonant  0.990098 valid/recall  0.972721 lr  0.000700 elapsed_time  28861.439976 \n"
     ]
    },
    {
     "data": {
      "application/vnd.jupyter.widget-view+json": {
       "model_id": "",
       "version_major": 2,
       "version_minor": 0
      },
      "text/plain": [
       "HBox(children=(FloatProgress(value=0.0, max=1413.0), HTML(value='')))"
      ]
     },
     "metadata": {},
     "output_type": "display_data"
    },
    {
     "name": "stdout",
     "output_type": "stream",
     "text": [
      "epoch     46 train/loss  1.495395 train/loss_grapheme  0.806626 train/loss_vowel  0.415081 train/loss_consonant  0.273688 train/acc_grapheme  0.691440 train/acc_vowel  0.771281 train/acc_consonant  0.845268 train/recall  0.735676 valid/loss  0.257797 valid/loss_grapheme  0.146012 valid/loss_vowel  0.060820 valid/loss_consonant  0.050965 valid/acc_grapheme  0.965267 valid/acc_vowel  0.991640 valid/acc_consonant  0.990147 valid/recall  0.974177 lr  0.000700 elapsed_time  29501.961095 \n"
     ]
    },
    {
     "data": {
      "application/vnd.jupyter.widget-view+json": {
       "model_id": "",
       "version_major": 2,
       "version_minor": 0
      },
      "text/plain": [
       "HBox(children=(FloatProgress(value=0.0, max=1413.0), HTML(value='')))"
      ]
     },
     "metadata": {},
     "output_type": "display_data"
    },
    {
     "name": "stdout",
     "output_type": "stream",
     "text": [
      "epoch     47 train/loss  1.371378 train/loss_grapheme  0.734772 train/loss_vowel  0.382889 train/loss_consonant  0.253716 train/acc_grapheme  0.694312 train/acc_vowel  0.766455 train/acc_consonant  0.842464 train/recall  0.734162 valid/loss  0.226427 valid/loss_grapheme  0.136681 valid/loss_vowel  0.047427 valid/loss_consonant  0.042319 valid/acc_grapheme  0.966909 valid/acc_vowel  0.991740 valid/acc_consonant  0.990794 valid/recall  0.974135 lr  0.000700 elapsed_time  30142.447118 \n"
     ]
    },
    {
     "data": {
      "application/vnd.jupyter.widget-view+json": {
       "model_id": "",
       "version_major": 2,
       "version_minor": 0
      },
      "text/plain": [
       "HBox(children=(FloatProgress(value=0.0, max=1413.0), HTML(value='')))"
      ]
     },
     "metadata": {},
     "output_type": "display_data"
    },
    {
     "name": "stdout",
     "output_type": "stream",
     "text": [
      "epoch     48 train/loss  1.401597 train/loss_grapheme  0.753488 train/loss_vowel  0.389329 train/loss_consonant  0.258780 train/acc_grapheme  0.720038 train/acc_vowel  0.792489 train/acc_consonant  0.859620 train/recall  0.758549 valid/loss  0.258638 valid/loss_grapheme  0.145849 valid/loss_vowel  0.059155 valid/loss_consonant  0.053634 valid/acc_grapheme  0.965715 valid/acc_vowel  0.990844 valid/acc_consonant  0.990446 valid/recall  0.974691 lr  0.000700 elapsed_time  30783.168449 \n"
     ]
    },
    {
     "data": {
      "application/vnd.jupyter.widget-view+json": {
       "model_id": "",
       "version_major": 2,
       "version_minor": 0
      },
      "text/plain": [
       "HBox(children=(FloatProgress(value=0.0, max=1413.0), HTML(value='')))"
      ]
     },
     "metadata": {},
     "output_type": "display_data"
    },
    {
     "name": "stdout",
     "output_type": "stream",
     "text": [
      "epoch     49 train/loss  1.392854 train/loss_grapheme  0.749010 train/loss_vowel  0.387653 train/loss_consonant  0.256191 train/acc_grapheme  0.698627 train/acc_vowel  0.770815 train/acc_consonant  0.845203 train/recall  0.737217 valid/loss  0.308560 valid/loss_grapheme  0.161537 valid/loss_vowel  0.081790 valid/loss_consonant  0.065232 valid/acc_grapheme  0.965217 valid/acc_vowel  0.991093 valid/acc_consonant  0.989202 valid/recall  0.974988 lr  0.000700 elapsed_time  31424.407392 \n"
     ]
    },
    {
     "data": {
      "application/vnd.jupyter.widget-view+json": {
       "model_id": "",
       "version_major": 2,
       "version_minor": 0
      },
      "text/plain": [
       "HBox(children=(FloatProgress(value=0.0, max=1413.0), HTML(value='')))"
      ]
     },
     "metadata": {},
     "output_type": "display_data"
    },
    {
     "name": "stdout",
     "output_type": "stream",
     "text": [
      "epoch     50 train/loss  1.416940 train/loss_grapheme  0.760941 train/loss_vowel  0.393763 train/loss_consonant  0.262237 train/acc_grapheme  0.702410 train/acc_vowel  0.778353 train/acc_consonant  0.850412 train/recall  0.742417 valid/loss  0.232105 valid/loss_grapheme  0.139827 valid/loss_vowel  0.048211 valid/loss_consonant  0.044067 valid/acc_grapheme  0.966058 valid/acc_vowel  0.991143 valid/acc_consonant  0.990545 valid/recall  0.974466 lr  0.000700 elapsed_time  32065.441895 \n"
     ]
    },
    {
     "data": {
      "application/vnd.jupyter.widget-view+json": {
       "model_id": "",
       "version_major": 2,
       "version_minor": 0
      },
      "text/plain": [
       "HBox(children=(FloatProgress(value=0.0, max=1413.0), HTML(value='')))"
      ]
     },
     "metadata": {},
     "output_type": "display_data"
    },
    {
     "name": "stdout",
     "output_type": "stream",
     "text": [
      "epoch     51 train/loss  1.395921 train/loss_grapheme  0.749454 train/loss_vowel  0.388758 train/loss_consonant  0.257709 train/acc_grapheme  0.697849 train/acc_vowel  0.770546 train/acc_consonant  0.845243 train/recall  0.737900 valid/loss  0.254967 valid/loss_grapheme  0.146467 valid/loss_vowel  0.057731 valid/loss_consonant  0.050769 valid/acc_grapheme  0.964819 valid/acc_vowel  0.990595 valid/acc_consonant  0.990993 valid/recall  0.974338 lr  0.000700 elapsed_time  32705.544213 \n"
     ]
    },
    {
     "data": {
      "application/vnd.jupyter.widget-view+json": {
       "model_id": "",
       "version_major": 2,
       "version_minor": 0
      },
      "text/plain": [
       "HBox(children=(FloatProgress(value=0.0, max=1413.0), HTML(value='')))"
      ]
     },
     "metadata": {},
     "output_type": "display_data"
    },
    {
     "name": "stdout",
     "output_type": "stream",
     "text": [
      "epoch     52 train/loss  1.382598 train/loss_grapheme  0.741110 train/loss_vowel  0.385236 train/loss_consonant  0.256252 train/acc_grapheme  0.699946 train/acc_vowel  0.774787 train/acc_consonant  0.846863 train/recall  0.738490 valid/loss  0.227095 valid/loss_grapheme  0.141395 valid/loss_vowel  0.044292 valid/loss_consonant  0.041408 valid/acc_grapheme  0.965914 valid/acc_vowel  0.991292 valid/acc_consonant  0.990894 valid/recall  0.974407 lr  0.000700 elapsed_time  33346.800718 \n"
     ]
    },
    {
     "data": {
      "application/vnd.jupyter.widget-view+json": {
       "model_id": "",
       "version_major": 2,
       "version_minor": 0
      },
      "text/plain": [
       "HBox(children=(FloatProgress(value=0.0, max=1413.0), HTML(value='')))"
      ]
     },
     "metadata": {},
     "output_type": "display_data"
    },
    {
     "name": "stdout",
     "output_type": "stream",
     "text": [
      "epoch     53 train/loss  1.353302 train/loss_grapheme  0.725040 train/loss_vowel  0.377179 train/loss_consonant  0.251083 train/acc_grapheme  0.698868 train/acc_vowel  0.770983 train/acc_consonant  0.845613 train/recall  0.736775 valid/loss  0.241543 valid/loss_grapheme  0.138191 valid/loss_vowel  0.056533 valid/loss_consonant  0.046819 valid/acc_grapheme  0.967655 valid/acc_vowel  0.991043 valid/acc_consonant  0.990744 valid/recall  0.976074 lr  0.000700 elapsed_time  33987.116965 \n"
     ]
    },
    {
     "data": {
      "application/vnd.jupyter.widget-view+json": {
       "model_id": "",
       "version_major": 2,
       "version_minor": 0
      },
      "text/plain": [
       "HBox(children=(FloatProgress(value=0.0, max=1413.0), HTML(value='')))"
      ]
     },
     "metadata": {},
     "output_type": "display_data"
    },
    {
     "name": "stdout",
     "output_type": "stream",
     "text": [
      "epoch     54 train/loss  1.378835 train/loss_grapheme  0.739480 train/loss_vowel  0.384155 train/loss_consonant  0.255200 train/acc_grapheme  0.711349 train/acc_vowel  0.783950 train/acc_consonant  0.853525 train/recall  0.751314 valid/loss  0.263089 valid/loss_grapheme  0.149941 valid/loss_vowel  0.060026 valid/loss_consonant  0.053122 valid/acc_grapheme  0.966561 valid/acc_vowel  0.991640 valid/acc_consonant  0.990341 valid/recall  0.975473 lr  0.000700 elapsed_time  34628.693213 \n"
     ]
    },
    {
     "data": {
      "application/vnd.jupyter.widget-view+json": {
       "model_id": "",
       "version_major": 2,
       "version_minor": 0
      },
      "text/plain": [
       "HBox(children=(FloatProgress(value=0.0, max=1413.0), HTML(value='')))"
      ]
     },
     "metadata": {},
     "output_type": "display_data"
    },
    {
     "name": "stdout",
     "output_type": "stream",
     "text": [
      "epoch     55 train/loss  1.413094 train/loss_grapheme  0.757948 train/loss_vowel  0.393905 train/loss_consonant  0.261241 train/acc_grapheme  0.685868 train/acc_vowel  0.761072 train/acc_consonant  0.838902 train/recall  0.724837 valid/loss  0.270917 valid/loss_grapheme  0.155144 valid/loss_vowel  0.063652 valid/loss_consonant  0.052121 valid/acc_grapheme  0.964565 valid/acc_vowel  0.991740 valid/acc_consonant  0.990645 valid/recall  0.972895 lr  0.000700 elapsed_time  35270.152839 \n"
     ]
    },
    {
     "data": {
      "application/vnd.jupyter.widget-view+json": {
       "model_id": "",
       "version_major": 2,
       "version_minor": 0
      },
      "text/plain": [
       "HBox(children=(FloatProgress(value=0.0, max=1413.0), HTML(value='')))"
      ]
     },
     "metadata": {},
     "output_type": "display_data"
    },
    {
     "name": "stdout",
     "output_type": "stream",
     "text": [
      "epoch     56 train/loss  1.363965 train/loss_grapheme  0.729143 train/loss_vowel  0.381389 train/loss_consonant  0.253433 train/acc_grapheme  0.690867 train/acc_vowel  0.764191 train/acc_consonant  0.842764 train/recall  0.731806 valid/loss  0.245298 valid/loss_grapheme  0.141968 valid/loss_vowel  0.053612 valid/loss_consonant  0.049718 valid/acc_grapheme  0.965217 valid/acc_vowel  0.992387 valid/acc_consonant  0.990894 valid/recall  0.975815 lr  0.000700 elapsed_time  35910.743991 \n"
     ]
    },
    {
     "data": {
      "application/vnd.jupyter.widget-view+json": {
       "model_id": "",
       "version_major": 2,
       "version_minor": 0
      },
      "text/plain": [
       "HBox(children=(FloatProgress(value=0.0, max=1413.0), HTML(value='')))"
      ]
     },
     "metadata": {},
     "output_type": "display_data"
    },
    {
     "name": "stdout",
     "output_type": "stream",
     "text": [
      "epoch     57 train/loss  1.408347 train/loss_grapheme  0.752636 train/loss_vowel  0.394247 train/loss_consonant  0.261464 train/acc_grapheme  0.692090 train/acc_vowel  0.766167 train/acc_consonant  0.841378 train/recall  0.730638 valid/loss  0.286244 valid/loss_grapheme  0.153022 valid/loss_vowel  0.078161 valid/loss_consonant  0.055061 valid/acc_grapheme  0.966013 valid/acc_vowel  0.991735 valid/acc_consonant  0.989500 valid/recall  0.975553 lr  0.000700 elapsed_time  36551.517846 \n"
     ]
    },
    {
     "data": {
      "application/vnd.jupyter.widget-view+json": {
       "model_id": "",
       "version_major": 2,
       "version_minor": 0
      },
      "text/plain": [
       "HBox(children=(FloatProgress(value=0.0, max=1413.0), HTML(value='')))"
      ]
     },
     "metadata": {},
     "output_type": "display_data"
    },
    {
     "name": "stdout",
     "output_type": "stream",
     "text": [
      "epoch     58 train/loss  1.444538 train/loss_grapheme  0.772993 train/loss_vowel  0.404447 train/loss_consonant  0.267098 train/acc_grapheme  0.685861 train/acc_vowel  0.761102 train/acc_consonant  0.839437 train/recall  0.726529 valid/loss  0.299497 valid/loss_grapheme  0.160924 valid/loss_vowel  0.081655 valid/loss_consonant  0.056918 valid/acc_grapheme  0.965565 valid/acc_vowel  0.991740 valid/acc_consonant  0.990744 valid/recall  0.975265 lr  0.000700 elapsed_time  37191.851101 \n"
     ]
    },
    {
     "data": {
      "application/vnd.jupyter.widget-view+json": {
       "model_id": "",
       "version_major": 2,
       "version_minor": 0
      },
      "text/plain": [
       "HBox(children=(FloatProgress(value=0.0, max=1413.0), HTML(value='')))"
      ]
     },
     "metadata": {},
     "output_type": "display_data"
    },
    {
     "name": "stdout",
     "output_type": "stream",
     "text": [
      "epoch     59 train/loss  1.421809 train/loss_grapheme  0.761876 train/loss_vowel  0.397764 train/loss_consonant  0.262169 train/acc_grapheme  0.694220 train/acc_vowel  0.769458 train/acc_consonant  0.845031 train/recall  0.736436 valid/loss  0.285603 valid/loss_grapheme  0.158317 valid/loss_vowel  0.073888 valid/loss_consonant  0.053398 valid/acc_grapheme  0.966760 valid/acc_vowel  0.991740 valid/acc_consonant  0.989898 valid/recall  0.975895 lr  0.000700 elapsed_time  37833.304133 \n"
     ]
    },
    {
     "data": {
      "application/vnd.jupyter.widget-view+json": {
       "model_id": "",
       "version_major": 2,
       "version_minor": 0
      },
      "text/plain": [
       "HBox(children=(FloatProgress(value=0.0, max=1413.0), HTML(value='')))"
      ]
     },
     "metadata": {},
     "output_type": "display_data"
    },
    {
     "name": "stdout",
     "output_type": "stream",
     "text": [
      "epoch     60 train/loss  1.332513 train/loss_grapheme  0.709195 train/loss_vowel  0.374951 train/loss_consonant  0.248368 train/acc_grapheme  0.713802 train/acc_vowel  0.784988 train/acc_consonant  0.854526 train/recall  0.750481 valid/loss  0.244211 valid/loss_grapheme  0.138904 valid/loss_vowel  0.057499 valid/loss_consonant  0.047808 valid/acc_grapheme  0.967650 valid/acc_vowel  0.991441 valid/acc_consonant  0.991242 valid/recall  0.976479 lr  0.000490 elapsed_time  38474.685992 \n"
     ]
    },
    {
     "data": {
      "application/vnd.jupyter.widget-view+json": {
       "model_id": "",
       "version_major": 2,
       "version_minor": 0
      },
      "text/plain": [
       "HBox(children=(FloatProgress(value=0.0, max=1413.0), HTML(value='')))"
      ]
     },
     "metadata": {},
     "output_type": "display_data"
    },
    {
     "name": "stdout",
     "output_type": "stream",
     "text": [
      "epoch     61 train/loss  1.350986 train/loss_grapheme  0.717695 train/loss_vowel  0.380855 train/loss_consonant  0.252436 train/acc_grapheme  0.695778 train/acc_vowel  0.769013 train/acc_consonant  0.842944 train/recall  0.734792 valid/loss  0.289616 valid/loss_grapheme  0.155881 valid/loss_vowel  0.077637 valid/loss_consonant  0.056098 valid/acc_grapheme  0.967805 valid/acc_vowel  0.991590 valid/acc_consonant  0.990894 valid/recall  0.976478 lr  0.000490 elapsed_time  39115.244288 \n"
     ]
    },
    {
     "data": {
      "application/vnd.jupyter.widget-view+json": {
       "model_id": "",
       "version_major": 2,
       "version_minor": 0
      },
      "text/plain": [
       "HBox(children=(FloatProgress(value=0.0, max=1413.0), HTML(value='')))"
      ]
     },
     "metadata": {},
     "output_type": "display_data"
    },
    {
     "name": "stdout",
     "output_type": "stream",
     "text": [
      "epoch     62 train/loss  1.337877 train/loss_grapheme  0.710964 train/loss_vowel  0.377483 train/loss_consonant  0.249430 train/acc_grapheme  0.707216 train/acc_vowel  0.779193 train/acc_consonant  0.851181 train/recall  0.745117 valid/loss  0.230740 valid/loss_grapheme  0.137033 valid/loss_vowel  0.049265 valid/loss_consonant  0.044443 valid/acc_grapheme  0.968894 valid/acc_vowel  0.991988 valid/acc_consonant  0.991242 valid/recall  0.976780 lr  0.000490 elapsed_time  39756.630904 \n"
     ]
    },
    {
     "data": {
      "application/vnd.jupyter.widget-view+json": {
       "model_id": "",
       "version_major": 2,
       "version_minor": 0
      },
      "text/plain": [
       "HBox(children=(FloatProgress(value=0.0, max=1413.0), HTML(value='')))"
      ]
     },
     "metadata": {},
     "output_type": "display_data"
    },
    {
     "name": "stdout",
     "output_type": "stream",
     "text": [
      "epoch     63 train/loss  1.363212 train/loss_grapheme  0.724796 train/loss_vowel  0.383793 train/loss_consonant  0.254623 train/acc_grapheme  0.710816 train/acc_vowel  0.782166 train/acc_consonant  0.851629 train/recall  0.746427 valid/loss  0.219412 valid/loss_grapheme  0.136766 valid/loss_vowel  0.041482 valid/loss_consonant  0.041164 valid/acc_grapheme  0.968004 valid/acc_vowel  0.992038 valid/acc_consonant  0.990496 valid/recall  0.975955 lr  0.000490 elapsed_time  40398.026031 \n"
     ]
    },
    {
     "data": {
      "application/vnd.jupyter.widget-view+json": {
       "model_id": "",
       "version_major": 2,
       "version_minor": 0
      },
      "text/plain": [
       "HBox(children=(FloatProgress(value=0.0, max=1413.0), HTML(value='')))"
      ]
     },
     "metadata": {},
     "output_type": "display_data"
    },
    {
     "name": "stdout",
     "output_type": "stream",
     "text": [
      "epoch     64 train/loss  1.315293 train/loss_grapheme  0.696355 train/loss_vowel  0.372281 train/loss_consonant  0.246657 train/acc_grapheme  0.710259 train/acc_vowel  0.778190 train/acc_consonant  0.851497 train/recall  0.743992 valid/loss  0.268887 valid/loss_grapheme  0.150589 valid/loss_vowel  0.067804 valid/loss_consonant  0.050494 valid/acc_grapheme  0.968103 valid/acc_vowel  0.992287 valid/acc_consonant  0.990943 valid/recall  0.976163 lr  0.000490 elapsed_time  41040.225844 \n"
     ]
    },
    {
     "data": {
      "application/vnd.jupyter.widget-view+json": {
       "model_id": "",
       "version_major": 2,
       "version_minor": 0
      },
      "text/plain": [
       "HBox(children=(FloatProgress(value=0.0, max=1413.0), HTML(value='')))"
      ]
     },
     "metadata": {},
     "output_type": "display_data"
    },
    {
     "name": "stdout",
     "output_type": "stream",
     "text": [
      "epoch     65 train/loss  1.353236 train/loss_grapheme  0.717946 train/loss_vowel  0.382985 train/loss_consonant  0.252305 train/acc_grapheme  0.708643 train/acc_vowel  0.777933 train/acc_consonant  0.849821 train/recall  0.745449 valid/loss  0.232018 valid/loss_grapheme  0.138523 valid/loss_vowel  0.048991 valid/loss_consonant  0.044504 valid/acc_grapheme  0.966212 valid/acc_vowel  0.992287 valid/acc_consonant  0.991491 valid/recall  0.974501 lr  0.000490 elapsed_time  41682.933846 \n"
     ]
    },
    {
     "data": {
      "application/vnd.jupyter.widget-view+json": {
       "model_id": "",
       "version_major": 2,
       "version_minor": 0
      },
      "text/plain": [
       "HBox(children=(FloatProgress(value=0.0, max=1413.0), HTML(value='')))"
      ]
     },
     "metadata": {},
     "output_type": "display_data"
    },
    {
     "name": "stdout",
     "output_type": "stream",
     "text": [
      "epoch     66 train/loss  1.306521 train/loss_grapheme  0.690324 train/loss_vowel  0.370654 train/loss_consonant  0.245543 train/acc_grapheme  0.702572 train/acc_vowel  0.771915 train/acc_consonant  0.843816 train/recall  0.737636 valid/loss  0.256876 valid/loss_grapheme  0.146894 valid/loss_vowel  0.061990 valid/loss_consonant  0.047993 valid/acc_grapheme  0.965665 valid/acc_vowel  0.992536 valid/acc_consonant  0.991093 valid/recall  0.975352 lr  0.000490 elapsed_time  42323.380254 \n"
     ]
    },
    {
     "data": {
      "application/vnd.jupyter.widget-view+json": {
       "model_id": "",
       "version_major": 2,
       "version_minor": 0
      },
      "text/plain": [
       "HBox(children=(FloatProgress(value=0.0, max=1413.0), HTML(value='')))"
      ]
     },
     "metadata": {},
     "output_type": "display_data"
    },
    {
     "name": "stdout",
     "output_type": "stream",
     "text": [
      "epoch     67 train/loss  1.305648 train/loss_grapheme  0.691639 train/loss_vowel  0.369375 train/loss_consonant  0.244633 train/acc_grapheme  0.706589 train/acc_vowel  0.773366 train/acc_consonant  0.847360 train/recall  0.742024 valid/loss  0.250562 valid/loss_grapheme  0.143351 valid/loss_vowel  0.060212 valid/loss_consonant  0.046999 valid/acc_grapheme  0.968203 valid/acc_vowel  0.992486 valid/acc_consonant  0.991093 valid/recall  0.976205 lr  0.000490 elapsed_time  42964.119050 \n"
     ]
    },
    {
     "data": {
      "application/vnd.jupyter.widget-view+json": {
       "model_id": "",
       "version_major": 2,
       "version_minor": 0
      },
      "text/plain": [
       "HBox(children=(FloatProgress(value=0.0, max=1413.0), HTML(value='')))"
      ]
     },
     "metadata": {},
     "output_type": "display_data"
    },
    {
     "name": "stdout",
     "output_type": "stream",
     "text": [
      "epoch     68 train/loss  1.306158 train/loss_grapheme  0.688444 train/loss_vowel  0.369560 train/loss_consonant  0.248154 train/acc_grapheme  0.708286 train/acc_vowel  0.776266 train/acc_consonant  0.847512 train/recall  0.743335 valid/loss  0.227250 valid/loss_grapheme  0.141220 valid/loss_vowel  0.043980 valid/loss_consonant  0.042050 valid/acc_grapheme  0.967655 valid/acc_vowel  0.992387 valid/acc_consonant  0.991590 valid/recall  0.976232 lr  0.000490 elapsed_time  43604.970149 \n"
     ]
    },
    {
     "data": {
      "application/vnd.jupyter.widget-view+json": {
       "model_id": "",
       "version_major": 2,
       "version_minor": 0
      },
      "text/plain": [
       "HBox(children=(FloatProgress(value=0.0, max=1413.0), HTML(value='')))"
      ]
     },
     "metadata": {},
     "output_type": "display_data"
    },
    {
     "name": "stdout",
     "output_type": "stream",
     "text": [
      "epoch     69 train/loss  1.368817 train/loss_grapheme  0.724604 train/loss_vowel  0.386866 train/loss_consonant  0.257347 train/acc_grapheme  0.691504 train/acc_vowel  0.763573 train/acc_consonant  0.841403 train/recall  0.729237 valid/loss  0.294940 valid/loss_grapheme  0.157284 valid/loss_vowel  0.080451 valid/loss_consonant  0.057205 valid/acc_grapheme  0.967904 valid/acc_vowel  0.991889 valid/acc_consonant  0.991093 valid/recall  0.976409 lr  0.000490 elapsed_time  44246.396289 \n"
     ]
    },
    {
     "data": {
      "application/vnd.jupyter.widget-view+json": {
       "model_id": "",
       "version_major": 2,
       "version_minor": 0
      },
      "text/plain": [
       "HBox(children=(FloatProgress(value=0.0, max=1413.0), HTML(value='')))"
      ]
     },
     "metadata": {},
     "output_type": "display_data"
    },
    {
     "name": "stdout",
     "output_type": "stream",
     "text": [
      "epoch     70 train/loss  1.317447 train/loss_grapheme  0.698715 train/loss_vowel  0.371694 train/loss_consonant  0.247037 train/acc_grapheme  0.719872 train/acc_vowel  0.790489 train/acc_consonant  0.856859 train/recall  0.756397 valid/loss  0.242971 valid/loss_grapheme  0.140190 valid/loss_vowel  0.057208 valid/loss_consonant  0.045573 valid/acc_grapheme  0.968551 valid/acc_vowel  0.992138 valid/acc_consonant  0.991093 valid/recall  0.976613 lr  0.000490 elapsed_time  44887.361714 \n"
     ]
    },
    {
     "data": {
      "application/vnd.jupyter.widget-view+json": {
       "model_id": "",
       "version_major": 2,
       "version_minor": 0
      },
      "text/plain": [
       "HBox(children=(FloatProgress(value=0.0, max=1413.0), HTML(value='')))"
      ]
     },
     "metadata": {},
     "output_type": "display_data"
    },
    {
     "name": "stdout",
     "output_type": "stream",
     "text": [
      "epoch     71 train/loss  1.400603 train/loss_grapheme  0.743009 train/loss_vowel  0.394963 train/loss_consonant  0.262631 train/acc_grapheme  0.707327 train/acc_vowel  0.781444 train/acc_consonant  0.851126 train/recall  0.746535 valid/loss  0.230146 valid/loss_grapheme  0.139543 valid/loss_vowel  0.045805 valid/loss_consonant  0.044798 valid/acc_grapheme  0.968402 valid/acc_vowel  0.991839 valid/acc_consonant  0.990197 valid/recall  0.975958 lr  0.000490 elapsed_time  45528.965121 \n"
     ]
    },
    {
     "data": {
      "application/vnd.jupyter.widget-view+json": {
       "model_id": "",
       "version_major": 2,
       "version_minor": 0
      },
      "text/plain": [
       "HBox(children=(FloatProgress(value=0.0, max=1413.0), HTML(value='')))"
      ]
     },
     "metadata": {},
     "output_type": "display_data"
    },
    {
     "name": "stdout",
     "output_type": "stream",
     "text": [
      "epoch     72 train/loss  1.299104 train/loss_grapheme  0.687567 train/loss_vowel  0.368102 train/loss_consonant  0.243435 train/acc_grapheme  0.718534 train/acc_vowel  0.786816 train/acc_consonant  0.857329 train/recall  0.752942 valid/loss  0.232188 valid/loss_grapheme  0.144185 valid/loss_vowel  0.044955 valid/loss_consonant  0.043048 valid/acc_grapheme  0.966959 valid/acc_vowel  0.992038 valid/acc_consonant  0.990446 valid/recall  0.975315 lr  0.000490 elapsed_time  46169.580624 \n"
     ]
    },
    {
     "data": {
      "application/vnd.jupyter.widget-view+json": {
       "model_id": "",
       "version_major": 2,
       "version_minor": 0
      },
      "text/plain": [
       "HBox(children=(FloatProgress(value=0.0, max=1413.0), HTML(value='')))"
      ]
     },
     "metadata": {},
     "output_type": "display_data"
    },
    {
     "name": "stdout",
     "output_type": "stream",
     "text": [
      "epoch     73 train/loss  1.300098 train/loss_grapheme  0.685736 train/loss_vowel  0.369081 train/loss_consonant  0.245281 train/acc_grapheme  0.716590 train/acc_vowel  0.784353 train/acc_consonant  0.855127 train/recall  0.752727 valid/loss  0.273168 valid/loss_grapheme  0.157237 valid/loss_vowel  0.066516 valid/loss_consonant  0.049415 valid/acc_grapheme  0.966909 valid/acc_vowel  0.991242 valid/acc_consonant  0.991143 valid/recall  0.975125 lr  0.000490 elapsed_time  46810.595784 \n"
     ]
    },
    {
     "data": {
      "application/vnd.jupyter.widget-view+json": {
       "model_id": "",
       "version_major": 2,
       "version_minor": 0
      },
      "text/plain": [
       "HBox(children=(FloatProgress(value=0.0, max=1413.0), HTML(value='')))"
      ]
     },
     "metadata": {},
     "output_type": "display_data"
    },
    {
     "name": "stdout",
     "output_type": "stream",
     "text": [
      "epoch     74 train/loss  1.269970 train/loss_grapheme  0.670829 train/loss_vowel  0.360630 train/loss_consonant  0.238511 train/acc_grapheme  0.706124 train/acc_vowel  0.773044 train/acc_consonant  0.845862 train/recall  0.740976 valid/loss  0.272970 valid/loss_grapheme  0.152655 valid/loss_vowel  0.069886 valid/loss_consonant  0.050430 valid/acc_grapheme  0.966959 valid/acc_vowel  0.991889 valid/acc_consonant  0.991292 valid/recall  0.975464 lr  0.000490 elapsed_time  47452.170154 \n"
     ]
    },
    {
     "data": {
      "application/vnd.jupyter.widget-view+json": {
       "model_id": "",
       "version_major": 2,
       "version_minor": 0
      },
      "text/plain": [
       "HBox(children=(FloatProgress(value=0.0, max=1413.0), HTML(value='')))"
      ]
     },
     "metadata": {},
     "output_type": "display_data"
    },
    {
     "name": "stdout",
     "output_type": "stream",
     "text": [
      "epoch     75 train/loss  1.261084 train/loss_grapheme  0.665400 train/loss_vowel  0.358330 train/loss_consonant  0.237353 train/acc_grapheme  0.711820 train/acc_vowel  0.778171 train/acc_consonant  0.850565 train/recall  0.748130 valid/loss  0.268598 valid/loss_grapheme  0.151414 valid/loss_vowel  0.068562 valid/loss_consonant  0.048622 valid/acc_grapheme  0.967655 valid/acc_vowel  0.992536 valid/acc_consonant  0.991590 valid/recall  0.976444 lr  0.000490 elapsed_time  48093.046156 \n"
     ]
    },
    {
     "data": {
      "application/vnd.jupyter.widget-view+json": {
       "model_id": "",
       "version_major": 2,
       "version_minor": 0
      },
      "text/plain": [
       "HBox(children=(FloatProgress(value=0.0, max=1413.0), HTML(value='')))"
      ]
     },
     "metadata": {},
     "output_type": "display_data"
    },
    {
     "name": "stdout",
     "output_type": "stream",
     "text": [
      "epoch     76 train/loss  1.265523 train/loss_grapheme  0.666692 train/loss_vowel  0.359903 train/loss_consonant  0.238927 train/acc_grapheme  0.715656 train/acc_vowel  0.782281 train/acc_consonant  0.851872 train/recall  0.749707 valid/loss  0.237398 valid/loss_grapheme  0.142996 valid/loss_vowel  0.048041 valid/loss_consonant  0.046361 valid/acc_grapheme  0.966660 valid/acc_vowel  0.992138 valid/acc_consonant  0.990545 valid/recall  0.975088 lr  0.000490 elapsed_time  48734.908139 \n"
     ]
    },
    {
     "data": {
      "application/vnd.jupyter.widget-view+json": {
       "model_id": "",
       "version_major": 2,
       "version_minor": 0
      },
      "text/plain": [
       "HBox(children=(FloatProgress(value=0.0, max=1413.0), HTML(value='')))"
      ]
     },
     "metadata": {},
     "output_type": "display_data"
    },
    {
     "name": "stdout",
     "output_type": "stream",
     "text": [
      "epoch     77 train/loss  1.362572 train/loss_grapheme  0.721591 train/loss_vowel  0.384843 train/loss_consonant  0.256137 train/acc_grapheme  0.691742 train/acc_vowel  0.767300 train/acc_consonant  0.842880 train/recall  0.730703 valid/loss  0.254825 valid/loss_grapheme  0.149700 valid/loss_vowel  0.060843 valid/loss_consonant  0.044282 valid/acc_grapheme  0.966063 valid/acc_vowel  0.991939 valid/acc_consonant  0.991143 valid/recall  0.975707 lr  0.000490 elapsed_time  49377.548960 \n"
     ]
    },
    {
     "data": {
      "application/vnd.jupyter.widget-view+json": {
       "model_id": "",
       "version_major": 2,
       "version_minor": 0
      },
      "text/plain": [
       "HBox(children=(FloatProgress(value=0.0, max=1413.0), HTML(value='')))"
      ]
     },
     "metadata": {},
     "output_type": "display_data"
    },
    {
     "name": "stdout",
     "output_type": "stream",
     "text": [
      "epoch     78 train/loss  1.348000 train/loss_grapheme  0.713489 train/loss_vowel  0.380848 train/loss_consonant  0.253663 train/acc_grapheme  0.709950 train/acc_vowel  0.783658 train/acc_consonant  0.853191 train/recall  0.746408 valid/loss  0.236075 valid/loss_grapheme  0.144376 valid/loss_vowel  0.049056 valid/loss_consonant  0.042643 valid/acc_grapheme  0.967008 valid/acc_vowel  0.991740 valid/acc_consonant  0.991043 valid/recall  0.976289 lr  0.000490 elapsed_time  50019.851832 \n"
     ]
    },
    {
     "data": {
      "application/vnd.jupyter.widget-view+json": {
       "model_id": "",
       "version_major": 2,
       "version_minor": 0
      },
      "text/plain": [
       "HBox(children=(FloatProgress(value=0.0, max=1413.0), HTML(value='')))"
      ]
     },
     "metadata": {},
     "output_type": "display_data"
    },
    {
     "name": "stdout",
     "output_type": "stream",
     "text": [
      "epoch     79 train/loss  1.360718 train/loss_grapheme  0.720914 train/loss_vowel  0.386287 train/loss_consonant  0.253517 train/acc_grapheme  0.701649 train/acc_vowel  0.778017 train/acc_consonant  0.851795 train/recall  0.742188 valid/loss  0.227933 valid/loss_grapheme  0.139974 valid/loss_vowel  0.045101 valid/loss_consonant  0.042858 valid/acc_grapheme  0.967805 valid/acc_vowel  0.992088 valid/acc_consonant  0.990993 valid/recall  0.975630 lr  0.000490 elapsed_time  50661.634706 \n"
     ]
    },
    {
     "data": {
      "application/vnd.jupyter.widget-view+json": {
       "model_id": "",
       "version_major": 2,
       "version_minor": 0
      },
      "text/plain": [
       "HBox(children=(FloatProgress(value=0.0, max=1413.0), HTML(value='')))"
      ]
     },
     "metadata": {},
     "output_type": "display_data"
    },
    {
     "name": "stdout",
     "output_type": "stream",
     "text": [
      "epoch     80 train/loss  1.339567 train/loss_grapheme  0.705510 train/loss_vowel  0.380985 train/loss_consonant  0.253073 train/acc_grapheme  0.686239 train/acc_vowel  0.758531 train/acc_consonant  0.836958 train/recall  0.722739 valid/loss  0.243232 valid/loss_grapheme  0.143675 valid/loss_vowel  0.055000 valid/loss_consonant  0.044557 valid/acc_grapheme  0.967655 valid/acc_vowel  0.991988 valid/acc_consonant  0.990844 valid/recall  0.976870 lr  0.000490 elapsed_time  51303.854979 \n"
     ]
    },
    {
     "data": {
      "application/vnd.jupyter.widget-view+json": {
       "model_id": "",
       "version_major": 2,
       "version_minor": 0
      },
      "text/plain": [
       "HBox(children=(FloatProgress(value=0.0, max=1413.0), HTML(value='')))"
      ]
     },
     "metadata": {},
     "output_type": "display_data"
    },
    {
     "name": "stdout",
     "output_type": "stream",
     "text": [
      "epoch     81 train/loss  1.344069 train/loss_grapheme  0.709546 train/loss_vowel  0.383504 train/loss_consonant  0.251019 train/acc_grapheme  0.683580 train/acc_vowel  0.756176 train/acc_consonant  0.837480 train/recall  0.719705 valid/loss  0.245309 valid/loss_grapheme  0.143627 valid/loss_vowel  0.054727 valid/loss_consonant  0.046955 valid/acc_grapheme  0.967805 valid/acc_vowel  0.992436 valid/acc_consonant  0.991038 valid/recall  0.976197 lr  0.000490 elapsed_time  51946.500228 \n"
     ]
    },
    {
     "data": {
      "application/vnd.jupyter.widget-view+json": {
       "model_id": "",
       "version_major": 2,
       "version_minor": 0
      },
      "text/plain": [
       "HBox(children=(FloatProgress(value=0.0, max=1413.0), HTML(value='')))"
      ]
     },
     "metadata": {},
     "output_type": "display_data"
    },
    {
     "name": "stdout",
     "output_type": "stream",
     "text": [
      "epoch     82 train/loss  1.358709 train/loss_grapheme  0.714012 train/loss_vowel  0.386675 train/loss_consonant  0.258021 train/acc_grapheme  0.703180 train/acc_vowel  0.775583 train/acc_consonant  0.847405 train/recall  0.739722 valid/loss  0.238957 valid/loss_grapheme  0.140918 valid/loss_vowel  0.054943 valid/loss_consonant  0.043096 valid/acc_grapheme  0.968004 valid/acc_vowel  0.992436 valid/acc_consonant  0.991789 valid/recall  0.977767 lr  0.000343 elapsed_time  52587.667346 \n"
     ]
    },
    {
     "data": {
      "application/vnd.jupyter.widget-view+json": {
       "model_id": "",
       "version_major": 2,
       "version_minor": 0
      },
      "text/plain": [
       "HBox(children=(FloatProgress(value=0.0, max=1413.0), HTML(value='')))"
      ]
     },
     "metadata": {},
     "output_type": "display_data"
    },
    {
     "name": "stdout",
     "output_type": "stream",
     "text": [
      "epoch     83 train/loss  1.271749 train/loss_grapheme  0.668910 train/loss_vowel  0.362700 train/loss_consonant  0.240138 train/acc_grapheme  0.721271 train/acc_vowel  0.788443 train/acc_consonant  0.856653 train/recall  0.756486 valid/loss  0.223684 valid/loss_grapheme  0.140980 valid/loss_vowel  0.040731 valid/loss_consonant  0.041973 valid/acc_grapheme  0.968004 valid/acc_vowel  0.992337 valid/acc_consonant  0.990695 valid/recall  0.975647 lr  0.000343 elapsed_time  53228.722994 \n"
     ]
    },
    {
     "data": {
      "application/vnd.jupyter.widget-view+json": {
       "model_id": "",
       "version_major": 2,
       "version_minor": 0
      },
      "text/plain": [
       "HBox(children=(FloatProgress(value=0.0, max=1413.0), HTML(value='')))"
      ]
     },
     "metadata": {},
     "output_type": "display_data"
    },
    {
     "name": "stdout",
     "output_type": "stream",
     "text": [
      "epoch     84 train/loss  1.308809 train/loss_grapheme  0.689319 train/loss_vowel  0.372988 train/loss_consonant  0.246502 train/acc_grapheme  0.712005 train/acc_vowel  0.782013 train/acc_consonant  0.850728 train/recall  0.748736 valid/loss  0.252757 valid/loss_grapheme  0.148158 valid/loss_vowel  0.056860 valid/loss_consonant  0.047739 valid/acc_grapheme  0.968402 valid/acc_vowel  0.992785 valid/acc_consonant  0.991143 valid/recall  0.976873 lr  0.000343 elapsed_time  53869.858343 \n"
     ]
    },
    {
     "data": {
      "application/vnd.jupyter.widget-view+json": {
       "model_id": "",
       "version_major": 2,
       "version_minor": 0
      },
      "text/plain": [
       "HBox(children=(FloatProgress(value=0.0, max=1413.0), HTML(value='')))"
      ]
     },
     "metadata": {},
     "output_type": "display_data"
    },
    {
     "name": "stdout",
     "output_type": "stream",
     "text": [
      "epoch     85 train/loss  1.286744 train/loss_grapheme  0.676055 train/loss_vowel  0.366652 train/loss_consonant  0.244037 train/acc_grapheme  0.699320 train/acc_vowel  0.768697 train/acc_consonant  0.843939 train/recall  0.735577 valid/loss  0.243657 valid/loss_grapheme  0.144161 valid/loss_vowel  0.051721 valid/loss_consonant  0.047775 valid/acc_grapheme  0.967705 valid/acc_vowel  0.991889 valid/acc_consonant  0.991143 valid/recall  0.976557 lr  0.000343 elapsed_time  54510.369580 \n"
     ]
    },
    {
     "data": {
      "application/vnd.jupyter.widget-view+json": {
       "model_id": "",
       "version_major": 2,
       "version_minor": 0
      },
      "text/plain": [
       "HBox(children=(FloatProgress(value=0.0, max=1413.0), HTML(value='')))"
      ]
     },
     "metadata": {},
     "output_type": "display_data"
    },
    {
     "name": "stdout",
     "output_type": "stream",
     "text": [
      "epoch     86 train/loss  1.260577 train/loss_grapheme  0.663150 train/loss_vowel  0.359214 train/loss_consonant  0.238212 train/acc_grapheme  0.709476 train/acc_vowel  0.777789 train/acc_consonant  0.849672 train/recall  0.745107 valid/loss  0.228346 valid/loss_grapheme  0.138331 valid/loss_vowel  0.048080 valid/loss_consonant  0.041935 valid/acc_grapheme  0.968999 valid/acc_vowel  0.992088 valid/acc_consonant  0.991192 valid/recall  0.976918 lr  0.000343 elapsed_time  55151.836035 \n"
     ]
    },
    {
     "data": {
      "application/vnd.jupyter.widget-view+json": {
       "model_id": "",
       "version_major": 2,
       "version_minor": 0
      },
      "text/plain": [
       "HBox(children=(FloatProgress(value=0.0, max=1413.0), HTML(value='')))"
      ]
     },
     "metadata": {},
     "output_type": "display_data"
    },
    {
     "name": "stdout",
     "output_type": "stream",
     "text": [
      "epoch     87 train/loss  1.278781 train/loss_grapheme  0.671052 train/loss_vowel  0.364906 train/loss_consonant  0.242823 train/acc_grapheme  0.721841 train/acc_vowel  0.789378 train/acc_consonant  0.856174 train/recall  0.755759 valid/loss  0.240966 valid/loss_grapheme  0.138765 valid/loss_vowel  0.056302 valid/loss_consonant  0.045899 valid/acc_grapheme  0.968551 valid/acc_vowel  0.992287 valid/acc_consonant  0.990943 valid/recall  0.976513 lr  0.000343 elapsed_time  55793.509714 \n"
     ]
    },
    {
     "data": {
      "application/vnd.jupyter.widget-view+json": {
       "model_id": "",
       "version_major": 2,
       "version_minor": 0
      },
      "text/plain": [
       "HBox(children=(FloatProgress(value=0.0, max=1413.0), HTML(value='')))"
      ]
     },
     "metadata": {},
     "output_type": "display_data"
    },
    {
     "name": "stdout",
     "output_type": "stream",
     "text": [
      "epoch     88 train/loss  1.236112 train/loss_grapheme  0.648744 train/loss_vowel  0.353261 train/loss_consonant  0.234107 train/acc_grapheme  0.703566 train/acc_vowel  0.770247 train/acc_consonant  0.846449 train/recall  0.738370 valid/loss  0.249211 valid/loss_grapheme  0.146890 valid/loss_vowel  0.055207 valid/loss_consonant  0.047113 valid/acc_grapheme  0.968700 valid/acc_vowel  0.991889 valid/acc_consonant  0.991093 valid/recall  0.977176 lr  0.000343 elapsed_time  56435.120711 \n"
     ]
    },
    {
     "data": {
      "application/vnd.jupyter.widget-view+json": {
       "model_id": "",
       "version_major": 2,
       "version_minor": 0
      },
      "text/plain": [
       "HBox(children=(FloatProgress(value=0.0, max=1413.0), HTML(value='')))"
      ]
     },
     "metadata": {},
     "output_type": "display_data"
    },
    {
     "name": "stdout",
     "output_type": "stream",
     "text": [
      "epoch     89 train/loss  1.236097 train/loss_grapheme  0.648869 train/loss_vowel  0.353379 train/loss_consonant  0.233849 train/acc_grapheme  0.711071 train/acc_vowel  0.776948 train/acc_consonant  0.851668 train/recall  0.746542 valid/loss  0.250219 valid/loss_grapheme  0.145918 valid/loss_vowel  0.058879 valid/loss_consonant  0.045422 valid/acc_grapheme  0.968501 valid/acc_vowel  0.992138 valid/acc_consonant  0.991690 valid/recall  0.976293 lr  0.000343 elapsed_time  57075.628896 \n"
     ]
    },
    {
     "data": {
      "application/vnd.jupyter.widget-view+json": {
       "model_id": "",
       "version_major": 2,
       "version_minor": 0
      },
      "text/plain": [
       "HBox(children=(FloatProgress(value=0.0, max=1413.0), HTML(value='')))"
      ]
     },
     "metadata": {},
     "output_type": "display_data"
    },
    {
     "name": "stdout",
     "output_type": "stream",
     "text": [
      "epoch     90 train/loss  1.228947 train/loss_grapheme  0.645542 train/loss_vowel  0.350248 train/loss_consonant  0.233157 train/acc_grapheme  0.712193 train/acc_vowel  0.782101 train/acc_consonant  0.851789 train/recall  0.745834 valid/loss  0.225885 valid/loss_grapheme  0.141257 valid/loss_vowel  0.042327 valid/loss_consonant  0.042301 valid/acc_grapheme  0.968302 valid/acc_vowel  0.991740 valid/acc_consonant  0.991093 valid/recall  0.975493 lr  0.000343 elapsed_time  57716.598930 \n"
     ]
    },
    {
     "data": {
      "application/vnd.jupyter.widget-view+json": {
       "model_id": "",
       "version_major": 2,
       "version_minor": 0
      },
      "text/plain": [
       "HBox(children=(FloatProgress(value=0.0, max=1413.0), HTML(value='')))"
      ]
     },
     "metadata": {},
     "output_type": "display_data"
    },
    {
     "name": "stdout",
     "output_type": "stream",
     "text": [
      "epoch     91 train/loss  1.272821 train/loss_grapheme  0.668363 train/loss_vowel  0.363331 train/loss_consonant  0.241126 train/acc_grapheme  0.727320 train/acc_vowel  0.793989 train/acc_consonant  0.859519 train/recall  0.760603 valid/loss  0.249837 valid/loss_grapheme  0.145276 valid/loss_vowel  0.058660 valid/loss_consonant  0.045901 valid/acc_grapheme  0.967954 valid/acc_vowel  0.992088 valid/acc_consonant  0.991043 valid/recall  0.976334 lr  0.000343 elapsed_time  58366.979694 \n"
     ]
    },
    {
     "data": {
      "application/vnd.jupyter.widget-view+json": {
       "model_id": "",
       "version_major": 2,
       "version_minor": 0
      },
      "text/plain": [
       "HBox(children=(FloatProgress(value=0.0, max=1413.0), HTML(value='')))"
      ]
     },
     "metadata": {},
     "output_type": "display_data"
    },
    {
     "name": "stdout",
     "output_type": "stream",
     "text": [
      "epoch     92 train/loss  1.247196 train/loss_grapheme  0.655000 train/loss_vowel  0.356569 train/loss_consonant  0.235627 train/acc_grapheme  0.718152 train/acc_vowel  0.788887 train/acc_consonant  0.856258 train/recall  0.754636 valid/loss  0.238089 valid/loss_grapheme  0.141647 valid/loss_vowel  0.050019 valid/loss_consonant  0.046422 valid/acc_grapheme  0.968451 valid/acc_vowel  0.992337 valid/acc_consonant  0.990943 valid/recall  0.977251 lr  0.000343 elapsed_time  59015.315994 \n"
     ]
    },
    {
     "data": {
      "application/vnd.jupyter.widget-view+json": {
       "model_id": "",
       "version_major": 2,
       "version_minor": 0
      },
      "text/plain": [
       "HBox(children=(FloatProgress(value=0.0, max=1413.0), HTML(value='')))"
      ]
     },
     "metadata": {},
     "output_type": "display_data"
    },
    {
     "name": "stdout",
     "output_type": "stream",
     "text": [
      "epoch     93 train/loss  1.258700 train/loss_grapheme  0.661464 train/loss_vowel  0.359640 train/loss_consonant  0.237596 train/acc_grapheme  0.727348 train/acc_vowel  0.793458 train/acc_consonant  0.861078 train/recall  0.762220 valid/loss  0.238250 valid/loss_grapheme  0.140825 valid/loss_vowel  0.052818 valid/loss_consonant  0.044607 valid/acc_grapheme  0.968451 valid/acc_vowel  0.992486 valid/acc_consonant  0.990545 valid/recall  0.977199 lr  0.000343 elapsed_time  59658.796354 \n"
     ]
    },
    {
     "data": {
      "application/vnd.jupyter.widget-view+json": {
       "model_id": "",
       "version_major": 2,
       "version_minor": 0
      },
      "text/plain": [
       "HBox(children=(FloatProgress(value=0.0, max=1413.0), HTML(value='')))"
      ]
     },
     "metadata": {},
     "output_type": "display_data"
    },
    {
     "name": "stdout",
     "output_type": "stream",
     "text": [
      "epoch     94 train/loss  1.315031 train/loss_grapheme  0.688864 train/loss_vowel  0.376130 train/loss_consonant  0.250037 train/acc_grapheme  0.717084 train/acc_vowel  0.784438 train/acc_consonant  0.853116 train/recall  0.751868 valid/loss  0.235045 valid/loss_grapheme  0.139335 valid/loss_vowel  0.052859 valid/loss_consonant  0.042851 valid/acc_grapheme  0.968402 valid/acc_vowel  0.992635 valid/acc_consonant  0.991242 valid/recall  0.978316 lr  0.000343 elapsed_time  60311.191654 \n"
     ]
    },
    {
     "data": {
      "application/vnd.jupyter.widget-view+json": {
       "model_id": "",
       "version_major": 2,
       "version_minor": 0
      },
      "text/plain": [
       "HBox(children=(FloatProgress(value=0.0, max=1413.0), HTML(value='')))"
      ]
     },
     "metadata": {},
     "output_type": "display_data"
    },
    {
     "name": "stdout",
     "output_type": "stream",
     "text": [
      "epoch     95 train/loss  1.293606 train/loss_grapheme  0.679231 train/loss_vowel  0.369890 train/loss_consonant  0.244485 train/acc_grapheme  0.702666 train/acc_vowel  0.771701 train/acc_consonant  0.845818 train/recall  0.737373 valid/loss  0.239533 valid/loss_grapheme  0.141740 valid/loss_vowel  0.052358 valid/loss_consonant  0.045435 valid/acc_grapheme  0.968352 valid/acc_vowel  0.992287 valid/acc_consonant  0.991192 valid/recall  0.977505 lr  0.000343 elapsed_time  60971.747764 \n"
     ]
    },
    {
     "data": {
      "application/vnd.jupyter.widget-view+json": {
       "model_id": "",
       "version_major": 2,
       "version_minor": 0
      },
      "text/plain": [
       "HBox(children=(FloatProgress(value=0.0, max=1413.0), HTML(value='')))"
      ]
     },
     "metadata": {},
     "output_type": "display_data"
    },
    {
     "name": "stdout",
     "output_type": "stream",
     "text": [
      "epoch     96 train/loss  1.309161 train/loss_grapheme  0.686350 train/loss_vowel  0.374327 train/loss_consonant  0.248484 train/acc_grapheme  0.708848 train/acc_vowel  0.777015 train/acc_consonant  0.850363 train/recall  0.744738 valid/loss  0.222539 valid/loss_grapheme  0.138645 valid/loss_vowel  0.043743 valid/loss_consonant  0.040152 valid/acc_grapheme  0.968252 valid/acc_vowel  0.991839 valid/acc_consonant  0.991491 valid/recall  0.976708 lr  0.000343 elapsed_time  61635.883954 \n"
     ]
    },
    {
     "data": {
      "application/vnd.jupyter.widget-view+json": {
       "model_id": "",
       "version_major": 2,
       "version_minor": 0
      },
      "text/plain": [
       "HBox(children=(FloatProgress(value=0.0, max=1413.0), HTML(value='')))"
      ]
     },
     "metadata": {},
     "output_type": "display_data"
    },
    {
     "name": "stdout",
     "output_type": "stream",
     "text": [
      "epoch     97 train/loss  1.276681 train/loss_grapheme  0.667834 train/loss_vowel  0.366879 train/loss_consonant  0.241968 train/acc_grapheme  0.698569 train/acc_vowel  0.768931 train/acc_consonant  0.845259 train/recall  0.734513 valid/loss  0.244237 valid/loss_grapheme  0.142187 valid/loss_vowel  0.056957 valid/loss_consonant  0.045092 valid/acc_grapheme  0.969347 valid/acc_vowel  0.991889 valid/acc_consonant  0.991242 valid/recall  0.977499 lr  0.000240 elapsed_time  62286.912655 \n"
     ]
    },
    {
     "data": {
      "application/vnd.jupyter.widget-view+json": {
       "model_id": "",
       "version_major": 2,
       "version_minor": 0
      },
      "text/plain": [
       "HBox(children=(FloatProgress(value=0.0, max=1413.0), HTML(value='')))"
      ]
     },
     "metadata": {},
     "output_type": "display_data"
    },
    {
     "name": "stdout",
     "output_type": "stream",
     "text": [
      "epoch     98 train/loss  1.257610 train/loss_grapheme  0.658975 train/loss_vowel  0.360386 train/loss_consonant  0.238249 train/acc_grapheme  0.712093 train/acc_vowel  0.778828 train/acc_consonant  0.851254 train/recall  0.747070 valid/loss  0.223341 valid/loss_grapheme  0.138241 valid/loss_vowel  0.043300 valid/loss_consonant  0.041799 valid/acc_grapheme  0.969148 valid/acc_vowel  0.991889 valid/acc_consonant  0.990993 valid/recall  0.977093 lr  0.000240 elapsed_time  62938.785913 \n"
     ]
    },
    {
     "data": {
      "application/vnd.jupyter.widget-view+json": {
       "model_id": "",
       "version_major": 2,
       "version_minor": 0
      },
      "text/plain": [
       "HBox(children=(FloatProgress(value=0.0, max=1413.0), HTML(value='')))"
      ]
     },
     "metadata": {},
     "output_type": "display_data"
    },
    {
     "name": "stdout",
     "output_type": "stream",
     "text": [
      "epoch     99 train/loss  1.262634 train/loss_grapheme  0.658999 train/loss_vowel  0.362696 train/loss_consonant  0.240938 train/acc_grapheme  0.722896 train/acc_vowel  0.789736 train/acc_consonant  0.858718 train/recall  0.759132 valid/loss  0.245715 valid/loss_grapheme  0.141062 valid/loss_vowel  0.057936 valid/loss_consonant  0.046717 valid/acc_grapheme  0.969795 valid/acc_vowel  0.992436 valid/acc_consonant  0.991939 valid/recall  0.977657 lr  0.000240 elapsed_time  63593.093644 \n"
     ]
    },
    {
     "data": {
      "application/vnd.jupyter.widget-view+json": {
       "model_id": "",
       "version_major": 2,
       "version_minor": 0
      },
      "text/plain": [
       "HBox(children=(FloatProgress(value=0.0, max=1413.0), HTML(value='')))"
      ]
     },
     "metadata": {},
     "output_type": "display_data"
    },
    {
     "name": "stdout",
     "output_type": "stream",
     "text": [
      "epoch    100 train/loss  1.205711 train/loss_grapheme  0.630008 train/loss_vowel  0.346807 train/loss_consonant  0.228896 train/acc_grapheme  0.732189 train/acc_vowel  0.796478 train/acc_consonant  0.862879 train/recall  0.766787 valid/loss  0.229640 valid/loss_grapheme  0.137124 valid/loss_vowel  0.047144 valid/loss_consonant  0.045373 valid/acc_grapheme  0.969895 valid/acc_vowel  0.992486 valid/acc_consonant  0.991690 valid/recall  0.977472 lr  0.000240 elapsed_time  64244.712524 \n"
     ]
    },
    {
     "data": {
      "text/plain": [
       "<ignite.engine.engine.State at 0x7fc5d438a160>"
      ]
     },
     "execution_count": 36,
     "metadata": {},
     "output_type": "execute_result"
    }
   ],
   "source": [
    "trainer.run(train_loader, max_epochs=100)"
   ]
  },
  {
   "cell_type": "code",
   "execution_count": 37,
   "metadata": {},
   "outputs": [
    {
     "data": {
      "text/html": [
       "<div>\n",
       "<style scoped>\n",
       "    .dataframe tbody tr th:only-of-type {\n",
       "        vertical-align: middle;\n",
       "    }\n",
       "\n",
       "    .dataframe tbody tr th {\n",
       "        vertical-align: top;\n",
       "    }\n",
       "\n",
       "    .dataframe thead th {\n",
       "        text-align: right;\n",
       "    }\n",
       "</style>\n",
       "<table border=\"1\" class=\"dataframe\">\n",
       "  <thead>\n",
       "    <tr style=\"text-align: right;\">\n",
       "      <th></th>\n",
       "      <th>epoch</th>\n",
       "      <th>iteration</th>\n",
       "      <th>train/loss</th>\n",
       "      <th>train/loss_grapheme</th>\n",
       "      <th>train/loss_vowel</th>\n",
       "      <th>train/loss_consonant</th>\n",
       "      <th>train/acc_grapheme</th>\n",
       "      <th>train/acc_vowel</th>\n",
       "      <th>train/acc_consonant</th>\n",
       "      <th>train/recall</th>\n",
       "      <th>valid/loss</th>\n",
       "      <th>valid/loss_grapheme</th>\n",
       "      <th>valid/loss_vowel</th>\n",
       "      <th>valid/loss_consonant</th>\n",
       "      <th>valid/acc_grapheme</th>\n",
       "      <th>valid/acc_vowel</th>\n",
       "      <th>valid/acc_consonant</th>\n",
       "      <th>valid/recall</th>\n",
       "      <th>lr</th>\n",
       "      <th>elapsed_time</th>\n",
       "    </tr>\n",
       "  </thead>\n",
       "  <tbody>\n",
       "    <tr>\n",
       "      <th>0</th>\n",
       "      <td>1</td>\n",
       "      <td>1413</td>\n",
       "      <td>4.671670</td>\n",
       "      <td>2.638109</td>\n",
       "      <td>1.069856</td>\n",
       "      <td>0.963705</td>\n",
       "      <td>0.423545</td>\n",
       "      <td>0.672610</td>\n",
       "      <td>0.748634</td>\n",
       "      <td>0.523956</td>\n",
       "      <td>1.262134</td>\n",
       "      <td>0.644731</td>\n",
       "      <td>0.280731</td>\n",
       "      <td>0.336672</td>\n",
       "      <td>0.867956</td>\n",
       "      <td>0.960021</td>\n",
       "      <td>0.960220</td>\n",
       "      <td>0.921312</td>\n",
       "      <td>0.001000</td>\n",
       "      <td>650.959550</td>\n",
       "    </tr>\n",
       "    <tr>\n",
       "      <th>1</th>\n",
       "      <td>2</td>\n",
       "      <td>2826</td>\n",
       "      <td>2.926775</td>\n",
       "      <td>1.649959</td>\n",
       "      <td>0.744014</td>\n",
       "      <td>0.532802</td>\n",
       "      <td>0.585168</td>\n",
       "      <td>0.730148</td>\n",
       "      <td>0.815468</td>\n",
       "      <td>0.661643</td>\n",
       "      <td>0.934378</td>\n",
       "      <td>0.484053</td>\n",
       "      <td>0.232408</td>\n",
       "      <td>0.217917</td>\n",
       "      <td>0.897425</td>\n",
       "      <td>0.967491</td>\n",
       "      <td>0.962460</td>\n",
       "      <td>0.927836</td>\n",
       "      <td>0.001000</td>\n",
       "      <td>1298.014252</td>\n",
       "    </tr>\n",
       "    <tr>\n",
       "      <th>2</th>\n",
       "      <td>3</td>\n",
       "      <td>4239</td>\n",
       "      <td>2.655113</td>\n",
       "      <td>1.511975</td>\n",
       "      <td>0.686645</td>\n",
       "      <td>0.456494</td>\n",
       "      <td>0.587860</td>\n",
       "      <td>0.721280</td>\n",
       "      <td>0.809867</td>\n",
       "      <td>0.663019</td>\n",
       "      <td>0.746944</td>\n",
       "      <td>0.399016</td>\n",
       "      <td>0.184279</td>\n",
       "      <td>0.163649</td>\n",
       "      <td>0.921103</td>\n",
       "      <td>0.975353</td>\n",
       "      <td>0.973014</td>\n",
       "      <td>0.945798</td>\n",
       "      <td>0.001000</td>\n",
       "      <td>1939.977439</td>\n",
       "    </tr>\n",
       "    <tr>\n",
       "      <th>3</th>\n",
       "      <td>4</td>\n",
       "      <td>5652</td>\n",
       "      <td>2.424898</td>\n",
       "      <td>1.388454</td>\n",
       "      <td>0.626581</td>\n",
       "      <td>0.409863</td>\n",
       "      <td>0.601391</td>\n",
       "      <td>0.725770</td>\n",
       "      <td>0.814242</td>\n",
       "      <td>0.673172</td>\n",
       "      <td>0.694124</td>\n",
       "      <td>0.340046</td>\n",
       "      <td>0.198559</td>\n",
       "      <td>0.155519</td>\n",
       "      <td>0.931050</td>\n",
       "      <td>0.979443</td>\n",
       "      <td>0.976641</td>\n",
       "      <td>0.951494</td>\n",
       "      <td>0.001000</td>\n",
       "      <td>2582.197956</td>\n",
       "    </tr>\n",
       "    <tr>\n",
       "      <th>4</th>\n",
       "      <td>5</td>\n",
       "      <td>7065</td>\n",
       "      <td>2.243293</td>\n",
       "      <td>1.288030</td>\n",
       "      <td>0.579210</td>\n",
       "      <td>0.376053</td>\n",
       "      <td>0.610275</td>\n",
       "      <td>0.727484</td>\n",
       "      <td>0.817106</td>\n",
       "      <td>0.677910</td>\n",
       "      <td>0.572116</td>\n",
       "      <td>0.307053</td>\n",
       "      <td>0.140694</td>\n",
       "      <td>0.124369</td>\n",
       "      <td>0.934538</td>\n",
       "      <td>0.979975</td>\n",
       "      <td>0.977946</td>\n",
       "      <td>0.951515</td>\n",
       "      <td>0.001000</td>\n",
       "      <td>3223.222588</td>\n",
       "    </tr>\n",
       "    <tr>\n",
       "      <th>...</th>\n",
       "      <td>...</td>\n",
       "      <td>...</td>\n",
       "      <td>...</td>\n",
       "      <td>...</td>\n",
       "      <td>...</td>\n",
       "      <td>...</td>\n",
       "      <td>...</td>\n",
       "      <td>...</td>\n",
       "      <td>...</td>\n",
       "      <td>...</td>\n",
       "      <td>...</td>\n",
       "      <td>...</td>\n",
       "      <td>...</td>\n",
       "      <td>...</td>\n",
       "      <td>...</td>\n",
       "      <td>...</td>\n",
       "      <td>...</td>\n",
       "      <td>...</td>\n",
       "      <td>...</td>\n",
       "      <td>...</td>\n",
       "    </tr>\n",
       "    <tr>\n",
       "      <th>95</th>\n",
       "      <td>96</td>\n",
       "      <td>135648</td>\n",
       "      <td>1.309161</td>\n",
       "      <td>0.686350</td>\n",
       "      <td>0.374327</td>\n",
       "      <td>0.248484</td>\n",
       "      <td>0.708848</td>\n",
       "      <td>0.777015</td>\n",
       "      <td>0.850363</td>\n",
       "      <td>0.744738</td>\n",
       "      <td>0.222539</td>\n",
       "      <td>0.138645</td>\n",
       "      <td>0.043743</td>\n",
       "      <td>0.040152</td>\n",
       "      <td>0.968252</td>\n",
       "      <td>0.991839</td>\n",
       "      <td>0.991491</td>\n",
       "      <td>0.976708</td>\n",
       "      <td>0.000343</td>\n",
       "      <td>61635.883954</td>\n",
       "    </tr>\n",
       "    <tr>\n",
       "      <th>96</th>\n",
       "      <td>97</td>\n",
       "      <td>137061</td>\n",
       "      <td>1.276681</td>\n",
       "      <td>0.667834</td>\n",
       "      <td>0.366879</td>\n",
       "      <td>0.241968</td>\n",
       "      <td>0.698569</td>\n",
       "      <td>0.768931</td>\n",
       "      <td>0.845259</td>\n",
       "      <td>0.734513</td>\n",
       "      <td>0.244237</td>\n",
       "      <td>0.142187</td>\n",
       "      <td>0.056957</td>\n",
       "      <td>0.045092</td>\n",
       "      <td>0.969347</td>\n",
       "      <td>0.991889</td>\n",
       "      <td>0.991242</td>\n",
       "      <td>0.977499</td>\n",
       "      <td>0.000240</td>\n",
       "      <td>62286.912655</td>\n",
       "    </tr>\n",
       "    <tr>\n",
       "      <th>97</th>\n",
       "      <td>98</td>\n",
       "      <td>138474</td>\n",
       "      <td>1.257610</td>\n",
       "      <td>0.658975</td>\n",
       "      <td>0.360386</td>\n",
       "      <td>0.238249</td>\n",
       "      <td>0.712093</td>\n",
       "      <td>0.778828</td>\n",
       "      <td>0.851254</td>\n",
       "      <td>0.747070</td>\n",
       "      <td>0.223341</td>\n",
       "      <td>0.138241</td>\n",
       "      <td>0.043300</td>\n",
       "      <td>0.041799</td>\n",
       "      <td>0.969148</td>\n",
       "      <td>0.991889</td>\n",
       "      <td>0.990993</td>\n",
       "      <td>0.977093</td>\n",
       "      <td>0.000240</td>\n",
       "      <td>62938.785913</td>\n",
       "    </tr>\n",
       "    <tr>\n",
       "      <th>98</th>\n",
       "      <td>99</td>\n",
       "      <td>139887</td>\n",
       "      <td>1.262634</td>\n",
       "      <td>0.658999</td>\n",
       "      <td>0.362696</td>\n",
       "      <td>0.240938</td>\n",
       "      <td>0.722896</td>\n",
       "      <td>0.789736</td>\n",
       "      <td>0.858718</td>\n",
       "      <td>0.759132</td>\n",
       "      <td>0.245715</td>\n",
       "      <td>0.141062</td>\n",
       "      <td>0.057936</td>\n",
       "      <td>0.046717</td>\n",
       "      <td>0.969795</td>\n",
       "      <td>0.992436</td>\n",
       "      <td>0.991939</td>\n",
       "      <td>0.977657</td>\n",
       "      <td>0.000240</td>\n",
       "      <td>63593.093644</td>\n",
       "    </tr>\n",
       "    <tr>\n",
       "      <th>99</th>\n",
       "      <td>100</td>\n",
       "      <td>141300</td>\n",
       "      <td>1.205711</td>\n",
       "      <td>0.630008</td>\n",
       "      <td>0.346807</td>\n",
       "      <td>0.228896</td>\n",
       "      <td>0.732189</td>\n",
       "      <td>0.796478</td>\n",
       "      <td>0.862879</td>\n",
       "      <td>0.766787</td>\n",
       "      <td>0.229640</td>\n",
       "      <td>0.137124</td>\n",
       "      <td>0.047144</td>\n",
       "      <td>0.045373</td>\n",
       "      <td>0.969895</td>\n",
       "      <td>0.992486</td>\n",
       "      <td>0.991690</td>\n",
       "      <td>0.977472</td>\n",
       "      <td>0.000240</td>\n",
       "      <td>64244.712524</td>\n",
       "    </tr>\n",
       "  </tbody>\n",
       "</table>\n",
       "<p>100 rows × 20 columns</p>\n",
       "</div>"
      ],
      "text/plain": [
       "    epoch  iteration  train/loss  train/loss_grapheme  train/loss_vowel  \\\n",
       "0       1       1413    4.671670             2.638109          1.069856   \n",
       "1       2       2826    2.926775             1.649959          0.744014   \n",
       "2       3       4239    2.655113             1.511975          0.686645   \n",
       "3       4       5652    2.424898             1.388454          0.626581   \n",
       "4       5       7065    2.243293             1.288030          0.579210   \n",
       "..    ...        ...         ...                  ...               ...   \n",
       "95     96     135648    1.309161             0.686350          0.374327   \n",
       "96     97     137061    1.276681             0.667834          0.366879   \n",
       "97     98     138474    1.257610             0.658975          0.360386   \n",
       "98     99     139887    1.262634             0.658999          0.362696   \n",
       "99    100     141300    1.205711             0.630008          0.346807   \n",
       "\n",
       "    train/loss_consonant  train/acc_grapheme  train/acc_vowel  \\\n",
       "0               0.963705            0.423545         0.672610   \n",
       "1               0.532802            0.585168         0.730148   \n",
       "2               0.456494            0.587860         0.721280   \n",
       "3               0.409863            0.601391         0.725770   \n",
       "4               0.376053            0.610275         0.727484   \n",
       "..                   ...                 ...              ...   \n",
       "95              0.248484            0.708848         0.777015   \n",
       "96              0.241968            0.698569         0.768931   \n",
       "97              0.238249            0.712093         0.778828   \n",
       "98              0.240938            0.722896         0.789736   \n",
       "99              0.228896            0.732189         0.796478   \n",
       "\n",
       "    train/acc_consonant  train/recall  valid/loss  valid/loss_grapheme  \\\n",
       "0              0.748634      0.523956    1.262134             0.644731   \n",
       "1              0.815468      0.661643    0.934378             0.484053   \n",
       "2              0.809867      0.663019    0.746944             0.399016   \n",
       "3              0.814242      0.673172    0.694124             0.340046   \n",
       "4              0.817106      0.677910    0.572116             0.307053   \n",
       "..                  ...           ...         ...                  ...   \n",
       "95             0.850363      0.744738    0.222539             0.138645   \n",
       "96             0.845259      0.734513    0.244237             0.142187   \n",
       "97             0.851254      0.747070    0.223341             0.138241   \n",
       "98             0.858718      0.759132    0.245715             0.141062   \n",
       "99             0.862879      0.766787    0.229640             0.137124   \n",
       "\n",
       "    valid/loss_vowel  valid/loss_consonant  valid/acc_grapheme  \\\n",
       "0           0.280731              0.336672            0.867956   \n",
       "1           0.232408              0.217917            0.897425   \n",
       "2           0.184279              0.163649            0.921103   \n",
       "3           0.198559              0.155519            0.931050   \n",
       "4           0.140694              0.124369            0.934538   \n",
       "..               ...                   ...                 ...   \n",
       "95          0.043743              0.040152            0.968252   \n",
       "96          0.056957              0.045092            0.969347   \n",
       "97          0.043300              0.041799            0.969148   \n",
       "98          0.057936              0.046717            0.969795   \n",
       "99          0.047144              0.045373            0.969895   \n",
       "\n",
       "    valid/acc_vowel  valid/acc_consonant  valid/recall        lr  elapsed_time  \n",
       "0          0.960021             0.960220      0.921312  0.001000    650.959550  \n",
       "1          0.967491             0.962460      0.927836  0.001000   1298.014252  \n",
       "2          0.975353             0.973014      0.945798  0.001000   1939.977439  \n",
       "3          0.979443             0.976641      0.951494  0.001000   2582.197956  \n",
       "4          0.979975             0.977946      0.951515  0.001000   3223.222588  \n",
       "..              ...                  ...           ...       ...           ...  \n",
       "95         0.991839             0.991491      0.976708  0.000343  61635.883954  \n",
       "96         0.991889             0.991242      0.977499  0.000240  62286.912655  \n",
       "97         0.991889             0.990993      0.977093  0.000240  62938.785913  \n",
       "98         0.992436             0.991939      0.977657  0.000240  63593.093644  \n",
       "99         0.992486             0.991690      0.977472  0.000240  64244.712524  \n",
       "\n",
       "[100 rows x 20 columns]"
      ]
     },
     "execution_count": 37,
     "metadata": {},
     "output_type": "execute_result"
    }
   ],
   "source": [
    "train_history = log_report.get_dataframe()\n",
    "train_history"
   ]
  },
  {
   "cell_type": "code",
   "execution_count": 38,
   "metadata": {},
   "outputs": [
    {
     "data": {
      "text/html": [
       "<div>\n",
       "<style scoped>\n",
       "    .dataframe tbody tr th:only-of-type {\n",
       "        vertical-align: middle;\n",
       "    }\n",
       "\n",
       "    .dataframe tbody tr th {\n",
       "        vertical-align: top;\n",
       "    }\n",
       "\n",
       "    .dataframe thead th {\n",
       "        text-align: right;\n",
       "    }\n",
       "</style>\n",
       "<table border=\"1\" class=\"dataframe\">\n",
       "  <thead>\n",
       "    <tr style=\"text-align: right;\">\n",
       "      <th></th>\n",
       "      <th>epoch</th>\n",
       "      <th>iteration</th>\n",
       "      <th>train/loss</th>\n",
       "      <th>train/loss_grapheme</th>\n",
       "      <th>train/loss_vowel</th>\n",
       "      <th>train/loss_consonant</th>\n",
       "      <th>train/acc_grapheme</th>\n",
       "      <th>train/acc_vowel</th>\n",
       "      <th>train/acc_consonant</th>\n",
       "      <th>train/recall</th>\n",
       "      <th>valid/loss</th>\n",
       "      <th>valid/loss_grapheme</th>\n",
       "      <th>valid/loss_vowel</th>\n",
       "      <th>valid/loss_consonant</th>\n",
       "      <th>valid/acc_grapheme</th>\n",
       "      <th>valid/acc_vowel</th>\n",
       "      <th>valid/acc_consonant</th>\n",
       "      <th>valid/recall</th>\n",
       "      <th>lr</th>\n",
       "      <th>elapsed_time</th>\n",
       "    </tr>\n",
       "  </thead>\n",
       "  <tbody>\n",
       "    <tr>\n",
       "      <th>0</th>\n",
       "      <td>1</td>\n",
       "      <td>1413</td>\n",
       "      <td>4.671670</td>\n",
       "      <td>2.638109</td>\n",
       "      <td>1.069856</td>\n",
       "      <td>0.963705</td>\n",
       "      <td>0.423545</td>\n",
       "      <td>0.672610</td>\n",
       "      <td>0.748634</td>\n",
       "      <td>0.523956</td>\n",
       "      <td>1.262134</td>\n",
       "      <td>0.644731</td>\n",
       "      <td>0.280731</td>\n",
       "      <td>0.336672</td>\n",
       "      <td>0.867956</td>\n",
       "      <td>0.960021</td>\n",
       "      <td>0.960220</td>\n",
       "      <td>0.921312</td>\n",
       "      <td>0.001000</td>\n",
       "      <td>650.959550</td>\n",
       "    </tr>\n",
       "    <tr>\n",
       "      <th>1</th>\n",
       "      <td>2</td>\n",
       "      <td>2826</td>\n",
       "      <td>2.926775</td>\n",
       "      <td>1.649959</td>\n",
       "      <td>0.744014</td>\n",
       "      <td>0.532802</td>\n",
       "      <td>0.585168</td>\n",
       "      <td>0.730148</td>\n",
       "      <td>0.815468</td>\n",
       "      <td>0.661643</td>\n",
       "      <td>0.934378</td>\n",
       "      <td>0.484053</td>\n",
       "      <td>0.232408</td>\n",
       "      <td>0.217917</td>\n",
       "      <td>0.897425</td>\n",
       "      <td>0.967491</td>\n",
       "      <td>0.962460</td>\n",
       "      <td>0.927836</td>\n",
       "      <td>0.001000</td>\n",
       "      <td>1298.014252</td>\n",
       "    </tr>\n",
       "    <tr>\n",
       "      <th>2</th>\n",
       "      <td>3</td>\n",
       "      <td>4239</td>\n",
       "      <td>2.655113</td>\n",
       "      <td>1.511975</td>\n",
       "      <td>0.686645</td>\n",
       "      <td>0.456494</td>\n",
       "      <td>0.587860</td>\n",
       "      <td>0.721280</td>\n",
       "      <td>0.809867</td>\n",
       "      <td>0.663019</td>\n",
       "      <td>0.746944</td>\n",
       "      <td>0.399016</td>\n",
       "      <td>0.184279</td>\n",
       "      <td>0.163649</td>\n",
       "      <td>0.921103</td>\n",
       "      <td>0.975353</td>\n",
       "      <td>0.973014</td>\n",
       "      <td>0.945798</td>\n",
       "      <td>0.001000</td>\n",
       "      <td>1939.977439</td>\n",
       "    </tr>\n",
       "    <tr>\n",
       "      <th>3</th>\n",
       "      <td>4</td>\n",
       "      <td>5652</td>\n",
       "      <td>2.424898</td>\n",
       "      <td>1.388454</td>\n",
       "      <td>0.626581</td>\n",
       "      <td>0.409863</td>\n",
       "      <td>0.601391</td>\n",
       "      <td>0.725770</td>\n",
       "      <td>0.814242</td>\n",
       "      <td>0.673172</td>\n",
       "      <td>0.694124</td>\n",
       "      <td>0.340046</td>\n",
       "      <td>0.198559</td>\n",
       "      <td>0.155519</td>\n",
       "      <td>0.931050</td>\n",
       "      <td>0.979443</td>\n",
       "      <td>0.976641</td>\n",
       "      <td>0.951494</td>\n",
       "      <td>0.001000</td>\n",
       "      <td>2582.197956</td>\n",
       "    </tr>\n",
       "    <tr>\n",
       "      <th>4</th>\n",
       "      <td>5</td>\n",
       "      <td>7065</td>\n",
       "      <td>2.243293</td>\n",
       "      <td>1.288030</td>\n",
       "      <td>0.579210</td>\n",
       "      <td>0.376053</td>\n",
       "      <td>0.610275</td>\n",
       "      <td>0.727484</td>\n",
       "      <td>0.817106</td>\n",
       "      <td>0.677910</td>\n",
       "      <td>0.572116</td>\n",
       "      <td>0.307053</td>\n",
       "      <td>0.140694</td>\n",
       "      <td>0.124369</td>\n",
       "      <td>0.934538</td>\n",
       "      <td>0.979975</td>\n",
       "      <td>0.977946</td>\n",
       "      <td>0.951515</td>\n",
       "      <td>0.001000</td>\n",
       "      <td>3223.222588</td>\n",
       "    </tr>\n",
       "    <tr>\n",
       "      <th>...</th>\n",
       "      <td>...</td>\n",
       "      <td>...</td>\n",
       "      <td>...</td>\n",
       "      <td>...</td>\n",
       "      <td>...</td>\n",
       "      <td>...</td>\n",
       "      <td>...</td>\n",
       "      <td>...</td>\n",
       "      <td>...</td>\n",
       "      <td>...</td>\n",
       "      <td>...</td>\n",
       "      <td>...</td>\n",
       "      <td>...</td>\n",
       "      <td>...</td>\n",
       "      <td>...</td>\n",
       "      <td>...</td>\n",
       "      <td>...</td>\n",
       "      <td>...</td>\n",
       "      <td>...</td>\n",
       "      <td>...</td>\n",
       "    </tr>\n",
       "    <tr>\n",
       "      <th>95</th>\n",
       "      <td>96</td>\n",
       "      <td>135648</td>\n",
       "      <td>1.309161</td>\n",
       "      <td>0.686350</td>\n",
       "      <td>0.374327</td>\n",
       "      <td>0.248484</td>\n",
       "      <td>0.708848</td>\n",
       "      <td>0.777015</td>\n",
       "      <td>0.850363</td>\n",
       "      <td>0.744738</td>\n",
       "      <td>0.222539</td>\n",
       "      <td>0.138645</td>\n",
       "      <td>0.043743</td>\n",
       "      <td>0.040152</td>\n",
       "      <td>0.968252</td>\n",
       "      <td>0.991839</td>\n",
       "      <td>0.991491</td>\n",
       "      <td>0.976708</td>\n",
       "      <td>0.000343</td>\n",
       "      <td>61635.883954</td>\n",
       "    </tr>\n",
       "    <tr>\n",
       "      <th>96</th>\n",
       "      <td>97</td>\n",
       "      <td>137061</td>\n",
       "      <td>1.276681</td>\n",
       "      <td>0.667834</td>\n",
       "      <td>0.366879</td>\n",
       "      <td>0.241968</td>\n",
       "      <td>0.698569</td>\n",
       "      <td>0.768931</td>\n",
       "      <td>0.845259</td>\n",
       "      <td>0.734513</td>\n",
       "      <td>0.244237</td>\n",
       "      <td>0.142187</td>\n",
       "      <td>0.056957</td>\n",
       "      <td>0.045092</td>\n",
       "      <td>0.969347</td>\n",
       "      <td>0.991889</td>\n",
       "      <td>0.991242</td>\n",
       "      <td>0.977499</td>\n",
       "      <td>0.000240</td>\n",
       "      <td>62286.912655</td>\n",
       "    </tr>\n",
       "    <tr>\n",
       "      <th>97</th>\n",
       "      <td>98</td>\n",
       "      <td>138474</td>\n",
       "      <td>1.257610</td>\n",
       "      <td>0.658975</td>\n",
       "      <td>0.360386</td>\n",
       "      <td>0.238249</td>\n",
       "      <td>0.712093</td>\n",
       "      <td>0.778828</td>\n",
       "      <td>0.851254</td>\n",
       "      <td>0.747070</td>\n",
       "      <td>0.223341</td>\n",
       "      <td>0.138241</td>\n",
       "      <td>0.043300</td>\n",
       "      <td>0.041799</td>\n",
       "      <td>0.969148</td>\n",
       "      <td>0.991889</td>\n",
       "      <td>0.990993</td>\n",
       "      <td>0.977093</td>\n",
       "      <td>0.000240</td>\n",
       "      <td>62938.785913</td>\n",
       "    </tr>\n",
       "    <tr>\n",
       "      <th>98</th>\n",
       "      <td>99</td>\n",
       "      <td>139887</td>\n",
       "      <td>1.262634</td>\n",
       "      <td>0.658999</td>\n",
       "      <td>0.362696</td>\n",
       "      <td>0.240938</td>\n",
       "      <td>0.722896</td>\n",
       "      <td>0.789736</td>\n",
       "      <td>0.858718</td>\n",
       "      <td>0.759132</td>\n",
       "      <td>0.245715</td>\n",
       "      <td>0.141062</td>\n",
       "      <td>0.057936</td>\n",
       "      <td>0.046717</td>\n",
       "      <td>0.969795</td>\n",
       "      <td>0.992436</td>\n",
       "      <td>0.991939</td>\n",
       "      <td>0.977657</td>\n",
       "      <td>0.000240</td>\n",
       "      <td>63593.093644</td>\n",
       "    </tr>\n",
       "    <tr>\n",
       "      <th>99</th>\n",
       "      <td>100</td>\n",
       "      <td>141300</td>\n",
       "      <td>1.205711</td>\n",
       "      <td>0.630008</td>\n",
       "      <td>0.346807</td>\n",
       "      <td>0.228896</td>\n",
       "      <td>0.732189</td>\n",
       "      <td>0.796478</td>\n",
       "      <td>0.862879</td>\n",
       "      <td>0.766787</td>\n",
       "      <td>0.229640</td>\n",
       "      <td>0.137124</td>\n",
       "      <td>0.047144</td>\n",
       "      <td>0.045373</td>\n",
       "      <td>0.969895</td>\n",
       "      <td>0.992486</td>\n",
       "      <td>0.991690</td>\n",
       "      <td>0.977472</td>\n",
       "      <td>0.000240</td>\n",
       "      <td>64244.712524</td>\n",
       "    </tr>\n",
       "  </tbody>\n",
       "</table>\n",
       "<p>100 rows × 20 columns</p>\n",
       "</div>"
      ],
      "text/plain": [
       "    epoch  iteration  train/loss  train/loss_grapheme  train/loss_vowel  \\\n",
       "0       1       1413    4.671670             2.638109          1.069856   \n",
       "1       2       2826    2.926775             1.649959          0.744014   \n",
       "2       3       4239    2.655113             1.511975          0.686645   \n",
       "3       4       5652    2.424898             1.388454          0.626581   \n",
       "4       5       7065    2.243293             1.288030          0.579210   \n",
       "..    ...        ...         ...                  ...               ...   \n",
       "95     96     135648    1.309161             0.686350          0.374327   \n",
       "96     97     137061    1.276681             0.667834          0.366879   \n",
       "97     98     138474    1.257610             0.658975          0.360386   \n",
       "98     99     139887    1.262634             0.658999          0.362696   \n",
       "99    100     141300    1.205711             0.630008          0.346807   \n",
       "\n",
       "    train/loss_consonant  train/acc_grapheme  train/acc_vowel  \\\n",
       "0               0.963705            0.423545         0.672610   \n",
       "1               0.532802            0.585168         0.730148   \n",
       "2               0.456494            0.587860         0.721280   \n",
       "3               0.409863            0.601391         0.725770   \n",
       "4               0.376053            0.610275         0.727484   \n",
       "..                   ...                 ...              ...   \n",
       "95              0.248484            0.708848         0.777015   \n",
       "96              0.241968            0.698569         0.768931   \n",
       "97              0.238249            0.712093         0.778828   \n",
       "98              0.240938            0.722896         0.789736   \n",
       "99              0.228896            0.732189         0.796478   \n",
       "\n",
       "    train/acc_consonant  train/recall  valid/loss  valid/loss_grapheme  \\\n",
       "0              0.748634      0.523956    1.262134             0.644731   \n",
       "1              0.815468      0.661643    0.934378             0.484053   \n",
       "2              0.809867      0.663019    0.746944             0.399016   \n",
       "3              0.814242      0.673172    0.694124             0.340046   \n",
       "4              0.817106      0.677910    0.572116             0.307053   \n",
       "..                  ...           ...         ...                  ...   \n",
       "95             0.850363      0.744738    0.222539             0.138645   \n",
       "96             0.845259      0.734513    0.244237             0.142187   \n",
       "97             0.851254      0.747070    0.223341             0.138241   \n",
       "98             0.858718      0.759132    0.245715             0.141062   \n",
       "99             0.862879      0.766787    0.229640             0.137124   \n",
       "\n",
       "    valid/loss_vowel  valid/loss_consonant  valid/acc_grapheme  \\\n",
       "0           0.280731              0.336672            0.867956   \n",
       "1           0.232408              0.217917            0.897425   \n",
       "2           0.184279              0.163649            0.921103   \n",
       "3           0.198559              0.155519            0.931050   \n",
       "4           0.140694              0.124369            0.934538   \n",
       "..               ...                   ...                 ...   \n",
       "95          0.043743              0.040152            0.968252   \n",
       "96          0.056957              0.045092            0.969347   \n",
       "97          0.043300              0.041799            0.969148   \n",
       "98          0.057936              0.046717            0.969795   \n",
       "99          0.047144              0.045373            0.969895   \n",
       "\n",
       "    valid/acc_vowel  valid/acc_consonant  valid/recall        lr  elapsed_time  \n",
       "0          0.960021             0.960220      0.921312  0.001000    650.959550  \n",
       "1          0.967491             0.962460      0.927836  0.001000   1298.014252  \n",
       "2          0.975353             0.973014      0.945798  0.001000   1939.977439  \n",
       "3          0.979443             0.976641      0.951494  0.001000   2582.197956  \n",
       "4          0.979975             0.977946      0.951515  0.001000   3223.222588  \n",
       "..              ...                  ...           ...       ...           ...  \n",
       "95         0.991839             0.991491      0.976708  0.000343  61635.883954  \n",
       "96         0.991889             0.991242      0.977499  0.000240  62286.912655  \n",
       "97         0.991889             0.990993      0.977093  0.000240  62938.785913  \n",
       "98         0.992436             0.991939      0.977657  0.000240  63593.093644  \n",
       "99         0.992486             0.991690      0.977472  0.000240  64244.712524  \n",
       "\n",
       "[100 rows x 20 columns]"
      ]
     },
     "execution_count": 38,
     "metadata": {},
     "output_type": "execute_result"
    }
   ],
   "source": [
    "train_history = log_report.get_dataframe()\n",
    "train_history.to_csv(outdir / 'log.csv', index=False)\n",
    "\n",
    "train_history"
   ]
  },
  {
   "cell_type": "markdown",
   "metadata": {},
   "source": [
    "<a id=\"pred\"></a>\n",
    "# Prediction\n",
    "\n",
    "Please refer **[Bengali: SEResNeXt prediction with pytorch](https://www.kaggle.com/corochann/bengali-seresnext-prediction-with-pytorch)** for the prediction with trained model and submission for this competition!!!"
   ]
  },
  {
   "cell_type": "code",
   "execution_count": 39,
   "metadata": {},
   "outputs": [
    {
     "name": "stdout",
     "output_type": "stream",
     "text": [
      "n_total 186\n"
     ]
    }
   ],
   "source": [
    "# --- Model ---\n",
    "device = torch.device(device)\n",
    "n_grapheme = 168\n",
    "n_vowel = 11\n",
    "n_consonant = 7\n",
    "n_total = n_grapheme + n_vowel + n_consonant\n",
    "print('n_total', n_total)"
   ]
  },
  {
   "cell_type": "code",
   "execution_count": 40,
   "metadata": {},
   "outputs": [],
   "source": [
    "def build_predictor(arch, out_dim, model_name=None):\n",
    "    if arch == 'pretrained':\n",
    "        predictor = PretrainedCNN(in_channels=1, out_dim=out_dim, model_name=model_name)\n",
    "    else:\n",
    "        raise ValueError(\"[ERROR] Unexpected value arch={}\".format(arch))\n",
    "    return predictor\n",
    "\n",
    "\n",
    "def build_classifier(arch, load_model_path, n_total, model_name='', device='cuda:0'):\n",
    "    if isinstance(device, str):\n",
    "        device = torch.device(device)\n",
    "    predictor = build_predictor(arch, out_dim=n_total, model_name=model_name)\n",
    "    print('predictor', type(predictor))\n",
    "    classifier = BengaliClassifier(predictor)\n",
    "    if load_model_path:\n",
    "        predictor.load_state_dict(torch.load(load_model_path))\n",
    "    else:\n",
    "        print(\"[WARNING] Unexpected value load_model_path={}\"\n",
    "              .format(load_model_path))\n",
    "    classifier.to(device)\n",
    "    return classifier\n"
   ]
  },
  {
   "cell_type": "code",
   "execution_count": 41,
   "metadata": {},
   "outputs": [],
   "source": [
    "def predict_core(test_images, image_size, threshold,\n",
    "                 arch, n_total, model_name, load_model_path, batch_size=512, device='cuda:0', **kwargs):\n",
    "    classifier = build_classifier(arch, load_model_path, n_total, model_name, device=device)\n",
    "    \n",
    "\n",
    "    r\"\"\"\n",
    "    ###############\n",
    "    n_dataset = len(test_images)\n",
    "    train_data_size = 200 if debug else int(n_dataset * 0.9)\n",
    "    valid_data_size = 100 if debug else int(n_dataset - train_data_size)\n",
    "    \n",
    "    perm = np.random.RandomState(777).permutation(n_dataset)\n",
    "    print('perm', perm)\n",
    "    train_dataset = BengaliAIDataset(\n",
    "        train_images, train_labels, transform=Transform(size=(image_size, image_size)),\n",
    "        indices=perm[:train_data_size])\n",
    "    valid_dataset = BengaliAIDataset(\n",
    "        train_images, transform=Transform(affine=False, crop=True, size=(image_size, image_size)),\n",
    "        )\n",
    "    print('train_dataset', len(train_dataset), 'valid_dataset', len(valid_dataset))\n",
    "    test_dataset = valid_dataset\n",
    "    \"\"\"\n",
    "    \n",
    "    test_dataset = BengaliAIDataset(\n",
    "       test_images, None,\n",
    "       transform=Transform(affine=False, crop=True, size=(image_size, image_size),\n",
    "                           threshold=threshold, train=False))\n",
    "    print('test_dataset', len(test_dataset))\n",
    "    test_loader = DataLoader(test_dataset, batch_size=batch_size, shuffle=False)\n",
    "    test_pred_proba = classifier.predict_proba(test_loader)\n",
    "    return test_pred_proba"
   ]
  },
  {
   "cell_type": "code",
   "execution_count": 42,
   "metadata": {},
   "outputs": [],
   "source": [
    "from torch import nn\n",
    "import torch.nn.functional as F\n",
    "\n",
    "\n",
    "class LinearBlock(nn.Module):\n",
    "\n",
    "    def __init__(self, in_features, out_features, bias=True,\n",
    "                 use_bn=True, activation=F.relu, dropout_ratio=-1, residual=False,):\n",
    "        super(LinearBlock, self).__init__()\n",
    "        if in_features is None:\n",
    "            self.linear = LazyLinear(in_features, out_features, bias=bias)\n",
    "        else:\n",
    "            self.linear = nn.Linear(in_features, out_features, bias=bias)\n",
    "        if use_bn:\n",
    "            self.bn = nn.BatchNorm1d(out_features)\n",
    "        if dropout_ratio > 0.:\n",
    "            self.dropout = nn.Dropout(p=dropout_ratio)\n",
    "        else:\n",
    "            self.dropout = None\n",
    "        self.activation = activation\n",
    "        self.use_bn = use_bn\n",
    "        self.dropout_ratio = dropout_ratio\n",
    "        self.residual = residual\n",
    "\n",
    "    def __call__(self, x):\n",
    "        h = self.linear(x)\n",
    "        if self.use_bn:\n",
    "            h = self.bn(h)\n",
    "        if self.activation is not None:\n",
    "            h = self.activation(h)\n",
    "        if self.residual:\n",
    "            h = residual_add(h, x)\n",
    "        if self.dropout_ratio > 0:\n",
    "            h = self.dropout(h)\n",
    "        return h"
   ]
  },
  {
   "cell_type": "code",
   "execution_count": 43,
   "metadata": {},
   "outputs": [],
   "source": [
    "import pretrainedmodels\n",
    "import torch\n",
    "from torch import nn\n",
    "import torch.nn.functional as F\n",
    "from torch.nn import Sequential\n",
    "\n",
    "class PretrainedCNN(nn.Module):\n",
    "    def __init__(self, model_name='densenet121',\n",
    "                 in_channels=1, out_dim=10, use_bn=True,\n",
    "                 pretrained=None):\n",
    "        super(PretrainedCNN, self).__init__()\n",
    "        self.conv0 = nn.Conv2d(\n",
    "            in_channels, 3, kernel_size=3, stride=1, padding=1, bias=True)\n",
    "        self.base_model = pretrainedmodels.__dict__[model_name](pretrained=pretrained)\n",
    "        activation = F.leaky_relu\n",
    "        self.do_pooling = True\n",
    "        if self.do_pooling:\n",
    "            inch = self.base_model.last_linear.in_features\n",
    "        else:\n",
    "            inch = None\n",
    "        hdim = 512\n",
    "        lin1 = LinearBlock(inch, hdim, use_bn=use_bn, activation=activation, residual=False)\n",
    "        lin2 = LinearBlock(hdim, out_dim, use_bn=use_bn, activation=None, residual=False)\n",
    "        self.lin_layers = Sequential(lin1, lin2)\n",
    "\n",
    "    def forward(self, x):\n",
    "        h = self.conv0(x)\n",
    "        h = self.base_model.features(h)\n",
    "\n",
    "        if self.do_pooling:\n",
    "            h = torch.sum(h, dim=(-1, -2))\n",
    "        else:\n",
    "            # [128, 2048, 4, 4] when input is (128, 128)\n",
    "            bs, ch, height, width = h.shape\n",
    "            h = h.view(bs, ch*height*width)\n",
    "        for layer in self.lin_layers:\n",
    "            h = layer(h)\n",
    "        return h"
   ]
  },
  {
   "cell_type": "code",
   "execution_count": 44,
   "metadata": {},
   "outputs": [],
   "source": [
    "import torch\n",
    "from torch import nn\n",
    "import torch.nn.functional as F\n",
    "from tqdm import tqdm\n",
    "\n",
    "\n",
    "def accuracy(y, t):\n",
    "    pred_label = torch.argmax(y, dim=1)\n",
    "    count = pred_label.shape[0]\n",
    "    correct = (pred_label == t).sum().type(torch.float32)\n",
    "    acc = correct / count\n",
    "    return acc\n",
    "\n",
    "\n",
    "class BengaliClassifier(nn.Module):\n",
    "    def __init__(self, predictor, n_grapheme=168, n_vowel=11, n_consonant=7):\n",
    "        super(BengaliClassifier, self).__init__()\n",
    "        self.n_grapheme = n_grapheme\n",
    "        self.n_vowel = n_vowel\n",
    "        self.n_consonant = n_consonant\n",
    "        self.n_total_class = self.n_grapheme + self.n_vowel + self.n_consonant\n",
    "        self.predictor = predictor\n",
    "\n",
    "        self.metrics_keys = [\n",
    "            'loss', 'loss_grapheme', 'loss_vowel', 'loss_consonant',\n",
    "            'acc_grapheme', 'acc_vowel', 'acc_consonant']\n",
    "\n",
    "    def forward(self, x, y=None):\n",
    "        \n",
    "        pred = self.predictor(x)\n",
    "        if isinstance(pred, tuple):\n",
    "            assert len(pred) == 3\n",
    "            preds = pred\n",
    "        else:\n",
    "            assert pred.shape[1] == self.n_total_class\n",
    "            preds = torch.split(pred, [self.n_grapheme, self.n_vowel, self.n_consonant], dim=1)\n",
    "        loss_grapheme = F.cross_entropy(preds[0], y[:, 0])\n",
    "        loss_vowel = F.cross_entropy(preds[1], y[:, 1])\n",
    "        loss_consonant = F.cross_entropy(preds[2], y[:, 2])\n",
    "        loss = loss_grapheme + loss_vowel + loss_consonant\n",
    "        metrics = {\n",
    "            'loss': loss.item(),\n",
    "            'loss_grapheme': loss_grapheme.item(),\n",
    "            'loss_vowel': loss_vowel.item(),\n",
    "            'loss_consonant': loss_consonant.item(),\n",
    "            'acc_grapheme': accuracy(preds[0], y[:, 0]),\n",
    "            'acc_vowel': accuracy(preds[1], y[:, 1]),\n",
    "            'acc_consonant': accuracy(preds[2], y[:, 2]),\n",
    "        }\n",
    "        return loss, metrics, pred\n",
    "\n",
    "    def calc(self, data_loader):\n",
    "        device: torch.device = next(self.parameters()).device\n",
    "        self.eval()\n",
    "        output_list = []\n",
    "        with torch.no_grad():\n",
    "            for batch in tqdm(data_loader):\n",
    "                # TODO: support general preprocessing.\n",
    "                # If `data` is not `Data` instance, `to` method is not supported!\n",
    "                batch = batch.to(device)\n",
    "                pred = self.predictor(batch)\n",
    "                output_list.append(pred)\n",
    "        output = torch.cat(output_list, dim=0)\n",
    "        preds = torch.split(output, [self.n_grapheme, self.n_vowel, self.n_consonant], dim=1)\n",
    "        return preds\n",
    "\n",
    "    def predict_proba(self, data_loader):\n",
    "        preds = self.calc(data_loader)\n",
    "        return [F.softmax(p, dim=1) for p in preds]\n",
    "\n",
    "    def predict(self, data_loader):\n",
    "        preds = self.calc(data_loader)\n",
    "        pred_labels = [torch.argmax(p, dim=1) for p in preds]\n",
    "        return pred_labels\n"
   ]
  },
  {
   "cell_type": "code",
   "execution_count": null,
   "metadata": {},
   "outputs": [],
   "source": []
  },
  {
   "cell_type": "code",
   "execution_count": 45,
   "metadata": {},
   "outputs": [],
   "source": [
    "import numpy as np\n",
    "\n",
    "\n",
    "class BengaliAIDataset(DatasetMixin):\n",
    "    def __init__(self, images, labels=None, transform=None, indices=None):\n",
    "        super(BengaliAIDataset, self).__init__(transform=transform)\n",
    "        self.images = images\n",
    "        self.labels = labels\n",
    "        if indices is None:\n",
    "            indices = np.arange(len(images))\n",
    "        self.indices = indices\n",
    "        self.train = labels is not None\n",
    "\n",
    "    def __len__(self):\n",
    "        \"\"\"return length of this dataset\"\"\"\n",
    "        return len(self.indices)\n",
    "\n",
    "    def get_example(self, i):\n",
    "        \"\"\"Return i-th data\"\"\"\n",
    "        i = self.indices[i]\n",
    "        x = self.images[i]\n",
    "        # Opposite white and black: background will be white (1.0) and\n",
    "        # for future Affine transformation\n",
    "        x = (255 - x).astype(np.float32) / 255.\n",
    "        if self.train:\n",
    "            y = self.labels[i]\n",
    "            return x, y\n",
    "        else:\n",
    "            return x\n"
   ]
  },
  {
   "cell_type": "code",
   "execution_count": null,
   "metadata": {},
   "outputs": [],
   "source": []
  },
  {
   "cell_type": "code",
   "execution_count": 46,
   "metadata": {},
   "outputs": [],
   "source": [
    "import numpy as np\n",
    "\n",
    "\n",
    "def add_gaussian_noise(x, sigma):\n",
    "    x += np.random.randn(*x.shape) * sigma\n",
    "    x = np.clip(x, 0., 1.)\n",
    "    return x\n",
    "\n",
    "\n",
    "class Transform:\n",
    "    def __init__(self, affine=True, crop=True, size=(64, 64),\n",
    "                 normalize=True, train=True, threshold=40.,\n",
    "                 sigma=-1.):\n",
    "        self.affine = affine\n",
    "        self.crop = crop\n",
    "        self.size = size\n",
    "        self.normalize = normalize\n",
    "        self.train = train\n",
    "        self.threshold = threshold / 255.\n",
    "        self.sigma = sigma / 255.\n",
    "\n",
    "    def __call__(self, example):\n",
    "        if self.train:\n",
    "            x, y = example\n",
    "        else:\n",
    "            x = example\n",
    "        # --- Augmentation ---\n",
    "        if self.affine:\n",
    "            x = affine_image(x)\n",
    "\n",
    "        # --- Train/Test common preprocessing ---\n",
    "        if self.crop:\n",
    "            x = crop_char_image(x, threshold=self.threshold)\n",
    "        if self.size is not None:\n",
    "            x = resize(x, size=self.size)\n",
    "        if self.sigma > 0.:\n",
    "            x = add_gaussian_noise(x, sigma=self.sigma)\n",
    "        if self.normalize:\n",
    "            x = (x.astype(np.float32) - 0.0692) / 0.2051\n",
    "        if x.ndim == 2:\n",
    "            x = x[None, :, :]\n",
    "        x = x.astype(np.float32)\n",
    "        if self.train:\n",
    "            y = y.astype(np.int64)\n",
    "            return x, y\n",
    "        else:\n",
    "            return x"
   ]
  },
  {
   "cell_type": "code",
   "execution_count": 47,
   "metadata": {},
   "outputs": [],
   "source": [
    "\"\"\"\n",
    "From https://www.kaggle.com/corochann/deep-learning-cnn-with-chainer-lb-0-99700\n",
    "\"\"\"\n",
    "import cv2\n",
    "from skimage.transform import AffineTransform, warp\n",
    "import numpy as np\n",
    "\n",
    "\n",
    "def affine_image(img):\n",
    "    \"\"\"\n",
    "\n",
    "    Args:\n",
    "        img: (h, w) or (1, h, w)\n",
    "\n",
    "    Returns:\n",
    "        img: (h, w)\n",
    "    \"\"\"\n",
    "    # ch, h, w = img.shape\n",
    "    # img = img / 255.\n",
    "    if img.ndim == 3:\n",
    "        img = img[0]\n",
    "\n",
    "    # --- scale ---\n",
    "    min_scale = 0.8\n",
    "    max_scale = 1.2\n",
    "    sx = np.random.uniform(min_scale, max_scale)\n",
    "    sy = np.random.uniform(min_scale, max_scale)\n",
    "\n",
    "    # --- rotation ---\n",
    "    max_rot_angle = 7\n",
    "    rot_angle = np.random.uniform(-max_rot_angle, max_rot_angle) * np.pi / 180.\n",
    "\n",
    "    # --- shear ---\n",
    "    max_shear_angle = 10\n",
    "    shear_angle = np.random.uniform(-max_shear_angle, max_shear_angle) * np.pi / 180.\n",
    "\n",
    "    # --- translation ---\n",
    "    max_translation = 4\n",
    "    tx = np.random.randint(-max_translation, max_translation)\n",
    "    ty = np.random.randint(-max_translation, max_translation)\n",
    "\n",
    "    tform = AffineTransform(scale=(sx, sy), rotation=rot_angle, shear=shear_angle,\n",
    "                            translation=(tx, ty))\n",
    "    transformed_image = warp(img, tform)\n",
    "    assert transformed_image.ndim == 2\n",
    "    return transformed_image\n",
    "\n",
    "\n",
    "def crop_char_image(image, threshold=40./255.):\n",
    "    assert image.ndim == 2\n",
    "    is_black = image > threshold\n",
    "\n",
    "    is_black_vertical = np.sum(is_black, axis=0) > 0\n",
    "    is_black_horizontal = np.sum(is_black, axis=1) > 0\n",
    "    left = np.argmax(is_black_horizontal)\n",
    "    right = np.argmax(is_black_horizontal[::-1])\n",
    "    top = np.argmax(is_black_vertical)\n",
    "    bottom = np.argmax(is_black_vertical[::-1])\n",
    "    height, width = image.shape\n",
    "    cropped_image = image[left:height - right, top:width - bottom]\n",
    "    return cropped_image\n",
    "\n",
    "\n",
    "def resize(image, size=(128, 128)):\n",
    "    return cv2.resize(image, size)\n"
   ]
  },
  {
   "cell_type": "code",
   "execution_count": null,
   "metadata": {},
   "outputs": [],
   "source": []
  },
  {
   "cell_type": "code",
   "execution_count": 48,
   "metadata": {},
   "outputs": [],
   "source": [
    "# perm = np.random.RandomState(777).permutation(n_dataset)\n",
    "# print('perm', perm)\n",
    "# train_dataset = BengaliAIDataset(\n",
    "#     train_images, train_labels, transform=Transform(size=(image_size, image_size)),\n",
    "#     indices=perm[:train_data_size])\n",
    "# valid_dataset = BengaliAIDataset(\n",
    "#     train_images, transform=Transform(affine=False, crop=True, size=(image_size, image_size)),\n",
    "#     )\n",
    "# print('train_dataset', len(train_dataset), 'valid_dataset', len(valid_dataset))"
   ]
  },
  {
   "cell_type": "code",
   "execution_count": null,
   "metadata": {},
   "outputs": [],
   "source": []
  },
  {
   "cell_type": "code",
   "execution_count": 49,
   "metadata": {},
   "outputs": [],
   "source": [
    "# n_dataset = len(train_images)\n",
    "# train_data_size = 200 if debug else int(n_dataset * 0.9)\n",
    "# valid_data_size = 100 if debug else int(n_dataset - train_data_size)\n",
    "\n",
    "# perm = np.random.RandomState(777).permutation(n_dataset)\n",
    "# print('perm', perm)\n",
    "# train_dataset = BengaliAIDataset(\n",
    "#     train_images, train_labels, transform=Transform(size=(image_size, image_size)),\n",
    "#     indices=perm[:train_data_size])\n",
    "# valid_dataset = BengaliAIDataset(\n",
    "#     train_images, train_labels, transform=Transform(affine=False, crop=True, size=(image_size, image_size)),\n",
    "#     indices=perm[train_data_size:train_data_size+valid_data_size])\n",
    "# print('train_dataset', len(train_dataset), 'valid_dataset', len(valid_dataset))\n",
    "\n",
    "# # --- Model ---\n",
    "# device = torch.device(device)\n",
    "# n_grapheme = 168\n",
    "# n_vowel = 11\n",
    "# n_consonant = 7\n",
    "# n_total = n_grapheme + n_vowel + n_consonant\n",
    "# print('n_total', n_total)\n",
    "# # Set pretrained='imagenet' to download imagenet pretrained model...\n",
    "# predictor = PretrainedCNN(in_channels=1, out_dim=n_total, model_name=model_name, pretrained=None)\n",
    "# print('predictor', type(predictor))\n",
    "\n",
    "# classifier = BengaliClassifier(predictor).to(device)\n"
   ]
  },
  {
   "cell_type": "code",
   "execution_count": null,
   "metadata": {},
   "outputs": [],
   "source": []
  },
  {
   "cell_type": "code",
   "execution_count": null,
   "metadata": {},
   "outputs": [],
   "source": []
  },
  {
   "cell_type": "code",
   "execution_count": 50,
   "metadata": {},
   "outputs": [],
   "source": [
    "perm_dict = {}\n",
    "perm_dict[1] = perm[train_data_size:train_data_size+valid_data_size][perm[train_data_size:train_data_size+valid_data_size]<50210]\n",
    "perm_dict[2] = perm[train_data_size:train_data_size+valid_data_size][np.logical_and(50210<=perm[train_data_size:train_data_size+valid_data_size], perm[train_data_size:train_data_size+valid_data_size]<50210*2)]-50210\n",
    "perm_dict[3] = perm[train_data_size:train_data_size+valid_data_size][np.logical_and(50210*2<=perm[train_data_size:train_data_size+valid_data_size], perm[train_data_size:train_data_size+valid_data_size]<50210*3)]-50210*2\n",
    "perm_dict[4] = perm[train_data_size:train_data_size+valid_data_size][np.logical_and(50210*3<=perm[train_data_size:train_data_size+valid_data_size], perm[train_data_size:train_data_size+valid_data_size]<50210*4)]-50210*3"
   ]
  },
  {
   "cell_type": "code",
   "execution_count": 51,
   "metadata": {
    "scrolled": true
   },
   "outputs": [
    {
     "name": "stderr",
     "output_type": "stream",
     "text": [
      "/home/dohee/anaconda3/envs/Bengali/lib/python3.6/site-packages/chainer_chemistry/__init__.py:13: UserWarning:\n",
      "\n",
      "A module chainer_chemistry.datasets was not imported, probably because RDKit is not installed. To install RDKit, please follow instruction in https://github.com/pfnet-research/chainer-chemistry#installation.\n",
      "\n"
     ]
    },
    {
     "name": "stdout",
     "output_type": "stream",
     "text": [
      "image_df_list 1\n",
      "n_dataset=5066\n"
     ]
    },
    {
     "ename": "FileNotFoundError",
     "evalue": "[Errno 2] No such file or directory: './args_0.json'",
     "output_type": "error",
     "traceback": [
      "\u001b[0;31m---------------------------------------------------------------------------\u001b[0m",
      "\u001b[0;31mFileNotFoundError\u001b[0m                         Traceback (most recent call last)",
      "\u001b[0;32m<ipython-input-51-92fe58adc3b8>\u001b[0m in \u001b[0;36m<module>\u001b[0;34m\u001b[0m\n\u001b[1;32m     23\u001b[0m     \u001b[0;32mfor\u001b[0m \u001b[0mj\u001b[0m \u001b[0;32min\u001b[0m \u001b[0mrange\u001b[0m\u001b[0;34m(\u001b[0m\u001b[0;36m1\u001b[0m\u001b[0;34m)\u001b[0m\u001b[0;34m:\u001b[0m\u001b[0;34m\u001b[0m\u001b[0;34m\u001b[0m\u001b[0m\n\u001b[1;32m     24\u001b[0m         \u001b[0;31m# --- Depends on train configuration ---\u001b[0m\u001b[0;34m\u001b[0m\u001b[0;34m\u001b[0m\u001b[0;34m\u001b[0m\u001b[0m\n\u001b[0;32m---> 25\u001b[0;31m         \u001b[0mtrain_args_dict\u001b[0m \u001b[0;34m=\u001b[0m \u001b[0mload_json\u001b[0m\u001b[0;34m(\u001b[0m\u001b[0mos\u001b[0m\u001b[0;34m.\u001b[0m\u001b[0mpath\u001b[0m\u001b[0;34m.\u001b[0m\u001b[0mjoin\u001b[0m\u001b[0;34m(\u001b[0m\u001b[0;34m'./'\u001b[0m\u001b[0;34m,\u001b[0m \u001b[0;34mf'args_{j}.json'\u001b[0m\u001b[0;34m)\u001b[0m\u001b[0;34m)\u001b[0m\u001b[0;34m\u001b[0m\u001b[0;34m\u001b[0m\u001b[0m\n\u001b[0m\u001b[1;32m     26\u001b[0m         train_args_dict.update({\n\u001b[1;32m     27\u001b[0m             \u001b[0;34m'load_model_path'\u001b[0m\u001b[0;34m:\u001b[0m \u001b[0mos\u001b[0m\u001b[0;34m.\u001b[0m\u001b[0mpath\u001b[0m\u001b[0;34m.\u001b[0m\u001b[0mjoin\u001b[0m\u001b[0;34m(\u001b[0m\u001b[0;34m'./'\u001b[0m\u001b[0;34m,\u001b[0m \u001b[0;34mf'predictor_{j}.pt'\u001b[0m\u001b[0;34m)\u001b[0m\u001b[0;34m,\u001b[0m\u001b[0;34m\u001b[0m\u001b[0;34m\u001b[0m\u001b[0m\n",
      "\u001b[0;32m~/anaconda3/envs/Bengali/lib/python3.6/site-packages/chainer_chemistry/utils/json_utils.py\u001b[0m in \u001b[0;36mload_json\u001b[0;34m(filepath)\u001b[0m\n\u001b[1;32m     68\u001b[0m     \u001b[0mReturns\u001b[0m \u001b[0;34m(\u001b[0m\u001b[0mdict\u001b[0m \u001b[0;32mor\u001b[0m \u001b[0mlist\u001b[0m\u001b[0;34m)\u001b[0m\u001b[0;34m:\u001b[0m \u001b[0mparams\u001b[0m\u001b[0;34m\u001b[0m\u001b[0;34m\u001b[0m\u001b[0m\n\u001b[1;32m     69\u001b[0m     \"\"\"\n\u001b[0;32m---> 70\u001b[0;31m     \u001b[0;32mwith\u001b[0m \u001b[0mopen\u001b[0m\u001b[0;34m(\u001b[0m\u001b[0mfilepath\u001b[0m\u001b[0;34m,\u001b[0m \u001b[0;34m'r'\u001b[0m\u001b[0;34m)\u001b[0m \u001b[0;32mas\u001b[0m \u001b[0mf\u001b[0m\u001b[0;34m:\u001b[0m\u001b[0;34m\u001b[0m\u001b[0;34m\u001b[0m\u001b[0m\n\u001b[0m\u001b[1;32m     71\u001b[0m         \u001b[0mparams\u001b[0m \u001b[0;34m=\u001b[0m \u001b[0mjson\u001b[0m\u001b[0;34m.\u001b[0m\u001b[0mload\u001b[0m\u001b[0;34m(\u001b[0m\u001b[0mf\u001b[0m\u001b[0;34m)\u001b[0m\u001b[0;34m\u001b[0m\u001b[0;34m\u001b[0m\u001b[0m\n\u001b[1;32m     72\u001b[0m     \u001b[0;32mreturn\u001b[0m \u001b[0mparams\u001b[0m\u001b[0;34m\u001b[0m\u001b[0;34m\u001b[0m\u001b[0m\n",
      "\u001b[0;31mFileNotFoundError\u001b[0m: [Errno 2] No such file or directory: './args_0.json'"
     ]
    }
   ],
   "source": [
    "from torch.utils.data.dataloader import DataLoader\n",
    "from chainer_chemistry.utils import save_json, load_json\n",
    "\n",
    "\n",
    "# --- Prediction ---\n",
    "traindir = '../input/bengaliaicv19-trainedmodels/'\n",
    "data_type = 'train'\n",
    "test_preds_list = []\n",
    "\n",
    "for i in range(4):\n",
    "    # --- prepare data ---\n",
    "    indices = [i]\n",
    "    test_images = prepare_image(\n",
    "        datadir, featherdir, data_type=data_type, submission=submission, indices=indices)\n",
    "    \n",
    "    test_images = test_images[perm_dict[i+1]]\n",
    "    n_dataset = len(test_images)\n",
    "    print(f'n_dataset={n_dataset}')\n",
    "    # print(f'i={i}, n_dataset={n_dataset}')\n",
    "    # test_data_size = 200 if debug else int(n_dataset * 0.9)\n",
    "\n",
    "    model_preds_list = []\n",
    "    for j in range(1):\n",
    "        # --- Depends on train configuration ---\n",
    "        train_args_dict = load_json(os.path.join('./', f'args_{j}.json'))\n",
    "        train_args_dict.update({\n",
    "            'load_model_path': os.path.join('./', f'predictor_{j}.pt'),\n",
    "            'device': device,\n",
    "            'batch_size': batch_size,\n",
    "            'debug': debug,\n",
    "        })\n",
    "        print(f'j {j} updated train_args_dict {train_args_dict}')\n",
    "        test_preds = predict_core(\n",
    "                test_images=test_images, n_total=n_total,\n",
    "                **train_args_dict)\n",
    "\n",
    "        model_preds_list.append(test_preds)\n",
    "\n",
    "    # --- ensemble ---\n",
    "    proba0 = torch.mean(torch.stack([test_preds[0] for test_preds in model_preds_list], dim=0), dim=0)\n",
    "    proba1 = torch.mean(torch.stack([test_preds[1] for test_preds in model_preds_list], dim=0), dim=0)\n",
    "    proba2 = torch.mean(torch.stack([test_preds[2] for test_preds in model_preds_list], dim=0), dim=0)\n",
    "    p0 = torch.argmax(proba0, dim=1).cpu().numpy()\n",
    "    p1 = torch.argmax(proba1, dim=1).cpu().numpy()\n",
    "    p2 = torch.argmax(proba2, dim=1).cpu().numpy()\n",
    "    print('p0', p0.shape, 'p1', p1.shape, 'p2', p2.shape)\n",
    "\n",
    "    test_preds_list.append([p0, p1, p2])\n",
    "    if debug:\n",
    "        break\n",
    "    #del test_images\n",
    "    gc.collect()"
   ]
  },
  {
   "cell_type": "code",
   "execution_count": null,
   "metadata": {},
   "outputs": [],
   "source": []
  },
  {
   "cell_type": "code",
   "execution_count": null,
   "metadata": {},
   "outputs": [],
   "source": []
  },
  {
   "cell_type": "code",
   "execution_count": null,
   "metadata": {},
   "outputs": [],
   "source": [
    "# Validation Prediction"
   ]
  },
  {
   "cell_type": "code",
   "execution_count": null,
   "metadata": {},
   "outputs": [],
   "source": [
    "p0 = np.concatenate([test_preds[0] for test_preds in test_preds_list], axis=0)\n",
    "p1 = np.concatenate([test_preds[1] for test_preds in test_preds_list], axis=0)\n",
    "p2 = np.concatenate([test_preds[2] for test_preds in test_preds_list], axis=0)\n",
    "print('concat:', 'p0', p0.shape, 'p1', p1.shape, 'p2', p2.shape)\n",
    "\n",
    "row_id = []\n",
    "target = []\n",
    "for i in tqdm(range(len(p0))):\n",
    "    \n",
    "    j=np.copy(i)\n",
    "    target += [p0[i], p1[i], p2[i]]\n",
    "    \n",
    "    if i<5066:\n",
    "        i = perm_dict[1][i]\n",
    "    elif i<5066+4990:\n",
    "        i = perm_dict[2][i-5066]+50210\n",
    "    elif i<5066+4990+5033:\n",
    "        i = perm_dict[3][i-(5066+4990)]+50210*2\n",
    "    elif i<5066+4990+5033+4995:\n",
    "        i = perm_dict[4][i-(5066+4990+5033)]+50210*3\n",
    "    else:\n",
    "        print(\"index error\")\n",
    "        \n",
    "    row_id += [f'Train_{i}_grapheme_root', f'Train_{i}_vowel_diacritic',\n",
    "               f'Train_{i}_consonant_diacritic']\n",
    "    \n",
    "#submission_df = pd.DataFrame({'row_id': row_id, 'target': target})\n",
    "#submission_df.to_csv('submission.csv', index=False)\n"
   ]
  },
  {
   "cell_type": "code",
   "execution_count": null,
   "metadata": {},
   "outputs": [],
   "source": []
  },
  {
   "cell_type": "code",
   "execution_count": null,
   "metadata": {},
   "outputs": [],
   "source": [
    "pd.DataFrame({'row_id': row_id, 'target': target})\n",
    "predict_df = pd.DataFrame({'row_id': row_id, 'target': target})\n",
    "predict_label = np.array(predict_df['target'])\n",
    "predict_label"
   ]
  },
  {
   "cell_type": "code",
   "execution_count": null,
   "metadata": {},
   "outputs": [],
   "source": [
    "true_df = train[['grapheme_root', 'vowel_diacritic', 'consonant_diacritic']].iloc[np.concatenate([perm_dict[1],perm_dict[2]+50210,perm_dict[3]+2*50210,perm_dict[4]+3*50210],axis=0),:]\n",
    "true_label = true_df.values.reshape(1,-1)[0]\n",
    "true_label"
   ]
  },
  {
   "cell_type": "code",
   "execution_count": null,
   "metadata": {},
   "outputs": [],
   "source": [
    "(predict_label==true_label).sum()/true_label.shape[0]"
   ]
  },
  {
   "cell_type": "code",
   "execution_count": null,
   "metadata": {},
   "outputs": [],
   "source": [
    "predict_df['row_id']"
   ]
  },
  {
   "cell_type": "code",
   "execution_count": null,
   "metadata": {},
   "outputs": [],
   "source": []
  },
  {
   "cell_type": "markdown",
   "metadata": {},
   "source": [
    "# grapheme"
   ]
  },
  {
   "cell_type": "code",
   "execution_count": null,
   "metadata": {
    "scrolled": true
   },
   "outputs": [],
   "source": [
    "# 한 종류만 보기\n",
    "combined_df = predict_df[predict_df['row_id'].map(lambda x: x.split('_')[-2]=='grapheme')]\n",
    "# 인덱스 초기화\n",
    "combined_df = combined_df.reset_index(drop=True)\n",
    "# 'true_label' 추가\n",
    "combined_df['true_label']=pd.Series(true_df.values.reshape(1,-1)[0][list(predict_df['row_id'].map(lambda x: x.split('_')[-2]=='grapheme'))])\n",
    "combined_df.rename(columns = {'target': 'prediction'}, inplace = True)\n",
    "print(\"정답률:\", np.sum(combined_df['prediction']==combined_df['true_label'])/combined_df.shape[0])"
   ]
  },
  {
   "cell_type": "markdown",
   "metadata": {},
   "source": [
    "# vowel"
   ]
  },
  {
   "cell_type": "code",
   "execution_count": null,
   "metadata": {},
   "outputs": [],
   "source": [
    "# 한 종류만 보기\n",
    "combined_df = predict_df[predict_df['row_id'].map(lambda x: x.split('_')[-2]=='vowel')]\n",
    "# 인덱스 초기화\n",
    "combined_df = combined_df.reset_index(drop=True)\n",
    "# 'true_label' 추가\n",
    "combined_df['true_label']=pd.Series(true_df.values.reshape(1,-1)[0][list(predict_df['row_id'].map(lambda x: x.split('_')[-2]=='vowel'))])\n",
    "combined_df.rename(columns = {'target': 'prediction'}, inplace = True)\n",
    "print(\"정답률:\", np.sum(combined_df['prediction']==combined_df['true_label'])/combined_df.shape[0])"
   ]
  },
  {
   "cell_type": "markdown",
   "metadata": {},
   "source": [
    "# consonant"
   ]
  },
  {
   "cell_type": "code",
   "execution_count": null,
   "metadata": {},
   "outputs": [],
   "source": [
    "# 한 종류만 보기\n",
    "combined_df = predict_df[predict_df['row_id'].map(lambda x: x.split('_')[-2]=='consonant')]\n",
    "# 인덱스 초기화\n",
    "combined_df = combined_df.reset_index(drop=True)\n",
    "# 'true_label' 추가\n",
    "combined_df['true_label']=pd.Series(true_df.values.reshape(1,-1)[0][list(predict_df['row_id'].map(lambda x: x.split('_')[-2]=='consonant'))])\n",
    "combined_df.rename(columns = {'target': 'prediction'}, inplace = True)\n",
    "print(\"정답률:\", np.sum(combined_df['prediction']==combined_df['true_label'])/combined_df.shape[0])"
   ]
  },
  {
   "cell_type": "code",
   "execution_count": null,
   "metadata": {},
   "outputs": [],
   "source": []
  },
  {
   "cell_type": "markdown",
   "metadata": {},
   "source": [
    "# 예측, 정답 데이터프레임"
   ]
  },
  {
   "cell_type": "code",
   "execution_count": null,
   "metadata": {},
   "outputs": [],
   "source": [
    "combined_df['correct']= combined_df['prediction']==combined_df['true_label']\n",
    "# 인덱스 바꿔주기\n",
    "#combined_df.index = pd.Index(combined_df['row_id'].map(lambda x:x.split('_')[-3]).astype(np.int64))\n",
    "combined_df.index = list(combined_df['row_id'].map(lambda x:x.split('_')[-3]).astype(np.int64))"
   ]
  },
  {
   "cell_type": "markdown",
   "metadata": {},
   "source": [
    "# 라벨별 정확도"
   ]
  },
  {
   "cell_type": "code",
   "execution_count": null,
   "metadata": {},
   "outputs": [],
   "source": [
    "allcount_dict = dict(combined_df['true_label'].value_counts())\n",
    "tcount_dict = dict(combined_df[combined_df['correct']==True]['true_label'].value_counts())\n",
    "\n",
    "acc_dict = {}\n",
    "for i in allcount_dict.keys():\n",
    "    acc_dict[i] = tcount_dict[i]/allcount_dict[i]\n",
    "acc_dict = {k: v for k, v in sorted(acc_dict.items(), key=lambda item: item[1])}\n",
    "acc_dict"
   ]
  },
  {
   "cell_type": "code",
   "execution_count": null,
   "metadata": {},
   "outputs": [],
   "source": []
  },
  {
   "cell_type": "markdown",
   "metadata": {},
   "source": [
    "# 라벨별로 참, 거짓 이미지 확인"
   ]
  },
  {
   "cell_type": "code",
   "execution_count": null,
   "metadata": {},
   "outputs": [],
   "source": [
    "label = 61\n",
    "\n",
    "subset_df = combined_df[combined_df['true_label']==label]\n",
    "\n",
    "n_fig = 10\n",
    "f_index = subset_df[subset_df['correct']==False].index[:n_fig]\n",
    "t_index = subset_df[subset_df['correct']==True].index[:n_fig]\n",
    "\n",
    "nrow, ncol = 3, 3\n",
    "\n",
    "fig, axes = plt.subplots(nrow, ncol, figsize=(20, 8))\n",
    "axes = axes.flatten()\n",
    "for i, ax in tqdm(enumerate(axes)):\n",
    "    i = t_index[i]\n",
    "    image, label = train_dataset[i]\n",
    "    ax.imshow(image, cmap='Greys')\n",
    "    #ax.set_title(f'label: {label}')\n",
    "    ax.set_title(\"true: \" + str(combined_df.loc[i]['true_label'])+\", prediction:\" + str(combined_df.loc[i]['prediction'])+\"\\n\"+str(label))\n",
    "plt.tight_layout()\n",
    "plt.show()\n",
    "\n",
    "\n",
    "nrow, ncol = 3, 3\n",
    "\n",
    "fig, axes = plt.subplots(nrow, ncol, figsize=(20, 8))\n",
    "axes = axes.flatten()\n",
    "for i, ax in tqdm(enumerate(axes)):\n",
    "    i = f_index[i]\n",
    "    image, label = train_dataset[i]\n",
    "    ax.imshow(image, cmap='Greys')\n",
    "    #ax.set_title(f'label: {label}')\n",
    "    ax.set_title(\"true: \" + str(combined_df.loc[i]['true_label'])+\", prediction:\" + str(combined_df.loc[i]['prediction'])+\"\\n\"+str(label))\n",
    "plt.tight_layout()\n",
    "plt.show()"
   ]
  },
  {
   "cell_type": "code",
   "execution_count": null,
   "metadata": {},
   "outputs": [],
   "source": [
    "label = 84\n",
    "\n",
    "subset_df = combined_df[combined_df['true_label']==label]\n",
    "\n",
    "n_fig = 10\n",
    "f_index = subset_df[subset_df['correct']==False].index[:n_fig]\n",
    "t_index = subset_df[subset_df['correct']==True].index[:n_fig]\n",
    "\n",
    "nrow, ncol = 3, 3\n",
    "\n",
    "fig, axes = plt.subplots(nrow, ncol, figsize=(20, 8))\n",
    "axes = axes.flatten()\n",
    "for i, ax in tqdm(enumerate(axes)):\n",
    "    i = t_index[i]\n",
    "    image, label = train_dataset[i]\n",
    "    ax.imshow(image, cmap='Greys')\n",
    "    #ax.set_title(f'label: {label}')\n",
    "    ax.set_title(\"true: \" + str(combined_df.loc[i]['true_label'])+\", prediction:\" + str(combined_df.loc[i]['prediction'])+\"\\n\"+str(label))\n",
    "plt.tight_layout()\n",
    "plt.show()\n",
    "\n",
    "\n",
    "nrow, ncol = 3, 3\n",
    "\n",
    "fig, axes = plt.subplots(nrow, ncol, figsize=(20, 8))\n",
    "axes = axes.flatten()\n",
    "for i, ax in tqdm(enumerate(axes)):\n",
    "    i = f_index[i]\n",
    "    image, label = train_dataset[i]\n",
    "    ax.imshow(image, cmap='Greys')\n",
    "    #ax.set_title(f'label: {label}')\n",
    "    ax.set_title(\"true: \" + str(combined_df.loc[i]['true_label'])+\", prediction:\" + str(combined_df.loc[i]['prediction'])+\"\\n\"+str(label))\n",
    "plt.tight_layout()\n",
    "plt.show()"
   ]
  },
  {
   "cell_type": "code",
   "execution_count": null,
   "metadata": {},
   "outputs": [],
   "source": []
  },
  {
   "cell_type": "code",
   "execution_count": null,
   "metadata": {},
   "outputs": [],
   "source": [
    "fig, axes = plt.subplots(1, 1, figsize=(22, 6))\n",
    "plt.title('Label Count')\n",
    "sns.countplot(x=\"grapheme_root\",data=train)"
   ]
  },
  {
   "cell_type": "code",
   "execution_count": null,
   "metadata": {},
   "outputs": [],
   "source": [
    "plt.imshow(train_dataset[0][0])"
   ]
  },
  {
   "cell_type": "code",
   "execution_count": null,
   "metadata": {},
   "outputs": [],
   "source": [
    "nrow, ncol = 5, 6\n",
    "\n",
    "fig, axes = plt.subplots(nrow, ncol, figsize=(20, 8))\n",
    "axes = axes.flatten()\n",
    "for i, ax in tqdm(enumerate(axes)):\n",
    "    image, label = train_dataset[i]\n",
    "    ax.imshow(image, cmap='Greys')\n",
    "    ax.set_title(f'label: {label}')\n",
    "plt.tight_layout()\n",
    "plt.show()"
   ]
  },
  {
   "cell_type": "code",
   "execution_count": null,
   "metadata": {},
   "outputs": [],
   "source": []
  },
  {
   "cell_type": "markdown",
   "metadata": {},
   "source": [
    "<a id=\"ref\"></a>\n",
    "# Reference and further reading\n",
    "\n",
    "#### Kernel\n",
    "\n",
    "**[Bangali.AI super fast data loading with feather](https://www.kaggle.com/corochann/bangali-ai-super-fast-data-loading-with-feather)**<br>\n",
    "Simple example of how use feather format data to load data faster.\n",
    "\n",
    "**[Bengali: albumentations data augmentation tutorial](https://www.kaggle.com/corochann/bengali-albumentations-data-augmentation-tutorial)**<br>\n",
    "Tutorial for Data augmentations with albumentations library.\n",
    "\n",
    "**[Bengali: SEResNeXt prediction with pytorch](https://www.kaggle.com/corochann/bengali-seresnext-prediction-with-pytorch)**<br>\n",
    "**Prediction code of this kernel's trained model, please check this too!**\n",
    "\n",
    "**[Deep learning - CNN with Chainer: LB 0.99700](https://www.kaggle.com/corochann/deep-learning-cnn-with-chainer-lb-0-99700)**<br>\n",
    "Data augmentation idea is based on this kernel, which achieves quite high accuracy on MNIST task.\n",
    "\n",
    "#### Dataset\n",
    "**[bengaliai-cv19-feather](https://www.kaggle.com/corochann/bengaliaicv19feather)**<br>\n",
    "Feather format dataset\n",
    "\n",
    "**[bengaliaicv19_seresnext101_32x4d](https://www.kaggle.com/corochann/bengaliaicv19-seresnext101-32x4d)**<br>\n",
    "**Trained model weight with this kernel(v1)**\n",
    "\n",
    "**[bengaliaicv19_trainedmodels](https://www.kaggle.com/corochann/bengaliaicv19-trainedmodels)**<br>\n",
    "**Trained model weight with this kernel(v2~)**\n",
    "\n",
    "#### Library\n",
    "**https://github.com/pytorch/ignite**\n",
    "\n",
    "Used for training code abstraction. The advantage of abstracting the code is that we can re-use implemented handler class for other training, other competition.<br>\n",
    "You don't need to write code for saving models, logging training loss/metric, show progressbar etc.\n",
    "\n",
    "**https://github.com/Cadene/pretrained-models.pytorch**\n",
    "\n",
    "Many pretrained models are supported by this library, and we can switch to use them easily.\n",
    "Other model may perform better in this competition.\n",
    "\n",
    "**https://github.com/albumentations-team/albumentations**\n",
    "\n",
    "fast image augmentation library and easy to use wrapper around other libraries https://arxiv.org/abs/1809.06839<br>\n",
    "I could not show all the methods, you can find more methods in the library, check yourself!"
   ]
  },
  {
   "cell_type": "markdown",
   "metadata": {},
   "source": [
    "<h3 style=\"color:red\">If this kernel helps you, please upvote to keep me motivated :)<br>Thanks!</h3>"
   ]
  },
  {
   "cell_type": "code",
   "execution_count": null,
   "metadata": {},
   "outputs": [],
   "source": []
  }
 ],
 "metadata": {
  "kernelspec": {
   "display_name": "Bengali",
   "language": "python",
   "name": "bengali"
  },
  "language_info": {
   "codemirror_mode": {
    "name": "ipython",
    "version": 3
   },
   "file_extension": ".py",
   "mimetype": "text/x-python",
   "name": "python",
   "nbconvert_exporter": "python",
   "pygments_lexer": "ipython3",
   "version": "3.6.8"
  },
  "widgets": {
   "application/vnd.jupyter.widget-state+json": {
    "state": {
     "003455a3f76e462989dc8f5918b5e2bc": {
      "model_module": "@jupyter-widgets/base",
      "model_module_version": "1.2.0",
      "model_name": "LayoutModel",
      "state": {
       "_model_module": "@jupyter-widgets/base",
       "_model_module_version": "1.2.0",
       "_model_name": "LayoutModel",
       "_view_count": null,
       "_view_module": "@jupyter-widgets/base",
       "_view_module_version": "1.2.0",
       "_view_name": "LayoutView",
       "align_content": null,
       "align_items": null,
       "align_self": null,
       "border": null,
       "bottom": null,
       "display": null,
       "flex": null,
       "flex_flow": null,
       "grid_area": null,
       "grid_auto_columns": null,
       "grid_auto_flow": null,
       "grid_auto_rows": null,
       "grid_column": null,
       "grid_gap": null,
       "grid_row": null,
       "grid_template_areas": null,
       "grid_template_columns": null,
       "grid_template_rows": null,
       "height": null,
       "justify_content": null,
       "justify_items": null,
       "left": null,
       "margin": null,
       "max_height": null,
       "max_width": null,
       "min_height": null,
       "min_width": null,
       "object_fit": null,
       "object_position": null,
       "order": null,
       "overflow": null,
       "overflow_x": null,
       "overflow_y": null,
       "padding": null,
       "right": null,
       "top": null,
       "visibility": null,
       "width": null
      }
     },
     "0160d992f66e44bba4e99a432005bb53": {
      "model_module": "@jupyter-widgets/controls",
      "model_module_version": "1.5.0",
      "model_name": "HTMLModel",
      "state": {
       "_dom_classes": [],
       "_model_module": "@jupyter-widgets/controls",
       "_model_module_version": "1.5.0",
       "_model_name": "HTMLModel",
       "_view_count": null,
       "_view_module": "@jupyter-widgets/controls",
       "_view_module_version": "1.5.0",
       "_view_name": "HTMLView",
       "description": "",
       "description_tooltip": null,
       "layout": "IPY_MODEL_04ccf740a8de458486499beff54f5fca",
       "placeholder": "​",
       "style": "IPY_MODEL_f76974dd7d5c49cda99393efe40e8a61",
       "value": ", acc_consonant=0.549, acc_grapheme=0.201, acc_vowel=0.464, loss=7.44, loss_consonant=1.59, loss_grapheme=4.16, loss_vowel=1.69, recall=0.275 [00:01&lt;00:00]"
      }
     },
     "01862e3426f44e80a32776bc42a92762": {
      "model_module": "@jupyter-widgets/controls",
      "model_module_version": "1.5.0",
      "model_name": "IntProgressModel",
      "state": {
       "_dom_classes": [],
       "_model_module": "@jupyter-widgets/controls",
       "_model_module_version": "1.5.0",
       "_model_name": "IntProgressModel",
       "_view_count": null,
       "_view_module": "@jupyter-widgets/controls",
       "_view_module_version": "1.5.0",
       "_view_name": "ProgressView",
       "bar_style": "",
       "description": "Epoch [10/10]: [7/7] 100%",
       "description_tooltip": null,
       "layout": "IPY_MODEL_4e7e691144c24145993ec5ab8c37095a",
       "max": 7,
       "min": 0,
       "orientation": "horizontal",
       "style": "IPY_MODEL_62e813082cd84b349be4970c36506709",
       "value": 7
      }
     },
     "025e6ce14f4540c0bc220fc29b591177": {
      "model_module": "@jupyter-widgets/controls",
      "model_module_version": "1.5.0",
      "model_name": "ProgressStyleModel",
      "state": {
       "_model_module": "@jupyter-widgets/controls",
       "_model_module_version": "1.5.0",
       "_model_name": "ProgressStyleModel",
       "_view_count": null,
       "_view_module": "@jupyter-widgets/base",
       "_view_module_version": "1.2.0",
       "_view_name": "StyleView",
       "bar_color": null,
       "description_width": "initial"
      }
     },
     "03e301b22c424672992a54c6c8e4d288": {
      "model_module": "@jupyter-widgets/controls",
      "model_module_version": "1.5.0",
      "model_name": "HBoxModel",
      "state": {
       "_dom_classes": [],
       "_model_module": "@jupyter-widgets/controls",
       "_model_module_version": "1.5.0",
       "_model_name": "HBoxModel",
       "_view_count": null,
       "_view_module": "@jupyter-widgets/controls",
       "_view_module_version": "1.5.0",
       "_view_name": "HBoxView",
       "box_style": "",
       "children": [
        "IPY_MODEL_4fde98b59321448e9acef9fc7671711e",
        "IPY_MODEL_e54cbbf92da24a3d8fe549341193a719"
       ],
       "layout": "IPY_MODEL_945c8e2595dc4ba9ab0a3442b1ab0d91"
      }
     },
     "04ccf740a8de458486499beff54f5fca": {
      "model_module": "@jupyter-widgets/base",
      "model_module_version": "1.2.0",
      "model_name": "LayoutModel",
      "state": {
       "_model_module": "@jupyter-widgets/base",
       "_model_module_version": "1.2.0",
       "_model_name": "LayoutModel",
       "_view_count": null,
       "_view_module": "@jupyter-widgets/base",
       "_view_module_version": "1.2.0",
       "_view_name": "LayoutView",
       "align_content": null,
       "align_items": null,
       "align_self": null,
       "border": null,
       "bottom": null,
       "display": null,
       "flex": null,
       "flex_flow": null,
       "grid_area": null,
       "grid_auto_columns": null,
       "grid_auto_flow": null,
       "grid_auto_rows": null,
       "grid_column": null,
       "grid_gap": null,
       "grid_row": null,
       "grid_template_areas": null,
       "grid_template_columns": null,
       "grid_template_rows": null,
       "height": null,
       "justify_content": null,
       "justify_items": null,
       "left": null,
       "margin": null,
       "max_height": null,
       "max_width": null,
       "min_height": null,
       "min_width": null,
       "object_fit": null,
       "object_position": null,
       "order": null,
       "overflow": null,
       "overflow_x": null,
       "overflow_y": null,
       "padding": null,
       "right": null,
       "top": null,
       "visibility": null,
       "width": null
      }
     },
     "052b457f704b4a2396f66e268c1defdf": {
      "model_module": "@jupyter-widgets/base",
      "model_module_version": "1.2.0",
      "model_name": "LayoutModel",
      "state": {
       "_model_module": "@jupyter-widgets/base",
       "_model_module_version": "1.2.0",
       "_model_name": "LayoutModel",
       "_view_count": null,
       "_view_module": "@jupyter-widgets/base",
       "_view_module_version": "1.2.0",
       "_view_name": "LayoutView",
       "align_content": null,
       "align_items": null,
       "align_self": null,
       "border": null,
       "bottom": null,
       "display": null,
       "flex": null,
       "flex_flow": null,
       "grid_area": null,
       "grid_auto_columns": null,
       "grid_auto_flow": null,
       "grid_auto_rows": null,
       "grid_column": null,
       "grid_gap": null,
       "grid_row": null,
       "grid_template_areas": null,
       "grid_template_columns": null,
       "grid_template_rows": null,
       "height": null,
       "justify_content": null,
       "justify_items": null,
       "left": null,
       "margin": null,
       "max_height": null,
       "max_width": null,
       "min_height": null,
       "min_width": null,
       "object_fit": null,
       "object_position": null,
       "order": null,
       "overflow": null,
       "overflow_x": null,
       "overflow_y": null,
       "padding": null,
       "right": null,
       "top": null,
       "visibility": null,
       "width": null
      }
     },
     "066b716b0fc64967ad1c9277739734f2": {
      "model_module": "@jupyter-widgets/controls",
      "model_module_version": "1.5.0",
      "model_name": "HBoxModel",
      "state": {
       "_dom_classes": [],
       "_model_module": "@jupyter-widgets/controls",
       "_model_module_version": "1.5.0",
       "_model_name": "HBoxModel",
       "_view_count": null,
       "_view_module": "@jupyter-widgets/controls",
       "_view_module_version": "1.5.0",
       "_view_name": "HBoxView",
       "box_style": "",
       "children": [
        "IPY_MODEL_50ec360ce132466eacb2f6fb2696548c",
        "IPY_MODEL_469969ae06434d16b85154cb1e7baf03"
       ],
       "layout": "IPY_MODEL_7ba6392660f0482a91d6bee7e2074f33"
      }
     },
     "071e854f10b14ba288cd530cbed57ad1": {
      "model_module": "@jupyter-widgets/controls",
      "model_module_version": "1.5.0",
      "model_name": "HBoxModel",
      "state": {
       "_dom_classes": [],
       "_model_module": "@jupyter-widgets/controls",
       "_model_module_version": "1.5.0",
       "_model_name": "HBoxModel",
       "_view_count": null,
       "_view_module": "@jupyter-widgets/controls",
       "_view_module_version": "1.5.0",
       "_view_name": "HBoxView",
       "box_style": "",
       "children": [
        "IPY_MODEL_cc0419ce7e3445ce8325c5e0876490ce",
        "IPY_MODEL_e2855c55edfa44c79eb40fb0cc7dfff3"
       ],
       "layout": "IPY_MODEL_bca64c0170c547e79628defb3668841d"
      }
     },
     "07ca477e64014a7eaa6e2f019ddabcdc": {
      "model_module": "@jupyter-widgets/controls",
      "model_module_version": "1.5.0",
      "model_name": "ProgressStyleModel",
      "state": {
       "_model_module": "@jupyter-widgets/controls",
       "_model_module_version": "1.5.0",
       "_model_name": "ProgressStyleModel",
       "_view_count": null,
       "_view_module": "@jupyter-widgets/base",
       "_view_module_version": "1.2.0",
       "_view_name": "StyleView",
       "bar_color": null,
       "description_width": "initial"
      }
     },
     "0b333c91fe844fce993917157af849e6": {
      "model_module": "@jupyter-widgets/base",
      "model_module_version": "1.2.0",
      "model_name": "LayoutModel",
      "state": {
       "_model_module": "@jupyter-widgets/base",
       "_model_module_version": "1.2.0",
       "_model_name": "LayoutModel",
       "_view_count": null,
       "_view_module": "@jupyter-widgets/base",
       "_view_module_version": "1.2.0",
       "_view_name": "LayoutView",
       "align_content": null,
       "align_items": null,
       "align_self": null,
       "border": null,
       "bottom": null,
       "display": null,
       "flex": null,
       "flex_flow": null,
       "grid_area": null,
       "grid_auto_columns": null,
       "grid_auto_flow": null,
       "grid_auto_rows": null,
       "grid_column": null,
       "grid_gap": null,
       "grid_row": null,
       "grid_template_areas": null,
       "grid_template_columns": null,
       "grid_template_rows": null,
       "height": null,
       "justify_content": null,
       "justify_items": null,
       "left": null,
       "margin": null,
       "max_height": null,
       "max_width": null,
       "min_height": null,
       "min_width": null,
       "object_fit": null,
       "object_position": null,
       "order": null,
       "overflow": null,
       "overflow_x": null,
       "overflow_y": null,
       "padding": null,
       "right": null,
       "top": null,
       "visibility": null,
       "width": null
      }
     },
     "0e51f99fb6bd411b9af7d2a3ea288301": {
      "model_module": "@jupyter-widgets/base",
      "model_module_version": "1.2.0",
      "model_name": "LayoutModel",
      "state": {
       "_model_module": "@jupyter-widgets/base",
       "_model_module_version": "1.2.0",
       "_model_name": "LayoutModel",
       "_view_count": null,
       "_view_module": "@jupyter-widgets/base",
       "_view_module_version": "1.2.0",
       "_view_name": "LayoutView",
       "align_content": null,
       "align_items": null,
       "align_self": null,
       "border": null,
       "bottom": null,
       "display": null,
       "flex": null,
       "flex_flow": null,
       "grid_area": null,
       "grid_auto_columns": null,
       "grid_auto_flow": null,
       "grid_auto_rows": null,
       "grid_column": null,
       "grid_gap": null,
       "grid_row": null,
       "grid_template_areas": null,
       "grid_template_columns": null,
       "grid_template_rows": null,
       "height": null,
       "justify_content": null,
       "justify_items": null,
       "left": null,
       "margin": null,
       "max_height": null,
       "max_width": null,
       "min_height": null,
       "min_width": null,
       "object_fit": null,
       "object_position": null,
       "order": null,
       "overflow": null,
       "overflow_x": null,
       "overflow_y": null,
       "padding": null,
       "right": null,
       "top": null,
       "visibility": null,
       "width": null
      }
     },
     "0fcbb5c7492f4bc2bfbcb7db0c52f507": {
      "model_module": "@jupyter-widgets/controls",
      "model_module_version": "1.5.0",
      "model_name": "IntProgressModel",
      "state": {
       "_dom_classes": [],
       "_model_module": "@jupyter-widgets/controls",
       "_model_module_version": "1.5.0",
       "_model_name": "IntProgressModel",
       "_view_count": null,
       "_view_module": "@jupyter-widgets/controls",
       "_view_module_version": "1.5.0",
       "_view_name": "ProgressView",
       "bar_style": "success",
       "description": "",
       "description_tooltip": null,
       "layout": "IPY_MODEL_628487ded9ea434b991fd9ad24cd46df",
       "max": 1,
       "min": 0,
       "orientation": "horizontal",
       "style": "IPY_MODEL_fe0d96b7dace48bb9646e8254a64550a",
       "value": 1
      }
     },
     "17db07a7781c4576b5dc66f365b297db": {
      "model_module": "@jupyter-widgets/base",
      "model_module_version": "1.2.0",
      "model_name": "LayoutModel",
      "state": {
       "_model_module": "@jupyter-widgets/base",
       "_model_module_version": "1.2.0",
       "_model_name": "LayoutModel",
       "_view_count": null,
       "_view_module": "@jupyter-widgets/base",
       "_view_module_version": "1.2.0",
       "_view_name": "LayoutView",
       "align_content": null,
       "align_items": null,
       "align_self": null,
       "border": null,
       "bottom": null,
       "display": null,
       "flex": null,
       "flex_flow": null,
       "grid_area": null,
       "grid_auto_columns": null,
       "grid_auto_flow": null,
       "grid_auto_rows": null,
       "grid_column": null,
       "grid_gap": null,
       "grid_row": null,
       "grid_template_areas": null,
       "grid_template_columns": null,
       "grid_template_rows": null,
       "height": null,
       "justify_content": null,
       "justify_items": null,
       "left": null,
       "margin": null,
       "max_height": null,
       "max_width": null,
       "min_height": null,
       "min_width": null,
       "object_fit": null,
       "object_position": null,
       "order": null,
       "overflow": null,
       "overflow_x": null,
       "overflow_y": null,
       "padding": null,
       "right": null,
       "top": null,
       "visibility": null,
       "width": null
      }
     },
     "183b694071124aeaabb783fa2d314df6": {
      "model_module": "@jupyter-widgets/base",
      "model_module_version": "1.2.0",
      "model_name": "LayoutModel",
      "state": {
       "_model_module": "@jupyter-widgets/base",
       "_model_module_version": "1.2.0",
       "_model_name": "LayoutModel",
       "_view_count": null,
       "_view_module": "@jupyter-widgets/base",
       "_view_module_version": "1.2.0",
       "_view_name": "LayoutView",
       "align_content": null,
       "align_items": null,
       "align_self": null,
       "border": null,
       "bottom": null,
       "display": null,
       "flex": null,
       "flex_flow": null,
       "grid_area": null,
       "grid_auto_columns": null,
       "grid_auto_flow": null,
       "grid_auto_rows": null,
       "grid_column": null,
       "grid_gap": null,
       "grid_row": null,
       "grid_template_areas": null,
       "grid_template_columns": null,
       "grid_template_rows": null,
       "height": null,
       "justify_content": null,
       "justify_items": null,
       "left": null,
       "margin": null,
       "max_height": null,
       "max_width": null,
       "min_height": null,
       "min_width": null,
       "object_fit": null,
       "object_position": null,
       "order": null,
       "overflow": null,
       "overflow_x": null,
       "overflow_y": null,
       "padding": null,
       "right": null,
       "top": null,
       "visibility": null,
       "width": null
      }
     },
     "1a67e30d4ff34596bc81352f0a244e68": {
      "model_module": "@jupyter-widgets/controls",
      "model_module_version": "1.5.0",
      "model_name": "HBoxModel",
      "state": {
       "_dom_classes": [],
       "_model_module": "@jupyter-widgets/controls",
       "_model_module_version": "1.5.0",
       "_model_name": "HBoxModel",
       "_view_count": null,
       "_view_module": "@jupyter-widgets/controls",
       "_view_module_version": "1.5.0",
       "_view_name": "HBoxView",
       "box_style": "",
       "children": [
        "IPY_MODEL_01862e3426f44e80a32776bc42a92762",
        "IPY_MODEL_6c9f3f5279314b97bbea5c05248752ec"
       ],
       "layout": "IPY_MODEL_94e11e6462ae4d4e827be47a8a7a54ab"
      }
     },
     "1ddc85c9726d495fb8e9d56b456da48e": {
      "model_module": "@jupyter-widgets/controls",
      "model_module_version": "1.5.0",
      "model_name": "DescriptionStyleModel",
      "state": {
       "_model_module": "@jupyter-widgets/controls",
       "_model_module_version": "1.5.0",
       "_model_name": "DescriptionStyleModel",
       "_view_count": null,
       "_view_module": "@jupyter-widgets/base",
       "_view_module_version": "1.2.0",
       "_view_name": "StyleView",
       "description_width": ""
      }
     },
     "20a379929c8f482c89db2fa4f77da403": {
      "model_module": "@jupyter-widgets/base",
      "model_module_version": "1.2.0",
      "model_name": "LayoutModel",
      "state": {
       "_model_module": "@jupyter-widgets/base",
       "_model_module_version": "1.2.0",
       "_model_name": "LayoutModel",
       "_view_count": null,
       "_view_module": "@jupyter-widgets/base",
       "_view_module_version": "1.2.0",
       "_view_name": "LayoutView",
       "align_content": null,
       "align_items": null,
       "align_self": null,
       "border": null,
       "bottom": null,
       "display": null,
       "flex": null,
       "flex_flow": null,
       "grid_area": null,
       "grid_auto_columns": null,
       "grid_auto_flow": null,
       "grid_auto_rows": null,
       "grid_column": null,
       "grid_gap": null,
       "grid_row": null,
       "grid_template_areas": null,
       "grid_template_columns": null,
       "grid_template_rows": null,
       "height": null,
       "justify_content": null,
       "justify_items": null,
       "left": null,
       "margin": null,
       "max_height": null,
       "max_width": null,
       "min_height": null,
       "min_width": null,
       "object_fit": null,
       "object_position": null,
       "order": null,
       "overflow": null,
       "overflow_x": null,
       "overflow_y": null,
       "padding": null,
       "right": null,
       "top": null,
       "visibility": null,
       "width": null
      }
     },
     "20fb74bc8c5a446ca63db79973376954": {
      "model_module": "@jupyter-widgets/base",
      "model_module_version": "1.2.0",
      "model_name": "LayoutModel",
      "state": {
       "_model_module": "@jupyter-widgets/base",
       "_model_module_version": "1.2.0",
       "_model_name": "LayoutModel",
       "_view_count": null,
       "_view_module": "@jupyter-widgets/base",
       "_view_module_version": "1.2.0",
       "_view_name": "LayoutView",
       "align_content": null,
       "align_items": null,
       "align_self": null,
       "border": null,
       "bottom": null,
       "display": null,
       "flex": null,
       "flex_flow": null,
       "grid_area": null,
       "grid_auto_columns": null,
       "grid_auto_flow": null,
       "grid_auto_rows": null,
       "grid_column": null,
       "grid_gap": null,
       "grid_row": null,
       "grid_template_areas": null,
       "grid_template_columns": null,
       "grid_template_rows": null,
       "height": null,
       "justify_content": null,
       "justify_items": null,
       "left": null,
       "margin": null,
       "max_height": null,
       "max_width": null,
       "min_height": null,
       "min_width": null,
       "object_fit": null,
       "object_position": null,
       "order": null,
       "overflow": null,
       "overflow_x": null,
       "overflow_y": null,
       "padding": null,
       "right": null,
       "top": null,
       "visibility": null,
       "width": null
      }
     },
     "231a642ee4d24fb8a186f304807d3e41": {
      "model_module": "@jupyter-widgets/controls",
      "model_module_version": "1.5.0",
      "model_name": "DescriptionStyleModel",
      "state": {
       "_model_module": "@jupyter-widgets/controls",
       "_model_module_version": "1.5.0",
       "_model_name": "DescriptionStyleModel",
       "_view_count": null,
       "_view_module": "@jupyter-widgets/base",
       "_view_module_version": "1.2.0",
       "_view_name": "StyleView",
       "description_width": ""
      }
     },
     "24d7700dcae94218be0501e9284e626a": {
      "model_module": "@jupyter-widgets/controls",
      "model_module_version": "1.5.0",
      "model_name": "HBoxModel",
      "state": {
       "_dom_classes": [],
       "_model_module": "@jupyter-widgets/controls",
       "_model_module_version": "1.5.0",
       "_model_name": "HBoxModel",
       "_view_count": null,
       "_view_module": "@jupyter-widgets/controls",
       "_view_module_version": "1.5.0",
       "_view_name": "HBoxView",
       "box_style": "",
       "children": [
        "IPY_MODEL_68e6a40bf40e485aa066e3a734961ba2",
        "IPY_MODEL_bdada1576edb4e14ac408e342f663273"
       ],
       "layout": "IPY_MODEL_8569061e6ceb4db898efb09464a3f13f"
      }
     },
     "272861ed3ed04d9c8bc233c2b60a046c": {
      "model_module": "@jupyter-widgets/controls",
      "model_module_version": "1.5.0",
      "model_name": "DescriptionStyleModel",
      "state": {
       "_model_module": "@jupyter-widgets/controls",
       "_model_module_version": "1.5.0",
       "_model_name": "DescriptionStyleModel",
       "_view_count": null,
       "_view_module": "@jupyter-widgets/base",
       "_view_module_version": "1.2.0",
       "_view_name": "StyleView",
       "description_width": ""
      }
     },
     "2f3bfff231a448728b3a6ef090d1e199": {
      "model_module": "@jupyter-widgets/controls",
      "model_module_version": "1.5.0",
      "model_name": "HBoxModel",
      "state": {
       "_dom_classes": [],
       "_model_module": "@jupyter-widgets/controls",
       "_model_module_version": "1.5.0",
       "_model_name": "HBoxModel",
       "_view_count": null,
       "_view_module": "@jupyter-widgets/controls",
       "_view_module_version": "1.5.0",
       "_view_name": "HBoxView",
       "box_style": "",
       "children": [
        "IPY_MODEL_e79d605b55f24c9c9e41edabc20e8c50",
        "IPY_MODEL_70c750b99784450193b6e6689b4d97dd"
       ],
       "layout": "IPY_MODEL_4611991803204101b3c2b415376ad3e5"
      }
     },
     "343aa558e88c4b58be2c33f732c9871c": {
      "model_module": "@jupyter-widgets/base",
      "model_module_version": "1.2.0",
      "model_name": "LayoutModel",
      "state": {
       "_model_module": "@jupyter-widgets/base",
       "_model_module_version": "1.2.0",
       "_model_name": "LayoutModel",
       "_view_count": null,
       "_view_module": "@jupyter-widgets/base",
       "_view_module_version": "1.2.0",
       "_view_name": "LayoutView",
       "align_content": null,
       "align_items": null,
       "align_self": null,
       "border": null,
       "bottom": null,
       "display": null,
       "flex": null,
       "flex_flow": null,
       "grid_area": null,
       "grid_auto_columns": null,
       "grid_auto_flow": null,
       "grid_auto_rows": null,
       "grid_column": null,
       "grid_gap": null,
       "grid_row": null,
       "grid_template_areas": null,
       "grid_template_columns": null,
       "grid_template_rows": null,
       "height": null,
       "justify_content": null,
       "justify_items": null,
       "left": null,
       "margin": null,
       "max_height": null,
       "max_width": null,
       "min_height": null,
       "min_width": null,
       "object_fit": null,
       "object_position": null,
       "order": null,
       "overflow": null,
       "overflow_x": null,
       "overflow_y": null,
       "padding": null,
       "right": null,
       "top": null,
       "visibility": null,
       "width": null
      }
     },
     "360c6c7d53864f36861f262e036d701f": {
      "model_module": "@jupyter-widgets/controls",
      "model_module_version": "1.5.0",
      "model_name": "IntProgressModel",
      "state": {
       "_dom_classes": [],
       "_model_module": "@jupyter-widgets/controls",
       "_model_module_version": "1.5.0",
       "_model_name": "IntProgressModel",
       "_view_count": null,
       "_view_module": "@jupyter-widgets/controls",
       "_view_module_version": "1.5.0",
       "_view_name": "ProgressView",
       "bar_style": "",
       "description": "Epoch [2/10]: [7/7] 100%",
       "description_tooltip": null,
       "layout": "IPY_MODEL_954bb84c6aed4ae4b67225f639b0b6fe",
       "max": 7,
       "min": 0,
       "orientation": "horizontal",
       "style": "IPY_MODEL_bf0477e2f441498baeb67772323d2a94",
       "value": 7
      }
     },
     "37974842565b4008b636bcc6c5c008c9": {
      "model_module": "@jupyter-widgets/controls",
      "model_module_version": "1.5.0",
      "model_name": "DescriptionStyleModel",
      "state": {
       "_model_module": "@jupyter-widgets/controls",
       "_model_module_version": "1.5.0",
       "_model_name": "DescriptionStyleModel",
       "_view_count": null,
       "_view_module": "@jupyter-widgets/base",
       "_view_module_version": "1.2.0",
       "_view_name": "StyleView",
       "description_width": ""
      }
     },
     "3f1ffa5656ae4f54b14f021606ad0738": {
      "model_module": "@jupyter-widgets/controls",
      "model_module_version": "1.5.0",
      "model_name": "HBoxModel",
      "state": {
       "_dom_classes": [],
       "_model_module": "@jupyter-widgets/controls",
       "_model_module_version": "1.5.0",
       "_model_name": "HBoxModel",
       "_view_count": null,
       "_view_module": "@jupyter-widgets/controls",
       "_view_module_version": "1.5.0",
       "_view_name": "HBoxView",
       "box_style": "",
       "children": [
        "IPY_MODEL_e0967e71810b4b1496f28544f4fe6f12",
        "IPY_MODEL_0160d992f66e44bba4e99a432005bb53"
       ],
       "layout": "IPY_MODEL_8be9be0ca219430babf3f981102a8ab6"
      }
     },
     "41bb3e4e0d8842cbaf7a6a4977fde007": {
      "model_module": "@jupyter-widgets/controls",
      "model_module_version": "1.5.0",
      "model_name": "ProgressStyleModel",
      "state": {
       "_model_module": "@jupyter-widgets/controls",
       "_model_module_version": "1.5.0",
       "_model_name": "ProgressStyleModel",
       "_view_count": null,
       "_view_module": "@jupyter-widgets/base",
       "_view_module_version": "1.2.0",
       "_view_name": "StyleView",
       "bar_color": null,
       "description_width": "initial"
      }
     },
     "4251eccedbc14d47aeb47be63a934d3b": {
      "model_module": "@jupyter-widgets/controls",
      "model_module_version": "1.5.0",
      "model_name": "ProgressStyleModel",
      "state": {
       "_model_module": "@jupyter-widgets/controls",
       "_model_module_version": "1.5.0",
       "_model_name": "ProgressStyleModel",
       "_view_count": null,
       "_view_module": "@jupyter-widgets/base",
       "_view_module_version": "1.2.0",
       "_view_name": "StyleView",
       "bar_color": null,
       "description_width": "initial"
      }
     },
     "43cdf5ea12fc487491113213ad4b4498": {
      "model_module": "@jupyter-widgets/controls",
      "model_module_version": "1.5.0",
      "model_name": "HTMLModel",
      "state": {
       "_dom_classes": [],
       "_model_module": "@jupyter-widgets/controls",
       "_model_module_version": "1.5.0",
       "_model_name": "HTMLModel",
       "_view_count": null,
       "_view_module": "@jupyter-widgets/controls",
       "_view_module_version": "1.5.0",
       "_view_name": "HTMLView",
       "description": "",
       "description_tooltip": null,
       "layout": "IPY_MODEL_77446dd67e3444aabb5d5f6d31955ef2",
       "placeholder": "​",
       "style": "IPY_MODEL_231a642ee4d24fb8a186f304807d3e41",
       "value": ", acc_consonant=0.147, acc_grapheme=0.00893, acc_vowel=0.17, loss=10.4, loss_consonant=2.34, loss_grapheme=5.44, loss_vowel=2.66, recall=0.072 [00:01&lt;00:00]"
      }
     },
     "445ebe16f650447a899c775c4d2893e3": {
      "model_module": "@jupyter-widgets/base",
      "model_module_version": "1.2.0",
      "model_name": "LayoutModel",
      "state": {
       "_model_module": "@jupyter-widgets/base",
       "_model_module_version": "1.2.0",
       "_model_name": "LayoutModel",
       "_view_count": null,
       "_view_module": "@jupyter-widgets/base",
       "_view_module_version": "1.2.0",
       "_view_name": "LayoutView",
       "align_content": null,
       "align_items": null,
       "align_self": null,
       "border": null,
       "bottom": null,
       "display": null,
       "flex": null,
       "flex_flow": null,
       "grid_area": null,
       "grid_auto_columns": null,
       "grid_auto_flow": null,
       "grid_auto_rows": null,
       "grid_column": null,
       "grid_gap": null,
       "grid_row": null,
       "grid_template_areas": null,
       "grid_template_columns": null,
       "grid_template_rows": null,
       "height": null,
       "justify_content": null,
       "justify_items": null,
       "left": null,
       "margin": null,
       "max_height": null,
       "max_width": null,
       "min_height": null,
       "min_width": null,
       "object_fit": null,
       "object_position": null,
       "order": null,
       "overflow": null,
       "overflow_x": null,
       "overflow_y": null,
       "padding": null,
       "right": null,
       "top": null,
       "visibility": null,
       "width": null
      }
     },
     "4573129e86b846bd80b2bbcff2608f92": {
      "model_module": "@jupyter-widgets/controls",
      "model_module_version": "1.5.0",
      "model_name": "IntProgressModel",
      "state": {
       "_dom_classes": [],
       "_model_module": "@jupyter-widgets/controls",
       "_model_module_version": "1.5.0",
       "_model_name": "IntProgressModel",
       "_view_count": null,
       "_view_module": "@jupyter-widgets/controls",
       "_view_module_version": "1.5.0",
       "_view_name": "ProgressView",
       "bar_style": "success",
       "description": "",
       "description_tooltip": null,
       "layout": "IPY_MODEL_445ebe16f650447a899c775c4d2893e3",
       "max": 1,
       "min": 0,
       "orientation": "horizontal",
       "style": "IPY_MODEL_5d78f9fbd3704fb3b1461f602b3586bf",
       "value": 1
      }
     },
     "4611991803204101b3c2b415376ad3e5": {
      "model_module": "@jupyter-widgets/base",
      "model_module_version": "1.2.0",
      "model_name": "LayoutModel",
      "state": {
       "_model_module": "@jupyter-widgets/base",
       "_model_module_version": "1.2.0",
       "_model_name": "LayoutModel",
       "_view_count": null,
       "_view_module": "@jupyter-widgets/base",
       "_view_module_version": "1.2.0",
       "_view_name": "LayoutView",
       "align_content": null,
       "align_items": null,
       "align_self": null,
       "border": null,
       "bottom": null,
       "display": null,
       "flex": null,
       "flex_flow": null,
       "grid_area": null,
       "grid_auto_columns": null,
       "grid_auto_flow": null,
       "grid_auto_rows": null,
       "grid_column": null,
       "grid_gap": null,
       "grid_row": null,
       "grid_template_areas": null,
       "grid_template_columns": null,
       "grid_template_rows": null,
       "height": null,
       "justify_content": null,
       "justify_items": null,
       "left": null,
       "margin": null,
       "max_height": null,
       "max_width": null,
       "min_height": null,
       "min_width": null,
       "object_fit": null,
       "object_position": null,
       "order": null,
       "overflow": null,
       "overflow_x": null,
       "overflow_y": null,
       "padding": null,
       "right": null,
       "top": null,
       "visibility": null,
       "width": null
      }
     },
     "469969ae06434d16b85154cb1e7baf03": {
      "model_module": "@jupyter-widgets/controls",
      "model_module_version": "1.5.0",
      "model_name": "HTMLModel",
      "state": {
       "_dom_classes": [],
       "_model_module": "@jupyter-widgets/controls",
       "_model_module_version": "1.5.0",
       "_model_name": "HTMLModel",
       "_view_count": null,
       "_view_module": "@jupyter-widgets/controls",
       "_view_module_version": "1.5.0",
       "_view_name": "HTMLView",
       "description": "",
       "description_tooltip": null,
       "layout": "IPY_MODEL_9d0b912e463342889c3e2e69b24cd3ec",
       "placeholder": "​",
       "style": "IPY_MODEL_e35111890ad24af1a4c34eacde60649b",
       "value": ", acc_consonant=0.562, acc_grapheme=0.482, acc_vowel=0.616, loss=6.14, loss_consonant=1.46, loss_grapheme=3.3, loss_vowel=1.38, recall=0.462 [00:01&lt;00:00]"
      }
     },
     "46bc1e20d89c4b9597d19fb894f3315f": {
      "model_module": "@jupyter-widgets/base",
      "model_module_version": "1.2.0",
      "model_name": "LayoutModel",
      "state": {
       "_model_module": "@jupyter-widgets/base",
       "_model_module_version": "1.2.0",
       "_model_name": "LayoutModel",
       "_view_count": null,
       "_view_module": "@jupyter-widgets/base",
       "_view_module_version": "1.2.0",
       "_view_name": "LayoutView",
       "align_content": null,
       "align_items": null,
       "align_self": null,
       "border": null,
       "bottom": null,
       "display": null,
       "flex": null,
       "flex_flow": null,
       "grid_area": null,
       "grid_auto_columns": null,
       "grid_auto_flow": null,
       "grid_auto_rows": null,
       "grid_column": null,
       "grid_gap": null,
       "grid_row": null,
       "grid_template_areas": null,
       "grid_template_columns": null,
       "grid_template_rows": null,
       "height": null,
       "justify_content": null,
       "justify_items": null,
       "left": null,
       "margin": null,
       "max_height": null,
       "max_width": null,
       "min_height": null,
       "min_width": null,
       "object_fit": null,
       "object_position": null,
       "order": null,
       "overflow": null,
       "overflow_x": null,
       "overflow_y": null,
       "padding": null,
       "right": null,
       "top": null,
       "visibility": null,
       "width": null
      }
     },
     "475df4ec566e4abf84ae20aec0af97d2": {
      "model_module": "@jupyter-widgets/controls",
      "model_module_version": "1.5.0",
      "model_name": "DescriptionStyleModel",
      "state": {
       "_model_module": "@jupyter-widgets/controls",
       "_model_module_version": "1.5.0",
       "_model_name": "DescriptionStyleModel",
       "_view_count": null,
       "_view_module": "@jupyter-widgets/base",
       "_view_module_version": "1.2.0",
       "_view_name": "StyleView",
       "description_width": ""
      }
     },
     "4ac8348d41be4c00b508c589abb2ce9c": {
      "model_module": "@jupyter-widgets/controls",
      "model_module_version": "1.5.0",
      "model_name": "IntProgressModel",
      "state": {
       "_dom_classes": [],
       "_model_module": "@jupyter-widgets/controls",
       "_model_module_version": "1.5.0",
       "_model_name": "IntProgressModel",
       "_view_count": null,
       "_view_module": "@jupyter-widgets/controls",
       "_view_module_version": "1.5.0",
       "_view_name": "ProgressView",
       "bar_style": "",
       "description": "Epoch [3/10]: [7/7] 100%",
       "description_tooltip": null,
       "layout": "IPY_MODEL_052b457f704b4a2396f66e268c1defdf",
       "max": 7,
       "min": 0,
       "orientation": "horizontal",
       "style": "IPY_MODEL_e25e7536b5da49b1bf05d96978f522f6",
       "value": 7
      }
     },
     "4bd38a5e70ca47eb91ace39582c53dc6": {
      "model_module": "@jupyter-widgets/controls",
      "model_module_version": "1.5.0",
      "model_name": "ProgressStyleModel",
      "state": {
       "_model_module": "@jupyter-widgets/controls",
       "_model_module_version": "1.5.0",
       "_model_name": "ProgressStyleModel",
       "_view_count": null,
       "_view_module": "@jupyter-widgets/base",
       "_view_module_version": "1.2.0",
       "_view_name": "StyleView",
       "bar_color": null,
       "description_width": "initial"
      }
     },
     "4e6f99a5ded34778945874908b0e1e33": {
      "model_module": "@jupyter-widgets/controls",
      "model_module_version": "1.5.0",
      "model_name": "IntProgressModel",
      "state": {
       "_dom_classes": [],
       "_model_module": "@jupyter-widgets/controls",
       "_model_module_version": "1.5.0",
       "_model_name": "IntProgressModel",
       "_view_count": null,
       "_view_module": "@jupyter-widgets/controls",
       "_view_module_version": "1.5.0",
       "_view_name": "ProgressView",
       "bar_style": "",
       "description": "Epoch [6/10]: [7/7] 100%",
       "description_tooltip": null,
       "layout": "IPY_MODEL_20a379929c8f482c89db2fa4f77da403",
       "max": 7,
       "min": 0,
       "orientation": "horizontal",
       "style": "IPY_MODEL_57c1dd9241f14f24b0220bdde5b036d4",
       "value": 7
      }
     },
     "4e7e691144c24145993ec5ab8c37095a": {
      "model_module": "@jupyter-widgets/base",
      "model_module_version": "1.2.0",
      "model_name": "LayoutModel",
      "state": {
       "_model_module": "@jupyter-widgets/base",
       "_model_module_version": "1.2.0",
       "_model_name": "LayoutModel",
       "_view_count": null,
       "_view_module": "@jupyter-widgets/base",
       "_view_module_version": "1.2.0",
       "_view_name": "LayoutView",
       "align_content": null,
       "align_items": null,
       "align_self": null,
       "border": null,
       "bottom": null,
       "display": null,
       "flex": null,
       "flex_flow": null,
       "grid_area": null,
       "grid_auto_columns": null,
       "grid_auto_flow": null,
       "grid_auto_rows": null,
       "grid_column": null,
       "grid_gap": null,
       "grid_row": null,
       "grid_template_areas": null,
       "grid_template_columns": null,
       "grid_template_rows": null,
       "height": null,
       "justify_content": null,
       "justify_items": null,
       "left": null,
       "margin": null,
       "max_height": null,
       "max_width": null,
       "min_height": null,
       "min_width": null,
       "object_fit": null,
       "object_position": null,
       "order": null,
       "overflow": null,
       "overflow_x": null,
       "overflow_y": null,
       "padding": null,
       "right": null,
       "top": null,
       "visibility": null,
       "width": null
      }
     },
     "4edcfa38e8454f7195c69de561d48b5d": {
      "model_module": "@jupyter-widgets/base",
      "model_module_version": "1.2.0",
      "model_name": "LayoutModel",
      "state": {
       "_model_module": "@jupyter-widgets/base",
       "_model_module_version": "1.2.0",
       "_model_name": "LayoutModel",
       "_view_count": null,
       "_view_module": "@jupyter-widgets/base",
       "_view_module_version": "1.2.0",
       "_view_name": "LayoutView",
       "align_content": null,
       "align_items": null,
       "align_self": null,
       "border": null,
       "bottom": null,
       "display": null,
       "flex": null,
       "flex_flow": null,
       "grid_area": null,
       "grid_auto_columns": null,
       "grid_auto_flow": null,
       "grid_auto_rows": null,
       "grid_column": null,
       "grid_gap": null,
       "grid_row": null,
       "grid_template_areas": null,
       "grid_template_columns": null,
       "grid_template_rows": null,
       "height": null,
       "justify_content": null,
       "justify_items": null,
       "left": null,
       "margin": null,
       "max_height": null,
       "max_width": null,
       "min_height": null,
       "min_width": null,
       "object_fit": null,
       "object_position": null,
       "order": null,
       "overflow": null,
       "overflow_x": null,
       "overflow_y": null,
       "padding": null,
       "right": null,
       "top": null,
       "visibility": null,
       "width": null
      }
     },
     "4fde98b59321448e9acef9fc7671711e": {
      "model_module": "@jupyter-widgets/controls",
      "model_module_version": "1.5.0",
      "model_name": "IntProgressModel",
      "state": {
       "_dom_classes": [],
       "_model_module": "@jupyter-widgets/controls",
       "_model_module_version": "1.5.0",
       "_model_name": "IntProgressModel",
       "_view_count": null,
       "_view_module": "@jupyter-widgets/controls",
       "_view_module_version": "1.5.0",
       "_view_name": "ProgressView",
       "bar_style": "",
       "description": "Epoch [8/10]: [7/7] 100%",
       "description_tooltip": null,
       "layout": "IPY_MODEL_bb4bfcea489942b6b4425b57fe518fc8",
       "max": 7,
       "min": 0,
       "orientation": "horizontal",
       "style": "IPY_MODEL_025e6ce14f4540c0bc220fc29b591177",
       "value": 7
      }
     },
     "50ec360ce132466eacb2f6fb2696548c": {
      "model_module": "@jupyter-widgets/controls",
      "model_module_version": "1.5.0",
      "model_name": "IntProgressModel",
      "state": {
       "_dom_classes": [],
       "_model_module": "@jupyter-widgets/controls",
       "_model_module_version": "1.5.0",
       "_model_name": "IntProgressModel",
       "_view_count": null,
       "_view_module": "@jupyter-widgets/controls",
       "_view_module_version": "1.5.0",
       "_view_name": "ProgressView",
       "bar_style": "",
       "description": "Epoch [7/10]: [7/7] 100%",
       "description_tooltip": null,
       "layout": "IPY_MODEL_daf5a29d831149e386a18f4b58209c8a",
       "max": 7,
       "min": 0,
       "orientation": "horizontal",
       "style": "IPY_MODEL_b5e264cee9f84586b4bd08769f9ea7f1",
       "value": 7
      }
     },
     "511f097951384c0f90139472a15e13d4": {
      "model_module": "@jupyter-widgets/controls",
      "model_module_version": "1.5.0",
      "model_name": "HTMLModel",
      "state": {
       "_dom_classes": [],
       "_model_module": "@jupyter-widgets/controls",
       "_model_module_version": "1.5.0",
       "_model_name": "HTMLModel",
       "_view_count": null,
       "_view_module": "@jupyter-widgets/controls",
       "_view_module_version": "1.5.0",
       "_view_name": "HTMLView",
       "description": "",
       "description_tooltip": null,
       "layout": "IPY_MODEL_5760045b67194a81a95779b4027a425a",
       "placeholder": "​",
       "style": "IPY_MODEL_1ddc85c9726d495fb8e9d56b456da48e",
       "value": ", acc_consonant=0.353, acc_grapheme=0.0893, acc_vowel=0.286, loss=8.69, loss_consonant=1.84, loss_grapheme=4.78, loss_vowel=2.07, recall=0.134 [00:01&lt;00:00]"
      }
     },
     "5760045b67194a81a95779b4027a425a": {
      "model_module": "@jupyter-widgets/base",
      "model_module_version": "1.2.0",
      "model_name": "LayoutModel",
      "state": {
       "_model_module": "@jupyter-widgets/base",
       "_model_module_version": "1.2.0",
       "_model_name": "LayoutModel",
       "_view_count": null,
       "_view_module": "@jupyter-widgets/base",
       "_view_module_version": "1.2.0",
       "_view_name": "LayoutView",
       "align_content": null,
       "align_items": null,
       "align_self": null,
       "border": null,
       "bottom": null,
       "display": null,
       "flex": null,
       "flex_flow": null,
       "grid_area": null,
       "grid_auto_columns": null,
       "grid_auto_flow": null,
       "grid_auto_rows": null,
       "grid_column": null,
       "grid_gap": null,
       "grid_row": null,
       "grid_template_areas": null,
       "grid_template_columns": null,
       "grid_template_rows": null,
       "height": null,
       "justify_content": null,
       "justify_items": null,
       "left": null,
       "margin": null,
       "max_height": null,
       "max_width": null,
       "min_height": null,
       "min_width": null,
       "object_fit": null,
       "object_position": null,
       "order": null,
       "overflow": null,
       "overflow_x": null,
       "overflow_y": null,
       "padding": null,
       "right": null,
       "top": null,
       "visibility": null,
       "width": null
      }
     },
     "57c1dd9241f14f24b0220bdde5b036d4": {
      "model_module": "@jupyter-widgets/controls",
      "model_module_version": "1.5.0",
      "model_name": "ProgressStyleModel",
      "state": {
       "_model_module": "@jupyter-widgets/controls",
       "_model_module_version": "1.5.0",
       "_model_name": "ProgressStyleModel",
       "_view_count": null,
       "_view_module": "@jupyter-widgets/base",
       "_view_module_version": "1.2.0",
       "_view_name": "StyleView",
       "bar_color": null,
       "description_width": "initial"
      }
     },
     "5828b8e0b137409781ff4dade6bcc7e9": {
      "model_module": "@jupyter-widgets/base",
      "model_module_version": "1.2.0",
      "model_name": "LayoutModel",
      "state": {
       "_model_module": "@jupyter-widgets/base",
       "_model_module_version": "1.2.0",
       "_model_name": "LayoutModel",
       "_view_count": null,
       "_view_module": "@jupyter-widgets/base",
       "_view_module_version": "1.2.0",
       "_view_name": "LayoutView",
       "align_content": null,
       "align_items": null,
       "align_self": null,
       "border": null,
       "bottom": null,
       "display": null,
       "flex": null,
       "flex_flow": null,
       "grid_area": null,
       "grid_auto_columns": null,
       "grid_auto_flow": null,
       "grid_auto_rows": null,
       "grid_column": null,
       "grid_gap": null,
       "grid_row": null,
       "grid_template_areas": null,
       "grid_template_columns": null,
       "grid_template_rows": null,
       "height": null,
       "justify_content": null,
       "justify_items": null,
       "left": null,
       "margin": null,
       "max_height": null,
       "max_width": null,
       "min_height": null,
       "min_width": null,
       "object_fit": null,
       "object_position": null,
       "order": null,
       "overflow": null,
       "overflow_x": null,
       "overflow_y": null,
       "padding": null,
       "right": null,
       "top": null,
       "visibility": null,
       "width": null
      }
     },
     "5a5dad6f15734d10849ed845f03b4796": {
      "model_module": "@jupyter-widgets/base",
      "model_module_version": "1.2.0",
      "model_name": "LayoutModel",
      "state": {
       "_model_module": "@jupyter-widgets/base",
       "_model_module_version": "1.2.0",
       "_model_name": "LayoutModel",
       "_view_count": null,
       "_view_module": "@jupyter-widgets/base",
       "_view_module_version": "1.2.0",
       "_view_name": "LayoutView",
       "align_content": null,
       "align_items": null,
       "align_self": null,
       "border": null,
       "bottom": null,
       "display": null,
       "flex": null,
       "flex_flow": null,
       "grid_area": null,
       "grid_auto_columns": null,
       "grid_auto_flow": null,
       "grid_auto_rows": null,
       "grid_column": null,
       "grid_gap": null,
       "grid_row": null,
       "grid_template_areas": null,
       "grid_template_columns": null,
       "grid_template_rows": null,
       "height": null,
       "justify_content": null,
       "justify_items": null,
       "left": null,
       "margin": null,
       "max_height": null,
       "max_width": null,
       "min_height": null,
       "min_width": null,
       "object_fit": null,
       "object_position": null,
       "order": null,
       "overflow": null,
       "overflow_x": null,
       "overflow_y": null,
       "padding": null,
       "right": null,
       "top": null,
       "visibility": null,
       "width": null
      }
     },
     "5d78f9fbd3704fb3b1461f602b3586bf": {
      "model_module": "@jupyter-widgets/controls",
      "model_module_version": "1.5.0",
      "model_name": "ProgressStyleModel",
      "state": {
       "_model_module": "@jupyter-widgets/controls",
       "_model_module_version": "1.5.0",
       "_model_name": "ProgressStyleModel",
       "_view_count": null,
       "_view_module": "@jupyter-widgets/base",
       "_view_module_version": "1.2.0",
       "_view_name": "StyleView",
       "bar_color": null,
       "description_width": "initial"
      }
     },
     "5dc473987f1c4be68990ff47de4f7ed9": {
      "model_module": "@jupyter-widgets/base",
      "model_module_version": "1.2.0",
      "model_name": "LayoutModel",
      "state": {
       "_model_module": "@jupyter-widgets/base",
       "_model_module_version": "1.2.0",
       "_model_name": "LayoutModel",
       "_view_count": null,
       "_view_module": "@jupyter-widgets/base",
       "_view_module_version": "1.2.0",
       "_view_name": "LayoutView",
       "align_content": null,
       "align_items": null,
       "align_self": null,
       "border": null,
       "bottom": null,
       "display": null,
       "flex": null,
       "flex_flow": null,
       "grid_area": null,
       "grid_auto_columns": null,
       "grid_auto_flow": null,
       "grid_auto_rows": null,
       "grid_column": null,
       "grid_gap": null,
       "grid_row": null,
       "grid_template_areas": null,
       "grid_template_columns": null,
       "grid_template_rows": null,
       "height": null,
       "justify_content": null,
       "justify_items": null,
       "left": null,
       "margin": null,
       "max_height": null,
       "max_width": null,
       "min_height": null,
       "min_width": null,
       "object_fit": null,
       "object_position": null,
       "order": null,
       "overflow": null,
       "overflow_x": null,
       "overflow_y": null,
       "padding": null,
       "right": null,
       "top": null,
       "visibility": null,
       "width": null
      }
     },
     "5dd5c1cb44304ec2b52e0c3807e800c5": {
      "model_module": "@jupyter-widgets/controls",
      "model_module_version": "1.5.0",
      "model_name": "DescriptionStyleModel",
      "state": {
       "_model_module": "@jupyter-widgets/controls",
       "_model_module_version": "1.5.0",
       "_model_name": "DescriptionStyleModel",
       "_view_count": null,
       "_view_module": "@jupyter-widgets/base",
       "_view_module_version": "1.2.0",
       "_view_name": "StyleView",
       "description_width": ""
      }
     },
     "61f35eecaa9d4a409be9fc114929c8a1": {
      "model_module": "@jupyter-widgets/controls",
      "model_module_version": "1.5.0",
      "model_name": "ProgressStyleModel",
      "state": {
       "_model_module": "@jupyter-widgets/controls",
       "_model_module_version": "1.5.0",
       "_model_name": "ProgressStyleModel",
       "_view_count": null,
       "_view_module": "@jupyter-widgets/base",
       "_view_module_version": "1.2.0",
       "_view_name": "StyleView",
       "bar_color": null,
       "description_width": "initial"
      }
     },
     "6233ee4e9b734afbb1a8955243a4bcf9": {
      "model_module": "@jupyter-widgets/base",
      "model_module_version": "1.2.0",
      "model_name": "LayoutModel",
      "state": {
       "_model_module": "@jupyter-widgets/base",
       "_model_module_version": "1.2.0",
       "_model_name": "LayoutModel",
       "_view_count": null,
       "_view_module": "@jupyter-widgets/base",
       "_view_module_version": "1.2.0",
       "_view_name": "LayoutView",
       "align_content": null,
       "align_items": null,
       "align_self": null,
       "border": null,
       "bottom": null,
       "display": null,
       "flex": null,
       "flex_flow": null,
       "grid_area": null,
       "grid_auto_columns": null,
       "grid_auto_flow": null,
       "grid_auto_rows": null,
       "grid_column": null,
       "grid_gap": null,
       "grid_row": null,
       "grid_template_areas": null,
       "grid_template_columns": null,
       "grid_template_rows": null,
       "height": null,
       "justify_content": null,
       "justify_items": null,
       "left": null,
       "margin": null,
       "max_height": null,
       "max_width": null,
       "min_height": null,
       "min_width": null,
       "object_fit": null,
       "object_position": null,
       "order": null,
       "overflow": null,
       "overflow_x": null,
       "overflow_y": null,
       "padding": null,
       "right": null,
       "top": null,
       "visibility": null,
       "width": null
      }
     },
     "628487ded9ea434b991fd9ad24cd46df": {
      "model_module": "@jupyter-widgets/base",
      "model_module_version": "1.2.0",
      "model_name": "LayoutModel",
      "state": {
       "_model_module": "@jupyter-widgets/base",
       "_model_module_version": "1.2.0",
       "_model_name": "LayoutModel",
       "_view_count": null,
       "_view_module": "@jupyter-widgets/base",
       "_view_module_version": "1.2.0",
       "_view_name": "LayoutView",
       "align_content": null,
       "align_items": null,
       "align_self": null,
       "border": null,
       "bottom": null,
       "display": null,
       "flex": null,
       "flex_flow": null,
       "grid_area": null,
       "grid_auto_columns": null,
       "grid_auto_flow": null,
       "grid_auto_rows": null,
       "grid_column": null,
       "grid_gap": null,
       "grid_row": null,
       "grid_template_areas": null,
       "grid_template_columns": null,
       "grid_template_rows": null,
       "height": null,
       "justify_content": null,
       "justify_items": null,
       "left": null,
       "margin": null,
       "max_height": null,
       "max_width": null,
       "min_height": null,
       "min_width": null,
       "object_fit": null,
       "object_position": null,
       "order": null,
       "overflow": null,
       "overflow_x": null,
       "overflow_y": null,
       "padding": null,
       "right": null,
       "top": null,
       "visibility": null,
       "width": null
      }
     },
     "62e813082cd84b349be4970c36506709": {
      "model_module": "@jupyter-widgets/controls",
      "model_module_version": "1.5.0",
      "model_name": "ProgressStyleModel",
      "state": {
       "_model_module": "@jupyter-widgets/controls",
       "_model_module_version": "1.5.0",
       "_model_name": "ProgressStyleModel",
       "_view_count": null,
       "_view_module": "@jupyter-widgets/base",
       "_view_module_version": "1.2.0",
       "_view_name": "StyleView",
       "bar_color": null,
       "description_width": "initial"
      }
     },
     "64fd4ac764c448439ae2c8e7a9fbb67a": {
      "model_module": "@jupyter-widgets/controls",
      "model_module_version": "1.5.0",
      "model_name": "DescriptionStyleModel",
      "state": {
       "_model_module": "@jupyter-widgets/controls",
       "_model_module_version": "1.5.0",
       "_model_name": "DescriptionStyleModel",
       "_view_count": null,
       "_view_module": "@jupyter-widgets/base",
       "_view_module_version": "1.2.0",
       "_view_name": "StyleView",
       "description_width": ""
      }
     },
     "65eb74d0ce264f29b0451b5261d4d186": {
      "model_module": "@jupyter-widgets/base",
      "model_module_version": "1.2.0",
      "model_name": "LayoutModel",
      "state": {
       "_model_module": "@jupyter-widgets/base",
       "_model_module_version": "1.2.0",
       "_model_name": "LayoutModel",
       "_view_count": null,
       "_view_module": "@jupyter-widgets/base",
       "_view_module_version": "1.2.0",
       "_view_name": "LayoutView",
       "align_content": null,
       "align_items": null,
       "align_self": null,
       "border": null,
       "bottom": null,
       "display": null,
       "flex": null,
       "flex_flow": null,
       "grid_area": null,
       "grid_auto_columns": null,
       "grid_auto_flow": null,
       "grid_auto_rows": null,
       "grid_column": null,
       "grid_gap": null,
       "grid_row": null,
       "grid_template_areas": null,
       "grid_template_columns": null,
       "grid_template_rows": null,
       "height": null,
       "justify_content": null,
       "justify_items": null,
       "left": null,
       "margin": null,
       "max_height": null,
       "max_width": null,
       "min_height": null,
       "min_width": null,
       "object_fit": null,
       "object_position": null,
       "order": null,
       "overflow": null,
       "overflow_x": null,
       "overflow_y": null,
       "padding": null,
       "right": null,
       "top": null,
       "visibility": null,
       "width": null
      }
     },
     "663f092ec06a43ca9e1e8c9ee1fd3cc8": {
      "model_module": "@jupyter-widgets/base",
      "model_module_version": "1.2.0",
      "model_name": "LayoutModel",
      "state": {
       "_model_module": "@jupyter-widgets/base",
       "_model_module_version": "1.2.0",
       "_model_name": "LayoutModel",
       "_view_count": null,
       "_view_module": "@jupyter-widgets/base",
       "_view_module_version": "1.2.0",
       "_view_name": "LayoutView",
       "align_content": null,
       "align_items": null,
       "align_self": null,
       "border": null,
       "bottom": null,
       "display": null,
       "flex": null,
       "flex_flow": null,
       "grid_area": null,
       "grid_auto_columns": null,
       "grid_auto_flow": null,
       "grid_auto_rows": null,
       "grid_column": null,
       "grid_gap": null,
       "grid_row": null,
       "grid_template_areas": null,
       "grid_template_columns": null,
       "grid_template_rows": null,
       "height": null,
       "justify_content": null,
       "justify_items": null,
       "left": null,
       "margin": null,
       "max_height": null,
       "max_width": null,
       "min_height": null,
       "min_width": null,
       "object_fit": null,
       "object_position": null,
       "order": null,
       "overflow": null,
       "overflow_x": null,
       "overflow_y": null,
       "padding": null,
       "right": null,
       "top": null,
       "visibility": null,
       "width": null
      }
     },
     "68e6a40bf40e485aa066e3a734961ba2": {
      "model_module": "@jupyter-widgets/controls",
      "model_module_version": "1.5.0",
      "model_name": "IntProgressModel",
      "state": {
       "_dom_classes": [],
       "_model_module": "@jupyter-widgets/controls",
       "_model_module_version": "1.5.0",
       "_model_name": "IntProgressModel",
       "_view_count": null,
       "_view_module": "@jupyter-widgets/controls",
       "_view_module_version": "1.5.0",
       "_view_name": "ProgressView",
       "bar_style": "",
       "description": "Epoch [1/10]: [7/7] 100%",
       "description_tooltip": null,
       "layout": "IPY_MODEL_0b333c91fe844fce993917157af849e6",
       "max": 7,
       "min": 0,
       "orientation": "horizontal",
       "style": "IPY_MODEL_e12439e08a3a4d79908f80dbc4cb1688",
       "value": 7
      }
     },
     "6c9f3f5279314b97bbea5c05248752ec": {
      "model_module": "@jupyter-widgets/controls",
      "model_module_version": "1.5.0",
      "model_name": "HTMLModel",
      "state": {
       "_dom_classes": [],
       "_model_module": "@jupyter-widgets/controls",
       "_model_module_version": "1.5.0",
       "_model_name": "HTMLModel",
       "_view_count": null,
       "_view_module": "@jupyter-widgets/controls",
       "_view_module_version": "1.5.0",
       "_view_name": "HTMLView",
       "description": "",
       "description_tooltip": null,
       "layout": "IPY_MODEL_663f092ec06a43ca9e1e8c9ee1fd3cc8",
       "placeholder": "​",
       "style": "IPY_MODEL_475df4ec566e4abf84ae20aec0af97d2",
       "value": ", acc_consonant=0.763, acc_grapheme=0.723, acc_vowel=0.786, loss=4.8, loss_consonant=1.19, loss_grapheme=2.52, loss_vowel=1.09, recall=0.685 [00:01&lt;00:00]"
      }
     },
     "70c750b99784450193b6e6689b4d97dd": {
      "model_module": "@jupyter-widgets/controls",
      "model_module_version": "1.5.0",
      "model_name": "HTMLModel",
      "state": {
       "_dom_classes": [],
       "_model_module": "@jupyter-widgets/controls",
       "_model_module_version": "1.5.0",
       "_model_name": "HTMLModel",
       "_view_count": null,
       "_view_module": "@jupyter-widgets/controls",
       "_view_module_version": "1.5.0",
       "_view_name": "HTMLView",
       "description": "",
       "description_tooltip": null,
       "layout": "IPY_MODEL_46bc1e20d89c4b9597d19fb894f3315f",
       "placeholder": "​",
       "style": "IPY_MODEL_805ea8044b614e28b19a00b42bfd0ed1",
       "value": " 30/? [00:00&lt;00:00, 102.14it/s]"
      }
     },
     "740d773f159a4800abb69d5742701a15": {
      "model_module": "@jupyter-widgets/controls",
      "model_module_version": "1.5.0",
      "model_name": "IntProgressModel",
      "state": {
       "_dom_classes": [],
       "_model_module": "@jupyter-widgets/controls",
       "_model_module_version": "1.5.0",
       "_model_name": "IntProgressModel",
       "_view_count": null,
       "_view_module": "@jupyter-widgets/controls",
       "_view_module_version": "1.5.0",
       "_view_name": "ProgressView",
       "bar_style": "",
       "description": "Epoch [9/10]: [7/7] 100%",
       "description_tooltip": null,
       "layout": "IPY_MODEL_deb78abb88d243e6bba1d754d74ab311",
       "max": 7,
       "min": 0,
       "orientation": "horizontal",
       "style": "IPY_MODEL_4bd38a5e70ca47eb91ace39582c53dc6",
       "value": 7
      }
     },
     "77446dd67e3444aabb5d5f6d31955ef2": {
      "model_module": "@jupyter-widgets/base",
      "model_module_version": "1.2.0",
      "model_name": "LayoutModel",
      "state": {
       "_model_module": "@jupyter-widgets/base",
       "_model_module_version": "1.2.0",
       "_model_name": "LayoutModel",
       "_view_count": null,
       "_view_module": "@jupyter-widgets/base",
       "_view_module_version": "1.2.0",
       "_view_name": "LayoutView",
       "align_content": null,
       "align_items": null,
       "align_self": null,
       "border": null,
       "bottom": null,
       "display": null,
       "flex": null,
       "flex_flow": null,
       "grid_area": null,
       "grid_auto_columns": null,
       "grid_auto_flow": null,
       "grid_auto_rows": null,
       "grid_column": null,
       "grid_gap": null,
       "grid_row": null,
       "grid_template_areas": null,
       "grid_template_columns": null,
       "grid_template_rows": null,
       "height": null,
       "justify_content": null,
       "justify_items": null,
       "left": null,
       "margin": null,
       "max_height": null,
       "max_width": null,
       "min_height": null,
       "min_width": null,
       "object_fit": null,
       "object_position": null,
       "order": null,
       "overflow": null,
       "overflow_x": null,
       "overflow_y": null,
       "padding": null,
       "right": null,
       "top": null,
       "visibility": null,
       "width": null
      }
     },
     "781f9807309a45fbb3caf19e4527f828": {
      "model_module": "@jupyter-widgets/base",
      "model_module_version": "1.2.0",
      "model_name": "LayoutModel",
      "state": {
       "_model_module": "@jupyter-widgets/base",
       "_model_module_version": "1.2.0",
       "_model_name": "LayoutModel",
       "_view_count": null,
       "_view_module": "@jupyter-widgets/base",
       "_view_module_version": "1.2.0",
       "_view_name": "LayoutView",
       "align_content": null,
       "align_items": null,
       "align_self": null,
       "border": null,
       "bottom": null,
       "display": null,
       "flex": null,
       "flex_flow": null,
       "grid_area": null,
       "grid_auto_columns": null,
       "grid_auto_flow": null,
       "grid_auto_rows": null,
       "grid_column": null,
       "grid_gap": null,
       "grid_row": null,
       "grid_template_areas": null,
       "grid_template_columns": null,
       "grid_template_rows": null,
       "height": null,
       "justify_content": null,
       "justify_items": null,
       "left": null,
       "margin": null,
       "max_height": null,
       "max_width": null,
       "min_height": null,
       "min_width": null,
       "object_fit": null,
       "object_position": null,
       "order": null,
       "overflow": null,
       "overflow_x": null,
       "overflow_y": null,
       "padding": null,
       "right": null,
       "top": null,
       "visibility": null,
       "width": null
      }
     },
     "7a2f49f01f2d4e0c8311bf8bbbd06127": {
      "model_module": "@jupyter-widgets/base",
      "model_module_version": "1.2.0",
      "model_name": "LayoutModel",
      "state": {
       "_model_module": "@jupyter-widgets/base",
       "_model_module_version": "1.2.0",
       "_model_name": "LayoutModel",
       "_view_count": null,
       "_view_module": "@jupyter-widgets/base",
       "_view_module_version": "1.2.0",
       "_view_name": "LayoutView",
       "align_content": null,
       "align_items": null,
       "align_self": null,
       "border": null,
       "bottom": null,
       "display": null,
       "flex": null,
       "flex_flow": null,
       "grid_area": null,
       "grid_auto_columns": null,
       "grid_auto_flow": null,
       "grid_auto_rows": null,
       "grid_column": null,
       "grid_gap": null,
       "grid_row": null,
       "grid_template_areas": null,
       "grid_template_columns": null,
       "grid_template_rows": null,
       "height": null,
       "justify_content": null,
       "justify_items": null,
       "left": null,
       "margin": null,
       "max_height": null,
       "max_width": null,
       "min_height": null,
       "min_width": null,
       "object_fit": null,
       "object_position": null,
       "order": null,
       "overflow": null,
       "overflow_x": null,
       "overflow_y": null,
       "padding": null,
       "right": null,
       "top": null,
       "visibility": null,
       "width": null
      }
     },
     "7ba6392660f0482a91d6bee7e2074f33": {
      "model_module": "@jupyter-widgets/base",
      "model_module_version": "1.2.0",
      "model_name": "LayoutModel",
      "state": {
       "_model_module": "@jupyter-widgets/base",
       "_model_module_version": "1.2.0",
       "_model_name": "LayoutModel",
       "_view_count": null,
       "_view_module": "@jupyter-widgets/base",
       "_view_module_version": "1.2.0",
       "_view_name": "LayoutView",
       "align_content": null,
       "align_items": null,
       "align_self": null,
       "border": null,
       "bottom": null,
       "display": null,
       "flex": null,
       "flex_flow": null,
       "grid_area": null,
       "grid_auto_columns": null,
       "grid_auto_flow": null,
       "grid_auto_rows": null,
       "grid_column": null,
       "grid_gap": null,
       "grid_row": null,
       "grid_template_areas": null,
       "grid_template_columns": null,
       "grid_template_rows": null,
       "height": null,
       "justify_content": null,
       "justify_items": null,
       "left": null,
       "margin": null,
       "max_height": null,
       "max_width": null,
       "min_height": null,
       "min_width": null,
       "object_fit": null,
       "object_position": null,
       "order": null,
       "overflow": null,
       "overflow_x": null,
       "overflow_y": null,
       "padding": null,
       "right": null,
       "top": null,
       "visibility": null,
       "width": null
      }
     },
     "7f35a6c65d2f465caa32c72a3d13b35f": {
      "model_module": "@jupyter-widgets/controls",
      "model_module_version": "1.5.0",
      "model_name": "HBoxModel",
      "state": {
       "_dom_classes": [],
       "_model_module": "@jupyter-widgets/controls",
       "_model_module_version": "1.5.0",
       "_model_name": "HBoxModel",
       "_view_count": null,
       "_view_module": "@jupyter-widgets/controls",
       "_view_module_version": "1.5.0",
       "_view_name": "HBoxView",
       "box_style": "",
       "children": [
        "IPY_MODEL_4573129e86b846bd80b2bbcff2608f92",
        "IPY_MODEL_a5f39282e1ad4ed5a5624c2863310023"
       ],
       "layout": "IPY_MODEL_9f6ebbee958d4fd9af3e6298920b1ca8"
      }
     },
     "805ea8044b614e28b19a00b42bfd0ed1": {
      "model_module": "@jupyter-widgets/controls",
      "model_module_version": "1.5.0",
      "model_name": "DescriptionStyleModel",
      "state": {
       "_model_module": "@jupyter-widgets/controls",
       "_model_module_version": "1.5.0",
       "_model_name": "DescriptionStyleModel",
       "_view_count": null,
       "_view_module": "@jupyter-widgets/base",
       "_view_module_version": "1.2.0",
       "_view_name": "StyleView",
       "description_width": ""
      }
     },
     "832b8ab960434d2fa4599031699096ad": {
      "model_module": "@jupyter-widgets/controls",
      "model_module_version": "1.5.0",
      "model_name": "IntProgressModel",
      "state": {
       "_dom_classes": [],
       "_model_module": "@jupyter-widgets/controls",
       "_model_module_version": "1.5.0",
       "_model_name": "IntProgressModel",
       "_view_count": null,
       "_view_module": "@jupyter-widgets/controls",
       "_view_module_version": "1.5.0",
       "_view_name": "ProgressView",
       "bar_style": "",
       "description": "Epoch [4/10]: [7/7] 100%",
       "description_tooltip": null,
       "layout": "IPY_MODEL_0e51f99fb6bd411b9af7d2a3ea288301",
       "max": 7,
       "min": 0,
       "orientation": "horizontal",
       "style": "IPY_MODEL_07ca477e64014a7eaa6e2f019ddabcdc",
       "value": 7
      }
     },
     "8569061e6ceb4db898efb09464a3f13f": {
      "model_module": "@jupyter-widgets/base",
      "model_module_version": "1.2.0",
      "model_name": "LayoutModel",
      "state": {
       "_model_module": "@jupyter-widgets/base",
       "_model_module_version": "1.2.0",
       "_model_name": "LayoutModel",
       "_view_count": null,
       "_view_module": "@jupyter-widgets/base",
       "_view_module_version": "1.2.0",
       "_view_name": "LayoutView",
       "align_content": null,
       "align_items": null,
       "align_self": null,
       "border": null,
       "bottom": null,
       "display": null,
       "flex": null,
       "flex_flow": null,
       "grid_area": null,
       "grid_auto_columns": null,
       "grid_auto_flow": null,
       "grid_auto_rows": null,
       "grid_column": null,
       "grid_gap": null,
       "grid_row": null,
       "grid_template_areas": null,
       "grid_template_columns": null,
       "grid_template_rows": null,
       "height": null,
       "justify_content": null,
       "justify_items": null,
       "left": null,
       "margin": null,
       "max_height": null,
       "max_width": null,
       "min_height": null,
       "min_width": null,
       "object_fit": null,
       "object_position": null,
       "order": null,
       "overflow": null,
       "overflow_x": null,
       "overflow_y": null,
       "padding": null,
       "right": null,
       "top": null,
       "visibility": null,
       "width": null
      }
     },
     "8be9be0ca219430babf3f981102a8ab6": {
      "model_module": "@jupyter-widgets/base",
      "model_module_version": "1.2.0",
      "model_name": "LayoutModel",
      "state": {
       "_model_module": "@jupyter-widgets/base",
       "_model_module_version": "1.2.0",
       "_model_name": "LayoutModel",
       "_view_count": null,
       "_view_module": "@jupyter-widgets/base",
       "_view_module_version": "1.2.0",
       "_view_name": "LayoutView",
       "align_content": null,
       "align_items": null,
       "align_self": null,
       "border": null,
       "bottom": null,
       "display": null,
       "flex": null,
       "flex_flow": null,
       "grid_area": null,
       "grid_auto_columns": null,
       "grid_auto_flow": null,
       "grid_auto_rows": null,
       "grid_column": null,
       "grid_gap": null,
       "grid_row": null,
       "grid_template_areas": null,
       "grid_template_columns": null,
       "grid_template_rows": null,
       "height": null,
       "justify_content": null,
       "justify_items": null,
       "left": null,
       "margin": null,
       "max_height": null,
       "max_width": null,
       "min_height": null,
       "min_width": null,
       "object_fit": null,
       "object_position": null,
       "order": null,
       "overflow": null,
       "overflow_x": null,
       "overflow_y": null,
       "padding": null,
       "right": null,
       "top": null,
       "visibility": null,
       "width": null
      }
     },
     "945c8e2595dc4ba9ab0a3442b1ab0d91": {
      "model_module": "@jupyter-widgets/base",
      "model_module_version": "1.2.0",
      "model_name": "LayoutModel",
      "state": {
       "_model_module": "@jupyter-widgets/base",
       "_model_module_version": "1.2.0",
       "_model_name": "LayoutModel",
       "_view_count": null,
       "_view_module": "@jupyter-widgets/base",
       "_view_module_version": "1.2.0",
       "_view_name": "LayoutView",
       "align_content": null,
       "align_items": null,
       "align_self": null,
       "border": null,
       "bottom": null,
       "display": null,
       "flex": null,
       "flex_flow": null,
       "grid_area": null,
       "grid_auto_columns": null,
       "grid_auto_flow": null,
       "grid_auto_rows": null,
       "grid_column": null,
       "grid_gap": null,
       "grid_row": null,
       "grid_template_areas": null,
       "grid_template_columns": null,
       "grid_template_rows": null,
       "height": null,
       "justify_content": null,
       "justify_items": null,
       "left": null,
       "margin": null,
       "max_height": null,
       "max_width": null,
       "min_height": null,
       "min_width": null,
       "object_fit": null,
       "object_position": null,
       "order": null,
       "overflow": null,
       "overflow_x": null,
       "overflow_y": null,
       "padding": null,
       "right": null,
       "top": null,
       "visibility": null,
       "width": null
      }
     },
     "94e11e6462ae4d4e827be47a8a7a54ab": {
      "model_module": "@jupyter-widgets/base",
      "model_module_version": "1.2.0",
      "model_name": "LayoutModel",
      "state": {
       "_model_module": "@jupyter-widgets/base",
       "_model_module_version": "1.2.0",
       "_model_name": "LayoutModel",
       "_view_count": null,
       "_view_module": "@jupyter-widgets/base",
       "_view_module_version": "1.2.0",
       "_view_name": "LayoutView",
       "align_content": null,
       "align_items": null,
       "align_self": null,
       "border": null,
       "bottom": null,
       "display": null,
       "flex": null,
       "flex_flow": null,
       "grid_area": null,
       "grid_auto_columns": null,
       "grid_auto_flow": null,
       "grid_auto_rows": null,
       "grid_column": null,
       "grid_gap": null,
       "grid_row": null,
       "grid_template_areas": null,
       "grid_template_columns": null,
       "grid_template_rows": null,
       "height": null,
       "justify_content": null,
       "justify_items": null,
       "left": null,
       "margin": null,
       "max_height": null,
       "max_width": null,
       "min_height": null,
       "min_width": null,
       "object_fit": null,
       "object_position": null,
       "order": null,
       "overflow": null,
       "overflow_x": null,
       "overflow_y": null,
       "padding": null,
       "right": null,
       "top": null,
       "visibility": null,
       "width": null
      }
     },
     "954bb84c6aed4ae4b67225f639b0b6fe": {
      "model_module": "@jupyter-widgets/base",
      "model_module_version": "1.2.0",
      "model_name": "LayoutModel",
      "state": {
       "_model_module": "@jupyter-widgets/base",
       "_model_module_version": "1.2.0",
       "_model_name": "LayoutModel",
       "_view_count": null,
       "_view_module": "@jupyter-widgets/base",
       "_view_module_version": "1.2.0",
       "_view_name": "LayoutView",
       "align_content": null,
       "align_items": null,
       "align_self": null,
       "border": null,
       "bottom": null,
       "display": null,
       "flex": null,
       "flex_flow": null,
       "grid_area": null,
       "grid_auto_columns": null,
       "grid_auto_flow": null,
       "grid_auto_rows": null,
       "grid_column": null,
       "grid_gap": null,
       "grid_row": null,
       "grid_template_areas": null,
       "grid_template_columns": null,
       "grid_template_rows": null,
       "height": null,
       "justify_content": null,
       "justify_items": null,
       "left": null,
       "margin": null,
       "max_height": null,
       "max_width": null,
       "min_height": null,
       "min_width": null,
       "object_fit": null,
       "object_position": null,
       "order": null,
       "overflow": null,
       "overflow_x": null,
       "overflow_y": null,
       "padding": null,
       "right": null,
       "top": null,
       "visibility": null,
       "width": null
      }
     },
     "95bb16babf5a497d84594c074a97f41f": {
      "model_module": "@jupyter-widgets/controls",
      "model_module_version": "1.5.0",
      "model_name": "HTMLModel",
      "state": {
       "_dom_classes": [],
       "_model_module": "@jupyter-widgets/controls",
       "_model_module_version": "1.5.0",
       "_model_name": "HTMLModel",
       "_view_count": null,
       "_view_module": "@jupyter-widgets/controls",
       "_view_module_version": "1.5.0",
       "_view_name": "HTMLView",
       "description": "",
       "description_tooltip": null,
       "layout": "IPY_MODEL_17db07a7781c4576b5dc66f365b297db",
       "placeholder": "​",
       "style": "IPY_MODEL_969c0eddf49f4a8b951498ae21d503e2",
       "value": " 6/? [00:00&lt;00:00, 37.52it/s]"
      }
     },
     "969c0eddf49f4a8b951498ae21d503e2": {
      "model_module": "@jupyter-widgets/controls",
      "model_module_version": "1.5.0",
      "model_name": "DescriptionStyleModel",
      "state": {
       "_model_module": "@jupyter-widgets/controls",
       "_model_module_version": "1.5.0",
       "_model_name": "DescriptionStyleModel",
       "_view_count": null,
       "_view_module": "@jupyter-widgets/base",
       "_view_module_version": "1.2.0",
       "_view_name": "StyleView",
       "description_width": ""
      }
     },
     "9a84e9c0f22943b18d7e68ff422d7959": {
      "model_module": "@jupyter-widgets/controls",
      "model_module_version": "1.5.0",
      "model_name": "DescriptionStyleModel",
      "state": {
       "_model_module": "@jupyter-widgets/controls",
       "_model_module_version": "1.5.0",
       "_model_name": "DescriptionStyleModel",
       "_view_count": null,
       "_view_module": "@jupyter-widgets/base",
       "_view_module_version": "1.2.0",
       "_view_name": "StyleView",
       "description_width": ""
      }
     },
     "9d0b912e463342889c3e2e69b24cd3ec": {
      "model_module": "@jupyter-widgets/base",
      "model_module_version": "1.2.0",
      "model_name": "LayoutModel",
      "state": {
       "_model_module": "@jupyter-widgets/base",
       "_model_module_version": "1.2.0",
       "_model_name": "LayoutModel",
       "_view_count": null,
       "_view_module": "@jupyter-widgets/base",
       "_view_module_version": "1.2.0",
       "_view_name": "LayoutView",
       "align_content": null,
       "align_items": null,
       "align_self": null,
       "border": null,
       "bottom": null,
       "display": null,
       "flex": null,
       "flex_flow": null,
       "grid_area": null,
       "grid_auto_columns": null,
       "grid_auto_flow": null,
       "grid_auto_rows": null,
       "grid_column": null,
       "grid_gap": null,
       "grid_row": null,
       "grid_template_areas": null,
       "grid_template_columns": null,
       "grid_template_rows": null,
       "height": null,
       "justify_content": null,
       "justify_items": null,
       "left": null,
       "margin": null,
       "max_height": null,
       "max_width": null,
       "min_height": null,
       "min_width": null,
       "object_fit": null,
       "object_position": null,
       "order": null,
       "overflow": null,
       "overflow_x": null,
       "overflow_y": null,
       "padding": null,
       "right": null,
       "top": null,
       "visibility": null,
       "width": null
      }
     },
     "9f6ebbee958d4fd9af3e6298920b1ca8": {
      "model_module": "@jupyter-widgets/base",
      "model_module_version": "1.2.0",
      "model_name": "LayoutModel",
      "state": {
       "_model_module": "@jupyter-widgets/base",
       "_model_module_version": "1.2.0",
       "_model_name": "LayoutModel",
       "_view_count": null,
       "_view_module": "@jupyter-widgets/base",
       "_view_module_version": "1.2.0",
       "_view_name": "LayoutView",
       "align_content": null,
       "align_items": null,
       "align_self": null,
       "border": null,
       "bottom": null,
       "display": null,
       "flex": null,
       "flex_flow": null,
       "grid_area": null,
       "grid_auto_columns": null,
       "grid_auto_flow": null,
       "grid_auto_rows": null,
       "grid_column": null,
       "grid_gap": null,
       "grid_row": null,
       "grid_template_areas": null,
       "grid_template_columns": null,
       "grid_template_rows": null,
       "height": null,
       "justify_content": null,
       "justify_items": null,
       "left": null,
       "margin": null,
       "max_height": null,
       "max_width": null,
       "min_height": null,
       "min_width": null,
       "object_fit": null,
       "object_position": null,
       "order": null,
       "overflow": null,
       "overflow_x": null,
       "overflow_y": null,
       "padding": null,
       "right": null,
       "top": null,
       "visibility": null,
       "width": null
      }
     },
     "a208f6562d9a411da2eb1d60d7d885a5": {
      "model_module": "@jupyter-widgets/base",
      "model_module_version": "1.2.0",
      "model_name": "LayoutModel",
      "state": {
       "_model_module": "@jupyter-widgets/base",
       "_model_module_version": "1.2.0",
       "_model_name": "LayoutModel",
       "_view_count": null,
       "_view_module": "@jupyter-widgets/base",
       "_view_module_version": "1.2.0",
       "_view_name": "LayoutView",
       "align_content": null,
       "align_items": null,
       "align_self": null,
       "border": null,
       "bottom": null,
       "display": null,
       "flex": null,
       "flex_flow": null,
       "grid_area": null,
       "grid_auto_columns": null,
       "grid_auto_flow": null,
       "grid_auto_rows": null,
       "grid_column": null,
       "grid_gap": null,
       "grid_row": null,
       "grid_template_areas": null,
       "grid_template_columns": null,
       "grid_template_rows": null,
       "height": null,
       "justify_content": null,
       "justify_items": null,
       "left": null,
       "margin": null,
       "max_height": null,
       "max_width": null,
       "min_height": null,
       "min_width": null,
       "object_fit": null,
       "object_position": null,
       "order": null,
       "overflow": null,
       "overflow_x": null,
       "overflow_y": null,
       "padding": null,
       "right": null,
       "top": null,
       "visibility": null,
       "width": null
      }
     },
     "a5f39282e1ad4ed5a5624c2863310023": {
      "model_module": "@jupyter-widgets/controls",
      "model_module_version": "1.5.0",
      "model_name": "HTMLModel",
      "state": {
       "_dom_classes": [],
       "_model_module": "@jupyter-widgets/controls",
       "_model_module_version": "1.5.0",
       "_model_name": "HTMLModel",
       "_view_count": null,
       "_view_module": "@jupyter-widgets/controls",
       "_view_module_version": "1.5.0",
       "_view_name": "HTMLView",
       "description": "",
       "description_tooltip": null,
       "layout": "IPY_MODEL_e9d35d05b632447aa98556a768cc156d",
       "placeholder": "​",
       "style": "IPY_MODEL_df686d180d5a49d184f1a6f1bedb680c",
       "value": " 30/? [00:00&lt;00:00, 79.98it/s]"
      }
     },
     "a88d973317bc4c72be37d019a384bbb4": {
      "model_module": "@jupyter-widgets/controls",
      "model_module_version": "1.5.0",
      "model_name": "ProgressStyleModel",
      "state": {
       "_model_module": "@jupyter-widgets/controls",
       "_model_module_version": "1.5.0",
       "_model_name": "ProgressStyleModel",
       "_view_count": null,
       "_view_module": "@jupyter-widgets/base",
       "_view_module_version": "1.2.0",
       "_view_name": "StyleView",
       "bar_color": null,
       "description_width": "initial"
      }
     },
     "abc6bfa0da3e49caab514629c4b1664d": {
      "model_module": "@jupyter-widgets/controls",
      "model_module_version": "1.5.0",
      "model_name": "DescriptionStyleModel",
      "state": {
       "_model_module": "@jupyter-widgets/controls",
       "_model_module_version": "1.5.0",
       "_model_name": "DescriptionStyleModel",
       "_view_count": null,
       "_view_module": "@jupyter-widgets/base",
       "_view_module_version": "1.2.0",
       "_view_name": "StyleView",
       "description_width": ""
      }
     },
     "b2bb2a71619440f8a667fc7aa4b13698": {
      "model_module": "@jupyter-widgets/base",
      "model_module_version": "1.2.0",
      "model_name": "LayoutModel",
      "state": {
       "_model_module": "@jupyter-widgets/base",
       "_model_module_version": "1.2.0",
       "_model_name": "LayoutModel",
       "_view_count": null,
       "_view_module": "@jupyter-widgets/base",
       "_view_module_version": "1.2.0",
       "_view_name": "LayoutView",
       "align_content": null,
       "align_items": null,
       "align_self": null,
       "border": null,
       "bottom": null,
       "display": null,
       "flex": null,
       "flex_flow": null,
       "grid_area": null,
       "grid_auto_columns": null,
       "grid_auto_flow": null,
       "grid_auto_rows": null,
       "grid_column": null,
       "grid_gap": null,
       "grid_row": null,
       "grid_template_areas": null,
       "grid_template_columns": null,
       "grid_template_rows": null,
       "height": null,
       "justify_content": null,
       "justify_items": null,
       "left": null,
       "margin": null,
       "max_height": null,
       "max_width": null,
       "min_height": null,
       "min_width": null,
       "object_fit": null,
       "object_position": null,
       "order": null,
       "overflow": null,
       "overflow_x": null,
       "overflow_y": null,
       "padding": null,
       "right": null,
       "top": null,
       "visibility": null,
       "width": null
      }
     },
     "b5e264cee9f84586b4bd08769f9ea7f1": {
      "model_module": "@jupyter-widgets/controls",
      "model_module_version": "1.5.0",
      "model_name": "ProgressStyleModel",
      "state": {
       "_model_module": "@jupyter-widgets/controls",
       "_model_module_version": "1.5.0",
       "_model_name": "ProgressStyleModel",
       "_view_count": null,
       "_view_module": "@jupyter-widgets/base",
       "_view_module_version": "1.2.0",
       "_view_name": "StyleView",
       "bar_color": null,
       "description_width": "initial"
      }
     },
     "b83f58c0980049fc91d8cd937c07ceb5": {
      "model_module": "@jupyter-widgets/base",
      "model_module_version": "1.2.0",
      "model_name": "LayoutModel",
      "state": {
       "_model_module": "@jupyter-widgets/base",
       "_model_module_version": "1.2.0",
       "_model_name": "LayoutModel",
       "_view_count": null,
       "_view_module": "@jupyter-widgets/base",
       "_view_module_version": "1.2.0",
       "_view_name": "LayoutView",
       "align_content": null,
       "align_items": null,
       "align_self": null,
       "border": null,
       "bottom": null,
       "display": null,
       "flex": null,
       "flex_flow": null,
       "grid_area": null,
       "grid_auto_columns": null,
       "grid_auto_flow": null,
       "grid_auto_rows": null,
       "grid_column": null,
       "grid_gap": null,
       "grid_row": null,
       "grid_template_areas": null,
       "grid_template_columns": null,
       "grid_template_rows": null,
       "height": null,
       "justify_content": null,
       "justify_items": null,
       "left": null,
       "margin": null,
       "max_height": null,
       "max_width": null,
       "min_height": null,
       "min_width": null,
       "object_fit": null,
       "object_position": null,
       "order": null,
       "overflow": null,
       "overflow_x": null,
       "overflow_y": null,
       "padding": null,
       "right": null,
       "top": null,
       "visibility": null,
       "width": null
      }
     },
     "b987563f9b084f25aa7537d0ed73a554": {
      "model_module": "@jupyter-widgets/base",
      "model_module_version": "1.2.0",
      "model_name": "LayoutModel",
      "state": {
       "_model_module": "@jupyter-widgets/base",
       "_model_module_version": "1.2.0",
       "_model_name": "LayoutModel",
       "_view_count": null,
       "_view_module": "@jupyter-widgets/base",
       "_view_module_version": "1.2.0",
       "_view_name": "LayoutView",
       "align_content": null,
       "align_items": null,
       "align_self": null,
       "border": null,
       "bottom": null,
       "display": null,
       "flex": null,
       "flex_flow": null,
       "grid_area": null,
       "grid_auto_columns": null,
       "grid_auto_flow": null,
       "grid_auto_rows": null,
       "grid_column": null,
       "grid_gap": null,
       "grid_row": null,
       "grid_template_areas": null,
       "grid_template_columns": null,
       "grid_template_rows": null,
       "height": null,
       "justify_content": null,
       "justify_items": null,
       "left": null,
       "margin": null,
       "max_height": null,
       "max_width": null,
       "min_height": null,
       "min_width": null,
       "object_fit": null,
       "object_position": null,
       "order": null,
       "overflow": null,
       "overflow_x": null,
       "overflow_y": null,
       "padding": null,
       "right": null,
       "top": null,
       "visibility": null,
       "width": null
      }
     },
     "ba457279b4594e3a87d22ee11aae1f65": {
      "model_module": "@jupyter-widgets/controls",
      "model_module_version": "1.5.0",
      "model_name": "IntProgressModel",
      "state": {
       "_dom_classes": [],
       "_model_module": "@jupyter-widgets/controls",
       "_model_module_version": "1.5.0",
       "_model_name": "IntProgressModel",
       "_view_count": null,
       "_view_module": "@jupyter-widgets/controls",
       "_view_module_version": "1.5.0",
       "_view_name": "ProgressView",
       "bar_style": "success",
       "description": "",
       "description_tooltip": null,
       "layout": "IPY_MODEL_6233ee4e9b734afbb1a8955243a4bcf9",
       "max": 1,
       "min": 0,
       "orientation": "horizontal",
       "style": "IPY_MODEL_a88d973317bc4c72be37d019a384bbb4",
       "value": 1
      }
     },
     "bb4bfcea489942b6b4425b57fe518fc8": {
      "model_module": "@jupyter-widgets/base",
      "model_module_version": "1.2.0",
      "model_name": "LayoutModel",
      "state": {
       "_model_module": "@jupyter-widgets/base",
       "_model_module_version": "1.2.0",
       "_model_name": "LayoutModel",
       "_view_count": null,
       "_view_module": "@jupyter-widgets/base",
       "_view_module_version": "1.2.0",
       "_view_name": "LayoutView",
       "align_content": null,
       "align_items": null,
       "align_self": null,
       "border": null,
       "bottom": null,
       "display": null,
       "flex": null,
       "flex_flow": null,
       "grid_area": null,
       "grid_auto_columns": null,
       "grid_auto_flow": null,
       "grid_auto_rows": null,
       "grid_column": null,
       "grid_gap": null,
       "grid_row": null,
       "grid_template_areas": null,
       "grid_template_columns": null,
       "grid_template_rows": null,
       "height": null,
       "justify_content": null,
       "justify_items": null,
       "left": null,
       "margin": null,
       "max_height": null,
       "max_width": null,
       "min_height": null,
       "min_width": null,
       "object_fit": null,
       "object_position": null,
       "order": null,
       "overflow": null,
       "overflow_x": null,
       "overflow_y": null,
       "padding": null,
       "right": null,
       "top": null,
       "visibility": null,
       "width": null
      }
     },
     "bc486f189410421f8e9cf59dfb4fd3bf": {
      "model_module": "@jupyter-widgets/base",
      "model_module_version": "1.2.0",
      "model_name": "LayoutModel",
      "state": {
       "_model_module": "@jupyter-widgets/base",
       "_model_module_version": "1.2.0",
       "_model_name": "LayoutModel",
       "_view_count": null,
       "_view_module": "@jupyter-widgets/base",
       "_view_module_version": "1.2.0",
       "_view_name": "LayoutView",
       "align_content": null,
       "align_items": null,
       "align_self": null,
       "border": null,
       "bottom": null,
       "display": null,
       "flex": null,
       "flex_flow": null,
       "grid_area": null,
       "grid_auto_columns": null,
       "grid_auto_flow": null,
       "grid_auto_rows": null,
       "grid_column": null,
       "grid_gap": null,
       "grid_row": null,
       "grid_template_areas": null,
       "grid_template_columns": null,
       "grid_template_rows": null,
       "height": null,
       "justify_content": null,
       "justify_items": null,
       "left": null,
       "margin": null,
       "max_height": null,
       "max_width": null,
       "min_height": null,
       "min_width": null,
       "object_fit": null,
       "object_position": null,
       "order": null,
       "overflow": null,
       "overflow_x": null,
       "overflow_y": null,
       "padding": null,
       "right": null,
       "top": null,
       "visibility": null,
       "width": null
      }
     },
     "bca64c0170c547e79628defb3668841d": {
      "model_module": "@jupyter-widgets/base",
      "model_module_version": "1.2.0",
      "model_name": "LayoutModel",
      "state": {
       "_model_module": "@jupyter-widgets/base",
       "_model_module_version": "1.2.0",
       "_model_name": "LayoutModel",
       "_view_count": null,
       "_view_module": "@jupyter-widgets/base",
       "_view_module_version": "1.2.0",
       "_view_name": "LayoutView",
       "align_content": null,
       "align_items": null,
       "align_self": null,
       "border": null,
       "bottom": null,
       "display": null,
       "flex": null,
       "flex_flow": null,
       "grid_area": null,
       "grid_auto_columns": null,
       "grid_auto_flow": null,
       "grid_auto_rows": null,
       "grid_column": null,
       "grid_gap": null,
       "grid_row": null,
       "grid_template_areas": null,
       "grid_template_columns": null,
       "grid_template_rows": null,
       "height": null,
       "justify_content": null,
       "justify_items": null,
       "left": null,
       "margin": null,
       "max_height": null,
       "max_width": null,
       "min_height": null,
       "min_width": null,
       "object_fit": null,
       "object_position": null,
       "order": null,
       "overflow": null,
       "overflow_x": null,
       "overflow_y": null,
       "padding": null,
       "right": null,
       "top": null,
       "visibility": null,
       "width": null
      }
     },
     "bdac98f3db1349c1b8aa4bbff297a053": {
      "model_module": "@jupyter-widgets/base",
      "model_module_version": "1.2.0",
      "model_name": "LayoutModel",
      "state": {
       "_model_module": "@jupyter-widgets/base",
       "_model_module_version": "1.2.0",
       "_model_name": "LayoutModel",
       "_view_count": null,
       "_view_module": "@jupyter-widgets/base",
       "_view_module_version": "1.2.0",
       "_view_name": "LayoutView",
       "align_content": null,
       "align_items": null,
       "align_self": null,
       "border": null,
       "bottom": null,
       "display": null,
       "flex": null,
       "flex_flow": null,
       "grid_area": null,
       "grid_auto_columns": null,
       "grid_auto_flow": null,
       "grid_auto_rows": null,
       "grid_column": null,
       "grid_gap": null,
       "grid_row": null,
       "grid_template_areas": null,
       "grid_template_columns": null,
       "grid_template_rows": null,
       "height": null,
       "justify_content": null,
       "justify_items": null,
       "left": null,
       "margin": null,
       "max_height": null,
       "max_width": null,
       "min_height": null,
       "min_width": null,
       "object_fit": null,
       "object_position": null,
       "order": null,
       "overflow": null,
       "overflow_x": null,
       "overflow_y": null,
       "padding": null,
       "right": null,
       "top": null,
       "visibility": null,
       "width": null
      }
     },
     "bdada1576edb4e14ac408e342f663273": {
      "model_module": "@jupyter-widgets/controls",
      "model_module_version": "1.5.0",
      "model_name": "HTMLModel",
      "state": {
       "_dom_classes": [],
       "_model_module": "@jupyter-widgets/controls",
       "_model_module_version": "1.5.0",
       "_model_name": "HTMLModel",
       "_view_count": null,
       "_view_module": "@jupyter-widgets/controls",
       "_view_module_version": "1.5.0",
       "_view_name": "HTMLView",
       "description": "",
       "description_tooltip": null,
       "layout": "IPY_MODEL_b83f58c0980049fc91d8cd937c07ceb5",
       "placeholder": "​",
       "style": "IPY_MODEL_e3087dfccabe4528bbcb1cdae37da127",
       "value": " [00:01&lt;00:00]"
      }
     },
     "bf0477e2f441498baeb67772323d2a94": {
      "model_module": "@jupyter-widgets/controls",
      "model_module_version": "1.5.0",
      "model_name": "ProgressStyleModel",
      "state": {
       "_model_module": "@jupyter-widgets/controls",
       "_model_module_version": "1.5.0",
       "_model_name": "ProgressStyleModel",
       "_view_count": null,
       "_view_module": "@jupyter-widgets/base",
       "_view_module_version": "1.2.0",
       "_view_name": "StyleView",
       "bar_color": null,
       "description_width": "initial"
      }
     },
     "c87ae58416db40e4985ea5056a94d049": {
      "model_module": "@jupyter-widgets/controls",
      "model_module_version": "1.5.0",
      "model_name": "HTMLModel",
      "state": {
       "_dom_classes": [],
       "_model_module": "@jupyter-widgets/controls",
       "_model_module_version": "1.5.0",
       "_model_name": "HTMLModel",
       "_view_count": null,
       "_view_module": "@jupyter-widgets/controls",
       "_view_module_version": "1.5.0",
       "_view_name": "HTMLView",
       "description": "",
       "description_tooltip": null,
       "layout": "IPY_MODEL_cbad50febcea45cdbfaf9aa331ab30f6",
       "placeholder": "​",
       "style": "IPY_MODEL_64fd4ac764c448439ae2c8e7a9fbb67a",
       "value": ", acc_consonant=0.719, acc_grapheme=0.701, acc_vowel=0.772, loss=5.13, loss_consonant=1.24, loss_grapheme=2.76, loss_vowel=1.13, recall=0.666 [00:01&lt;00:00]"
      }
     },
     "c9ec3841da934d95bab8eab5cf02b957": {
      "model_module": "@jupyter-widgets/controls",
      "model_module_version": "1.5.0",
      "model_name": "HTMLModel",
      "state": {
       "_dom_classes": [],
       "_model_module": "@jupyter-widgets/controls",
       "_model_module_version": "1.5.0",
       "_model_name": "HTMLModel",
       "_view_count": null,
       "_view_module": "@jupyter-widgets/controls",
       "_view_module_version": "1.5.0",
       "_view_name": "HTMLView",
       "description": "",
       "description_tooltip": null,
       "layout": "IPY_MODEL_5a5dad6f15734d10849ed845f03b4796",
       "placeholder": "​",
       "style": "IPY_MODEL_abc6bfa0da3e49caab514629c4b1664d",
       "value": ", acc_consonant=0.522, acc_grapheme=0.411, acc_vowel=0.527, loss=6.6, loss_consonant=1.49, loss_grapheme=3.6, loss_vowel=1.51, recall=0.381 [00:01&lt;00:00]"
      }
     },
     "cbad50febcea45cdbfaf9aa331ab30f6": {
      "model_module": "@jupyter-widgets/base",
      "model_module_version": "1.2.0",
      "model_name": "LayoutModel",
      "state": {
       "_model_module": "@jupyter-widgets/base",
       "_model_module_version": "1.2.0",
       "_model_name": "LayoutModel",
       "_view_count": null,
       "_view_module": "@jupyter-widgets/base",
       "_view_module_version": "1.2.0",
       "_view_name": "LayoutView",
       "align_content": null,
       "align_items": null,
       "align_self": null,
       "border": null,
       "bottom": null,
       "display": null,
       "flex": null,
       "flex_flow": null,
       "grid_area": null,
       "grid_auto_columns": null,
       "grid_auto_flow": null,
       "grid_auto_rows": null,
       "grid_column": null,
       "grid_gap": null,
       "grid_row": null,
       "grid_template_areas": null,
       "grid_template_columns": null,
       "grid_template_rows": null,
       "height": null,
       "justify_content": null,
       "justify_items": null,
       "left": null,
       "margin": null,
       "max_height": null,
       "max_width": null,
       "min_height": null,
       "min_width": null,
       "object_fit": null,
       "object_position": null,
       "order": null,
       "overflow": null,
       "overflow_x": null,
       "overflow_y": null,
       "padding": null,
       "right": null,
       "top": null,
       "visibility": null,
       "width": null
      }
     },
     "cc020aad5221470ca59a606c428a869d": {
      "model_module": "@jupyter-widgets/base",
      "model_module_version": "1.2.0",
      "model_name": "LayoutModel",
      "state": {
       "_model_module": "@jupyter-widgets/base",
       "_model_module_version": "1.2.0",
       "_model_name": "LayoutModel",
       "_view_count": null,
       "_view_module": "@jupyter-widgets/base",
       "_view_module_version": "1.2.0",
       "_view_name": "LayoutView",
       "align_content": null,
       "align_items": null,
       "align_self": null,
       "border": null,
       "bottom": null,
       "display": null,
       "flex": null,
       "flex_flow": null,
       "grid_area": null,
       "grid_auto_columns": null,
       "grid_auto_flow": null,
       "grid_auto_rows": null,
       "grid_column": null,
       "grid_gap": null,
       "grid_row": null,
       "grid_template_areas": null,
       "grid_template_columns": null,
       "grid_template_rows": null,
       "height": null,
       "justify_content": null,
       "justify_items": null,
       "left": null,
       "margin": null,
       "max_height": null,
       "max_width": null,
       "min_height": null,
       "min_width": null,
       "object_fit": null,
       "object_position": null,
       "order": null,
       "overflow": null,
       "overflow_x": null,
       "overflow_y": null,
       "padding": null,
       "right": null,
       "top": null,
       "visibility": null,
       "width": null
      }
     },
     "cc0419ce7e3445ce8325c5e0876490ce": {
      "model_module": "@jupyter-widgets/controls",
      "model_module_version": "1.5.0",
      "model_name": "IntProgressModel",
      "state": {
       "_dom_classes": [],
       "_model_module": "@jupyter-widgets/controls",
       "_model_module_version": "1.5.0",
       "_model_name": "IntProgressModel",
       "_view_count": null,
       "_view_module": "@jupyter-widgets/controls",
       "_view_module_version": "1.5.0",
       "_view_name": "ProgressView",
       "bar_style": "success",
       "description": "",
       "description_tooltip": null,
       "layout": "IPY_MODEL_bdac98f3db1349c1b8aa4bbff297a053",
       "max": 1,
       "min": 0,
       "orientation": "horizontal",
       "style": "IPY_MODEL_ee451547930b443bb88f0817873e86a0",
       "value": 1
      }
     },
     "ccc09db109d44e4c9b87472222d477f5": {
      "model_module": "@jupyter-widgets/controls",
      "model_module_version": "1.5.0",
      "model_name": "HBoxModel",
      "state": {
       "_dom_classes": [],
       "_model_module": "@jupyter-widgets/controls",
       "_model_module_version": "1.5.0",
       "_model_name": "HBoxModel",
       "_view_count": null,
       "_view_module": "@jupyter-widgets/controls",
       "_view_module_version": "1.5.0",
       "_view_name": "HBoxView",
       "box_style": "",
       "children": [
        "IPY_MODEL_832b8ab960434d2fa4599031699096ad",
        "IPY_MODEL_ffd3d1af4e494fc19f20cf20be6ee2d4"
       ],
       "layout": "IPY_MODEL_343aa558e88c4b58be2c33f732c9871c"
      }
     },
     "cf001db7d83e4a308048fe80f0dd3f91": {
      "model_module": "@jupyter-widgets/controls",
      "model_module_version": "1.5.0",
      "model_name": "DescriptionStyleModel",
      "state": {
       "_model_module": "@jupyter-widgets/controls",
       "_model_module_version": "1.5.0",
       "_model_name": "DescriptionStyleModel",
       "_view_count": null,
       "_view_module": "@jupyter-widgets/base",
       "_view_module_version": "1.2.0",
       "_view_name": "StyleView",
       "description_width": ""
      }
     },
     "d240de84f1294ec59ad8b34267aa4df8": {
      "model_module": "@jupyter-widgets/controls",
      "model_module_version": "1.5.0",
      "model_name": "HBoxModel",
      "state": {
       "_dom_classes": [],
       "_model_module": "@jupyter-widgets/controls",
       "_model_module_version": "1.5.0",
       "_model_name": "HBoxModel",
       "_view_count": null,
       "_view_module": "@jupyter-widgets/controls",
       "_view_module_version": "1.5.0",
       "_view_name": "HBoxView",
       "box_style": "",
       "children": [
        "IPY_MODEL_4e6f99a5ded34778945874908b0e1e33",
        "IPY_MODEL_c9ec3841da934d95bab8eab5cf02b957"
       ],
       "layout": "IPY_MODEL_5dc473987f1c4be68990ff47de4f7ed9"
      }
     },
     "d3d5fb326b864fed8e2143a2a3220278": {
      "model_module": "@jupyter-widgets/base",
      "model_module_version": "1.2.0",
      "model_name": "LayoutModel",
      "state": {
       "_model_module": "@jupyter-widgets/base",
       "_model_module_version": "1.2.0",
       "_model_name": "LayoutModel",
       "_view_count": null,
       "_view_module": "@jupyter-widgets/base",
       "_view_module_version": "1.2.0",
       "_view_name": "LayoutView",
       "align_content": null,
       "align_items": null,
       "align_self": null,
       "border": null,
       "bottom": null,
       "display": null,
       "flex": null,
       "flex_flow": null,
       "grid_area": null,
       "grid_auto_columns": null,
       "grid_auto_flow": null,
       "grid_auto_rows": null,
       "grid_column": null,
       "grid_gap": null,
       "grid_row": null,
       "grid_template_areas": null,
       "grid_template_columns": null,
       "grid_template_rows": null,
       "height": null,
       "justify_content": null,
       "justify_items": null,
       "left": null,
       "margin": null,
       "max_height": null,
       "max_width": null,
       "min_height": null,
       "min_width": null,
       "object_fit": null,
       "object_position": null,
       "order": null,
       "overflow": null,
       "overflow_x": null,
       "overflow_y": null,
       "padding": null,
       "right": null,
       "top": null,
       "visibility": null,
       "width": null
      }
     },
     "daf5a29d831149e386a18f4b58209c8a": {
      "model_module": "@jupyter-widgets/base",
      "model_module_version": "1.2.0",
      "model_name": "LayoutModel",
      "state": {
       "_model_module": "@jupyter-widgets/base",
       "_model_module_version": "1.2.0",
       "_model_name": "LayoutModel",
       "_view_count": null,
       "_view_module": "@jupyter-widgets/base",
       "_view_module_version": "1.2.0",
       "_view_name": "LayoutView",
       "align_content": null,
       "align_items": null,
       "align_self": null,
       "border": null,
       "bottom": null,
       "display": null,
       "flex": null,
       "flex_flow": null,
       "grid_area": null,
       "grid_auto_columns": null,
       "grid_auto_flow": null,
       "grid_auto_rows": null,
       "grid_column": null,
       "grid_gap": null,
       "grid_row": null,
       "grid_template_areas": null,
       "grid_template_columns": null,
       "grid_template_rows": null,
       "height": null,
       "justify_content": null,
       "justify_items": null,
       "left": null,
       "margin": null,
       "max_height": null,
       "max_width": null,
       "min_height": null,
       "min_width": null,
       "object_fit": null,
       "object_position": null,
       "order": null,
       "overflow": null,
       "overflow_x": null,
       "overflow_y": null,
       "padding": null,
       "right": null,
       "top": null,
       "visibility": null,
       "width": null
      }
     },
     "ddde4de154fd4bbf80489772d0f4d378": {
      "model_module": "@jupyter-widgets/controls",
      "model_module_version": "1.5.0",
      "model_name": "HBoxModel",
      "state": {
       "_dom_classes": [],
       "_model_module": "@jupyter-widgets/controls",
       "_model_module_version": "1.5.0",
       "_model_name": "HBoxModel",
       "_view_count": null,
       "_view_module": "@jupyter-widgets/controls",
       "_view_module_version": "1.5.0",
       "_view_name": "HBoxView",
       "box_style": "",
       "children": [
        "IPY_MODEL_ba457279b4594e3a87d22ee11aae1f65",
        "IPY_MODEL_e0f435416365473dba47bd00c7a35bea"
       ],
       "layout": "IPY_MODEL_65eb74d0ce264f29b0451b5261d4d186"
      }
     },
     "deb78abb88d243e6bba1d754d74ab311": {
      "model_module": "@jupyter-widgets/base",
      "model_module_version": "1.2.0",
      "model_name": "LayoutModel",
      "state": {
       "_model_module": "@jupyter-widgets/base",
       "_model_module_version": "1.2.0",
       "_model_name": "LayoutModel",
       "_view_count": null,
       "_view_module": "@jupyter-widgets/base",
       "_view_module_version": "1.2.0",
       "_view_name": "LayoutView",
       "align_content": null,
       "align_items": null,
       "align_self": null,
       "border": null,
       "bottom": null,
       "display": null,
       "flex": null,
       "flex_flow": null,
       "grid_area": null,
       "grid_auto_columns": null,
       "grid_auto_flow": null,
       "grid_auto_rows": null,
       "grid_column": null,
       "grid_gap": null,
       "grid_row": null,
       "grid_template_areas": null,
       "grid_template_columns": null,
       "grid_template_rows": null,
       "height": null,
       "justify_content": null,
       "justify_items": null,
       "left": null,
       "margin": null,
       "max_height": null,
       "max_width": null,
       "min_height": null,
       "min_width": null,
       "object_fit": null,
       "object_position": null,
       "order": null,
       "overflow": null,
       "overflow_x": null,
       "overflow_y": null,
       "padding": null,
       "right": null,
       "top": null,
       "visibility": null,
       "width": null
      }
     },
     "df686d180d5a49d184f1a6f1bedb680c": {
      "model_module": "@jupyter-widgets/controls",
      "model_module_version": "1.5.0",
      "model_name": "DescriptionStyleModel",
      "state": {
       "_model_module": "@jupyter-widgets/controls",
       "_model_module_version": "1.5.0",
       "_model_name": "DescriptionStyleModel",
       "_view_count": null,
       "_view_module": "@jupyter-widgets/base",
       "_view_module_version": "1.2.0",
       "_view_name": "StyleView",
       "description_width": ""
      }
     },
     "e0967e71810b4b1496f28544f4fe6f12": {
      "model_module": "@jupyter-widgets/controls",
      "model_module_version": "1.5.0",
      "model_name": "IntProgressModel",
      "state": {
       "_dom_classes": [],
       "_model_module": "@jupyter-widgets/controls",
       "_model_module_version": "1.5.0",
       "_model_name": "IntProgressModel",
       "_view_count": null,
       "_view_module": "@jupyter-widgets/controls",
       "_view_module_version": "1.5.0",
       "_view_name": "ProgressView",
       "bar_style": "",
       "description": "Epoch [5/10]: [7/7] 100%",
       "description_tooltip": null,
       "layout": "IPY_MODEL_5828b8e0b137409781ff4dade6bcc7e9",
       "max": 7,
       "min": 0,
       "orientation": "horizontal",
       "style": "IPY_MODEL_41bb3e4e0d8842cbaf7a6a4977fde007",
       "value": 7
      }
     },
     "e0f435416365473dba47bd00c7a35bea": {
      "model_module": "@jupyter-widgets/controls",
      "model_module_version": "1.5.0",
      "model_name": "HTMLModel",
      "state": {
       "_dom_classes": [],
       "_model_module": "@jupyter-widgets/controls",
       "_model_module_version": "1.5.0",
       "_model_name": "HTMLModel",
       "_view_count": null,
       "_view_module": "@jupyter-widgets/controls",
       "_view_module_version": "1.5.0",
       "_view_name": "HTMLView",
       "description": "",
       "description_tooltip": null,
       "layout": "IPY_MODEL_b987563f9b084f25aa7537d0ed73a554",
       "placeholder": "​",
       "style": "IPY_MODEL_272861ed3ed04d9c8bc233c2b60a046c",
       "value": " 30/? [00:00&lt;00:00, 36.61it/s]"
      }
     },
     "e0faaf55abed4df597d68cb299611401": {
      "model_module": "@jupyter-widgets/controls",
      "model_module_version": "1.5.0",
      "model_name": "HBoxModel",
      "state": {
       "_dom_classes": [],
       "_model_module": "@jupyter-widgets/controls",
       "_model_module_version": "1.5.0",
       "_model_name": "HBoxModel",
       "_view_count": null,
       "_view_module": "@jupyter-widgets/controls",
       "_view_module_version": "1.5.0",
       "_view_name": "HBoxView",
       "box_style": "",
       "children": [
        "IPY_MODEL_0fcbb5c7492f4bc2bfbcb7db0c52f507",
        "IPY_MODEL_95bb16babf5a497d84594c074a97f41f"
       ],
       "layout": "IPY_MODEL_bc486f189410421f8e9cf59dfb4fd3bf"
      }
     },
     "e12439e08a3a4d79908f80dbc4cb1688": {
      "model_module": "@jupyter-widgets/controls",
      "model_module_version": "1.5.0",
      "model_name": "ProgressStyleModel",
      "state": {
       "_model_module": "@jupyter-widgets/controls",
       "_model_module_version": "1.5.0",
       "_model_name": "ProgressStyleModel",
       "_view_count": null,
       "_view_module": "@jupyter-widgets/base",
       "_view_module_version": "1.2.0",
       "_view_name": "StyleView",
       "bar_color": null,
       "description_width": "initial"
      }
     },
     "e25e7536b5da49b1bf05d96978f522f6": {
      "model_module": "@jupyter-widgets/controls",
      "model_module_version": "1.5.0",
      "model_name": "ProgressStyleModel",
      "state": {
       "_model_module": "@jupyter-widgets/controls",
       "_model_module_version": "1.5.0",
       "_model_name": "ProgressStyleModel",
       "_view_count": null,
       "_view_module": "@jupyter-widgets/base",
       "_view_module_version": "1.2.0",
       "_view_name": "StyleView",
       "bar_color": null,
       "description_width": "initial"
      }
     },
     "e2855c55edfa44c79eb40fb0cc7dfff3": {
      "model_module": "@jupyter-widgets/controls",
      "model_module_version": "1.5.0",
      "model_name": "HTMLModel",
      "state": {
       "_dom_classes": [],
       "_model_module": "@jupyter-widgets/controls",
       "_model_module_version": "1.5.0",
       "_model_name": "HTMLModel",
       "_view_count": null,
       "_view_module": "@jupyter-widgets/controls",
       "_view_module_version": "1.5.0",
       "_view_name": "HTMLView",
       "description": "",
       "description_tooltip": null,
       "layout": "IPY_MODEL_003455a3f76e462989dc8f5918b5e2bc",
       "placeholder": "​",
       "style": "IPY_MODEL_5dd5c1cb44304ec2b52e0c3807e800c5",
       "value": " 6/? [00:00&lt;00:00, 51.24it/s]"
      }
     },
     "e3087dfccabe4528bbcb1cdae37da127": {
      "model_module": "@jupyter-widgets/controls",
      "model_module_version": "1.5.0",
      "model_name": "DescriptionStyleModel",
      "state": {
       "_model_module": "@jupyter-widgets/controls",
       "_model_module_version": "1.5.0",
       "_model_name": "DescriptionStyleModel",
       "_view_count": null,
       "_view_module": "@jupyter-widgets/base",
       "_view_module_version": "1.2.0",
       "_view_name": "StyleView",
       "description_width": ""
      }
     },
     "e35111890ad24af1a4c34eacde60649b": {
      "model_module": "@jupyter-widgets/controls",
      "model_module_version": "1.5.0",
      "model_name": "DescriptionStyleModel",
      "state": {
       "_model_module": "@jupyter-widgets/controls",
       "_model_module_version": "1.5.0",
       "_model_name": "DescriptionStyleModel",
       "_view_count": null,
       "_view_module": "@jupyter-widgets/base",
       "_view_module_version": "1.2.0",
       "_view_name": "StyleView",
       "description_width": ""
      }
     },
     "e54cbbf92da24a3d8fe549341193a719": {
      "model_module": "@jupyter-widgets/controls",
      "model_module_version": "1.5.0",
      "model_name": "HTMLModel",
      "state": {
       "_dom_classes": [],
       "_model_module": "@jupyter-widgets/controls",
       "_model_module_version": "1.5.0",
       "_model_name": "HTMLModel",
       "_view_count": null,
       "_view_module": "@jupyter-widgets/controls",
       "_view_module_version": "1.5.0",
       "_view_name": "HTMLView",
       "description": "",
       "description_tooltip": null,
       "layout": "IPY_MODEL_b2bb2a71619440f8a667fc7aa4b13698",
       "placeholder": "​",
       "style": "IPY_MODEL_37974842565b4008b636bcc6c5c008c9",
       "value": ", acc_consonant=0.634, acc_grapheme=0.616, acc_vowel=0.723, loss=5.68, loss_consonant=1.43, loss_grapheme=2.99, loss_vowel=1.26, recall=0.612 [00:01&lt;00:00]"
      }
     },
     "e79d605b55f24c9c9e41edabc20e8c50": {
      "model_module": "@jupyter-widgets/controls",
      "model_module_version": "1.5.0",
      "model_name": "IntProgressModel",
      "state": {
       "_dom_classes": [],
       "_model_module": "@jupyter-widgets/controls",
       "_model_module_version": "1.5.0",
       "_model_name": "IntProgressModel",
       "_view_count": null,
       "_view_module": "@jupyter-widgets/controls",
       "_view_module_version": "1.5.0",
       "_view_name": "ProgressView",
       "bar_style": "success",
       "description": "",
       "description_tooltip": null,
       "layout": "IPY_MODEL_a208f6562d9a411da2eb1d60d7d885a5",
       "max": 1,
       "min": 0,
       "orientation": "horizontal",
       "style": "IPY_MODEL_4251eccedbc14d47aeb47be63a934d3b",
       "value": 1
      }
     },
     "e9d35d05b632447aa98556a768cc156d": {
      "model_module": "@jupyter-widgets/base",
      "model_module_version": "1.2.0",
      "model_name": "LayoutModel",
      "state": {
       "_model_module": "@jupyter-widgets/base",
       "_model_module_version": "1.2.0",
       "_model_name": "LayoutModel",
       "_view_count": null,
       "_view_module": "@jupyter-widgets/base",
       "_view_module_version": "1.2.0",
       "_view_name": "LayoutView",
       "align_content": null,
       "align_items": null,
       "align_self": null,
       "border": null,
       "bottom": null,
       "display": null,
       "flex": null,
       "flex_flow": null,
       "grid_area": null,
       "grid_auto_columns": null,
       "grid_auto_flow": null,
       "grid_auto_rows": null,
       "grid_column": null,
       "grid_gap": null,
       "grid_row": null,
       "grid_template_areas": null,
       "grid_template_columns": null,
       "grid_template_rows": null,
       "height": null,
       "justify_content": null,
       "justify_items": null,
       "left": null,
       "margin": null,
       "max_height": null,
       "max_width": null,
       "min_height": null,
       "min_width": null,
       "object_fit": null,
       "object_position": null,
       "order": null,
       "overflow": null,
       "overflow_x": null,
       "overflow_y": null,
       "padding": null,
       "right": null,
       "top": null,
       "visibility": null,
       "width": null
      }
     },
     "ec49e06ece3d4a32881338ddb20171de": {
      "model_module": "@jupyter-widgets/controls",
      "model_module_version": "1.5.0",
      "model_name": "HBoxModel",
      "state": {
       "_dom_classes": [],
       "_model_module": "@jupyter-widgets/controls",
       "_model_module_version": "1.5.0",
       "_model_name": "HBoxModel",
       "_view_count": null,
       "_view_module": "@jupyter-widgets/controls",
       "_view_module_version": "1.5.0",
       "_view_name": "HBoxView",
       "box_style": "",
       "children": [
        "IPY_MODEL_360c6c7d53864f36861f262e036d701f",
        "IPY_MODEL_43cdf5ea12fc487491113213ad4b4498"
       ],
       "layout": "IPY_MODEL_781f9807309a45fbb3caf19e4527f828"
      }
     },
     "ed3e967233644d9c83694cc383beae18": {
      "model_module": "@jupyter-widgets/controls",
      "model_module_version": "1.5.0",
      "model_name": "IntProgressModel",
      "state": {
       "_dom_classes": [],
       "_model_module": "@jupyter-widgets/controls",
       "_model_module_version": "1.5.0",
       "_model_name": "IntProgressModel",
       "_view_count": null,
       "_view_module": "@jupyter-widgets/controls",
       "_view_module_version": "1.5.0",
       "_view_name": "ProgressView",
       "bar_style": "success",
       "description": "",
       "description_tooltip": null,
       "layout": "IPY_MODEL_d3d5fb326b864fed8e2143a2a3220278",
       "max": 1,
       "min": 0,
       "orientation": "horizontal",
       "style": "IPY_MODEL_61f35eecaa9d4a409be9fc114929c8a1",
       "value": 1
      }
     },
     "ee451547930b443bb88f0817873e86a0": {
      "model_module": "@jupyter-widgets/controls",
      "model_module_version": "1.5.0",
      "model_name": "ProgressStyleModel",
      "state": {
       "_model_module": "@jupyter-widgets/controls",
       "_model_module_version": "1.5.0",
       "_model_name": "ProgressStyleModel",
       "_view_count": null,
       "_view_module": "@jupyter-widgets/base",
       "_view_module_version": "1.2.0",
       "_view_name": "StyleView",
       "bar_color": null,
       "description_width": "initial"
      }
     },
     "f57d475ebf0647f181211ac7cbba209a": {
      "model_module": "@jupyter-widgets/controls",
      "model_module_version": "1.5.0",
      "model_name": "HBoxModel",
      "state": {
       "_dom_classes": [],
       "_model_module": "@jupyter-widgets/controls",
       "_model_module_version": "1.5.0",
       "_model_name": "HBoxModel",
       "_view_count": null,
       "_view_module": "@jupyter-widgets/controls",
       "_view_module_version": "1.5.0",
       "_view_name": "HBoxView",
       "box_style": "",
       "children": [
        "IPY_MODEL_4ac8348d41be4c00b508c589abb2ce9c",
        "IPY_MODEL_511f097951384c0f90139472a15e13d4"
       ],
       "layout": "IPY_MODEL_cc020aad5221470ca59a606c428a869d"
      }
     },
     "f76974dd7d5c49cda99393efe40e8a61": {
      "model_module": "@jupyter-widgets/controls",
      "model_module_version": "1.5.0",
      "model_name": "DescriptionStyleModel",
      "state": {
       "_model_module": "@jupyter-widgets/controls",
       "_model_module_version": "1.5.0",
       "_model_name": "DescriptionStyleModel",
       "_view_count": null,
       "_view_module": "@jupyter-widgets/base",
       "_view_module_version": "1.2.0",
       "_view_name": "StyleView",
       "description_width": ""
      }
     },
     "f77071d6e7464c0391a4aabf2c177b34": {
      "model_module": "@jupyter-widgets/controls",
      "model_module_version": "1.5.0",
      "model_name": "HBoxModel",
      "state": {
       "_dom_classes": [],
       "_model_module": "@jupyter-widgets/controls",
       "_model_module_version": "1.5.0",
       "_model_name": "HBoxModel",
       "_view_count": null,
       "_view_module": "@jupyter-widgets/controls",
       "_view_module_version": "1.5.0",
       "_view_name": "HBoxView",
       "box_style": "",
       "children": [
        "IPY_MODEL_740d773f159a4800abb69d5742701a15",
        "IPY_MODEL_c87ae58416db40e4985ea5056a94d049"
       ],
       "layout": "IPY_MODEL_7a2f49f01f2d4e0c8311bf8bbbd06127"
      }
     },
     "f7ea00be076c48438433f5c443774748": {
      "model_module": "@jupyter-widgets/controls",
      "model_module_version": "1.5.0",
      "model_name": "HBoxModel",
      "state": {
       "_dom_classes": [],
       "_model_module": "@jupyter-widgets/controls",
       "_model_module_version": "1.5.0",
       "_model_name": "HBoxModel",
       "_view_count": null,
       "_view_module": "@jupyter-widgets/controls",
       "_view_module_version": "1.5.0",
       "_view_name": "HBoxView",
       "box_style": "",
       "children": [
        "IPY_MODEL_ed3e967233644d9c83694cc383beae18",
        "IPY_MODEL_fc34b34d8b064d58b42f9c71e1d575f4"
       ],
       "layout": "IPY_MODEL_183b694071124aeaabb783fa2d314df6"
      }
     },
     "fc34b34d8b064d58b42f9c71e1d575f4": {
      "model_module": "@jupyter-widgets/controls",
      "model_module_version": "1.5.0",
      "model_name": "HTMLModel",
      "state": {
       "_dom_classes": [],
       "_model_module": "@jupyter-widgets/controls",
       "_model_module_version": "1.5.0",
       "_model_name": "HTMLModel",
       "_view_count": null,
       "_view_module": "@jupyter-widgets/controls",
       "_view_module_version": "1.5.0",
       "_view_name": "HTMLView",
       "description": "",
       "description_tooltip": null,
       "layout": "IPY_MODEL_4edcfa38e8454f7195c69de561d48b5d",
       "placeholder": "​",
       "style": "IPY_MODEL_9a84e9c0f22943b18d7e68ff422d7959",
       "value": " 30/? [00:00&lt;00:00, 79.61it/s]"
      }
     },
     "fe0d96b7dace48bb9646e8254a64550a": {
      "model_module": "@jupyter-widgets/controls",
      "model_module_version": "1.5.0",
      "model_name": "ProgressStyleModel",
      "state": {
       "_model_module": "@jupyter-widgets/controls",
       "_model_module_version": "1.5.0",
       "_model_name": "ProgressStyleModel",
       "_view_count": null,
       "_view_module": "@jupyter-widgets/base",
       "_view_module_version": "1.2.0",
       "_view_name": "StyleView",
       "bar_color": null,
       "description_width": "initial"
      }
     },
     "ffd3d1af4e494fc19f20cf20be6ee2d4": {
      "model_module": "@jupyter-widgets/controls",
      "model_module_version": "1.5.0",
      "model_name": "HTMLModel",
      "state": {
       "_dom_classes": [],
       "_model_module": "@jupyter-widgets/controls",
       "_model_module_version": "1.5.0",
       "_model_name": "HTMLModel",
       "_view_count": null,
       "_view_module": "@jupyter-widgets/controls",
       "_view_module_version": "1.5.0",
       "_view_name": "HTMLView",
       "description": "",
       "description_tooltip": null,
       "layout": "IPY_MODEL_20fb74bc8c5a446ca63db79973376954",
       "placeholder": "​",
       "style": "IPY_MODEL_cf001db7d83e4a308048fe80f0dd3f91",
       "value": ", acc_consonant=0.504, acc_grapheme=0.143, acc_vowel=0.482, loss=8.03, loss_consonant=1.82, loss_grapheme=4.44, loss_vowel=1.77, recall=0.232 [00:01&lt;00:00]"
      }
     }
    },
    "version_major": 2,
    "version_minor": 0
   }
  }
 },
 "nbformat": 4,
 "nbformat_minor": 1
}
